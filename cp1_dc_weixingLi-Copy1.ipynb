{
 "cells": [
  {
   "cell_type": "markdown",
   "metadata": {
    "toc": true
   },
   "source": [
    "<h1>Table of Contents<span class=\"tocSkip\"></span></h1>\n",
    "<div class=\"toc\"><ul class=\"toc-item\"><li><span><a href=\"#Prerequisite\" data-toc-modified-id=\"Prerequisite-1\">Prerequisite</a></span><ul class=\"toc-item\"><li><ul class=\"toc-item\"><li><ul class=\"toc-item\"><li><span><a href=\"#please-run-the-below-code-to-install-the-required-packages\" data-toc-modified-id=\"please-run-the-below-code-to-install-the-required-packages-1.0.0.1\">please run the below code to install the required packages</a></span></li><li><span><a href=\"#import-all-pakcages-to-be-used\" data-toc-modified-id=\"import-all-pakcages-to-be-used-1.0.0.2\">import all pakcages to be used</a></span></li></ul></li></ul></li></ul></li><li><span><a href=\"#Question-1:-Load\" data-toc-modified-id=\"Question-1:-Load-2\">Question 1: Load</a></span><ul class=\"toc-item\"><li><ul class=\"toc-item\"><li><span><a href=\"#1.1-Programmatically-download-and-load-into-your-favorite-analytical-tool-the-transactions-data.\" data-toc-modified-id=\"1.1-Programmatically-download-and-load-into-your-favorite-analytical-tool-the-transactions-data.-2.0.1\">1.1 Programmatically download and load into your favorite analytical tool the transactions data.</a></span><ul class=\"toc-item\"><li><span><a href=\"#clone-the-git-repo-and-unzip-the-data-to-folder-&quot;data/&quot;\" data-toc-modified-id=\"clone-the-git-repo-and-unzip-the-data-to-folder-&quot;data/&quot;-2.0.1.1\">clone the git repo and unzip the data to folder \"data/\"</a></span></li><li><span><a href=\"#load-the-data-into-pandas-dataframe-and-optimize-the-data-size\" data-toc-modified-id=\"load-the-data-into-pandas-dataframe-and-optimize-the-data-size-2.0.1.2\">load the data into pandas dataframe and optimize the data size</a></span></li><li><span><a href=\"#save-into-feather-format-as-it-lives-in-RAM\" data-toc-modified-id=\"save-into-feather-format-as-it-lives-in-RAM-2.0.1.3\">save into feather format as it lives in RAM</a></span></li></ul></li><li><span><a href=\"#1.2-Please-describe-the-structure-of-the-data.-Number-of-records-and-fields-in-each-record?\" data-toc-modified-id=\"1.2-Please-describe-the-structure-of-the-data.-Number-of-records-and-fields-in-each-record?-2.0.2\">1.2 Please describe the structure of the data. Number of records and fields in each record?</a></span><ul class=\"toc-item\"><li><span><a href=\"#Answers---describe-the-structure\" data-toc-modified-id=\"Answers---describe-the-structure-2.0.2.1\"><font color=\"red\">Answers</font> - describe the structure</a></span></li></ul></li><li><span><a href=\"#1.3-Please-provide-some-additional-basic-summary-statistics-for-each-field.\" data-toc-modified-id=\"1.3-Please-provide-some-additional-basic-summary-statistics-for-each-field.-2.0.3\">1.3 Please provide some additional basic summary statistics for each field.</a></span><ul class=\"toc-item\"><li><span><a href=\"#clean-the-data---datetime-columns\" data-toc-modified-id=\"clean-the-data---datetime-columns-2.0.3.1\">clean the data - datetime columns</a></span></li><li><span><a href=\"#clean-the-data---missing-values\" data-toc-modified-id=\"clean-the-data---missing-values-2.0.3.2\">clean the data - missing values</a></span></li><li><span><a href=\"#clean-the-data---remove-duplicated-columns\" data-toc-modified-id=\"clean-the-data---remove-duplicated-columns-2.0.3.3\">clean the data - remove duplicated columns</a></span></li><li><span><a href=\"#clean-the-data---save-current-data\" data-toc-modified-id=\"clean-the-data---save-current-data-2.0.3.4\">clean the data - save current data</a></span></li><li><span><a href=\"#Answers---check-the-stats-for-numeric,-datetime-and-bolean-variables\" data-toc-modified-id=\"Answers---check-the-stats-for-numeric,-datetime-and-bolean-variables-2.0.3.5\"><font color=\"red\">Answers</font> - check the stats for numeric, datetime and bolean variables</a></span></li><li><span><a href=\"#Answers---check-the-stats-for-categorical-variables\" data-toc-modified-id=\"Answers---check-the-stats-for-categorical-variables-2.0.3.6\"><font color=\"red\">Answers</font> - check the stats for categorical variables</a></span></li></ul></li></ul></li></ul></li><li><span><a href=\"#Question-2:-Plot\" data-toc-modified-id=\"Question-2:-Plot-3\">Question 2: Plot</a></span><ul class=\"toc-item\"><li><ul class=\"toc-item\"><li><span><a href=\"#2.1-Plot-a-histogram-of-the-processed-amounts-of-each-transaction,-the-transactionAmount-column.\" data-toc-modified-id=\"2.1-Plot-a-histogram-of-the-processed-amounts-of-each-transaction,-the-transactionAmount-column.-3.0.1\">2.1 Plot a histogram of the processed amounts of each transaction, the transactionAmount column.</a></span></li><li><span><a href=\"#2.2-Report-any-structure-you-find-and-any-hypotheses-you-have-about-that-structure.\" data-toc-modified-id=\"2.2-Report-any-structure-you-find-and-any-hypotheses-you-have-about-that-structure.-3.0.2\">2.2 Report any structure you find and any hypotheses you have about that structure.</a></span><ul class=\"toc-item\"><li><span><a href=\"#Answers---Hypothesis1-and-ttest:-fraud-transaction-amount-is-equal-to-non-fraud-on-average\" data-toc-modified-id=\"Answers---Hypothesis1-and-ttest:-fraud-transaction-amount-is-equal-to-non-fraud-on-average-3.0.2.1\"><font color=\"red\">Answers</font> - Hypothesis1 and ttest: fraud transaction amount is equal to non fraud on average</a></span></li><li><span><a href=\"#Answers---Hypothesis-2-and-ttest:-The-average-transaction-amounts-among-all-merchant-categories-are-equal\" data-toc-modified-id=\"Answers---Hypothesis-2-and-ttest:-The-average-transaction-amounts-among-all-merchant-categories-are-equal-3.0.2.2\"><font color=\"red\">Answers</font> - Hypothesis 2 and ttest: The average transaction amounts among all merchant categories are equal</a></span></li><li><span><a href=\"#Answers---observation-1:-The-fraud-average-transaction-amounts-are-larger-than-non-fraudulent-amounts-across-differnt-merchanat-categories\" data-toc-modified-id=\"Answers---observation-1:-The-fraud-average-transaction-amounts-are-larger-than-non-fraudulent-amounts-across-differnt-merchanat-categories-3.0.2.3\"><font color=\"red\">Answers</font> - observation 1: The fraud average transaction amounts are larger than non fraudulent amounts across differnt merchanat categories</a></span></li><li><span><a href=\"#Answers---Hypothesis-3-and-ttest:-The-average-transaction-amounts-among-all-merchant-countries-are-equal\" data-toc-modified-id=\"Answers---Hypothesis-3-and-ttest:-The-average-transaction-amounts-among-all-merchant-countries-are-equal-3.0.2.4\"><font color=\"red\">Answers</font> - Hypothesis 3 and ttest: The average transaction amounts among all merchant countries are equal</a></span></li></ul></li></ul></li><li><span><a href=\"#Question-3:-Data-Wrangling---Duplicate-Transactions\" data-toc-modified-id=\"Question-3:-Data-Wrangling---Duplicate-Transactions-3.1\">Question 3: Data Wrangling - Duplicate Transactions</a></span><ul class=\"toc-item\"><li><span><a href=\"#3.1-Can-you-programmatically-identify-reversed-and-multi-swipe-transactions?\" data-toc-modified-id=\"3.1-Can-you-programmatically-identify-reversed-and-multi-swipe-transactions?-3.1.1\">3.1 Can you programmatically identify reversed and multi-swipe transactions?</a></span><ul class=\"toc-item\"><li><span><a href=\"#Answers---identify-reversed-transanctions\" data-toc-modified-id=\"Answers---identify-reversed-transanctions-3.1.1.1\"><font color=\"red\">Answers</font> - identify reversed transanctions</a></span></li><li><span><a href=\"#Answers---identify-multi-swipe-transanctions\" data-toc-modified-id=\"Answers---identify-multi-swipe-transanctions-3.1.1.2\"><font color=\"red\">Answers</font> - identify multi-swipe transanctions</a></span></li></ul></li><li><span><a href=\"#3.2-What-total-number-of-transactions-and-total-dollar-amount-do-you-estimate-for-the-reversed-transactions?-For-the-multi-swipe-transactions?\" data-toc-modified-id=\"3.2-What-total-number-of-transactions-and-total-dollar-amount-do-you-estimate-for-the-reversed-transactions?-For-the-multi-swipe-transactions?-3.1.2\">3.2 What total number of transactions and total dollar amount do you estimate for the reversed transactions? For the multi-swipe transactions?</a></span></li><li><span><a href=\"#3.3-Did-you-find-anything-interesting-about-either-kind-of-transaction?\" data-toc-modified-id=\"3.3-Did-you-find-anything-interesting-about-either-kind-of-transaction?-3.1.3\">3.3 Did you find anything interesting about either kind of transaction?</a></span></li></ul></li><li><span><a href=\"#Question-4:-Model\" data-toc-modified-id=\"Question-4:-Model-3.2\">Question 4: Model</a></span><ul class=\"toc-item\"><li><ul class=\"toc-item\"><li><span><a href=\"#feature-engineering:-build-a-pipeline-can-be-used-later-(based-on-EDA-above)\" data-toc-modified-id=\"feature-engineering:-build-a-pipeline-can-be-used-later-(based-on-EDA-above)-3.2.0.1\">feature engineering: build a pipeline can be used later (based on EDA above)</a></span></li></ul></li></ul></li><li><span><a href=\"#reference\" data-toc-modified-id=\"reference-3.3\">reference</a></span></li><li><span><a href=\"#recommendation\" data-toc-modified-id=\"recommendation-3.4\">recommendation</a></span><ul class=\"toc-item\"><li><ul class=\"toc-item\"><li><span><a href=\"#1.-when-entered-CVV-is-different-from-CVV,-the-transactionAmount-shoudl-be-0,-but\" data-toc-modified-id=\"1.-when-entered-CVV-is-different-from-CVV,-the-transactionAmount-shoudl-be-0,-but-3.4.0.1\">1. when entered CVV is different from CVV, the transactionAmount shoudl be 0, but</a></span></li></ul></li></ul></li><li><span><a href=\"#back-up\" data-toc-modified-id=\"back-up-3.5\">back-up</a></span></li></ul></li></ul></div>"
   ]
  },
  {
   "cell_type": "markdown",
   "metadata": {},
   "source": [
    "# Prerequisite"
   ]
  },
  {
   "cell_type": "markdown",
   "metadata": {},
   "source": [
    "#### please run the below code to install the required packages"
   ]
  },
  {
   "cell_type": "code",
   "execution_count": 38,
   "metadata": {},
   "outputs": [
    {
     "name": "stdout",
     "output_type": "stream",
     "text": [
      "Requirement already satisfied: pyarrow in /home/ec2-user/anaconda3/envs/python3/lib/python3.6/site-packages (from -r requirements.txt (line 1)) (3.0.0)\n",
      "Requirement already satisfied: pandas in /home/ec2-user/anaconda3/envs/python3/lib/python3.6/site-packages (from -r requirements.txt (line 2)) (1.0.5)\n",
      "Requirement already satisfied: numpy in /home/ec2-user/anaconda3/envs/python3/lib/python3.6/site-packages (from -r requirements.txt (line 3)) (1.18.1)\n",
      "Requirement already satisfied: matplotlib in /home/ec2-user/anaconda3/envs/python3/lib/python3.6/site-packages (from -r requirements.txt (line 4)) (3.1.3)\n",
      "Collecting seaborn==0.11\n",
      "  Downloading seaborn-0.11.0-py3-none-any.whl (283 kB)\n",
      "\u001b[K     |████████████████████████████████| 283 kB 17.6 MB/s eta 0:00:01\n",
      "\u001b[?25hRequirement already satisfied: python-dateutil>=2.6.1 in /home/ec2-user/anaconda3/envs/python3/lib/python3.6/site-packages (from pandas->-r requirements.txt (line 2)) (2.8.1)\n",
      "Requirement already satisfied: pytz>=2017.2 in /home/ec2-user/anaconda3/envs/python3/lib/python3.6/site-packages (from pandas->-r requirements.txt (line 2)) (2019.3)\n",
      "Requirement already satisfied: cycler>=0.10 in /home/ec2-user/anaconda3/envs/python3/lib/python3.6/site-packages (from matplotlib->-r requirements.txt (line 4)) (0.10.0)\n",
      "Requirement already satisfied: pyparsing!=2.0.4,!=2.1.2,!=2.1.6,>=2.0.1 in /home/ec2-user/anaconda3/envs/python3/lib/python3.6/site-packages (from matplotlib->-r requirements.txt (line 4)) (2.4.6)\n",
      "Requirement already satisfied: kiwisolver>=1.0.1 in /home/ec2-user/anaconda3/envs/python3/lib/python3.6/site-packages (from matplotlib->-r requirements.txt (line 4)) (1.1.0)\n",
      "Requirement already satisfied: scipy>=1.0 in /home/ec2-user/anaconda3/envs/python3/lib/python3.6/site-packages (from seaborn==0.11->-r requirements.txt (line 5)) (1.4.1)\n",
      "Requirement already satisfied: six>=1.5 in /home/ec2-user/anaconda3/envs/python3/lib/python3.6/site-packages (from python-dateutil>=2.6.1->pandas->-r requirements.txt (line 2)) (1.14.0)\n",
      "Requirement already satisfied: setuptools in /home/ec2-user/anaconda3/envs/python3/lib/python3.6/site-packages (from kiwisolver>=1.0.1->matplotlib->-r requirements.txt (line 4)) (46.1.3.post20200330)\n",
      "Installing collected packages: seaborn\n",
      "  Attempting uninstall: seaborn\n",
      "    Found existing installation: seaborn 0.10.0\n",
      "    Uninstalling seaborn-0.10.0:\n",
      "      Successfully uninstalled seaborn-0.10.0\n",
      "Successfully installed seaborn-0.11.0\n"
     ]
    }
   ],
   "source": [
    "!pip install -r requirements.txt"
   ]
  },
  {
   "cell_type": "markdown",
   "metadata": {},
   "source": [
    "#### import all pakcages to be used"
   ]
  },
  {
   "cell_type": "code",
   "execution_count": 1,
   "metadata": {},
   "outputs": [],
   "source": [
    "import pandas as pd\n",
    "from pandas.tseries.offsets import MonthEnd\n",
    "from pandas.api.types import is_string_dtype\n",
    "from pandas.api.types import is_numeric_dtype,is_float_dtype\n",
    "from sklearn.pipeline import make_pipeline, make_union,Pipeline,FeatureUnion\n",
    "from sklearn.impute import SimpleImputer\n",
    "from sklearn.base import BaseEstimator, TransformerMixin\n",
    "from sklearn.model_selection import train_test_split\n",
    "from sklearn.preprocessing import FunctionTransformer,OneHotEncoder\n",
    "from sklearn import ensemble \n",
    "\n",
    "from utils import *\n",
    "\n",
    "import numpy as np\n",
    "from scipy.stats import ttest_ind\n",
    "import scipy.stats as statss\n",
    "import statsmodels.api as sm\n",
    "\n",
    "import statsmodels\n",
    "from zipfile import ZipFile\n",
    "import os\n",
    "import re\n",
    "import json\n",
    "from tqdm import tqdm\n",
    "import warnings\n",
    "warnings.filterwarnings('ignore')\n",
    "import matplotlib.pyplot as plt\n",
    "import seaborn as sns\n",
    "from matplotlib import rcParams\n",
    "\n",
    "%load_ext autoreload\n",
    "%autoreload 2\n",
    "rcParams.update({'figure.autolayout': True})  \n",
    "pd.set_option('display.max_columns', 1000)\n",
    "pd.set_option('display.width', 1000)"
   ]
  },
  {
   "cell_type": "markdown",
   "metadata": {},
   "source": [
    "# Question 1: Load\n",
    "### 1.1 Programmatically download and load into your favorite analytical tool the transactions data. \n",
    "#### clone the git repo and unzip the data to folder \"data/\""
   ]
  },
  {
   "cell_type": "code",
   "execution_count": 6,
   "metadata": {},
   "outputs": [
    {
     "name": "stdout",
     "output_type": "stream",
     "text": [
      "Cloning into 'DS'...\n",
      "remote: Enumerating objects: 4, done.\u001b[K\n",
      "remote: Total 4 (delta 0), reused 0 (delta 0), pack-reused 4\u001b[K\n",
      "\u001b[KUnpacking objects: 100% (4/4), done.\n"
     ]
    }
   ],
   "source": [
    "#git clone the remote repository into local\n",
    "!git clone https://github.com/CapitalOneRecruiting/DS.git"
   ]
  },
  {
   "cell_type": "code",
   "execution_count": 7,
   "metadata": {},
   "outputs": [
    {
     "data": {
      "text/plain": [
       "['.git', 'README.md', 'transactions.zip']"
      ]
     },
     "execution_count": 7,
     "metadata": {},
     "output_type": "execute_result"
    }
   ],
   "source": [
    "#list content in the cloned folder\n",
    "os.listdir(\"DS/\")"
   ]
  },
  {
   "cell_type": "code",
   "execution_count": 8,
   "metadata": {},
   "outputs": [
    {
     "name": "stdout",
     "output_type": "stream",
     "text": [
      "Extracting now...\n",
      "Extracted to folder data/\n"
     ]
    }
   ],
   "source": [
    "#unzip the \"transactions.zip\" file to the data folder.\n",
    "\n",
    "# make data folder if not exist\n",
    "data_dir = \"data/\"\n",
    "if not os.path.exists(data_dir):\n",
    "    os.makedirs(data_dir)\n",
    "# specifying file path and unzip it\n",
    "file_name = \"DS/transactions.zip\"\n",
    "   \n",
    "with ZipFile(file_name, 'r') as z: \n",
    "    # extracting the files \n",
    "    print('Extracting now...') \n",
    "    z.extractall(path=data_dir) \n",
    "    print('Extracted to folder {}'.format(data_dir)) "
   ]
  },
  {
   "cell_type": "code",
   "execution_count": 9,
   "metadata": {},
   "outputs": [
    {
     "data": {
      "text/plain": [
       "['transactions.txt']"
      ]
     },
     "execution_count": 9,
     "metadata": {},
     "output_type": "execute_result"
    }
   ],
   "source": [
    "#list content in the data folder\n",
    "os.listdir(data_dir)"
   ]
  },
  {
   "cell_type": "markdown",
   "metadata": {},
   "source": [
    "#### load the data into pandas dataframe and optimize the data size"
   ]
  },
  {
   "cell_type": "code",
   "execution_count": 2,
   "metadata": {},
   "outputs": [],
   "source": [
    "data_dir = \"data/\"\n",
    "# #card = pd.read_json(os.path.join(data_dir,\"transactions.txt\"),lines=True)\n",
    "data = [json.loads(line) for line in open(os.path.join(data_dir,\"transactions.txt\"),'r')]\n",
    "card = pd.DataFrame(data)"
   ]
  },
  {
   "cell_type": "markdown",
   "metadata": {},
   "source": [
    "we could see from info() of the dataset that all the numeric columns are occupying 8 bytes of the memory but actually their values are not that big; Besides, some object dataype can be converted into category [2]"
   ]
  },
  {
   "cell_type": "code",
   "execution_count": 96,
   "metadata": {
    "scrolled": true
   },
   "outputs": [
    {
     "name": "stdout",
     "output_type": "stream",
     "text": [
      "<class 'pandas.core.frame.DataFrame'>\n",
      "RangeIndex: 786363 entries, 0 to 786362\n",
      "Data columns (total 29 columns):\n",
      " #   Column                    Non-Null Count   Dtype         \n",
      "---  ------                    --------------   -----         \n",
      " 0   accountNumber             786363 non-null  object        \n",
      " 1   customerId                786363 non-null  object        \n",
      " 2   creditLimit               786363 non-null  float64       \n",
      " 3   availableMoney            786363 non-null  float64       \n",
      " 4   transactionDateTime       786363 non-null  datetime64[ns]\n",
      " 5   transactionAmount         786363 non-null  float64       \n",
      " 6   merchantName              786363 non-null  category      \n",
      " 7   acqCountry                781801 non-null  object        \n",
      " 8   merchantCountryCode       785639 non-null  object        \n",
      " 9   posEntryMode              782309 non-null  object        \n",
      " 10  posConditionCode          785954 non-null  object        \n",
      " 11  merchantCategoryCode      786363 non-null  category      \n",
      " 12  currentExpDate            786363 non-null  datetime64[ns]\n",
      " 13  accountOpenDate           786363 non-null  datetime64[ns]\n",
      " 14  dateOfLastAddressChange   786363 non-null  datetime64[ns]\n",
      " 15  cardCVV                   786363 non-null  category      \n",
      " 16  enteredCVV                786363 non-null  category      \n",
      " 17  cardLast4Digits           786363 non-null  category      \n",
      " 18  transactionType           785665 non-null  object        \n",
      " 19  echoBuffer                0 non-null       float64       \n",
      " 20  currentBalance            786363 non-null  float64       \n",
      " 21  merchantCity              0 non-null       float64       \n",
      " 22  merchantState             0 non-null       float64       \n",
      " 23  merchantZip               0 non-null       float64       \n",
      " 24  cardPresent               786363 non-null  bool          \n",
      " 25  posOnPremises             0 non-null       float64       \n",
      " 26  recurringAuthInd          0 non-null       float64       \n",
      " 27  expirationDateKeyInMatch  786363 non-null  bool          \n",
      " 28  isFraud                   786363 non-null  bool          \n",
      "dtypes: bool(3), category(5), datetime64[ns](4), float64(10), object(7)\n",
      "memory usage: 135.4+ MB\n"
     ]
    }
   ],
   "source": [
    "card.info()"
   ]
  },
  {
   "cell_type": "code",
   "execution_count": 97,
   "metadata": {},
   "outputs": [
    {
     "name": "stdout",
     "output_type": "stream",
     "text": [
      "Memory usage of properties dataframe is : 135.37485885620117  MB\n"
     ]
    }
   ],
   "source": [
    "start_mem_usg = card.memory_usage().sum() / 1024**2 \n",
    "print(\"Memory usage of properties dataframe is :\",start_mem_usg,\" MB\")"
   ]
  },
  {
   "cell_type": "code",
   "execution_count": 98,
   "metadata": {
    "code_folding": []
   },
   "outputs": [],
   "source": [
    "for c in card.columns.tolist():\n",
    "    if is_numeric_dtype(card[c]):\n",
    "        if is_float_dtype(card[c]):\n",
    "            card[c]=pd.to_numeric(card[c], downcast=\"float\")\n",
    "        else:\n",
    "            card[c]=pd.to_numeric(card[c], downcast=\"integer\")"
   ]
  },
  {
   "cell_type": "code",
   "execution_count": 99,
   "metadata": {},
   "outputs": [],
   "source": [
    "object2cat_cols = [\"merchantName\",\"acqCountry\",\"merchantCountryCode\",\"posEntryMode\",\\\n",
    "                   \"posConditionCode\",\"merchantCategoryCode\",\"cardCVV\",\"enteredCVV\",\\\n",
    "                   \"transactionType\",\"cardLast4Digits\"]"
   ]
  },
  {
   "cell_type": "code",
   "execution_count": 100,
   "metadata": {},
   "outputs": [],
   "source": [
    "card[object2cat_cols] = card[object2cat_cols].astype('category')"
   ]
  },
  {
   "cell_type": "code",
   "execution_count": 101,
   "metadata": {
    "scrolled": true
   },
   "outputs": [
    {
     "name": "stdout",
     "output_type": "stream",
     "text": [
      "___MEMORY USAGE AFTER COMPLETION:___\n",
      "Memory usage is:  79.13054943084717  MB\n",
      "This is  58.45291370896406 % of the initial size\n"
     ]
    }
   ],
   "source": [
    "print(\"___MEMORY USAGE AFTER COMPLETION:___\")\n",
    "mem_usg = card.memory_usage().sum() / 1024**2 \n",
    "print(\"Memory usage is: \",mem_usg,\" MB\")\n",
    "print(\"This is \",100*mem_usg/start_mem_usg,\"% of the initial size\")"
   ]
  },
  {
   "cell_type": "code",
   "execution_count": null,
   "metadata": {},
   "outputs": [],
   "source": []
  },
  {
   "cell_type": "markdown",
   "metadata": {},
   "source": [
    "#### save into feather format as it lives in RAM"
   ]
  },
  {
   "cell_type": "code",
   "execution_count": 16,
   "metadata": {},
   "outputs": [],
   "source": [
    "# save to feather format for future use\n",
    "# Feather format is almost the same format that it lives in RAM, so it is ridiculously fast to read and write\n",
    "card.to_feather('data/transactions-raw')"
   ]
  },
  {
   "cell_type": "code",
   "execution_count": 298,
   "metadata": {},
   "outputs": [],
   "source": [
    "# read the feather data back\n",
    "card = pd.read_feather('data/transactions-raw')"
   ]
  },
  {
   "cell_type": "markdown",
   "metadata": {},
   "source": [
    "### 1.2 Please describe the structure of the data. Number of records and fields in each record?"
   ]
  },
  {
   "cell_type": "markdown",
   "metadata": {},
   "source": [
    "#### <font color=red>Answers</font> - describe the structure\n",
    "1) The data has 786363 transaction records and 29 fields for each record.\n",
    "<br>\n",
    "2) In the 29 fields, \"isFraud\" is the target variable that indicates if the transaction is fraud or not; and other 28 of them are potential predictors (independent variables) that describe the features like transaction time of each transaction.\n",
    "<br>\n",
    "3) Right now, we have total 4 numeric fields, 3 booleans and 22 categoric fields.\n",
    "4) it looks like there are null values in fields like merchantCity when print out the data, but in the .info() table, it says there are no null values for every field, which is so suspicous and will dig into right away."
   ]
  },
  {
   "cell_type": "code",
   "execution_count": 20,
   "metadata": {
    "scrolled": true
   },
   "outputs": [
    {
     "data": {
      "text/html": [
       "<div>\n",
       "<style scoped>\n",
       "    .dataframe tbody tr th:only-of-type {\n",
       "        vertical-align: middle;\n",
       "    }\n",
       "\n",
       "    .dataframe tbody tr th {\n",
       "        vertical-align: top;\n",
       "    }\n",
       "\n",
       "    .dataframe thead th {\n",
       "        text-align: right;\n",
       "    }\n",
       "</style>\n",
       "<table border=\"1\" class=\"dataframe\">\n",
       "  <thead>\n",
       "    <tr style=\"text-align: right;\">\n",
       "      <th></th>\n",
       "      <th>786358</th>\n",
       "      <th>786359</th>\n",
       "      <th>786360</th>\n",
       "      <th>786361</th>\n",
       "      <th>786362</th>\n",
       "    </tr>\n",
       "  </thead>\n",
       "  <tbody>\n",
       "    <tr>\n",
       "      <th>accountNumber</th>\n",
       "      <td>732852505</td>\n",
       "      <td>732852505</td>\n",
       "      <td>732852505</td>\n",
       "      <td>732852505</td>\n",
       "      <td>732852505</td>\n",
       "    </tr>\n",
       "    <tr>\n",
       "      <th>customerId</th>\n",
       "      <td>732852505</td>\n",
       "      <td>732852505</td>\n",
       "      <td>732852505</td>\n",
       "      <td>732852505</td>\n",
       "      <td>732852505</td>\n",
       "    </tr>\n",
       "    <tr>\n",
       "      <th>creditLimit</th>\n",
       "      <td>50000.0</td>\n",
       "      <td>50000.0</td>\n",
       "      <td>50000.0</td>\n",
       "      <td>50000.0</td>\n",
       "      <td>50000.0</td>\n",
       "    </tr>\n",
       "    <tr>\n",
       "      <th>availableMoney</th>\n",
       "      <td>48904.960938</td>\n",
       "      <td>48785.039062</td>\n",
       "      <td>48766.148438</td>\n",
       "      <td>48716.71875</td>\n",
       "      <td>48666.828125</td>\n",
       "    </tr>\n",
       "    <tr>\n",
       "      <th>transactionDateTime</th>\n",
       "      <td>2016-12-22T18:44:12</td>\n",
       "      <td>2016-12-25T16:20:34</td>\n",
       "      <td>2016-12-27T15:46:24</td>\n",
       "      <td>2016-12-29T00:30:55</td>\n",
       "      <td>2016-12-30T20:10:29</td>\n",
       "    </tr>\n",
       "    <tr>\n",
       "      <th>transactionAmount</th>\n",
       "      <td>119.919998</td>\n",
       "      <td>18.889999</td>\n",
       "      <td>49.43</td>\n",
       "      <td>49.889999</td>\n",
       "      <td>72.18</td>\n",
       "    </tr>\n",
       "    <tr>\n",
       "      <th>merchantName</th>\n",
       "      <td>Lyft</td>\n",
       "      <td>hulu.com</td>\n",
       "      <td>Lyft</td>\n",
       "      <td>walmart.com</td>\n",
       "      <td>Uber</td>\n",
       "    </tr>\n",
       "    <tr>\n",
       "      <th>acqCountry</th>\n",
       "      <td>US</td>\n",
       "      <td>US</td>\n",
       "      <td>US</td>\n",
       "      <td>US</td>\n",
       "      <td>US</td>\n",
       "    </tr>\n",
       "    <tr>\n",
       "      <th>merchantCountryCode</th>\n",
       "      <td>US</td>\n",
       "      <td>US</td>\n",
       "      <td>US</td>\n",
       "      <td>US</td>\n",
       "      <td>US</td>\n",
       "    </tr>\n",
       "    <tr>\n",
       "      <th>posEntryMode</th>\n",
       "      <td>90</td>\n",
       "      <td>09</td>\n",
       "      <td>02</td>\n",
       "      <td>09</td>\n",
       "      <td>05</td>\n",
       "    </tr>\n",
       "    <tr>\n",
       "      <th>posConditionCode</th>\n",
       "      <td>01</td>\n",
       "      <td>01</td>\n",
       "      <td>01</td>\n",
       "      <td>99</td>\n",
       "      <td>01</td>\n",
       "    </tr>\n",
       "    <tr>\n",
       "      <th>merchantCategoryCode</th>\n",
       "      <td>rideshare</td>\n",
       "      <td>online_subscriptions</td>\n",
       "      <td>rideshare</td>\n",
       "      <td>online_retail</td>\n",
       "      <td>rideshare</td>\n",
       "    </tr>\n",
       "    <tr>\n",
       "      <th>currentExpDate</th>\n",
       "      <td>12/2022</td>\n",
       "      <td>08/2023</td>\n",
       "      <td>08/2025</td>\n",
       "      <td>07/2022</td>\n",
       "      <td>05/2024</td>\n",
       "    </tr>\n",
       "    <tr>\n",
       "      <th>accountOpenDate</th>\n",
       "      <td>2012-08-23</td>\n",
       "      <td>2012-08-23</td>\n",
       "      <td>2012-08-23</td>\n",
       "      <td>2012-08-23</td>\n",
       "      <td>2012-08-23</td>\n",
       "    </tr>\n",
       "    <tr>\n",
       "      <th>dateOfLastAddressChange</th>\n",
       "      <td>2012-08-23</td>\n",
       "      <td>2012-08-23</td>\n",
       "      <td>2012-08-23</td>\n",
       "      <td>2012-08-23</td>\n",
       "      <td>2012-08-23</td>\n",
       "    </tr>\n",
       "    <tr>\n",
       "      <th>cardCVV</th>\n",
       "      <td>936</td>\n",
       "      <td>939</td>\n",
       "      <td>936</td>\n",
       "      <td>939</td>\n",
       "      <td>939</td>\n",
       "    </tr>\n",
       "    <tr>\n",
       "      <th>enteredCVV</th>\n",
       "      <td>936</td>\n",
       "      <td>939</td>\n",
       "      <td>936</td>\n",
       "      <td>939</td>\n",
       "      <td>939</td>\n",
       "    </tr>\n",
       "    <tr>\n",
       "      <th>cardLast4Digits</th>\n",
       "      <td>3783</td>\n",
       "      <td>3388</td>\n",
       "      <td>3783</td>\n",
       "      <td>3388</td>\n",
       "      <td>3388</td>\n",
       "    </tr>\n",
       "    <tr>\n",
       "      <th>transactionType</th>\n",
       "      <td>PURCHASE</td>\n",
       "      <td>PURCHASE</td>\n",
       "      <td>PURCHASE</td>\n",
       "      <td>PURCHASE</td>\n",
       "      <td>PURCHASE</td>\n",
       "    </tr>\n",
       "    <tr>\n",
       "      <th>echoBuffer</th>\n",
       "      <td></td>\n",
       "      <td></td>\n",
       "      <td></td>\n",
       "      <td></td>\n",
       "      <td></td>\n",
       "    </tr>\n",
       "    <tr>\n",
       "      <th>currentBalance</th>\n",
       "      <td>1095.040039</td>\n",
       "      <td>1214.959961</td>\n",
       "      <td>1233.849976</td>\n",
       "      <td>1283.280029</td>\n",
       "      <td>1333.170044</td>\n",
       "    </tr>\n",
       "    <tr>\n",
       "      <th>merchantCity</th>\n",
       "      <td></td>\n",
       "      <td></td>\n",
       "      <td></td>\n",
       "      <td></td>\n",
       "      <td></td>\n",
       "    </tr>\n",
       "    <tr>\n",
       "      <th>merchantState</th>\n",
       "      <td></td>\n",
       "      <td></td>\n",
       "      <td></td>\n",
       "      <td></td>\n",
       "      <td></td>\n",
       "    </tr>\n",
       "    <tr>\n",
       "      <th>merchantZip</th>\n",
       "      <td></td>\n",
       "      <td></td>\n",
       "      <td></td>\n",
       "      <td></td>\n",
       "      <td></td>\n",
       "    </tr>\n",
       "    <tr>\n",
       "      <th>cardPresent</th>\n",
       "      <td>False</td>\n",
       "      <td>False</td>\n",
       "      <td>False</td>\n",
       "      <td>False</td>\n",
       "      <td>False</td>\n",
       "    </tr>\n",
       "    <tr>\n",
       "      <th>posOnPremises</th>\n",
       "      <td></td>\n",
       "      <td></td>\n",
       "      <td></td>\n",
       "      <td></td>\n",
       "      <td></td>\n",
       "    </tr>\n",
       "    <tr>\n",
       "      <th>recurringAuthInd</th>\n",
       "      <td></td>\n",
       "      <td></td>\n",
       "      <td></td>\n",
       "      <td></td>\n",
       "      <td></td>\n",
       "    </tr>\n",
       "    <tr>\n",
       "      <th>expirationDateKeyInMatch</th>\n",
       "      <td>False</td>\n",
       "      <td>False</td>\n",
       "      <td>False</td>\n",
       "      <td>False</td>\n",
       "      <td>False</td>\n",
       "    </tr>\n",
       "    <tr>\n",
       "      <th>isFraud</th>\n",
       "      <td>False</td>\n",
       "      <td>False</td>\n",
       "      <td>False</td>\n",
       "      <td>False</td>\n",
       "      <td>False</td>\n",
       "    </tr>\n",
       "  </tbody>\n",
       "</table>\n",
       "</div>"
      ],
      "text/plain": [
       "                                       786358                786359               786360               786361               786362\n",
       "accountNumber                       732852505             732852505            732852505            732852505            732852505\n",
       "customerId                          732852505             732852505            732852505            732852505            732852505\n",
       "creditLimit                           50000.0               50000.0              50000.0              50000.0              50000.0\n",
       "availableMoney                   48904.960938          48785.039062         48766.148438          48716.71875         48666.828125\n",
       "transactionDateTime       2016-12-22T18:44:12   2016-12-25T16:20:34  2016-12-27T15:46:24  2016-12-29T00:30:55  2016-12-30T20:10:29\n",
       "transactionAmount                  119.919998             18.889999                49.43            49.889999                72.18\n",
       "merchantName                             Lyft              hulu.com                 Lyft          walmart.com                 Uber\n",
       "acqCountry                                 US                    US                   US                   US                   US\n",
       "merchantCountryCode                        US                    US                   US                   US                   US\n",
       "posEntryMode                               90                    09                   02                   09                   05\n",
       "posConditionCode                           01                    01                   01                   99                   01\n",
       "merchantCategoryCode                rideshare  online_subscriptions            rideshare        online_retail            rideshare\n",
       "currentExpDate                        12/2022               08/2023              08/2025              07/2022              05/2024\n",
       "accountOpenDate                    2012-08-23            2012-08-23           2012-08-23           2012-08-23           2012-08-23\n",
       "dateOfLastAddressChange            2012-08-23            2012-08-23           2012-08-23           2012-08-23           2012-08-23\n",
       "cardCVV                                   936                   939                  936                  939                  939\n",
       "enteredCVV                                936                   939                  936                  939                  939\n",
       "cardLast4Digits                          3783                  3388                 3783                 3388                 3388\n",
       "transactionType                      PURCHASE              PURCHASE             PURCHASE             PURCHASE             PURCHASE\n",
       "echoBuffer                                                                                                                        \n",
       "currentBalance                    1095.040039           1214.959961          1233.849976          1283.280029          1333.170044\n",
       "merchantCity                                                                                                                      \n",
       "merchantState                                                                                                                     \n",
       "merchantZip                                                                                                                       \n",
       "cardPresent                             False                 False                False                False                False\n",
       "posOnPremises                                                                                                                     \n",
       "recurringAuthInd                                                                                                                  \n",
       "expirationDateKeyInMatch                False                 False                False                False                False\n",
       "isFraud                                 False                 False                False                False                False"
      ]
     },
     "metadata": {},
     "output_type": "display_data"
    }
   ],
   "source": [
    "# display 5 transactions from the bottom of the dataset and Transpose them for better view\n",
    "display_all(card.tail(5).T)"
   ]
  },
  {
   "cell_type": "code",
   "execution_count": 4,
   "metadata": {},
   "outputs": [
    {
     "name": "stdout",
     "output_type": "stream",
     "text": [
      "786363 rows and 29 columns\n"
     ]
    }
   ],
   "source": [
    "# check the shape of original data\n",
    "print(\"{} rows and {} columns\".format(card.shape[0],card.shape[1]))"
   ]
  },
  {
   "cell_type": "code",
   "execution_count": 102,
   "metadata": {
    "scrolled": true
   },
   "outputs": [
    {
     "name": "stdout",
     "output_type": "stream",
     "text": [
      "<class 'pandas.core.frame.DataFrame'>\n",
      "RangeIndex: 786363 entries, 0 to 786362\n",
      "Data columns (total 29 columns):\n",
      " #   Column                    Non-Null Count   Dtype         \n",
      "---  ------                    --------------   -----         \n",
      " 0   accountNumber             786363 non-null  object        \n",
      " 1   customerId                786363 non-null  object        \n",
      " 2   creditLimit               786363 non-null  float32       \n",
      " 3   availableMoney            786363 non-null  float32       \n",
      " 4   transactionDateTime       786363 non-null  datetime64[ns]\n",
      " 5   transactionAmount         786363 non-null  float32       \n",
      " 6   merchantName              786363 non-null  category      \n",
      " 7   acqCountry                781801 non-null  category      \n",
      " 8   merchantCountryCode       785639 non-null  category      \n",
      " 9   posEntryMode              782309 non-null  category      \n",
      " 10  posConditionCode          785954 non-null  category      \n",
      " 11  merchantCategoryCode      786363 non-null  category      \n",
      " 12  currentExpDate            786363 non-null  datetime64[ns]\n",
      " 13  accountOpenDate           786363 non-null  datetime64[ns]\n",
      " 14  dateOfLastAddressChange   786363 non-null  datetime64[ns]\n",
      " 15  cardCVV                   786363 non-null  category      \n",
      " 16  enteredCVV                786363 non-null  category      \n",
      " 17  cardLast4Digits           786363 non-null  category      \n",
      " 18  transactionType           785665 non-null  category      \n",
      " 19  echoBuffer                0 non-null       float32       \n",
      " 20  currentBalance            786363 non-null  float32       \n",
      " 21  merchantCity              0 non-null       float32       \n",
      " 22  merchantState             0 non-null       float32       \n",
      " 23  merchantZip               0 non-null       float32       \n",
      " 24  cardPresent               786363 non-null  bool          \n",
      " 25  posOnPremises             0 non-null       float32       \n",
      " 26  recurringAuthInd          0 non-null       float32       \n",
      " 27  expirationDateKeyInMatch  786363 non-null  bool          \n",
      " 28  isFraud                   786363 non-null  bool          \n",
      "dtypes: bool(3), category(10), datetime64[ns](4), float32(10), object(2)\n",
      "memory usage: 79.1+ MB\n"
     ]
    }
   ],
   "source": [
    "card.info()"
   ]
  },
  {
   "cell_type": "markdown",
   "metadata": {},
   "source": [
    "### 1.3 Please provide some additional basic summary statistics for each field. "
   ]
  },
  {
   "cell_type": "markdown",
   "metadata": {},
   "source": [
    "I would do an initial clean on the data first and then print the stats.\n",
    "   - convert date columns to datetime datatype\n",
    "   - deal with missing value and remove columns with all missing values\n",
    "   - remove duplicated columns"
   ]
  },
  {
   "cell_type": "markdown",
   "metadata": {},
   "source": [
    "#### clean the data - datetime columns\n",
    "##### for the expiration date, complete the 'day' part with the last day of that month"
   ]
  },
  {
   "cell_type": "code",
   "execution_count": 20,
   "metadata": {
    "scrolled": true
   },
   "outputs": [
    {
     "data": {
      "text/plain": [
       "Index(['accountNumber', 'customerId', 'creditLimit', 'availableMoney', 'transactionDateTime', 'transactionAmount', 'merchantName', 'acqCountry', 'merchantCountryCode', 'posEntryMode', 'posConditionCode', 'merchantCategoryCode', 'currentExpDate', 'accountOpenDate', 'dateOfLastAddressChange', 'cardCVV', 'enteredCVV', 'cardLast4Digits',\n",
       "       'transactionType', 'echoBuffer', 'currentBalance', 'merchantCity', 'merchantState', 'merchantZip', 'cardPresent', 'posOnPremises', 'recurringAuthInd', 'expirationDateKeyInMatch', 'isFraud'],\n",
       "      dtype='object')"
      ]
     },
     "execution_count": 20,
     "metadata": {},
     "output_type": "execute_result"
    }
   ],
   "source": [
    "# print all columns\n",
    "card.columns"
   ]
  },
  {
   "cell_type": "code",
   "execution_count": 91,
   "metadata": {},
   "outputs": [],
   "source": [
    "# convert time-related columns to datetime format\n",
    "for c in [\"transactionDateTime\",\"accountOpenDate\",\"dateOfLastAddressChange\"]:\n",
    "    card[c]=pd.to_datetime(card[c])\n",
    "\n",
    "# convert and complete (add the last day of month) the currentExpDate column [1]\n",
    "card['currentExpDate'] = pd.to_datetime(card['currentExpDate']) + MonthEnd(1)"
   ]
  },
  {
   "cell_type": "code",
   "execution_count": 93,
   "metadata": {},
   "outputs": [
    {
     "data": {
      "text/html": [
       "<div>\n",
       "<style scoped>\n",
       "    .dataframe tbody tr th:only-of-type {\n",
       "        vertical-align: middle;\n",
       "    }\n",
       "\n",
       "    .dataframe tbody tr th {\n",
       "        vertical-align: top;\n",
       "    }\n",
       "\n",
       "    .dataframe thead th {\n",
       "        text-align: right;\n",
       "    }\n",
       "</style>\n",
       "<table border=\"1\" class=\"dataframe\">\n",
       "  <thead>\n",
       "    <tr style=\"text-align: right;\">\n",
       "      <th></th>\n",
       "      <th>transactionDateTime</th>\n",
       "      <th>accountOpenDate</th>\n",
       "      <th>dateOfLastAddressChange</th>\n",
       "      <th>currentExpDate</th>\n",
       "    </tr>\n",
       "  </thead>\n",
       "  <tbody>\n",
       "    <tr>\n",
       "      <th>0</th>\n",
       "      <td>2016-08-13 14:27:32</td>\n",
       "      <td>2015-03-14</td>\n",
       "      <td>2015-03-14</td>\n",
       "      <td>2023-06-30</td>\n",
       "    </tr>\n",
       "    <tr>\n",
       "      <th>1</th>\n",
       "      <td>2016-10-11 05:05:54</td>\n",
       "      <td>2015-03-14</td>\n",
       "      <td>2015-03-14</td>\n",
       "      <td>2024-02-29</td>\n",
       "    </tr>\n",
       "    <tr>\n",
       "      <th>2</th>\n",
       "      <td>2016-11-08 09:18:39</td>\n",
       "      <td>2015-03-14</td>\n",
       "      <td>2015-03-14</td>\n",
       "      <td>2025-08-31</td>\n",
       "    </tr>\n",
       "    <tr>\n",
       "      <th>3</th>\n",
       "      <td>2016-12-10 02:14:50</td>\n",
       "      <td>2015-03-14</td>\n",
       "      <td>2015-03-14</td>\n",
       "      <td>2025-08-31</td>\n",
       "    </tr>\n",
       "    <tr>\n",
       "      <th>4</th>\n",
       "      <td>2016-03-24 21:04:46</td>\n",
       "      <td>2015-08-06</td>\n",
       "      <td>2015-08-06</td>\n",
       "      <td>2029-10-31</td>\n",
       "    </tr>\n",
       "  </tbody>\n",
       "</table>\n",
       "</div>"
      ],
      "text/plain": [
       "  transactionDateTime accountOpenDate dateOfLastAddressChange currentExpDate\n",
       "0 2016-08-13 14:27:32      2015-03-14              2015-03-14     2023-06-30\n",
       "1 2016-10-11 05:05:54      2015-03-14              2015-03-14     2024-02-29\n",
       "2 2016-11-08 09:18:39      2015-03-14              2015-03-14     2025-08-31\n",
       "3 2016-12-10 02:14:50      2015-03-14              2015-03-14     2025-08-31\n",
       "4 2016-03-24 21:04:46      2015-08-06              2015-08-06     2029-10-31"
      ]
     },
     "execution_count": 93,
     "metadata": {},
     "output_type": "execute_result"
    }
   ],
   "source": [
    "# check\n",
    "card[[\"transactionDateTime\",\"accountOpenDate\",\"dateOfLastAddressChange\",'currentExpDate']].head()"
   ]
  },
  {
   "cell_type": "markdown",
   "metadata": {},
   "source": [
    "#### clean the data - missing values\n",
    "##### after examing the data, the null values in the json text data are represented by \"\", So i will replace them with np.nan\n"
   ]
  },
  {
   "cell_type": "code",
   "execution_count": 94,
   "metadata": {},
   "outputs": [
    {
     "name": "stderr",
     "output_type": "stream",
     "text": [
      "100%|██████████| 29/29 [00:18<00:00,  1.57it/s]\n"
     ]
    }
   ],
   "source": [
    "for c in tqdm(card.columns):\n",
    "    card[c] = card[c].map(lambda x: np.nan if x =='' else x)"
   ]
  },
  {
   "cell_type": "code",
   "execution_count": 9,
   "metadata": {},
   "outputs": [
    {
     "data": {
      "text/plain": [
       "accountNumber                    0\n",
       "customerId                       0\n",
       "creditLimit                      0\n",
       "availableMoney                   0\n",
       "transactionDateTime              0\n",
       "transactionAmount                0\n",
       "merchantName                     0\n",
       "acqCountry                    4562\n",
       "merchantCountryCode            724\n",
       "posEntryMode                  4054\n",
       "posConditionCode               409\n",
       "merchantCategoryCode             0\n",
       "currentExpDate                   0\n",
       "accountOpenDate                  0\n",
       "dateOfLastAddressChange          0\n",
       "cardCVV                          0\n",
       "enteredCVV                       0\n",
       "cardLast4Digits                  0\n",
       "transactionType                698\n",
       "echoBuffer                  786363\n",
       "currentBalance                   0\n",
       "merchantCity                786363\n",
       "merchantState               786363\n",
       "merchantZip                 786363\n",
       "cardPresent                      0\n",
       "posOnPremises               786363\n",
       "recurringAuthInd            786363\n",
       "expirationDateKeyInMatch         0\n",
       "isFraud                          0\n",
       "dtype: int64"
      ]
     },
     "execution_count": 9,
     "metadata": {},
     "output_type": "execute_result"
    }
   ],
   "source": [
    "# check null values of each fields\n",
    "card.isnull().sum()"
   ]
  },
  {
   "cell_type": "code",
   "execution_count": null,
   "metadata": {},
   "outputs": [],
   "source": [
    "plot_missing_values(card)"
   ]
  },
  {
   "cell_type": "code",
   "execution_count": 103,
   "metadata": {},
   "outputs": [],
   "source": [
    "## remove those column with all null values\n",
    "null_summary = card.isnull().sum()\n",
    "all_null_cols = [c for c in card.columns if null_summary[c]==len(card)]"
   ]
  },
  {
   "cell_type": "code",
   "execution_count": 104,
   "metadata": {},
   "outputs": [
    {
     "data": {
      "text/plain": [
       "['echoBuffer',\n",
       " 'merchantCity',\n",
       " 'merchantState',\n",
       " 'merchantZip',\n",
       " 'posOnPremises',\n",
       " 'recurringAuthInd']"
      ]
     },
     "execution_count": 104,
     "metadata": {},
     "output_type": "execute_result"
    }
   ],
   "source": [
    "all_null_cols"
   ]
  },
  {
   "cell_type": "code",
   "execution_count": 105,
   "metadata": {},
   "outputs": [],
   "source": [
    "card = card.drop(columns=all_null_cols)"
   ]
  },
  {
   "cell_type": "markdown",
   "metadata": {},
   "source": [
    "#### clean the data - remove duplicated columns"
   ]
  },
  {
   "cell_type": "code",
   "execution_count": 106,
   "metadata": {},
   "outputs": [
    {
     "name": "stdout",
     "output_type": "stream",
     "text": [
      "Are there any different value between accountNumber and customerId?  No\n"
     ]
    }
   ],
   "source": [
    "# check if there are different values between accountNumber and customerId\n",
    "is_same = \"Yes\" if (card['accountNumber']!=card['customerId']).any() else \"No\"\n",
    "print(\"Are there any different value between accountNumber and customerId? \",is_same)"
   ]
  },
  {
   "cell_type": "code",
   "execution_count": 107,
   "metadata": {},
   "outputs": [],
   "source": [
    "# remove field customerId\n",
    "card.drop(columns=\"customerId\",inplace=True)"
   ]
  },
  {
   "cell_type": "markdown",
   "metadata": {},
   "source": [
    "#### clean the data - save current data"
   ]
  },
  {
   "cell_type": "code",
   "execution_count": 108,
   "metadata": {},
   "outputs": [],
   "source": [
    "# save to feather format for future use\n",
    "# Feather format is almost the same format that it lives in RAM, so it is ridiculously fast to read and write\n",
    "card.to_feather('data/transactions-cln')"
   ]
  },
  {
   "cell_type": "code",
   "execution_count": 109,
   "metadata": {},
   "outputs": [],
   "source": [
    "# read the feather data back\n",
    "card = pd.read_feather('data/transactions-cln')"
   ]
  },
  {
   "cell_type": "markdown",
   "metadata": {},
   "source": [
    "#### <font color=red>Answers</font> - check the stats for numeric, datetime and bolean variables\n",
    "(Be sure to include a count of null, minimum, maximum, and unique values where appropriate)\n",
    "  1. Numeric features\n",
    "      - creditLimit (will be converted to category later since it is not continous variable): the minimum is 250 and maximum is 50000 dollars; There is no null values for creditLimit; The 3 most common credit limit amount are: 5000,15000,7500 dollars.\n",
    "      - availableMoney: the minimum is -1005.6 dollars and maximum 50000 dollars (the same with max credit Limit); No null values for availableMoney. The average amount is around 6250 while the median amount is 3184, suggesting that the distribution is right skewed.\n",
    "      - transactionAmount: the minumum amount is 0 dollars (even if remove those ADDRESS_VERIFICATION transactions) and the maximum is 2011.5 dollars. No null values for transactionAmount. The average transaction amount is near 137 and median amount is 88. Again, it is distributed right skewed.\n",
    "      - currentBalance: the minimum balance is 0 and maximum is 47498.8 dollars. No null values.\n",
    "  2. Datetime features\n",
    "      - transactionDateTime: it looks like the dataset represents the transactions in the whole year of 2016 (exclude the last day 12-31). No null values for this field.\n",
    "      - currentExpDate: the cards expiration dates span from 12/31/2019 to 08/31/2033. No null values.\n",
    "      - accountOpenDate: the open dates can range from 08/22/1989 to 12/31/2015. No null values.\n",
    "      - dateOfLastAddressChange: the dates range of users changed their credit card address was from 08/22/1989 to 12/30/2016. No null values found.\n",
    "  3. Boolean features\n",
    "      - cardPresent, expirationDateKeyinMatch and isFraud: they all have values either True or False. No null values found in those fields.\n",
    "      - There are 12417 transactions were fraudulent that is around 1.6% of total 786363 transactions"
   ]
  },
  {
   "cell_type": "code",
   "execution_count": 110,
   "metadata": {},
   "outputs": [
    {
     "data": {
      "text/html": [
       "<div>\n",
       "<style scoped>\n",
       "    .dataframe tbody tr th:only-of-type {\n",
       "        vertical-align: middle;\n",
       "    }\n",
       "\n",
       "    .dataframe tbody tr th {\n",
       "        vertical-align: top;\n",
       "    }\n",
       "\n",
       "    .dataframe thead th {\n",
       "        text-align: right;\n",
       "    }\n",
       "</style>\n",
       "<table border=\"1\" class=\"dataframe\">\n",
       "  <thead>\n",
       "    <tr style=\"text-align: right;\">\n",
       "      <th></th>\n",
       "      <th>accountNumber</th>\n",
       "      <th>creditLimit</th>\n",
       "      <th>availableMoney</th>\n",
       "      <th>transactionDateTime</th>\n",
       "      <th>transactionAmount</th>\n",
       "      <th>merchantName</th>\n",
       "      <th>acqCountry</th>\n",
       "      <th>merchantCountryCode</th>\n",
       "      <th>posEntryMode</th>\n",
       "      <th>posConditionCode</th>\n",
       "      <th>merchantCategoryCode</th>\n",
       "      <th>currentExpDate</th>\n",
       "      <th>accountOpenDate</th>\n",
       "      <th>dateOfLastAddressChange</th>\n",
       "      <th>cardCVV</th>\n",
       "      <th>enteredCVV</th>\n",
       "      <th>cardLast4Digits</th>\n",
       "      <th>transactionType</th>\n",
       "      <th>currentBalance</th>\n",
       "      <th>cardPresent</th>\n",
       "      <th>expirationDateKeyInMatch</th>\n",
       "      <th>isFraud</th>\n",
       "    </tr>\n",
       "  </thead>\n",
       "  <tbody>\n",
       "    <tr>\n",
       "      <th>count</th>\n",
       "      <td>786363</td>\n",
       "      <td>786363.000000</td>\n",
       "      <td>786363.000000</td>\n",
       "      <td>786363</td>\n",
       "      <td>786363.000000</td>\n",
       "      <td>786363</td>\n",
       "      <td>781801</td>\n",
       "      <td>785639</td>\n",
       "      <td>782309</td>\n",
       "      <td>785954</td>\n",
       "      <td>786363</td>\n",
       "      <td>786363</td>\n",
       "      <td>786363</td>\n",
       "      <td>786363</td>\n",
       "      <td>786363</td>\n",
       "      <td>786363</td>\n",
       "      <td>786363</td>\n",
       "      <td>785665</td>\n",
       "      <td>786363.000000</td>\n",
       "      <td>786363</td>\n",
       "      <td>786363</td>\n",
       "      <td>786363</td>\n",
       "    </tr>\n",
       "    <tr>\n",
       "      <th>unique</th>\n",
       "      <td>5000</td>\n",
       "      <td>NaN</td>\n",
       "      <td>NaN</td>\n",
       "      <td>776637</td>\n",
       "      <td>NaN</td>\n",
       "      <td>2490</td>\n",
       "      <td>4</td>\n",
       "      <td>4</td>\n",
       "      <td>5</td>\n",
       "      <td>3</td>\n",
       "      <td>19</td>\n",
       "      <td>165</td>\n",
       "      <td>1820</td>\n",
       "      <td>2184</td>\n",
       "      <td>899</td>\n",
       "      <td>976</td>\n",
       "      <td>5246</td>\n",
       "      <td>3</td>\n",
       "      <td>NaN</td>\n",
       "      <td>2</td>\n",
       "      <td>2</td>\n",
       "      <td>2</td>\n",
       "    </tr>\n",
       "    <tr>\n",
       "      <th>top</th>\n",
       "      <td>380680241</td>\n",
       "      <td>NaN</td>\n",
       "      <td>NaN</td>\n",
       "      <td>2016-05-28 14:24:41</td>\n",
       "      <td>NaN</td>\n",
       "      <td>Uber</td>\n",
       "      <td>US</td>\n",
       "      <td>US</td>\n",
       "      <td>05</td>\n",
       "      <td>01</td>\n",
       "      <td>online_retail</td>\n",
       "      <td>2029-03-31 00:00:00</td>\n",
       "      <td>2014-06-21 00:00:00</td>\n",
       "      <td>2016-03-15 00:00:00</td>\n",
       "      <td>869</td>\n",
       "      <td>869</td>\n",
       "      <td>593</td>\n",
       "      <td>PURCHASE</td>\n",
       "      <td>NaN</td>\n",
       "      <td>False</td>\n",
       "      <td>False</td>\n",
       "      <td>False</td>\n",
       "    </tr>\n",
       "    <tr>\n",
       "      <th>freq</th>\n",
       "      <td>32850</td>\n",
       "      <td>NaN</td>\n",
       "      <td>NaN</td>\n",
       "      <td>4</td>\n",
       "      <td>NaN</td>\n",
       "      <td>25613</td>\n",
       "      <td>774709</td>\n",
       "      <td>778511</td>\n",
       "      <td>315035</td>\n",
       "      <td>628787</td>\n",
       "      <td>202156</td>\n",
       "      <td>5103</td>\n",
       "      <td>33623</td>\n",
       "      <td>3819</td>\n",
       "      <td>33749</td>\n",
       "      <td>33424</td>\n",
       "      <td>32946</td>\n",
       "      <td>745193</td>\n",
       "      <td>NaN</td>\n",
       "      <td>433495</td>\n",
       "      <td>785320</td>\n",
       "      <td>773946</td>\n",
       "    </tr>\n",
       "    <tr>\n",
       "      <th>first</th>\n",
       "      <td>NaN</td>\n",
       "      <td>NaN</td>\n",
       "      <td>NaN</td>\n",
       "      <td>2016-01-01 00:01:02</td>\n",
       "      <td>NaN</td>\n",
       "      <td>NaN</td>\n",
       "      <td>NaN</td>\n",
       "      <td>NaN</td>\n",
       "      <td>NaN</td>\n",
       "      <td>NaN</td>\n",
       "      <td>NaN</td>\n",
       "      <td>2019-12-31 00:00:00</td>\n",
       "      <td>1989-08-22 00:00:00</td>\n",
       "      <td>1989-08-22 00:00:00</td>\n",
       "      <td>NaN</td>\n",
       "      <td>NaN</td>\n",
       "      <td>NaN</td>\n",
       "      <td>NaN</td>\n",
       "      <td>NaN</td>\n",
       "      <td>NaN</td>\n",
       "      <td>NaN</td>\n",
       "      <td>NaN</td>\n",
       "    </tr>\n",
       "    <tr>\n",
       "      <th>last</th>\n",
       "      <td>NaN</td>\n",
       "      <td>NaN</td>\n",
       "      <td>NaN</td>\n",
       "      <td>2016-12-30 23:59:45</td>\n",
       "      <td>NaN</td>\n",
       "      <td>NaN</td>\n",
       "      <td>NaN</td>\n",
       "      <td>NaN</td>\n",
       "      <td>NaN</td>\n",
       "      <td>NaN</td>\n",
       "      <td>NaN</td>\n",
       "      <td>2033-08-31 00:00:00</td>\n",
       "      <td>2015-12-31 00:00:00</td>\n",
       "      <td>2016-12-30 00:00:00</td>\n",
       "      <td>NaN</td>\n",
       "      <td>NaN</td>\n",
       "      <td>NaN</td>\n",
       "      <td>NaN</td>\n",
       "      <td>NaN</td>\n",
       "      <td>NaN</td>\n",
       "      <td>NaN</td>\n",
       "      <td>NaN</td>\n",
       "    </tr>\n",
       "    <tr>\n",
       "      <th>mean</th>\n",
       "      <td>NaN</td>\n",
       "      <td>10795.032227</td>\n",
       "      <td>6250.559570</td>\n",
       "      <td>NaN</td>\n",
       "      <td>136.982986</td>\n",
       "      <td>NaN</td>\n",
       "      <td>NaN</td>\n",
       "      <td>NaN</td>\n",
       "      <td>NaN</td>\n",
       "      <td>NaN</td>\n",
       "      <td>NaN</td>\n",
       "      <td>NaN</td>\n",
       "      <td>NaN</td>\n",
       "      <td>NaN</td>\n",
       "      <td>NaN</td>\n",
       "      <td>NaN</td>\n",
       "      <td>NaN</td>\n",
       "      <td>NaN</td>\n",
       "      <td>4508.262695</td>\n",
       "      <td>NaN</td>\n",
       "      <td>NaN</td>\n",
       "      <td>NaN</td>\n",
       "    </tr>\n",
       "    <tr>\n",
       "      <th>std</th>\n",
       "      <td>NaN</td>\n",
       "      <td>11619.361328</td>\n",
       "      <td>8879.510742</td>\n",
       "      <td>NaN</td>\n",
       "      <td>147.691971</td>\n",
       "      <td>NaN</td>\n",
       "      <td>NaN</td>\n",
       "      <td>NaN</td>\n",
       "      <td>NaN</td>\n",
       "      <td>NaN</td>\n",
       "      <td>NaN</td>\n",
       "      <td>NaN</td>\n",
       "      <td>NaN</td>\n",
       "      <td>NaN</td>\n",
       "      <td>NaN</td>\n",
       "      <td>NaN</td>\n",
       "      <td>NaN</td>\n",
       "      <td>NaN</td>\n",
       "      <td>6456.575684</td>\n",
       "      <td>NaN</td>\n",
       "      <td>NaN</td>\n",
       "      <td>NaN</td>\n",
       "    </tr>\n",
       "    <tr>\n",
       "      <th>min</th>\n",
       "      <td>NaN</td>\n",
       "      <td>250.000000</td>\n",
       "      <td>-1005.630005</td>\n",
       "      <td>NaN</td>\n",
       "      <td>0.000000</td>\n",
       "      <td>NaN</td>\n",
       "      <td>NaN</td>\n",
       "      <td>NaN</td>\n",
       "      <td>NaN</td>\n",
       "      <td>NaN</td>\n",
       "      <td>NaN</td>\n",
       "      <td>NaN</td>\n",
       "      <td>NaN</td>\n",
       "      <td>NaN</td>\n",
       "      <td>NaN</td>\n",
       "      <td>NaN</td>\n",
       "      <td>NaN</td>\n",
       "      <td>NaN</td>\n",
       "      <td>0.000000</td>\n",
       "      <td>NaN</td>\n",
       "      <td>NaN</td>\n",
       "      <td>NaN</td>\n",
       "    </tr>\n",
       "    <tr>\n",
       "      <th>25%</th>\n",
       "      <td>NaN</td>\n",
       "      <td>5000.000000</td>\n",
       "      <td>1077.420044</td>\n",
       "      <td>NaN</td>\n",
       "      <td>33.650002</td>\n",
       "      <td>NaN</td>\n",
       "      <td>NaN</td>\n",
       "      <td>NaN</td>\n",
       "      <td>NaN</td>\n",
       "      <td>NaN</td>\n",
       "      <td>NaN</td>\n",
       "      <td>NaN</td>\n",
       "      <td>NaN</td>\n",
       "      <td>NaN</td>\n",
       "      <td>NaN</td>\n",
       "      <td>NaN</td>\n",
       "      <td>NaN</td>\n",
       "      <td>NaN</td>\n",
       "      <td>689.909973</td>\n",
       "      <td>NaN</td>\n",
       "      <td>NaN</td>\n",
       "      <td>NaN</td>\n",
       "    </tr>\n",
       "    <tr>\n",
       "      <th>50%</th>\n",
       "      <td>NaN</td>\n",
       "      <td>7500.000000</td>\n",
       "      <td>3184.860107</td>\n",
       "      <td>NaN</td>\n",
       "      <td>87.900002</td>\n",
       "      <td>NaN</td>\n",
       "      <td>NaN</td>\n",
       "      <td>NaN</td>\n",
       "      <td>NaN</td>\n",
       "      <td>NaN</td>\n",
       "      <td>NaN</td>\n",
       "      <td>NaN</td>\n",
       "      <td>NaN</td>\n",
       "      <td>NaN</td>\n",
       "      <td>NaN</td>\n",
       "      <td>NaN</td>\n",
       "      <td>NaN</td>\n",
       "      <td>NaN</td>\n",
       "      <td>2451.760010</td>\n",
       "      <td>NaN</td>\n",
       "      <td>NaN</td>\n",
       "      <td>NaN</td>\n",
       "    </tr>\n",
       "    <tr>\n",
       "      <th>75%</th>\n",
       "      <td>NaN</td>\n",
       "      <td>15000.000000</td>\n",
       "      <td>7500.000000</td>\n",
       "      <td>NaN</td>\n",
       "      <td>191.479996</td>\n",
       "      <td>NaN</td>\n",
       "      <td>NaN</td>\n",
       "      <td>NaN</td>\n",
       "      <td>NaN</td>\n",
       "      <td>NaN</td>\n",
       "      <td>NaN</td>\n",
       "      <td>NaN</td>\n",
       "      <td>NaN</td>\n",
       "      <td>NaN</td>\n",
       "      <td>NaN</td>\n",
       "      <td>NaN</td>\n",
       "      <td>NaN</td>\n",
       "      <td>NaN</td>\n",
       "      <td>5291.094971</td>\n",
       "      <td>NaN</td>\n",
       "      <td>NaN</td>\n",
       "      <td>NaN</td>\n",
       "    </tr>\n",
       "    <tr>\n",
       "      <th>max</th>\n",
       "      <td>NaN</td>\n",
       "      <td>50000.000000</td>\n",
       "      <td>50000.000000</td>\n",
       "      <td>NaN</td>\n",
       "      <td>2011.540039</td>\n",
       "      <td>NaN</td>\n",
       "      <td>NaN</td>\n",
       "      <td>NaN</td>\n",
       "      <td>NaN</td>\n",
       "      <td>NaN</td>\n",
       "      <td>NaN</td>\n",
       "      <td>NaN</td>\n",
       "      <td>NaN</td>\n",
       "      <td>NaN</td>\n",
       "      <td>NaN</td>\n",
       "      <td>NaN</td>\n",
       "      <td>NaN</td>\n",
       "      <td>NaN</td>\n",
       "      <td>47498.808594</td>\n",
       "      <td>NaN</td>\n",
       "      <td>NaN</td>\n",
       "      <td>NaN</td>\n",
       "    </tr>\n",
       "  </tbody>\n",
       "</table>\n",
       "</div>"
      ],
      "text/plain": [
       "       accountNumber    creditLimit  availableMoney  transactionDateTime  transactionAmount merchantName acqCountry merchantCountryCode posEntryMode posConditionCode merchantCategoryCode       currentExpDate      accountOpenDate dateOfLastAddressChange cardCVV enteredCVV cardLast4Digits transactionType  currentBalance cardPresent expirationDateKeyInMatch isFraud\n",
       "count         786363  786363.000000   786363.000000               786363      786363.000000       786363     781801              785639       782309           785954               786363               786363               786363                  786363  786363     786363          786363          785665   786363.000000      786363                   786363  786363\n",
       "unique          5000            NaN             NaN               776637                NaN         2490          4                   4            5                3                   19                  165                 1820                    2184     899        976            5246               3             NaN           2                        2       2\n",
       "top        380680241            NaN             NaN  2016-05-28 14:24:41                NaN         Uber         US                  US           05               01        online_retail  2029-03-31 00:00:00  2014-06-21 00:00:00     2016-03-15 00:00:00     869        869             593        PURCHASE             NaN       False                    False   False\n",
       "freq           32850            NaN             NaN                    4                NaN        25613     774709              778511       315035           628787               202156                 5103                33623                    3819   33749      33424           32946          745193             NaN      433495                   785320  773946\n",
       "first            NaN            NaN             NaN  2016-01-01 00:01:02                NaN          NaN        NaN                 NaN          NaN              NaN                  NaN  2019-12-31 00:00:00  1989-08-22 00:00:00     1989-08-22 00:00:00     NaN        NaN             NaN             NaN             NaN         NaN                      NaN     NaN\n",
       "last             NaN            NaN             NaN  2016-12-30 23:59:45                NaN          NaN        NaN                 NaN          NaN              NaN                  NaN  2033-08-31 00:00:00  2015-12-31 00:00:00     2016-12-30 00:00:00     NaN        NaN             NaN             NaN             NaN         NaN                      NaN     NaN\n",
       "mean             NaN   10795.032227     6250.559570                  NaN         136.982986          NaN        NaN                 NaN          NaN              NaN                  NaN                  NaN                  NaN                     NaN     NaN        NaN             NaN             NaN     4508.262695         NaN                      NaN     NaN\n",
       "std              NaN   11619.361328     8879.510742                  NaN         147.691971          NaN        NaN                 NaN          NaN              NaN                  NaN                  NaN                  NaN                     NaN     NaN        NaN             NaN             NaN     6456.575684         NaN                      NaN     NaN\n",
       "min              NaN     250.000000    -1005.630005                  NaN           0.000000          NaN        NaN                 NaN          NaN              NaN                  NaN                  NaN                  NaN                     NaN     NaN        NaN             NaN             NaN        0.000000         NaN                      NaN     NaN\n",
       "25%              NaN    5000.000000     1077.420044                  NaN          33.650002          NaN        NaN                 NaN          NaN              NaN                  NaN                  NaN                  NaN                     NaN     NaN        NaN             NaN             NaN      689.909973         NaN                      NaN     NaN\n",
       "50%              NaN    7500.000000     3184.860107                  NaN          87.900002          NaN        NaN                 NaN          NaN              NaN                  NaN                  NaN                  NaN                     NaN     NaN        NaN             NaN             NaN     2451.760010         NaN                      NaN     NaN\n",
       "75%              NaN   15000.000000     7500.000000                  NaN         191.479996          NaN        NaN                 NaN          NaN              NaN                  NaN                  NaN                  NaN                     NaN     NaN        NaN             NaN             NaN     5291.094971         NaN                      NaN     NaN\n",
       "max              NaN   50000.000000    50000.000000                  NaN        2011.540039          NaN        NaN                 NaN          NaN              NaN                  NaN                  NaN                  NaN                     NaN     NaN        NaN             NaN             NaN    47498.808594         NaN                      NaN     NaN"
      ]
     },
     "metadata": {},
     "output_type": "display_data"
    }
   ],
   "source": [
    "# get the basic stats for each field\n",
    "display_all(card.describe(include=\"all\"))"
   ]
  },
  {
   "cell_type": "code",
   "execution_count": 111,
   "metadata": {},
   "outputs": [
    {
     "data": {
      "text/plain": [
       "5000.0     1538\n",
       "15000.0    1114\n",
       "7500.0     1101\n",
       "10000.0     734\n",
       "2500.0      729\n",
       "20000.0     704\n",
       "250.0       398\n",
       "1000.0      369\n",
       "50000.0     358\n",
       "500.0       335\n",
       "Name: creditLimit, dtype: int64"
      ]
     },
     "execution_count": 111,
     "metadata": {},
     "output_type": "execute_result"
    }
   ],
   "source": [
    "# only keep one transaction record for each card of each account, then check teh credit limit distribution\n",
    "creditLimit_type = card.drop_duplicates(subset=[\"accountNumber\",\"cardLast4Digits\",\"creditLimit\"])\n",
    "creditLimit_type.creditLimit.value_counts()"
   ]
  },
  {
   "cell_type": "code",
   "execution_count": 112,
   "metadata": {},
   "outputs": [
    {
     "data": {
      "text/plain": [
       "accountNumber                  0\n",
       "creditLimit                    0\n",
       "availableMoney                 0\n",
       "transactionDateTime            0\n",
       "transactionAmount              0\n",
       "merchantName                   0\n",
       "acqCountry                  4562\n",
       "merchantCountryCode          724\n",
       "posEntryMode                4054\n",
       "posConditionCode             409\n",
       "merchantCategoryCode           0\n",
       "currentExpDate                 0\n",
       "accountOpenDate                0\n",
       "dateOfLastAddressChange        0\n",
       "cardCVV                        0\n",
       "enteredCVV                     0\n",
       "cardLast4Digits                0\n",
       "transactionType              698\n",
       "currentBalance                 0\n",
       "cardPresent                    0\n",
       "expirationDateKeyInMatch       0\n",
       "isFraud                        0\n",
       "dtype: int64"
      ]
     },
     "execution_count": 112,
     "metadata": {},
     "output_type": "execute_result"
    }
   ],
   "source": [
    "# check number of null values of each field\n",
    "card.isnull().sum()"
   ]
  },
  {
   "cell_type": "code",
   "execution_count": 113,
   "metadata": {},
   "outputs": [
    {
     "data": {
      "image/png": "[encoded data removed]",
      "text/plain": [
       "<Figure size 720x432 with 1 Axes>"
      ]
     },
     "metadata": {
      "needs_background": "light"
     },
     "output_type": "display_data"
    }
   ],
   "source": [
    "# the count of fraud and non fraud transactions\n",
    "plt.figure(figsize=(10,6))\n",
    "ax=sns.countplot(x=\"isFraud\",data=card)\n",
    "addValue_withoutHue(ax,card.isFraud)"
   ]
  },
  {
   "cell_type": "code",
   "execution_count": null,
   "metadata": {},
   "outputs": [],
   "source": []
  },
  {
   "cell_type": "markdown",
   "metadata": {},
   "source": [
    "#### <font color=red>Answers</font> - check the stats for categorical variables\n",
    "  4. Categorical features (add 1 new feature, norm_merchantName, which is normalized merchantName make chain stores the same name)\n",
    "      - the merchanName has 2490 unique values and 0 null values. But I found out the merchant chain stores will have different values with the same brand name but different number (for example AMC #). I will normalize them (remove \"#XXXX') and create new feature norm_merchantName.\n",
    "      - echoBuffer,merchantCity,merchantState,merchantZip,posOnPremises,recurringAuthInd: they are the features that all values are null.\n",
    "      - the stats of other categorical features are printed below."
   ]
  },
  {
   "cell_type": "code",
   "execution_count": 115,
   "metadata": {},
   "outputs": [],
   "source": [
    "# normalize merchantName by removing the trailing number identifier \"#XXXXX\"\n",
    "card[\"reg_merchantName\"] = card[\"merchantName\"].apply(lambda x:re.sub(r\"\\ \\#.+\",\"\",x))"
   ]
  },
  {
   "cell_type": "code",
   "execution_count": 116,
   "metadata": {},
   "outputs": [
    {
     "name": "stdout",
     "output_type": "stream",
     "text": [
      "the field acqCountry has 4 unique values, which are ['US', 'MEX', 'CAN', 'PR']\n",
      "the field acqCountry has 4562 null values\n",
      "--------------------------------------------\n",
      "the field merchantCountryCode has 4 unique values, which are ['US', 'MEX', 'CAN', 'PR']\n",
      "the field merchantCountryCode has 724 null values\n",
      "--------------------------------------------\n",
      "the field posEntryMode has 5 unique values, which are ['05', '09', '02', '90', '80']\n",
      "the field posEntryMode has 4054 null values\n",
      "--------------------------------------------\n",
      "the field posConditionCode has 3 unique values, which are ['01', '08', '99']\n",
      "the field posConditionCode has 409 null values\n",
      "--------------------------------------------\n",
      "the field merchantCategoryCode has 19 unique values, which are ['online_retail', 'fastfood', 'entertainment', 'food', 'online_gifts', 'rideshare', 'hotels', 'fuel', 'subscriptions', 'auto', 'health', 'personal care', 'airline', 'mobileapps', 'online_subscriptions', 'furniture', 'food_delivery', 'gym', 'cable/phone']\n",
      "the field merchantCategoryCode has 0 null values\n",
      "--------------------------------------------\n",
      "the field transactionType has 3 unique values, which are ['PURCHASE', 'REVERSAL', 'ADDRESS_VERIFICATION']\n",
      "the field transactionType has 698 null values\n",
      "--------------------------------------------\n"
     ]
    }
   ],
   "source": [
    "for c in [\"acqCountry\",\"merchantCountryCode\",\"posEntryMode\",\"posConditionCode\",\"merchantCategoryCode\",\"transactionType\"]:\n",
    "    print(f\"the field {c} has {card[c].nunique()} unique values, which are {card[c].value_counts().index.tolist()}\")\n",
    "    print(f\"the field {c} has {card[c].isnull().sum()} null values\")\n",
    "    print(\"--------------------------------------------\")"
   ]
  },
  {
   "cell_type": "code",
   "execution_count": 117,
   "metadata": {},
   "outputs": [
    {
     "name": "stdout",
     "output_type": "stream",
     "text": [
      "the field merchantName has 2490 unqiue values\n",
      "the field merchantName has 0 null values\n",
      "--------------------------------------------\n",
      "the field cardCVV has 899 unqiue values\n",
      "the field cardCVV has 0 null values\n",
      "--------------------------------------------\n",
      "the field enteredCVV has 976 unqiue values\n",
      "the field enteredCVV has 0 null values\n",
      "--------------------------------------------\n",
      "the field cardLast4Digits has 5246 unqiue values\n",
      "the field cardLast4Digits has 0 null values\n",
      "--------------------------------------------\n",
      "the field reg_merchantName has 205 unqiue values\n",
      "the field reg_merchantName has 0 null values\n",
      "--------------------------------------------\n"
     ]
    }
   ],
   "source": [
    "for c in ['merchantName','cardCVV','enteredCVV','cardLast4Digits','reg_merchantName']:\n",
    "    print(f\"the field {c} has {card[c].nunique()} unqiue values\")\n",
    "    print(f\"the field {c} has {card[c].isnull().sum()} null values\")\n",
    "    print(\"--------------------------------------------\")"
   ]
  },
  {
   "cell_type": "markdown",
   "metadata": {},
   "source": [
    "# Question 2: Plot"
   ]
  },
  {
   "cell_type": "markdown",
   "metadata": {},
   "source": [
    "### 2.1 Plot a histogram of the processed amounts of each transaction, the transactionAmount column."
   ]
  },
  {
   "cell_type": "markdown",
   "metadata": {},
   "source": [
    "The transaction amount follows exponential distribution (right skewed), meaning there are fewer large values and more small values."
   ]
  },
  {
   "cell_type": "code",
   "execution_count": 118,
   "metadata": {},
   "outputs": [
    {
     "data": {
      "text/plain": [
       "Text(0.5, 1.0, 'Histogram of Transaction Amounts')"
      ]
     },
     "execution_count": 118,
     "metadata": {},
     "output_type": "execute_result"
    },
    {
     "data": {
      "image/png": "[encoded data removed]",
      "text/plain": [
       "<Figure size 720x432 with 1 Axes>"
      ]
     },
     "metadata": {
      "needs_background": "light"
     },
     "output_type": "display_data"
    }
   ],
   "source": [
    "plt.figure(figsize=(10,6))\n",
    "sns.histplot(data = card, x=\"transactionAmount\", kde=True, bins=50)\n",
    "\n",
    "# add title\n",
    "plt.title('Histogram of Transaction Amounts')"
   ]
  },
  {
   "cell_type": "code",
   "execution_count": 119,
   "metadata": {},
   "outputs": [
    {
     "data": {
      "image/png": "[encoded data removed]",
      "text/plain": [
       "<Figure size 720x432 with 1 Axes>"
      ]
     },
     "metadata": {
      "needs_background": "light"
     },
     "output_type": "display_data"
    }
   ],
   "source": [
    "# after log transformation on transactionAmount, the distribution is apporaching normal distribution.\n",
    "log_amount = card.query(\"transactionAmount!=0\")\n",
    "\n",
    "log_amount['transactionAmount'] =np.log(log_amount['transactionAmount'])\n",
    "\n",
    "plt.figure(figsize=(10,6))\n",
    "sns.histplot(data = log_amount, x=\"transactionAmount\", kde=True, bins=50)\n",
    "\n",
    "# add title\n",
    "plt.xlabel(\"log scale of transaction amount\")\n",
    "plt.title('Histogram of log Transaction Amounts')\n",
    "log_scale=True"
   ]
  },
  {
   "cell_type": "markdown",
   "metadata": {},
   "source": [
    "### 2.2 Report any structure you find and any hypotheses you have about that structure."
   ]
  },
  {
   "cell_type": "code",
   "execution_count": 10,
   "metadata": {
    "scrolled": true
   },
   "outputs": [
    {
     "ename": "SyntaxError",
     "evalue": "invalid syntax (<ipython-input-10-2a6b5b384ce5>, line 1)",
     "output_type": "error",
     "traceback": [
      "\u001b[0;36m  File \u001b[0;32m\"<ipython-input-10-2a6b5b384ce5>\"\u001b[0;36m, line \u001b[0;32m1\u001b[0m\n\u001b[0;31m    for this part, I would only consider the data with transactionType \"PURCHASE\"\u001b[0m\n\u001b[0m                ^\u001b[0m\n\u001b[0;31mSyntaxError\u001b[0m\u001b[0;31m:\u001b[0m invalid syntax\n"
     ]
    }
   ],
   "source": [
    "for this part, I would only consider the data with transactionType \"PURCHASE\""
   ]
  },
  {
   "cell_type": "markdown",
   "metadata": {},
   "source": [
    "#### <font color=red>Answers</font> - Hypothesis1 and ttest: fraud transaction amount is equal to non fraud on average\n",
    "  - The distributions of transaction amount for both fraud transactions and non fraud transactions are right skewed with longer right tail, meaning most of the trasaction amount are in the range less than 500 dollars.\n",
    "  - To compare fraudulent transactions and non-fraudulent ones, we could see that the fraudulent transaction amounts are more skewed to the right, which indicates that there are more large amounts for fraud transactions.\n",
    "  - <font color=red>Reject hypothesis:</font> The average fraud transaction amounts is significant bigger than the average non-fraud ones. through ttest I got the conclusion: the average fraud amount is 225.2 that is bigger than non-fraud amount 135.5, which is significant with p value is nearly 0 (less than threshold 0.5).\n",
    "  - this may be explained as that people make fraud transactions tend to spend a bit more in general but not too much since they would might be afraid that the extra large amount would cause more attentions."
   ]
  },
  {
   "cell_type": "code",
   "execution_count": 120,
   "metadata": {
    "scrolled": false
   },
   "outputs": [
    {
     "data": {
      "image/png": "[encoded data removed]",
      "text/plain": [
       "<Figure size 720x432 with 1 Axes>"
      ]
     },
     "metadata": {
      "needs_background": "light"
     },
     "output_type": "display_data"
    }
   ],
   "source": [
    "# seaborn histogram of Transaction Amounts categorized by isFraud\n",
    "\n",
    "fraud = card.loc[card.isFraud==True, 'transactionAmount']\n",
    "non_fraud = card.loc[card.isFraud==False, 'transactionAmount']\n",
    "\n",
    "plt.figure(figsize=(10,6))\n",
    "sns.distplot(fraud , color=\"red\", label=\"fraud\")\n",
    "sns.distplot(non_fraud , color=\"blue\", label=\"non_fraud\")\n",
    "plt.title('Frequency Histogram of Transaction Amounts categorized by isFraud')\n",
    "plt.xlabel('Transaction Amounts ($)')\n",
    "plt.ylabel('Percentage of Number of Transactions')\n",
    "plt.legend();"
   ]
  },
  {
   "cell_type": "code",
   "execution_count": 121,
   "metadata": {},
   "outputs": [
    {
     "data": {
      "text/plain": [
       "<matplotlib.axes._subplots.AxesSubplot at 0x7fc5a00400b8>"
      ]
     },
     "execution_count": 121,
     "metadata": {},
     "output_type": "execute_result"
    },
    {
     "data": {
      "image/png": "[encoded data removed]",
      "text/plain": [
       "<Figure size 432x288 with 1 Axes>"
      ]
     },
     "metadata": {
      "needs_background": "light"
     },
     "output_type": "display_data"
    }
   ],
   "source": [
    "sns.boxplot(x='isFraud', y='transactionAmount', data=card)\n"
   ]
  },
  {
   "cell_type": "code",
   "execution_count": 122,
   "metadata": {},
   "outputs": [
    {
     "name": "stdout",
     "output_type": "stream",
     "text": [
      "the average of transaction amount for fraud is: 225.2158203125\n",
      "the average of transaction amount for non fraud is: 135.5675506591797\n"
     ]
    }
   ],
   "source": [
    "print(\"the average of transaction amount for fraud is: {}\".format(fraud.mean()))\n",
    "print(\"the average of transaction amount for non fraud is: {}\".format(non_fraud.mean()))"
   ]
  },
  {
   "cell_type": "code",
   "execution_count": 123,
   "metadata": {},
   "outputs": [],
   "source": [
    "ttest_res = ttest_ind(fraud,non_fraud,equal_var=False)"
   ]
  },
  {
   "cell_type": "code",
   "execution_count": 124,
   "metadata": {},
   "outputs": [
    {
     "name": "stdout",
     "output_type": "stream",
     "text": [
      "t statistic is 52.44918963207227 with p value 0.0\n",
      "---------------------------------\n",
      "The difference is significant\n"
     ]
    }
   ],
   "source": [
    "print(\"t statistic is {} with p value {}\".format(ttest_res.statistic,ttest_res.pvalue))\n",
    "print(\"---------------------------------\")\n",
    "if_sig = \"significant\" if ttest_res.pvalue<0.05 else \"not significant\"\n",
    "print(\"The difference is\",if_sig)"
   ]
  },
  {
   "cell_type": "code",
   "execution_count": null,
   "metadata": {},
   "outputs": [],
   "source": []
  },
  {
   "cell_type": "code",
   "execution_count": 125,
   "metadata": {},
   "outputs": [
    {
     "data": {
      "text/plain": [
       "<matplotlib.axes._subplots.AxesSubplot at 0x7fc5c5cb1978>"
      ]
     },
     "execution_count": 125,
     "metadata": {},
     "output_type": "execute_result"
    },
    {
     "data": {
      "image/png": "[encoded data removed]",
      "text/plain": [
       "<Figure size 432x288 with 1 Axes>"
      ]
     },
     "metadata": {
      "needs_background": "light"
     },
     "output_type": "display_data"
    }
   ],
   "source": [
    "# check disribution only for PURCHASE transaction type ,similar result from above\n",
    "purchase = card[card.transactionType==\"PURCHASE\"]\n",
    "sns.boxplot(x='isFraud', y='transactionAmount', data=purchase)"
   ]
  },
  {
   "cell_type": "code",
   "execution_count": null,
   "metadata": {},
   "outputs": [],
   "source": []
  },
  {
   "cell_type": "markdown",
   "metadata": {},
   "source": [
    "#### <font color=red>Answers</font> - Hypothesis 2 and ttest: The average transaction amounts among all merchant categories are equal\n",
    "  - <font color=red>Reject hypothesis:</font> The average transaction amount among different merchant categories are different\n",
    "  - by comparing each pair of merchant categories, I found that mobileApps(5.8 dollars), online_subscriptions(14.5 dollars) and gym(33.4 dollars) are the three categories have the lowest average transaction amount, while personal care(147.5), subscriptions (146.9) and rideshare(146.2) are the three with the most average amount.\n",
    "  - this conclusion is in line with our common knowledge"
   ]
  },
  {
   "cell_type": "code",
   "execution_count": 56,
   "metadata": {},
   "outputs": [],
   "source": [
    "import statsmodels.api as sm\n"
   ]
  },
  {
   "cell_type": "code",
   "execution_count": 59,
   "metadata": {},
   "outputs": [
    {
     "name": "stdout",
     "output_type": "stream",
     "text": [
      "                                 OLS Regression Results                                \n",
      "=======================================================================================\n",
      "Dep. Variable:      transactionAmount   R-squared (uncentered):                   0.695\n",
      "Model:                            OLS   Adj. R-squared (uncentered):              0.695\n",
      "Method:                 Least Squares   F-statistic:                          1.739e+06\n",
      "Date:                Sat, 24 Apr 2021   Prob (F-statistic):                        0.00\n",
      "Time:                        15:18:46   Log-Likelihood:                     -1.7842e+06\n",
      "No. Observations:              764138   AIC:                                  3.568e+06\n",
      "Df Residuals:                  764137   BIC:                                  3.569e+06\n",
      "Df Model:                           1                                                  \n",
      "Covariance Type:            nonrobust                                                  \n",
      "==============================================================================\n",
      "                 coef    std err          t      P>|t|      [0.025      0.975]\n",
      "------------------------------------------------------------------------------\n",
      "x1             0.3430      0.000   1318.661      0.000       0.343       0.344\n",
      "==============================================================================\n",
      "Omnibus:                    19273.598   Durbin-Watson:                   1.094\n",
      "Prob(Omnibus):                  0.000   Jarque-Bera (JB):            10349.102\n",
      "Skew:                          -0.091   Prob(JB):                         0.00\n",
      "Kurtosis:                       2.460   Cond. No.                         1.00\n",
      "==============================================================================\n",
      "\n",
      "Warnings:\n",
      "[1] Standard Errors assume that the covariance matrix of the errors is correctly specified.\n"
     ]
    }
   ],
   "source": [
    "# the f-stats and p value indicate that the amount among diffrent merchant categories are different.\n",
    "lin_reg = sm.OLS(log_amount['transactionAmount'], log_amount['merchantCategoryCode'].cat.codes).fit()\n",
    "print(lin_reg.summary())"
   ]
  },
  {
   "cell_type": "code",
   "execution_count": 57,
   "metadata": {},
   "outputs": [
    {
     "name": "stdout",
     "output_type": "stream",
     "text": [
      "                 Multiple Comparison of Means - Tukey HSD, FWER=0.05                 \n",
      "=====================================================================================\n",
      "       group1               group2         meandiff p-adj    lower     upper   reject\n",
      "-------------------------------------------------------------------------------------\n",
      "             airline                 auto   -0.1122    0.9   -5.4676    5.2431  False\n",
      "             airline          cable/phone  -47.6686  0.001  -61.9371     -33.4   True\n",
      "             airline        entertainment    1.0851    0.9   -3.3845    5.5547  False\n",
      "             airline             fastfood    0.6349    0.9   -3.7305    5.0003  False\n",
      "             airline                 food    0.3573    0.9   -4.1343    4.8489  False\n",
      "             airline        food_delivery  -91.8007  0.001   -99.533  -84.0683   True\n",
      "             airline                 fuel  -99.7758  0.001  -105.025  -94.5267   True\n",
      "             airline            furniture   -0.0309    0.9   -7.2071    7.1452  False\n",
      "             airline                  gym -111.4903  0.001 -123.0508  -99.9299   True\n",
      "             airline               health    0.7495    0.9   -4.7531    6.2521  False\n",
      "             airline               hotels    0.6285    0.9   -4.3037    5.5607  False\n",
      "             airline           mobileapps -139.1194  0.001 -144.9486 -133.2902   True\n",
      "             airline         online_gifts    1.1694    0.9    -3.375    5.7139  False\n",
      "             airline        online_retail     0.275    0.9   -3.9713    4.5213  False\n",
      "             airline online_subscriptions -130.3777  0.001  -136.709 -124.0464   True\n",
      "             airline        personal care    2.5603    0.9   -2.9506    8.0711  False\n",
      "             airline            rideshare    1.2642    0.9   -3.4052    5.9336  False\n",
      "             airline        subscriptions    1.9441    0.9   -3.3502    7.2383  False\n",
      "                auto          cable/phone  -47.5563  0.001  -61.6547  -33.4579   True\n",
      "                auto        entertainment    1.1973    0.9    -2.695    5.0896  False\n",
      "                auto             fastfood    0.7471    0.9    -3.025    4.5192  False\n",
      "                auto                 food    0.4695    0.9   -3.4479     4.387  False\n",
      "                auto        food_delivery  -91.6884  0.001   -99.102  -84.2748   True\n",
      "                auto                 fuel  -99.6636  0.001 -104.4307  -94.8965   True\n",
      "                auto            furniture    0.0813    0.9   -6.7502    6.9128  False\n",
      "                auto                  gym -111.3781  0.001 -122.7278 -100.0284   True\n",
      "                auto               health    0.8617    0.9   -4.1831    5.9066  False\n",
      "                auto               hotels    0.7407    0.9   -3.6751    5.1564  False\n",
      "                auto           mobileapps -139.0072  0.001 -144.4064  -133.608   True\n",
      "                auto         online_gifts    1.2817    0.9   -2.6963    5.2596  False\n",
      "                auto        online_retail    0.3872    0.9   -3.2464    4.0209  False\n",
      "                auto online_subscriptions -130.2655  0.001 -136.2033 -124.3277   True\n",
      "                auto        personal care    2.6725    0.9   -2.3814    7.7264  False\n",
      "                auto            rideshare    1.3764    0.9   -2.7437    5.4965  False\n",
      "                auto        subscriptions    2.0563    0.9   -2.7605     6.873  False\n",
      "         cable/phone        entertainment   48.7536  0.001   34.9673   62.5399   True\n",
      "         cable/phone             fastfood   48.3034  0.001   34.5506   62.0563   True\n",
      "         cable/phone                 food   48.0258  0.001   34.2324   61.8193   True\n",
      "         cable/phone        food_delivery  -44.1321  0.001  -59.2937  -28.9705   True\n",
      "         cable/phone                 fuel  -52.1073  0.001  -66.1657  -38.0489   True\n",
      "         cable/phone            furniture   47.6376  0.001    32.752   62.5232   True\n",
      "         cable/phone                  gym  -63.8218  0.001  -81.2496  -46.3939   True\n",
      "         cable/phone               health    48.418  0.001   34.2631    62.573   True\n",
      "         cable/phone               hotels    48.297  0.001   34.3539   62.2401   True\n",
      "         cable/phone           mobileapps  -91.4509  0.001  -105.736  -77.1658   True\n",
      "         cable/phone         online_gifts    48.838  0.001   35.0272   62.6487   True\n",
      "         cable/phone        online_retail   47.9436  0.001    34.228   61.6591   True\n",
      "         cable/phone online_subscriptions  -82.7092  0.001  -97.2064  -68.2119   True\n",
      "         cable/phone        personal care   50.2288  0.001   36.0706    64.387   True\n",
      "         cable/phone            rideshare   48.9327  0.001   35.0804   62.7851   True\n",
      "         cable/phone        subscriptions   49.6126  0.001   35.5373   63.6879   True\n",
      "       entertainment             fastfood   -0.4502    0.9    -2.801    1.9006  False\n",
      "       entertainment                 food   -0.7278    0.9   -3.3054    1.8498  False\n",
      "       entertainment        food_delivery  -92.8857  0.001  -99.6871  -86.0843   True\n",
      "       entertainment                 fuel -100.8609  0.001 -104.6056  -97.1162   True\n",
      "       entertainment            furniture    -1.116    0.9   -7.2777    5.0457  False\n",
      "       entertainment                  gym -112.5754  0.001  -123.535 -101.6157   True\n",
      "       entertainment               health   -0.3356    0.9   -4.4281    3.7569  False\n",
      "       entertainment               hotels   -0.4566    0.9   -3.7424    2.8292  False\n",
      "       entertainment           mobileapps -140.2045  0.001 -144.7266 -135.6824   True\n",
      "       entertainment         online_gifts    0.0843    0.9   -2.5843     2.753  False\n",
      "       entertainment        online_retail   -0.8101    0.9   -2.9316    1.3115  False\n",
      "       entertainment online_subscriptions -131.4628  0.001  -136.616 -126.3096   True\n",
      "       entertainment        personal care    1.4752    0.9   -2.6284    5.5788  False\n",
      "       entertainment            rideshare    0.1791    0.9   -2.6972    3.0554  False\n",
      "       entertainment        subscriptions     0.859    0.9   -2.9487    4.6667  False\n",
      "            fastfood                 food   -0.2776    0.9   -2.6699    2.1147  False\n",
      "            fastfood        food_delivery  -92.4355  0.001  -99.1689  -85.7022   True\n",
      "            fastfood                 fuel -100.4107  0.001 -104.0304  -96.7911   True\n",
      "            fastfood            furniture   -0.6658    0.9   -6.7523    5.4207  False\n",
      "            fastfood                  gym -112.1252  0.001 -123.0427 -101.2076   True\n",
      "            fastfood               health    0.1146    0.9   -3.8637    4.0929  False\n",
      "            fastfood               hotels   -0.0064    0.9   -3.1489    3.1361  False\n",
      "            fastfood           mobileapps -139.7543  0.001 -144.1734 -135.3352   True\n",
      "            fastfood         online_gifts    0.5345    0.9   -1.9556    3.0247  False\n",
      "            fastfood        online_retail   -0.3599    0.9   -2.2519    1.5322  False\n",
      "            fastfood online_subscriptions -131.0126  0.001 -136.0756 -125.9496   True\n",
      "            fastfood        personal care    1.9254    0.9   -2.0644    5.9152  False\n",
      "            fastfood            rideshare    0.6293    0.9   -2.0822    3.3408  False\n",
      "            fastfood        subscriptions    1.3092    0.9   -2.3756     4.994  False\n",
      "                food        food_delivery  -92.1579  0.001  -98.9738  -85.3421   True\n",
      "                food                 fuel -100.1331  0.001  -103.904  -96.3622   True\n",
      "                food            furniture   -0.3882    0.9   -6.5659    5.7894  False\n",
      "                food                  gym -111.8476  0.001 -122.8162  -100.879   True\n",
      "                food               health    0.3922    0.9   -3.7242    4.5086  False\n",
      "                food               hotels    0.2712    0.9   -3.0444    3.5868  False\n",
      "                food           mobileapps -139.4767  0.001 -144.0205 -134.9329   True\n",
      "                food         online_gifts    0.8121    0.9   -1.8932    3.5174  False\n",
      "                food        online_retail   -0.0823    0.9   -2.2497    2.0852  False\n",
      "                food online_subscriptions  -130.735  0.001 -135.9072 -125.5628   True\n",
      "                food        personal care     2.203    0.9   -1.9245    6.3305  False\n",
      "                food            rideshare    0.9069    0.9   -2.0034    3.8172  False\n",
      "                food        subscriptions    1.5868    0.9   -2.2467    5.4202  False\n",
      "       food_delivery                 fuel   -7.9752 0.0173  -15.3124    -0.638   True\n",
      "       food_delivery            furniture   91.7697  0.001   82.9505  100.5889   True\n",
      "       food_delivery                  gym  -19.6897  0.001  -32.3358   -7.0435   True\n",
      "       food_delivery               health   92.5501  0.001   85.0295  100.0707   True\n",
      "       food_delivery               hotels   92.4291  0.001   85.3152    99.543   True\n",
      "       food_delivery           mobileapps  -47.3188  0.001  -55.0815   -39.556   True\n",
      "       food_delivery         online_gifts   92.9701  0.001   86.1193   99.8209   True\n",
      "       food_delivery        online_retail   92.0757  0.001   85.4189   98.7324   True\n",
      "       food_delivery online_subscriptions  -38.5771  0.001  -46.7236  -30.4305   True\n",
      "       food_delivery        personal care   94.3609  0.001   86.8342  101.8876   True\n",
      "       food_delivery            rideshare   93.0648  0.001   86.1305   99.9991   True\n",
      "       food_delivery        subscriptions   93.7447  0.001   86.3752  101.1142   True\n",
      "                fuel            furniture   99.7449  0.001   92.9964  106.4934   True\n",
      "                fuel                  gym  -11.7145 0.0326  -23.0144   -0.4145   True\n",
      "                fuel               health  100.5253  0.001   95.5934  105.4572   True\n",
      "                fuel               hotels  100.4043  0.001    96.118  104.6906   True\n",
      "                fuel           mobileapps  -39.3436  0.001  -44.6374  -34.0497   True\n",
      "                fuel         online_gifts  100.9453  0.001   97.1115   104.779   True\n",
      "                fuel        online_retail  100.0509  0.001   96.5757   103.526   True\n",
      "                fuel online_subscriptions  -30.6019  0.001   -36.444  -24.7597   True\n",
      "                fuel        personal care  102.3361  0.001   97.3949  107.2773   True\n",
      "                fuel            rideshare    101.04  0.001    97.059  105.0211   True\n",
      "                fuel        subscriptions  101.7199  0.001   97.0216  106.4182   True\n",
      "           furniture                  gym -111.4594  0.001 -123.7733  -99.1454   True\n",
      "           furniture               health    0.7804    0.9   -6.1671    7.7279  False\n",
      "           furniture               hotels    0.6594    0.9   -5.8457    7.1645  False\n",
      "           furniture           mobileapps -139.0885  0.001 -146.2974 -131.8796   True\n",
      "           furniture         online_gifts    1.2004    0.9   -5.0159    7.4166  False\n",
      "           furniture        online_retail    0.3059    0.9   -5.6957    6.3076  False\n",
      "           furniture online_subscriptions -130.3468  0.001 -137.9674 -122.7261   True\n",
      "           furniture        personal care    2.5912    0.9   -4.3629    9.5452  False\n",
      "           furniture            rideshare    1.2951    0.9    -5.013    7.6032  False\n",
      "           furniture        subscriptions     1.975    0.9   -4.8087    8.7587  False\n",
      "                 gym               health  112.2398  0.001  100.8199  123.6597   True\n",
      "                 gym               hotels  112.1188  0.001  100.9625  123.2751   True\n",
      "                 gym           mobileapps  -27.6291  0.001  -39.2099  -16.0483   True\n",
      "                 gym         online_gifts  112.6597  0.001  101.6694  123.6501   True\n",
      "                 gym        online_retail  111.7653  0.001  100.8948  122.6358   True\n",
      "                 gym online_subscriptions  -18.8874  0.001  -30.7289   -7.0459   True\n",
      "                 gym        personal care  114.0506  0.001  102.6266  125.4745   True\n",
      "                 gym            rideshare  112.7545  0.001  101.7118  123.7971   True\n",
      "                 gym        subscriptions  113.4344  0.001  102.1133  124.7554   True\n",
      "              health               hotels    -0.121    0.9   -4.7142    4.4722  False\n",
      "              health           mobileapps -139.8689  0.001 -145.4142 -134.3236   True\n",
      "              health         online_gifts    0.4199    0.9   -3.7541     4.594  False\n",
      "              health        online_retail   -0.4745    0.9   -4.3218    3.3728  False\n",
      "              health online_subscriptions -131.1272  0.001 -137.1981 -125.0563   True\n",
      "              health        personal care    1.8108    0.9   -3.3989    7.0204  False\n",
      "              health            rideshare    0.5147    0.9   -3.7951    4.8244  False\n",
      "              health        subscriptions    1.1946    0.9   -3.7853    6.1745  False\n",
      "              hotels           mobileapps -139.7479  0.001 -144.7277 -134.7681   True\n",
      "              hotels         online_gifts     0.541    0.9   -2.8459    3.9279  False\n",
      "              hotels        online_retail   -0.3534    0.9   -3.3284    2.6215  False\n",
      "              hotels online_subscriptions -131.0062  0.001 -136.5653  -125.447   True\n",
      "              hotels        personal care    1.9318    0.9   -2.6713    6.5349  False\n",
      "              hotels            rideshare    0.6357    0.9   -2.9171    4.1885  False\n",
      "              hotels        subscriptions    1.3156    0.9   -3.0258     5.657  False\n",
      "          mobileapps         online_gifts  140.2888  0.001  135.6928  144.8849   True\n",
      "          mobileapps        online_retail  139.3944  0.001  135.0929  143.6959   True\n",
      "          mobileapps online_subscriptions    8.7417  0.001    2.3733   15.1102   True\n",
      "          mobileapps        personal care  141.6797  0.001  136.1262  147.2332   True\n",
      "          mobileapps            rideshare  140.3836  0.001  135.6639  145.1032   True\n",
      "          mobileapps        subscriptions  141.0635  0.001  135.7249  146.4021   True\n",
      "        online_gifts        online_retail   -0.8944    0.9   -3.1694    1.3806  False\n",
      "        online_gifts online_subscriptions -131.5471  0.001 -136.7653 -126.3289   True\n",
      "        online_gifts        personal care    1.3908    0.9   -2.7941    5.5758  False\n",
      "        online_gifts            rideshare    0.0947    0.9   -2.8965     3.086  False\n",
      "        online_gifts        subscriptions    0.7746    0.9   -3.1207    4.6699  False\n",
      "       online_retail online_subscriptions -130.6527  0.001 -135.6134  -125.692   True\n",
      "       online_retail        personal care    2.2852 0.8231   -1.5739    6.1444  False\n",
      "       online_retail            rideshare    0.9892    0.9   -1.5262    3.5045  False\n",
      "       online_retail        subscriptions     1.669    0.9   -1.8739     5.212  False\n",
      "online_subscriptions        personal care   132.938  0.001  126.8595  139.0164   True\n",
      "online_subscriptions            rideshare  131.6419  0.001  126.3145  136.9693   True\n",
      "online_subscriptions        subscriptions  132.3218  0.001   126.439  138.2045   True\n",
      "       personal care            rideshare   -1.2961    0.9   -5.6164    3.0242  False\n",
      "       personal care        subscriptions   -0.6162    0.9   -5.6053    4.3729  False\n",
      "           rideshare        subscriptions    0.6799    0.9   -3.3605    4.7203  False\n",
      "-------------------------------------------------------------------------------------\n"
     ]
    }
   ],
   "source": [
    "# the paired comparison of differnt merchant categories on average transaction amount \n",
    "# if reject if true, it means there is significant difference\n",
    "mc = statsmodels.stats.multicomp.MultiComparison(card['transactionAmount'],card['merchantCategoryCode'])\n",
    "mc_results = mc.tukeyhsd()\n",
    "print(mc_results)"
   ]
  },
  {
   "cell_type": "code",
   "execution_count": 61,
   "metadata": {},
   "outputs": [],
   "source": [
    "merchant_trAmt = card.groupby(\"merchantCategoryCode\").apply(lambda x:pd.Series({\"amt\":x['transactionAmount'].mean()}))"
   ]
  },
  {
   "cell_type": "code",
   "execution_count": 64,
   "metadata": {
    "scrolled": true
   },
   "outputs": [
    {
     "data": {
      "text/html": [
       "<div>\n",
       "<style scoped>\n",
       "    .dataframe tbody tr th:only-of-type {\n",
       "        vertical-align: middle;\n",
       "    }\n",
       "\n",
       "    .dataframe tbody tr th {\n",
       "        vertical-align: top;\n",
       "    }\n",
       "\n",
       "    .dataframe thead th {\n",
       "        text-align: right;\n",
       "    }\n",
       "</style>\n",
       "<table border=\"1\" class=\"dataframe\">\n",
       "  <thead>\n",
       "    <tr style=\"text-align: right;\">\n",
       "      <th></th>\n",
       "      <th>amt</th>\n",
       "    </tr>\n",
       "    <tr>\n",
       "      <th>merchantCategoryCode</th>\n",
       "      <th></th>\n",
       "    </tr>\n",
       "  </thead>\n",
       "  <tbody>\n",
       "    <tr>\n",
       "      <th>personal care</th>\n",
       "      <td>147.516877</td>\n",
       "    </tr>\n",
       "    <tr>\n",
       "      <th>subscriptions</th>\n",
       "      <td>146.900673</td>\n",
       "    </tr>\n",
       "    <tr>\n",
       "      <th>rideshare</th>\n",
       "      <td>146.220783</td>\n",
       "    </tr>\n",
       "    <tr>\n",
       "      <th>online_gifts</th>\n",
       "      <td>146.126042</td>\n",
       "    </tr>\n",
       "    <tr>\n",
       "      <th>entertainment</th>\n",
       "      <td>146.041694</td>\n",
       "    </tr>\n",
       "    <tr>\n",
       "      <th>health</th>\n",
       "      <td>145.706099</td>\n",
       "    </tr>\n",
       "    <tr>\n",
       "      <th>fastfood</th>\n",
       "      <td>145.591507</td>\n",
       "    </tr>\n",
       "    <tr>\n",
       "      <th>hotels</th>\n",
       "      <td>145.585076</td>\n",
       "    </tr>\n",
       "    <tr>\n",
       "      <th>food</th>\n",
       "      <td>145.313906</td>\n",
       "    </tr>\n",
       "    <tr>\n",
       "      <th>online_retail</th>\n",
       "      <td>145.231632</td>\n",
       "    </tr>\n",
       "    <tr>\n",
       "      <th>airline</th>\n",
       "      <td>144.956619</td>\n",
       "    </tr>\n",
       "    <tr>\n",
       "      <th>furniture</th>\n",
       "      <td>144.925686</td>\n",
       "    </tr>\n",
       "    <tr>\n",
       "      <th>auto</th>\n",
       "      <td>144.844389</td>\n",
       "    </tr>\n",
       "    <tr>\n",
       "      <th>cable/phone</th>\n",
       "      <td>97.288068</td>\n",
       "    </tr>\n",
       "    <tr>\n",
       "      <th>food_delivery</th>\n",
       "      <td>53.155968</td>\n",
       "    </tr>\n",
       "    <tr>\n",
       "      <th>fuel</th>\n",
       "      <td>45.180771</td>\n",
       "    </tr>\n",
       "    <tr>\n",
       "      <th>gym</th>\n",
       "      <td>33.466315</td>\n",
       "    </tr>\n",
       "    <tr>\n",
       "      <th>online_subscriptions</th>\n",
       "      <td>14.578915</td>\n",
       "    </tr>\n",
       "    <tr>\n",
       "      <th>mobileapps</th>\n",
       "      <td>5.837203</td>\n",
       "    </tr>\n",
       "  </tbody>\n",
       "</table>\n",
       "</div>"
      ],
      "text/plain": [
       "                             amt\n",
       "merchantCategoryCode            \n",
       "personal care         147.516877\n",
       "subscriptions         146.900673\n",
       "rideshare             146.220783\n",
       "online_gifts          146.126042\n",
       "entertainment         146.041694\n",
       "health                145.706099\n",
       "fastfood              145.591507\n",
       "hotels                145.585076\n",
       "food                  145.313906\n",
       "online_retail         145.231632\n",
       "airline               144.956619\n",
       "furniture             144.925686\n",
       "auto                  144.844389\n",
       "cable/phone            97.288068\n",
       "food_delivery          53.155968\n",
       "fuel                   45.180771\n",
       "gym                    33.466315\n",
       "online_subscriptions   14.578915\n",
       "mobileapps              5.837203"
      ]
     },
     "execution_count": 64,
     "metadata": {},
     "output_type": "execute_result"
    }
   ],
   "source": [
    "# average amount of each merchant category\n",
    "merchant_trAmt.sort_values(by=\"amt\",ascending=False)#.plot(kind=\"bar\")"
   ]
  },
  {
   "cell_type": "code",
   "execution_count": null,
   "metadata": {},
   "outputs": [],
   "source": []
  },
  {
   "cell_type": "markdown",
   "metadata": {},
   "source": [
    "#### <font color=red>Answers</font> - observation 1: The fraud average transaction amounts are larger than non fraudulent amounts across differnt merchanat categories"
   ]
  },
  {
   "cell_type": "code",
   "execution_count": 138,
   "metadata": {},
   "outputs": [],
   "source": [
    "merchant_trAmt_frd = card.groupby([\"merchantCategoryCode\",\"isFraud\"]).apply(lambda x:pd.Series({\"amt\":x['transactionAmount'].mean()})).reset_index()#.fillna(0)#.unstack(fill_value=0)"
   ]
  },
  {
   "cell_type": "code",
   "execution_count": 147,
   "metadata": {},
   "outputs": [
    {
     "data": {
      "text/plain": [
       "Text(0, 0.5, 'average transaction amount')"
      ]
     },
     "execution_count": 147,
     "metadata": {},
     "output_type": "execute_result"
    },
    {
     "data": {
      "image/png": "[encoded data removed]",
      "text/plain": [
       "<Figure size 720x432 with 1 Axes>"
      ]
     },
     "metadata": {
      "needs_background": "light"
     },
     "output_type": "display_data"
    }
   ],
   "source": [
    "plt.figure(figsize=(10,6))\n",
    "sns.barplot(x='merchantCategoryCode',y='amt',hue='isFraud',data=merchant_trAmt_frd)\n",
    "plt.xticks(rotation = 45) # Rotates X-Axis Ticks by 45-degrees\n",
    "plt.title(\"average fraud transanction amount vs non-fraud amount for each merchant category\")\n",
    "plt.ylabel(\"average transaction amount\")"
   ]
  },
  {
   "cell_type": "code",
   "execution_count": null,
   "metadata": {},
   "outputs": [],
   "source": []
  },
  {
   "cell_type": "code",
   "execution_count": null,
   "metadata": {},
   "outputs": [],
   "source": []
  },
  {
   "cell_type": "code",
   "execution_count": null,
   "metadata": {},
   "outputs": [],
   "source": []
  },
  {
   "cell_type": "markdown",
   "metadata": {},
   "source": [
    "#### <font color=red>Answers</font> - Hypothesis 3 and ttest: The average transaction amounts among all merchant countries are equal\n",
    "  - <font color=red>Accept hypothesis:</font> The average transaction amount among different merchant countries are no different"
   ]
  },
  {
   "cell_type": "code",
   "execution_count": 11,
   "metadata": {},
   "outputs": [],
   "source": [
    "card_merchantCountry = card[[\"merchantCountryCode\",\"acqCountry\",'transactionAmount','isFraud']].fillna(\"others\")"
   ]
  },
  {
   "cell_type": "code",
   "execution_count": 12,
   "metadata": {},
   "outputs": [
    {
     "name": "stdout",
     "output_type": "stream",
     "text": [
      " Multiple Comparison of Means - Tukey HSD, FWER=0.05 \n",
      "=====================================================\n",
      "group1 group2 meandiff p-adj   lower    upper  reject\n",
      "-----------------------------------------------------\n",
      "   CAN    MEX   0.5542    0.9 -10.3359 11.4444  False\n",
      "   CAN     PR  -3.6531    0.9 -16.7331  9.4269  False\n",
      "   CAN     US  -0.8395    0.9  -9.0334  7.3544  False\n",
      "   CAN others   0.8141    0.9 -16.2508 17.8789  False\n",
      "   MEX     PR  -4.2073 0.8836   -16.69  8.2754  False\n",
      "   MEX     US  -1.3937    0.9  -8.5959  5.8085  False\n",
      "   MEX others   0.2598    0.9 -16.3516 16.8713  False\n",
      "    PR     US   2.8136    0.9  -7.4022 13.0294  False\n",
      "    PR others   4.4672    0.9 -13.6555 22.5899  False\n",
      "    US others   1.6536    0.9 -13.3293 16.6364  False\n",
      "-----------------------------------------------------\n"
     ]
    }
   ],
   "source": [
    "mc_cty = statsmodels.stats.multicomp.MultiComparison(card_merchantCountry['transactionAmount'],card_merchantCountry['merchantCountryCode'])\n",
    "mc_cty_results = mc_cty.tukeyhsd()\n",
    "print(mc_cty_results)"
   ]
  },
  {
   "cell_type": "markdown",
   "metadata": {},
   "source": [
    "when the acqCountry is different from merchant coutnry, will the average transaction amount be differnt than those that the countries are same?"
   ]
  },
  {
   "cell_type": "code",
   "execution_count": 14,
   "metadata": {},
   "outputs": [],
   "source": [
    "card_merchantCountry['cntry_diff']=card_merchantCountry[\"merchantCountryCode\"]==card_merchantCountry['acqCountry']"
   ]
  },
  {
   "cell_type": "code",
   "execution_count": 15,
   "metadata": {},
   "outputs": [
    {
     "data": {
      "text/plain": [
       "True     782452\n",
       "False      3911\n",
       "Name: cntry_diff, dtype: int64"
      ]
     },
     "execution_count": 15,
     "metadata": {},
     "output_type": "execute_result"
    }
   ],
   "source": [
    "card_merchantCountry.cntry_diff.value_counts()"
   ]
  },
  {
   "cell_type": "code",
   "execution_count": 20,
   "metadata": {},
   "outputs": [
    {
     "name": "stdout",
     "output_type": "stream",
     "text": [
      "t statistic is -0.16915828730675664 with p value 0.8656721823157648\n",
      "---------------------------------\n",
      "The difference is not significant\n"
     ]
    }
   ],
   "source": [
    "ttest(card_merchantCountry,\"cntry_diff\",'transactionAmount')"
   ]
  },
  {
   "cell_type": "code",
   "execution_count": null,
   "metadata": {},
   "outputs": [],
   "source": []
  },
  {
   "cell_type": "code",
   "execution_count": null,
   "metadata": {},
   "outputs": [],
   "source": []
  },
  {
   "cell_type": "code",
   "execution_count": null,
   "metadata": {},
   "outputs": [],
   "source": []
  },
  {
   "cell_type": "code",
   "execution_count": null,
   "metadata": {},
   "outputs": [],
   "source": []
  },
  {
   "cell_type": "code",
   "execution_count": null,
   "metadata": {},
   "outputs": [],
   "source": [
    "card_drp['acq_m_country'] = card_drp[\"merchantCountryCode\"]==card_drp['acqCountry']"
   ]
  },
  {
   "cell_type": "code",
   "execution_count": 77,
   "metadata": {},
   "outputs": [],
   "source": []
  },
  {
   "cell_type": "code",
   "execution_count": null,
   "metadata": {},
   "outputs": [],
   "source": [
    "ttest(card_drp,\"acq_m_country\",\"isFraud\")"
   ]
  },
  {
   "cell_type": "code",
   "execution_count": null,
   "metadata": {},
   "outputs": [],
   "source": [
    "cntry_test = card_drp.groupby(\"acq_m_country\").apply(lambda x:pd.Series({\"c_r\":x.isFraud.mean()}))"
   ]
  },
  {
   "cell_type": "code",
   "execution_count": null,
   "metadata": {},
   "outputs": [],
   "source": [
    "cntry_test"
   ]
  },
  {
   "cell_type": "code",
   "execution_count": null,
   "metadata": {},
   "outputs": [],
   "source": [
    "ttest_ind(card_drp.loc[card_drp[\"acq_m_country\"]==True,'isFraud'],card_drp.loc[card_drp[\"acq_m_country\"]==False,\"isFraud\"])"
   ]
  },
  {
   "cell_type": "code",
   "execution_count": null,
   "metadata": {},
   "outputs": [],
   "source": [
    "merchant_ctry = fraud_rate(df,\"merchantCountryCode\",\"merchantCountryCode_fraud_rt\")"
   ]
  },
  {
   "cell_type": "code",
   "execution_count": null,
   "metadata": {},
   "outputs": [],
   "source": [
    "merchant_ctry"
   ]
  },
  {
   "cell_type": "code",
   "execution_count": null,
   "metadata": {},
   "outputs": [],
   "source": []
  },
  {
   "cell_type": "code",
   "execution_count": null,
   "metadata": {},
   "outputs": [],
   "source": [
    "PCC = card_drp.groupby(\"posConditionCode\").apply(lambda x:pd.Series({\"PCC_frd_rt\":x.isFraud.mean()}))"
   ]
  },
  {
   "cell_type": "code",
   "execution_count": null,
   "metadata": {},
   "outputs": [],
   "source": [
    "PCC"
   ]
  },
  {
   "cell_type": "code",
   "execution_count": null,
   "metadata": {},
   "outputs": [],
   "source": [
    "PEM = card_drp.groupby(\"posEntryMode\").apply(lambda x:pd.Series({\"PEM_frd_rt\":x.isFraud.mean()}))"
   ]
  },
  {
   "cell_type": "code",
   "execution_count": null,
   "metadata": {},
   "outputs": [],
   "source": [
    "PEM"
   ]
  },
  {
   "cell_type": "code",
   "execution_count": null,
   "metadata": {},
   "outputs": [],
   "source": []
  },
  {
   "cell_type": "code",
   "execution_count": null,
   "metadata": {},
   "outputs": [],
   "source": [
    "card_drp['cvv_dif']= card_drp[\"cardCVV\"]!=card_drp[\"enteredCVV\"]"
   ]
  },
  {
   "cell_type": "code",
   "execution_count": null,
   "metadata": {},
   "outputs": [],
   "source": [
    "card_drp.loc[19,:]"
   ]
  },
  {
   "cell_type": "code",
   "execution_count": null,
   "metadata": {},
   "outputs": [],
   "source": [
    "cvv_dif = card_drp.groupby(\"cvv_dif\").apply(lambda x:pd.Series({\"cvv_frd_rt\":x.isFraud.mean()}))"
   ]
  },
  {
   "cell_type": "code",
   "execution_count": null,
   "metadata": {},
   "outputs": [],
   "source": [
    "cvv_dif"
   ]
  },
  {
   "cell_type": "code",
   "execution_count": null,
   "metadata": {},
   "outputs": [],
   "source": [
    "ttest_ind(card_drp.loc[card_drp[\"cvv_dif\"]==True,'isFraud'],card_drp.loc[card_drp[\"cvv_dif\"]==False,\"isFraud\"])"
   ]
  },
  {
   "cell_type": "code",
   "execution_count": null,
   "metadata": {},
   "outputs": [],
   "source": []
  },
  {
   "cell_type": "code",
   "execution_count": null,
   "metadata": {},
   "outputs": [],
   "source": [
    "card_drp[\"tran_lessthan_avl\"]=(card_drp[\"transactionAmount\"]-card_drp[\"availableMoney\"])<=0"
   ]
  },
  {
   "cell_type": "code",
   "execution_count": null,
   "metadata": {},
   "outputs": [],
   "source": [
    "tran_avl_dif = card_drp.groupby(\"tran_lessthan_avl\").apply(lambda x:pd.Series({\"tran_avl_frd_rt\":x.isFraud.mean()}))"
   ]
  },
  {
   "cell_type": "code",
   "execution_count": null,
   "metadata": {},
   "outputs": [],
   "source": [
    "tran_avl_dif"
   ]
  },
  {
   "cell_type": "code",
   "execution_count": null,
   "metadata": {},
   "outputs": [],
   "source": [
    "ttest_ind(card_drp.loc[card_drp[\"tran_lessthan_avl\"]==True,'isFraud'],card_drp.loc[card_drp[\"tran_lessthan_avl\"]==False,\"isFraud\"])"
   ]
  },
  {
   "cell_type": "code",
   "execution_count": null,
   "metadata": {},
   "outputs": [],
   "source": []
  },
  {
   "cell_type": "code",
   "execution_count": null,
   "metadata": {},
   "outputs": [],
   "source": [
    "card_limit = card_drp.groupby(\"creditLimit\").apply(lambda x:pd.Series({\"cl_frd_rt\":x.isFraud.mean()}))"
   ]
  },
  {
   "cell_type": "code",
   "execution_count": null,
   "metadata": {},
   "outputs": [],
   "source": [
    "card_limit"
   ]
  },
  {
   "cell_type": "code",
   "execution_count": null,
   "metadata": {},
   "outputs": [],
   "source": []
  },
  {
   "cell_type": "code",
   "execution_count": null,
   "metadata": {},
   "outputs": [],
   "source": [
    "card_drp[\"less_than_30%\"] = (card_drp[\"availableMoney\"]/card_drp[\"creditLimit\"])<=0.3"
   ]
  },
  {
   "cell_type": "code",
   "execution_count": null,
   "metadata": {},
   "outputs": [],
   "source": [
    "less_than_10 = card_drp.groupby(\"less_than_30%\").apply(lambda x:pd.Series({\"less_than_30_frd_rt\":x.isFraud.mean()}))"
   ]
  },
  {
   "cell_type": "code",
   "execution_count": null,
   "metadata": {},
   "outputs": [],
   "source": [
    "less_than_10"
   ]
  },
  {
   "cell_type": "code",
   "execution_count": null,
   "metadata": {},
   "outputs": [],
   "source": [
    "ttest_ind(card_drp.loc[card_drp[\"less_than_30%\"]==True,'isFraud'],card_drp.loc[card_drp[\"less_than_30%\"]==False,\"isFraud\"])"
   ]
  },
  {
   "cell_type": "code",
   "execution_count": null,
   "metadata": {},
   "outputs": [],
   "source": []
  },
  {
   "cell_type": "code",
   "execution_count": null,
   "metadata": {},
   "outputs": [],
   "source": [
    "AMC #3432\n",
    "AMC #32543"
   ]
  },
  {
   "cell_type": "code",
   "execution_count": null,
   "metadata": {},
   "outputs": [],
   "source": [
    "card_drp[\"reg_merchantName\"] = card_drp[\"merchantName\"].apply(lambda x:re.sub(r\"\\ \\#.+\",\"\",x))"
   ]
  },
  {
   "cell_type": "code",
   "execution_count": null,
   "metadata": {},
   "outputs": [],
   "source": [
    "card_drp.reg_merchantName.nunique()"
   ]
  },
  {
   "cell_type": "code",
   "execution_count": null,
   "metadata": {},
   "outputs": [],
   "source": [
    "card_drp.merchantName.nunique()"
   ]
  },
  {
   "cell_type": "code",
   "execution_count": null,
   "metadata": {},
   "outputs": [],
   "source": [
    "n_reduce = 0\n",
    "r_max = 0\n",
    "max_m = \"\"\n",
    "for m in card_drp.reg_merchantName.unique():\n",
    "    r = card_drp.loc[card_drp.reg_merchantName==m,\"merchantName\"].nunique()-1\n",
    "    if r>r_max:\n",
    "        r_max = r\n",
    "        max_m = m\n",
    "    n_reduce+=r"
   ]
  },
  {
   "cell_type": "code",
   "execution_count": null,
   "metadata": {},
   "outputs": [],
   "source": [
    "r_max"
   ]
  },
  {
   "cell_type": "code",
   "execution_count": null,
   "metadata": {},
   "outputs": [],
   "source": [
    "max_m"
   ]
  },
  {
   "cell_type": "code",
   "execution_count": null,
   "metadata": {},
   "outputs": [],
   "source": [
    "n_reduce"
   ]
  },
  {
   "cell_type": "code",
   "execution_count": null,
   "metadata": {},
   "outputs": [],
   "source": [
    "card_drp[card_drp.merchantName==\"AMC\"]"
   ]
  },
  {
   "cell_type": "code",
   "execution_count": null,
   "metadata": {},
   "outputs": [],
   "source": [
    "display_all(card_drp.reg_merchantName.value_counts())"
   ]
  },
  {
   "cell_type": "code",
   "execution_count": null,
   "metadata": {},
   "outputs": [],
   "source": [
    "card_drp.merchantName.nunique()"
   ]
  },
  {
   "cell_type": "code",
   "execution_count": null,
   "metadata": {},
   "outputs": [],
   "source": [
    "card_drp.columns"
   ]
  },
  {
   "cell_type": "code",
   "execution_count": null,
   "metadata": {},
   "outputs": [],
   "source": [
    "sum(card_drp[\"accountNumber\"]==card_drp[\"customerId\"])"
   ]
  },
  {
   "cell_type": "code",
   "execution_count": null,
   "metadata": {},
   "outputs": [],
   "source": [
    "card_drp.shape"
   ]
  },
  {
   "cell_type": "code",
   "execution_count": null,
   "metadata": {},
   "outputs": [],
   "source": [
    "card_merchant = card_drp.sort_values(by=[\"accountNumber\",\"transactionDateTime\"])"
   ]
  },
  {
   "cell_type": "code",
   "execution_count": null,
   "metadata": {},
   "outputs": [],
   "source": [
    "card_drp.transactionType.value_counts(normalize=True)"
   ]
  },
  {
   "cell_type": "code",
   "execution_count": null,
   "metadata": {},
   "outputs": [],
   "source": [
    "transanction_fraud_rt=fraud_rate(card_drp,\"transactionType\",\"transanction_fraud_rt\")"
   ]
  },
  {
   "cell_type": "code",
   "execution_count": null,
   "metadata": {},
   "outputs": [],
   "source": [
    "transanction_fraud_rt"
   ]
  },
  {
   "cell_type": "code",
   "execution_count": null,
   "metadata": {},
   "outputs": [],
   "source": [
    "card_drp.loc[card_drp.transactionType==\"ADDRESS_VERIFICATION\",\"posConditionCode\"].value_counts()"
   ]
  },
  {
   "cell_type": "code",
   "execution_count": null,
   "metadata": {},
   "outputs": [],
   "source": [
    "def get_(df):\n",
    "    \n",
    "    for i,m in enumerate(df[\"reg_merchantName\"]):\n",
    "        "
   ]
  },
  {
   "cell_type": "code",
   "execution_count": null,
   "metadata": {},
   "outputs": [],
   "source": []
  },
  {
   "cell_type": "markdown",
   "metadata": {},
   "source": [
    "## Question 3: Data Wrangling - Duplicate Transactions"
   ]
  },
  {
   "cell_type": "code",
   "execution_count": 126,
   "metadata": {},
   "outputs": [],
   "source": [
    "card_wr = card.sort_values(by=['accountNumber','cardLast4Digits','transactionDateTime']).reset_index(drop=True)"
   ]
  },
  {
   "cell_type": "code",
   "execution_count": 24,
   "metadata": {},
   "outputs": [
    {
     "data": {
      "text/html": [
       "<div>\n",
       "<style scoped>\n",
       "    .dataframe tbody tr th:only-of-type {\n",
       "        vertical-align: middle;\n",
       "    }\n",
       "\n",
       "    .dataframe tbody tr th {\n",
       "        vertical-align: top;\n",
       "    }\n",
       "\n",
       "    .dataframe thead th {\n",
       "        text-align: right;\n",
       "    }\n",
       "</style>\n",
       "<table border=\"1\" class=\"dataframe\">\n",
       "  <thead>\n",
       "    <tr style=\"text-align: right;\">\n",
       "      <th></th>\n",
       "      <th>accountNumber</th>\n",
       "      <th>creditLimit</th>\n",
       "      <th>availableMoney</th>\n",
       "      <th>transactionDateTime</th>\n",
       "      <th>transactionAmount</th>\n",
       "      <th>merchantName</th>\n",
       "      <th>acqCountry</th>\n",
       "      <th>merchantCountryCode</th>\n",
       "      <th>posEntryMode</th>\n",
       "      <th>posConditionCode</th>\n",
       "      <th>merchantCategoryCode</th>\n",
       "      <th>currentExpDate</th>\n",
       "      <th>accountOpenDate</th>\n",
       "      <th>dateOfLastAddressChange</th>\n",
       "      <th>cardCVV</th>\n",
       "      <th>enteredCVV</th>\n",
       "      <th>cardLast4Digits</th>\n",
       "      <th>transactionType</th>\n",
       "      <th>currentBalance</th>\n",
       "      <th>cardPresent</th>\n",
       "      <th>expirationDateKeyInMatch</th>\n",
       "      <th>isFraud</th>\n",
       "      <th>reg_merchantName</th>\n",
       "    </tr>\n",
       "  </thead>\n",
       "  <tbody>\n",
       "    <tr>\n",
       "      <th>0</th>\n",
       "      <td>100088067</td>\n",
       "      <td>50000.0</td>\n",
       "      <td>49748.441406</td>\n",
       "      <td>2016-01-17 15:41:46</td>\n",
       "      <td>378.670013</td>\n",
       "      <td>Mobile eCards</td>\n",
       "      <td>US</td>\n",
       "      <td>US</td>\n",
       "      <td>05</td>\n",
       "      <td>01</td>\n",
       "      <td>online_gifts</td>\n",
       "      <td>2031-11-30</td>\n",
       "      <td>2014-01-09</td>\n",
       "      <td>2014-01-09</td>\n",
       "      <td>402</td>\n",
       "      <td>402</td>\n",
       "      <td>2077</td>\n",
       "      <td>PURCHASE</td>\n",
       "      <td>251.559998</td>\n",
       "      <td>False</td>\n",
       "      <td>False</td>\n",
       "      <td>False</td>\n",
       "      <td>Mobile eCards</td>\n",
       "    </tr>\n",
       "    <tr>\n",
       "      <th>1</th>\n",
       "      <td>100088067</td>\n",
       "      <td>50000.0</td>\n",
       "      <td>49792.328125</td>\n",
       "      <td>2016-02-08 06:09:12</td>\n",
       "      <td>259.440002</td>\n",
       "      <td>Blue Mountain eCards</td>\n",
       "      <td>US</td>\n",
       "      <td>US</td>\n",
       "      <td>05</td>\n",
       "      <td>01</td>\n",
       "      <td>online_gifts</td>\n",
       "      <td>2028-01-31</td>\n",
       "      <td>2014-01-09</td>\n",
       "      <td>2014-01-09</td>\n",
       "      <td>402</td>\n",
       "      <td>402</td>\n",
       "      <td>2077</td>\n",
       "      <td>PURCHASE</td>\n",
       "      <td>207.669998</td>\n",
       "      <td>False</td>\n",
       "      <td>False</td>\n",
       "      <td>False</td>\n",
       "      <td>Blue Mountain eCards</td>\n",
       "    </tr>\n",
       "    <tr>\n",
       "      <th>2</th>\n",
       "      <td>100088067</td>\n",
       "      <td>50000.0</td>\n",
       "      <td>49532.890625</td>\n",
       "      <td>2016-02-09 18:36:53</td>\n",
       "      <td>32.500000</td>\n",
       "      <td>EZ Putt Putt #804489</td>\n",
       "      <td>US</td>\n",
       "      <td>US</td>\n",
       "      <td>09</td>\n",
       "      <td>01</td>\n",
       "      <td>entertainment</td>\n",
       "      <td>2026-07-31</td>\n",
       "      <td>2014-01-09</td>\n",
       "      <td>2014-01-09</td>\n",
       "      <td>402</td>\n",
       "      <td>402</td>\n",
       "      <td>2077</td>\n",
       "      <td>PURCHASE</td>\n",
       "      <td>467.109985</td>\n",
       "      <td>True</td>\n",
       "      <td>False</td>\n",
       "      <td>False</td>\n",
       "      <td>EZ Putt Putt</td>\n",
       "    </tr>\n",
       "    <tr>\n",
       "      <th>3</th>\n",
       "      <td>100088067</td>\n",
       "      <td>50000.0</td>\n",
       "      <td>49477.328125</td>\n",
       "      <td>2016-02-13 20:17:41</td>\n",
       "      <td>56.049999</td>\n",
       "      <td>Fresh Flowers</td>\n",
       "      <td>US</td>\n",
       "      <td>US</td>\n",
       "      <td>05</td>\n",
       "      <td>01</td>\n",
       "      <td>online_gifts</td>\n",
       "      <td>2033-01-31</td>\n",
       "      <td>2014-01-09</td>\n",
       "      <td>2014-01-09</td>\n",
       "      <td>402</td>\n",
       "      <td>402</td>\n",
       "      <td>2077</td>\n",
       "      <td>PURCHASE</td>\n",
       "      <td>522.669983</td>\n",
       "      <td>False</td>\n",
       "      <td>False</td>\n",
       "      <td>False</td>\n",
       "      <td>Fresh Flowers</td>\n",
       "    </tr>\n",
       "    <tr>\n",
       "      <th>4</th>\n",
       "      <td>100088067</td>\n",
       "      <td>50000.0</td>\n",
       "      <td>49923.921875</td>\n",
       "      <td>2016-03-12 12:55:28</td>\n",
       "      <td>97.790001</td>\n",
       "      <td>Dinosaur Sandwitch Bar #960325</td>\n",
       "      <td>US</td>\n",
       "      <td>US</td>\n",
       "      <td>05</td>\n",
       "      <td>01</td>\n",
       "      <td>food</td>\n",
       "      <td>2032-01-31</td>\n",
       "      <td>2014-01-09</td>\n",
       "      <td>2014-01-09</td>\n",
       "      <td>402</td>\n",
       "      <td>402</td>\n",
       "      <td>2077</td>\n",
       "      <td>PURCHASE</td>\n",
       "      <td>76.080002</td>\n",
       "      <td>True</td>\n",
       "      <td>False</td>\n",
       "      <td>False</td>\n",
       "      <td>Dinosaur Sandwitch Bar</td>\n",
       "    </tr>\n",
       "  </tbody>\n",
       "</table>\n",
       "</div>"
      ],
      "text/plain": [
       "  accountNumber  creditLimit  availableMoney transactionDateTime  transactionAmount                    merchantName acqCountry merchantCountryCode posEntryMode posConditionCode merchantCategoryCode currentExpDate accountOpenDate dateOfLastAddressChange cardCVV enteredCVV cardLast4Digits transactionType  currentBalance  cardPresent  expirationDateKeyInMatch  isFraud        reg_merchantName\n",
       "0     100088067      50000.0    49748.441406 2016-01-17 15:41:46         378.670013                   Mobile eCards         US                  US           05               01         online_gifts     2031-11-30      2014-01-09              2014-01-09     402        402            2077        PURCHASE      251.559998        False                     False    False           Mobile eCards\n",
       "1     100088067      50000.0    49792.328125 2016-02-08 06:09:12         259.440002            Blue Mountain eCards         US                  US           05               01         online_gifts     2028-01-31      2014-01-09              2014-01-09     402        402            2077        PURCHASE      207.669998        False                     False    False    Blue Mountain eCards\n",
       "2     100088067      50000.0    49532.890625 2016-02-09 18:36:53          32.500000            EZ Putt Putt #804489         US                  US           09               01        entertainment     2026-07-31      2014-01-09              2014-01-09     402        402            2077        PURCHASE      467.109985         True                     False    False            EZ Putt Putt\n",
       "3     100088067      50000.0    49477.328125 2016-02-13 20:17:41          56.049999                   Fresh Flowers         US                  US           05               01         online_gifts     2033-01-31      2014-01-09              2014-01-09     402        402            2077        PURCHASE      522.669983        False                     False    False           Fresh Flowers\n",
       "4     100088067      50000.0    49923.921875 2016-03-12 12:55:28          97.790001  Dinosaur Sandwitch Bar #960325         US                  US           05               01                 food     2032-01-31      2014-01-09              2014-01-09     402        402            2077        PURCHASE       76.080002         True                     False    False  Dinosaur Sandwitch Bar"
      ]
     },
     "execution_count": 24,
     "metadata": {},
     "output_type": "execute_result"
    }
   ],
   "source": [
    "card_wr.head()"
   ]
  },
  {
   "cell_type": "markdown",
   "metadata": {},
   "source": [
    "### 3.1 Can you programmatically identify reversed and multi-swipe transactions?"
   ]
  },
  {
   "cell_type": "markdown",
   "metadata": {},
   "source": [
    "#### <font color=red>Answers</font> - identify reversed transanctions"
   ]
  },
  {
   "cell_type": "markdown",
   "metadata": {},
   "source": [
    "<font color='red'>\"REVERSAL\" transaction observations</font>:\n",
    "  1. Each \"REVERSAL\" transaction has a paired normal \"PURCHASE\" with the same accountNumber, transactionAmount and merchantName\n",
    "  2. In this dataset, it looks like the \"REVERSAL\" can happen right after its paired PURCHASE or a few days later\n",
    "  3. The availableMoney of next transaction should be equal to \"REVERSAL\" availableMoney+ \"REVERSAL\" transactionAmount"
   ]
  },
  {
   "cell_type": "markdown",
   "metadata": {},
   "source": [
    "<font color='red'>To identify reversal transactions</font>:\n",
    "   1. Take advantage of the purchaseType field: Select data with transactionType == \"REVERSAL\"\n",
    "   2. When the purchaseType is NULL: Try to infer if it is REVERSAL by the rules from the previous transaction obervations"
   ]
  },
  {
   "cell_type": "code",
   "execution_count": null,
   "metadata": {},
   "outputs": [],
   "source": [
    "# obeservation: same day: accountNumber 100088067 transactionAmount 22.32 dif_day: 101380713 / 303.72"
   ]
  },
  {
   "cell_type": "code",
   "execution_count": 128,
   "metadata": {},
   "outputs": [
    {
     "data": {
      "text/html": [
       "<div>\n",
       "<style scoped>\n",
       "    .dataframe tbody tr th:only-of-type {\n",
       "        vertical-align: middle;\n",
       "    }\n",
       "\n",
       "    .dataframe tbody tr th {\n",
       "        vertical-align: top;\n",
       "    }\n",
       "\n",
       "    .dataframe thead th {\n",
       "        text-align: right;\n",
       "    }\n",
       "</style>\n",
       "<table border=\"1\" class=\"dataframe\">\n",
       "  <thead>\n",
       "    <tr style=\"text-align: right;\">\n",
       "      <th></th>\n",
       "      <th>accountNumber</th>\n",
       "      <th>creditLimit</th>\n",
       "      <th>availableMoney</th>\n",
       "      <th>transactionDateTime</th>\n",
       "      <th>transactionAmount</th>\n",
       "      <th>merchantName</th>\n",
       "      <th>acqCountry</th>\n",
       "      <th>merchantCountryCode</th>\n",
       "      <th>posEntryMode</th>\n",
       "      <th>posConditionCode</th>\n",
       "      <th>merchantCategoryCode</th>\n",
       "      <th>currentExpDate</th>\n",
       "      <th>accountOpenDate</th>\n",
       "      <th>dateOfLastAddressChange</th>\n",
       "      <th>cardCVV</th>\n",
       "      <th>enteredCVV</th>\n",
       "      <th>cardLast4Digits</th>\n",
       "      <th>transactionType</th>\n",
       "      <th>currentBalance</th>\n",
       "      <th>cardPresent</th>\n",
       "      <th>expirationDateKeyInMatch</th>\n",
       "      <th>isFraud</th>\n",
       "      <th>reg_merchantName</th>\n",
       "    </tr>\n",
       "  </thead>\n",
       "  <tbody>\n",
       "    <tr>\n",
       "      <th>65</th>\n",
       "      <td>100088067</td>\n",
       "      <td>50000.0</td>\n",
       "      <td>49834.199219</td>\n",
       "      <td>2016-11-20 07:57:05</td>\n",
       "      <td>22.32</td>\n",
       "      <td>AMC #79863</td>\n",
       "      <td>US</td>\n",
       "      <td>US</td>\n",
       "      <td>09</td>\n",
       "      <td>01</td>\n",
       "      <td>entertainment</td>\n",
       "      <td>2020-06-30</td>\n",
       "      <td>2014-01-09</td>\n",
       "      <td>2014-01-09</td>\n",
       "      <td>546</td>\n",
       "      <td>546</td>\n",
       "      <td>4615</td>\n",
       "      <td>PURCHASE</td>\n",
       "      <td>165.800003</td>\n",
       "      <td>True</td>\n",
       "      <td>False</td>\n",
       "      <td>False</td>\n",
       "      <td>AMC</td>\n",
       "    </tr>\n",
       "    <tr>\n",
       "      <th>66</th>\n",
       "      <td>100088067</td>\n",
       "      <td>50000.0</td>\n",
       "      <td>49811.878906</td>\n",
       "      <td>2016-11-20 08:00:04</td>\n",
       "      <td>22.32</td>\n",
       "      <td>AMC #79863</td>\n",
       "      <td>US</td>\n",
       "      <td>US</td>\n",
       "      <td>09</td>\n",
       "      <td>01</td>\n",
       "      <td>entertainment</td>\n",
       "      <td>2020-06-30</td>\n",
       "      <td>2014-01-09</td>\n",
       "      <td>2014-01-09</td>\n",
       "      <td>546</td>\n",
       "      <td>546</td>\n",
       "      <td>4615</td>\n",
       "      <td>REVERSAL</td>\n",
       "      <td>188.119995</td>\n",
       "      <td>True</td>\n",
       "      <td>False</td>\n",
       "      <td>False</td>\n",
       "      <td>AMC</td>\n",
       "    </tr>\n",
       "  </tbody>\n",
       "</table>\n",
       "</div>"
      ],
      "text/plain": [
       "   accountNumber  creditLimit  availableMoney transactionDateTime  transactionAmount merchantName acqCountry merchantCountryCode posEntryMode posConditionCode merchantCategoryCode currentExpDate accountOpenDate dateOfLastAddressChange cardCVV enteredCVV cardLast4Digits transactionType  currentBalance  cardPresent  expirationDateKeyInMatch  isFraud reg_merchantName\n",
       "65     100088067      50000.0    49834.199219 2016-11-20 07:57:05              22.32   AMC #79863         US                  US           09               01        entertainment     2020-06-30      2014-01-09              2014-01-09     546        546            4615        PURCHASE      165.800003         True                     False    False              AMC\n",
       "66     100088067      50000.0    49811.878906 2016-11-20 08:00:04              22.32   AMC #79863         US                  US           09               01        entertainment     2020-06-30      2014-01-09              2014-01-09     546        546            4615        REVERSAL      188.119995         True                     False    False              AMC"
      ]
     },
     "execution_count": 128,
     "metadata": {},
     "output_type": "execute_result"
    }
   ],
   "source": [
    "# REVERSAL and PURCHASE happened on same day\n",
    "card_wr.query(\"accountNumber=='100088067' and merchantName=='AMC #79863' and currentExpDate=='2020-06-30'\")"
   ]
  },
  {
   "cell_type": "code",
   "execution_count": 48,
   "metadata": {},
   "outputs": [
    {
     "data": {
      "text/html": [
       "<div>\n",
       "<style scoped>\n",
       "    .dataframe tbody tr th:only-of-type {\n",
       "        vertical-align: middle;\n",
       "    }\n",
       "\n",
       "    .dataframe tbody tr th {\n",
       "        vertical-align: top;\n",
       "    }\n",
       "\n",
       "    .dataframe thead th {\n",
       "        text-align: right;\n",
       "    }\n",
       "</style>\n",
       "<table border=\"1\" class=\"dataframe\">\n",
       "  <thead>\n",
       "    <tr style=\"text-align: right;\">\n",
       "      <th></th>\n",
       "      <th>accountNumber</th>\n",
       "      <th>creditLimit</th>\n",
       "      <th>availableMoney</th>\n",
       "      <th>transactionDateTime</th>\n",
       "      <th>transactionAmount</th>\n",
       "      <th>merchantName</th>\n",
       "      <th>acqCountry</th>\n",
       "      <th>merchantCountryCode</th>\n",
       "      <th>posEntryMode</th>\n",
       "      <th>posConditionCode</th>\n",
       "      <th>merchantCategoryCode</th>\n",
       "      <th>currentExpDate</th>\n",
       "      <th>accountOpenDate</th>\n",
       "      <th>dateOfLastAddressChange</th>\n",
       "      <th>cardCVV</th>\n",
       "      <th>enteredCVV</th>\n",
       "      <th>cardLast4Digits</th>\n",
       "      <th>transactionType</th>\n",
       "      <th>currentBalance</th>\n",
       "      <th>cardPresent</th>\n",
       "      <th>expirationDateKeyInMatch</th>\n",
       "      <th>isFraud</th>\n",
       "      <th>reg_merchantName</th>\n",
       "    </tr>\n",
       "  </thead>\n",
       "  <tbody>\n",
       "    <tr>\n",
       "      <th>666</th>\n",
       "      <td>101380713</td>\n",
       "      <td>10000.0</td>\n",
       "      <td>5279.100098</td>\n",
       "      <td>2016-09-23 18:39:37</td>\n",
       "      <td>303.720001</td>\n",
       "      <td>staples.com</td>\n",
       "      <td>US</td>\n",
       "      <td>US</td>\n",
       "      <td>02</td>\n",
       "      <td>08</td>\n",
       "      <td>online_retail</td>\n",
       "      <td>2031-12-31</td>\n",
       "      <td>2015-06-01</td>\n",
       "      <td>2016-08-28</td>\n",
       "      <td>551</td>\n",
       "      <td>551</td>\n",
       "      <td>7553</td>\n",
       "      <td>PURCHASE</td>\n",
       "      <td>4720.899902</td>\n",
       "      <td>False</td>\n",
       "      <td>False</td>\n",
       "      <td>False</td>\n",
       "      <td>staples.com</td>\n",
       "    </tr>\n",
       "    <tr>\n",
       "      <th>671</th>\n",
       "      <td>101380713</td>\n",
       "      <td>10000.0</td>\n",
       "      <td>4433.970215</td>\n",
       "      <td>2016-10-18 06:54:33</td>\n",
       "      <td>303.720001</td>\n",
       "      <td>staples.com</td>\n",
       "      <td>US</td>\n",
       "      <td>US</td>\n",
       "      <td>02</td>\n",
       "      <td>08</td>\n",
       "      <td>online_retail</td>\n",
       "      <td>2031-12-31</td>\n",
       "      <td>2015-06-01</td>\n",
       "      <td>2016-08-28</td>\n",
       "      <td>551</td>\n",
       "      <td>551</td>\n",
       "      <td>7553</td>\n",
       "      <td>REVERSAL</td>\n",
       "      <td>5566.029785</td>\n",
       "      <td>False</td>\n",
       "      <td>False</td>\n",
       "      <td>False</td>\n",
       "      <td>staples.com</td>\n",
       "    </tr>\n",
       "  </tbody>\n",
       "</table>\n",
       "</div>"
      ],
      "text/plain": [
       "    accountNumber  creditLimit  availableMoney transactionDateTime  transactionAmount merchantName acqCountry merchantCountryCode posEntryMode posConditionCode merchantCategoryCode currentExpDate accountOpenDate dateOfLastAddressChange cardCVV enteredCVV cardLast4Digits transactionType  currentBalance  cardPresent  expirationDateKeyInMatch  isFraud reg_merchantName\n",
       "666     101380713      10000.0     5279.100098 2016-09-23 18:39:37         303.720001  staples.com         US                  US           02               08        online_retail     2031-12-31      2015-06-01              2016-08-28     551        551            7553        PURCHASE     4720.899902        False                     False    False      staples.com\n",
       "671     101380713      10000.0     4433.970215 2016-10-18 06:54:33         303.720001  staples.com         US                  US           02               08        online_retail     2031-12-31      2015-06-01              2016-08-28     551        551            7553        REVERSAL     5566.029785        False                     False    False      staples.com"
      ]
     },
     "execution_count": 48,
     "metadata": {},
     "output_type": "execute_result"
    }
   ],
   "source": [
    "# REVERSAL and PURCHASE happened on different days\n",
    "card_wr.query(\"accountNumber=='101380713' and merchantName=='staples.com' and currentExpDate=='2031-12-31'\")# and merchantName=='AMC #79863' and posEntryMode=='09'\")"
   ]
  },
  {
   "cell_type": "code",
   "execution_count": null,
   "metadata": {},
   "outputs": [],
   "source": []
  },
  {
   "cell_type": "code",
   "execution_count": 129,
   "metadata": {},
   "outputs": [],
   "source": [
    "# define related columns\n",
    "rev_cols = [\"accountNumber\",\"transactionAmount\",\"reg_merchantName\"]\n",
    "t_type = [\"transactionType\"]"
   ]
  },
  {
   "cell_type": "code",
   "execution_count": 130,
   "metadata": {},
   "outputs": [],
   "source": [
    "# get transanctions with transactionType is equal to REVERSAL\n",
    "card_reversal = card_wr.query(\"transactionType=='REVERSAL'\")"
   ]
  },
  {
   "cell_type": "code",
   "execution_count": 51,
   "metadata": {},
   "outputs": [
    {
     "data": {
      "text/html": [
       "<div>\n",
       "<style scoped>\n",
       "    .dataframe tbody tr th:only-of-type {\n",
       "        vertical-align: middle;\n",
       "    }\n",
       "\n",
       "    .dataframe tbody tr th {\n",
       "        vertical-align: top;\n",
       "    }\n",
       "\n",
       "    .dataframe thead th {\n",
       "        text-align: right;\n",
       "    }\n",
       "</style>\n",
       "<table border=\"1\" class=\"dataframe\">\n",
       "  <thead>\n",
       "    <tr style=\"text-align: right;\">\n",
       "      <th></th>\n",
       "      <th>accountNumber</th>\n",
       "      <th>creditLimit</th>\n",
       "      <th>availableMoney</th>\n",
       "      <th>transactionDateTime</th>\n",
       "      <th>transactionAmount</th>\n",
       "      <th>merchantName</th>\n",
       "      <th>acqCountry</th>\n",
       "      <th>merchantCountryCode</th>\n",
       "      <th>posEntryMode</th>\n",
       "      <th>posConditionCode</th>\n",
       "      <th>merchantCategoryCode</th>\n",
       "      <th>currentExpDate</th>\n",
       "      <th>accountOpenDate</th>\n",
       "      <th>dateOfLastAddressChange</th>\n",
       "      <th>cardCVV</th>\n",
       "      <th>enteredCVV</th>\n",
       "      <th>cardLast4Digits</th>\n",
       "      <th>transactionType</th>\n",
       "      <th>currentBalance</th>\n",
       "      <th>cardPresent</th>\n",
       "      <th>expirationDateKeyInMatch</th>\n",
       "      <th>isFraud</th>\n",
       "      <th>reg_merchantName</th>\n",
       "    </tr>\n",
       "  </thead>\n",
       "  <tbody>\n",
       "    <tr>\n",
       "      <th>66</th>\n",
       "      <td>100088067</td>\n",
       "      <td>50000.0</td>\n",
       "      <td>49811.878906</td>\n",
       "      <td>2016-11-20 08:00:04</td>\n",
       "      <td>22.320000</td>\n",
       "      <td>AMC #79863</td>\n",
       "      <td>US</td>\n",
       "      <td>US</td>\n",
       "      <td>09</td>\n",
       "      <td>01</td>\n",
       "      <td>entertainment</td>\n",
       "      <td>2020-06-30</td>\n",
       "      <td>2014-01-09</td>\n",
       "      <td>2014-01-09</td>\n",
       "      <td>546</td>\n",
       "      <td>546</td>\n",
       "      <td>4615</td>\n",
       "      <td>REVERSAL</td>\n",
       "      <td>188.119995</td>\n",
       "      <td>True</td>\n",
       "      <td>False</td>\n",
       "      <td>False</td>\n",
       "      <td>AMC</td>\n",
       "    </tr>\n",
       "    <tr>\n",
       "      <th>95</th>\n",
       "      <td>100328049</td>\n",
       "      <td>5000.0</td>\n",
       "      <td>4605.100098</td>\n",
       "      <td>2016-01-15 20:36:18</td>\n",
       "      <td>43.740002</td>\n",
       "      <td>Lyft</td>\n",
       "      <td>US</td>\n",
       "      <td>US</td>\n",
       "      <td>09</td>\n",
       "      <td>08</td>\n",
       "      <td>rideshare</td>\n",
       "      <td>2027-05-31</td>\n",
       "      <td>2014-01-07</td>\n",
       "      <td>2014-01-07</td>\n",
       "      <td>206</td>\n",
       "      <td>206</td>\n",
       "      <td>2941</td>\n",
       "      <td>REVERSAL</td>\n",
       "      <td>394.899994</td>\n",
       "      <td>False</td>\n",
       "      <td>False</td>\n",
       "      <td>False</td>\n",
       "      <td>Lyft</td>\n",
       "    </tr>\n",
       "    <tr>\n",
       "      <th>103</th>\n",
       "      <td>100328049</td>\n",
       "      <td>5000.0</td>\n",
       "      <td>3792.090088</td>\n",
       "      <td>2016-03-26 17:35:09</td>\n",
       "      <td>284.970001</td>\n",
       "      <td>McDonalds #423357</td>\n",
       "      <td>US</td>\n",
       "      <td>US</td>\n",
       "      <td>02</td>\n",
       "      <td>08</td>\n",
       "      <td>fastfood</td>\n",
       "      <td>2027-10-31</td>\n",
       "      <td>2014-01-07</td>\n",
       "      <td>2014-01-07</td>\n",
       "      <td>206</td>\n",
       "      <td>206</td>\n",
       "      <td>2941</td>\n",
       "      <td>REVERSAL</td>\n",
       "      <td>1207.910034</td>\n",
       "      <td>True</td>\n",
       "      <td>False</td>\n",
       "      <td>False</td>\n",
       "      <td>McDonalds</td>\n",
       "    </tr>\n",
       "    <tr>\n",
       "      <th>305</th>\n",
       "      <td>100737756</td>\n",
       "      <td>250.0</td>\n",
       "      <td>119.510002</td>\n",
       "      <td>2016-06-06 22:56:52</td>\n",
       "      <td>93.669998</td>\n",
       "      <td>34th BBQ #436606</td>\n",
       "      <td>US</td>\n",
       "      <td>US</td>\n",
       "      <td>05</td>\n",
       "      <td>01</td>\n",
       "      <td>food</td>\n",
       "      <td>2026-05-31</td>\n",
       "      <td>2015-06-21</td>\n",
       "      <td>2015-06-21</td>\n",
       "      <td>463</td>\n",
       "      <td>463</td>\n",
       "      <td>4317</td>\n",
       "      <td>REVERSAL</td>\n",
       "      <td>130.490005</td>\n",
       "      <td>True</td>\n",
       "      <td>False</td>\n",
       "      <td>False</td>\n",
       "      <td>34th BBQ</td>\n",
       "    </tr>\n",
       "    <tr>\n",
       "      <th>347</th>\n",
       "      <td>100737756</td>\n",
       "      <td>250.0</td>\n",
       "      <td>144.520004</td>\n",
       "      <td>2016-08-24 20:21:19</td>\n",
       "      <td>501.290009</td>\n",
       "      <td>Best Bistro #262998</td>\n",
       "      <td>US</td>\n",
       "      <td>US</td>\n",
       "      <td>05</td>\n",
       "      <td>01</td>\n",
       "      <td>food</td>\n",
       "      <td>2021-07-31</td>\n",
       "      <td>2015-06-21</td>\n",
       "      <td>2015-06-21</td>\n",
       "      <td>463</td>\n",
       "      <td>463</td>\n",
       "      <td>4317</td>\n",
       "      <td>REVERSAL</td>\n",
       "      <td>105.480003</td>\n",
       "      <td>True</td>\n",
       "      <td>False</td>\n",
       "      <td>False</td>\n",
       "      <td>Best Bistro</td>\n",
       "    </tr>\n",
       "  </tbody>\n",
       "</table>\n",
       "</div>"
      ],
      "text/plain": [
       "    accountNumber  creditLimit  availableMoney transactionDateTime  transactionAmount         merchantName acqCountry merchantCountryCode posEntryMode posConditionCode merchantCategoryCode currentExpDate accountOpenDate dateOfLastAddressChange cardCVV enteredCVV cardLast4Digits transactionType  currentBalance  cardPresent  expirationDateKeyInMatch  isFraud reg_merchantName\n",
       "66      100088067      50000.0    49811.878906 2016-11-20 08:00:04          22.320000           AMC #79863         US                  US           09               01        entertainment     2020-06-30      2014-01-09              2014-01-09     546        546            4615        REVERSAL      188.119995         True                     False    False              AMC\n",
       "95      100328049       5000.0     4605.100098 2016-01-15 20:36:18          43.740002                 Lyft         US                  US           09               08            rideshare     2027-05-31      2014-01-07              2014-01-07     206        206            2941        REVERSAL      394.899994        False                     False    False             Lyft\n",
       "103     100328049       5000.0     3792.090088 2016-03-26 17:35:09         284.970001    McDonalds #423357         US                  US           02               08             fastfood     2027-10-31      2014-01-07              2014-01-07     206        206            2941        REVERSAL     1207.910034         True                     False    False        McDonalds\n",
       "305     100737756        250.0      119.510002 2016-06-06 22:56:52          93.669998     34th BBQ #436606         US                  US           05               01                 food     2026-05-31      2015-06-21              2015-06-21     463        463            4317        REVERSAL      130.490005         True                     False    False         34th BBQ\n",
       "347     100737756        250.0      144.520004 2016-08-24 20:21:19         501.290009  Best Bistro #262998         US                  US           05               01                 food     2021-07-31      2015-06-21              2015-06-21     463        463            4317        REVERSAL      105.480003         True                     False    False      Best Bistro"
      ]
     },
     "execution_count": 51,
     "metadata": {},
     "output_type": "execute_result"
    }
   ],
   "source": [
    "card_reversal.head()"
   ]
  },
  {
   "cell_type": "code",
   "execution_count": null,
   "metadata": {},
   "outputs": [],
   "source": []
  },
  {
   "cell_type": "markdown",
   "metadata": {},
   "source": [
    "try to see if there are any transactions with type is __Null__ but can be __inferred with \"REVERSAL\" or \"PURCHASE\" type__  based on observations"
   ]
  },
  {
   "cell_type": "code",
   "execution_count": 52,
   "metadata": {},
   "outputs": [],
   "source": [
    "# get all the accountNumber with at least one null transactionType\n",
    "type_with_null = card_wr.groupby(\"accountNumber\").apply(lambda x:pd.Series({\"null_count\":x.transactionType.isnull().sum()}))\n",
    "type_with_null = type_with_null[type_with_null[\"null_count\"]>0]"
   ]
  },
  {
   "cell_type": "code",
   "execution_count": 54,
   "metadata": {},
   "outputs": [],
   "source": [
    "# get all the transactions of those accountNumber\n",
    "card_trans_null = card_wr.loc[card_wr.accountNumber.isin(type_with_null.index.tolist()),rev_cols+t_type]"
   ]
  },
  {
   "cell_type": "code",
   "execution_count": 55,
   "metadata": {},
   "outputs": [
    {
     "data": {
      "text/html": [
       "<div>\n",
       "<style scoped>\n",
       "    .dataframe tbody tr th:only-of-type {\n",
       "        vertical-align: middle;\n",
       "    }\n",
       "\n",
       "    .dataframe tbody tr th {\n",
       "        vertical-align: top;\n",
       "    }\n",
       "\n",
       "    .dataframe thead th {\n",
       "        text-align: right;\n",
       "    }\n",
       "</style>\n",
       "<table border=\"1\" class=\"dataframe\">\n",
       "  <thead>\n",
       "    <tr style=\"text-align: right;\">\n",
       "      <th></th>\n",
       "      <th>accountNumber</th>\n",
       "      <th>transactionAmount</th>\n",
       "      <th>reg_merchantName</th>\n",
       "      <th>transactionType</th>\n",
       "    </tr>\n",
       "  </thead>\n",
       "  <tbody>\n",
       "    <tr>\n",
       "      <th>1530</th>\n",
       "      <td>102204865</td>\n",
       "      <td>348.119995</td>\n",
       "      <td>Subway</td>\n",
       "      <td>PURCHASE</td>\n",
       "    </tr>\n",
       "    <tr>\n",
       "      <th>1531</th>\n",
       "      <td>102204865</td>\n",
       "      <td>38.639999</td>\n",
       "      <td>Rodeway Inn</td>\n",
       "      <td>PURCHASE</td>\n",
       "    </tr>\n",
       "    <tr>\n",
       "      <th>1532</th>\n",
       "      <td>102204865</td>\n",
       "      <td>165.639999</td>\n",
       "      <td>1st Sandwitch Bar</td>\n",
       "      <td>PURCHASE</td>\n",
       "    </tr>\n",
       "    <tr>\n",
       "      <th>1533</th>\n",
       "      <td>102204865</td>\n",
       "      <td>238.410004</td>\n",
       "      <td>Hilton Hotels</td>\n",
       "      <td>PURCHASE</td>\n",
       "    </tr>\n",
       "    <tr>\n",
       "      <th>1534</th>\n",
       "      <td>102204865</td>\n",
       "      <td>39.340000</td>\n",
       "      <td>Ricks Repair</td>\n",
       "      <td>PURCHASE</td>\n",
       "    </tr>\n",
       "  </tbody>\n",
       "</table>\n",
       "</div>"
      ],
      "text/plain": [
       "     accountNumber  transactionAmount   reg_merchantName transactionType\n",
       "1530     102204865         348.119995             Subway        PURCHASE\n",
       "1531     102204865          38.639999        Rodeway Inn        PURCHASE\n",
       "1532     102204865         165.639999  1st Sandwitch Bar        PURCHASE\n",
       "1533     102204865         238.410004      Hilton Hotels        PURCHASE\n",
       "1534     102204865          39.340000       Ricks Repair        PURCHASE"
      ]
     },
     "execution_count": 55,
     "metadata": {},
     "output_type": "execute_result"
    }
   ],
   "source": [
    "card_trans_null.head()"
   ]
  },
  {
   "cell_type": "code",
   "execution_count": 56,
   "metadata": {},
   "outputs": [],
   "source": [
    "# create a new column that flag the null transactionType\n",
    "card_trans_null['is_typeNull']=card_trans_null.transactionType.isnull()\n",
    "\n",
    "# based on rules from observations, create columns \n",
    "card_trans_null['trans_cnt']=card_trans_null.groupby(rev_cols)\\\n",
    "                        ['transactionType'].transform('size')\n",
    "card_trans_null['is_null_sum']=card_trans_null.groupby(rev_cols)\\\n",
    "                    ['is_typeNull'].transform(sum)\n",
    "\n",
    "# query those null transaction type that is inferred to be REVERSAL\n",
    "trans_null_reversal = card_trans_null.query('trans_cnt>1 & is_null_sum>0')"
   ]
  },
  {
   "cell_type": "code",
   "execution_count": 58,
   "metadata": {},
   "outputs": [
    {
     "data": {
      "text/html": [
       "<div>\n",
       "<style scoped>\n",
       "    .dataframe tbody tr th:only-of-type {\n",
       "        vertical-align: middle;\n",
       "    }\n",
       "\n",
       "    .dataframe tbody tr th {\n",
       "        vertical-align: top;\n",
       "    }\n",
       "\n",
       "    .dataframe thead th {\n",
       "        text-align: right;\n",
       "    }\n",
       "</style>\n",
       "<table border=\"1\" class=\"dataframe\">\n",
       "  <thead>\n",
       "    <tr style=\"text-align: right;\">\n",
       "      <th></th>\n",
       "      <th>accountNumber</th>\n",
       "      <th>transactionAmount</th>\n",
       "      <th>reg_merchantName</th>\n",
       "      <th>transactionType</th>\n",
       "      <th>is_typeNull</th>\n",
       "      <th>trans_cnt</th>\n",
       "      <th>is_null_sum</th>\n",
       "    </tr>\n",
       "  </thead>\n",
       "  <tbody>\n",
       "    <tr>\n",
       "      <th>24896</th>\n",
       "      <td>132629755</td>\n",
       "      <td>55.599998</td>\n",
       "      <td>cheapfast.com</td>\n",
       "      <td>None</td>\n",
       "      <td>True</td>\n",
       "      <td>2</td>\n",
       "      <td>1.0</td>\n",
       "    </tr>\n",
       "    <tr>\n",
       "      <th>25093</th>\n",
       "      <td>132629755</td>\n",
       "      <td>55.599998</td>\n",
       "      <td>cheapfast.com</td>\n",
       "      <td>REVERSAL</td>\n",
       "      <td>False</td>\n",
       "      <td>2</td>\n",
       "      <td>1.0</td>\n",
       "    </tr>\n",
       "    <tr>\n",
       "      <th>66229</th>\n",
       "      <td>191623743</td>\n",
       "      <td>114.330002</td>\n",
       "      <td>sears.com</td>\n",
       "      <td>None</td>\n",
       "      <td>True</td>\n",
       "      <td>2</td>\n",
       "      <td>2.0</td>\n",
       "    </tr>\n",
       "    <tr>\n",
       "      <th>66230</th>\n",
       "      <td>191623743</td>\n",
       "      <td>114.330002</td>\n",
       "      <td>sears.com</td>\n",
       "      <td>None</td>\n",
       "      <td>True</td>\n",
       "      <td>2</td>\n",
       "      <td>2.0</td>\n",
       "    </tr>\n",
       "    <tr>\n",
       "      <th>66704</th>\n",
       "      <td>191896180</td>\n",
       "      <td>140.059998</td>\n",
       "      <td>cheapfast.com</td>\n",
       "      <td>None</td>\n",
       "      <td>True</td>\n",
       "      <td>2</td>\n",
       "      <td>2.0</td>\n",
       "    </tr>\n",
       "    <tr>\n",
       "      <th>...</th>\n",
       "      <td>...</td>\n",
       "      <td>...</td>\n",
       "      <td>...</td>\n",
       "      <td>...</td>\n",
       "      <td>...</td>\n",
       "      <td>...</td>\n",
       "      <td>...</td>\n",
       "    </tr>\n",
       "    <tr>\n",
       "      <th>743532</th>\n",
       "      <td>941631553</td>\n",
       "      <td>87.849998</td>\n",
       "      <td>Merchants Tire</td>\n",
       "      <td>REVERSAL</td>\n",
       "      <td>False</td>\n",
       "      <td>2</td>\n",
       "      <td>1.0</td>\n",
       "    </tr>\n",
       "    <tr>\n",
       "      <th>749074</th>\n",
       "      <td>948561932</td>\n",
       "      <td>81.379997</td>\n",
       "      <td>gap.com</td>\n",
       "      <td>None</td>\n",
       "      <td>True</td>\n",
       "      <td>2</td>\n",
       "      <td>1.0</td>\n",
       "    </tr>\n",
       "    <tr>\n",
       "      <th>749103</th>\n",
       "      <td>948561932</td>\n",
       "      <td>81.379997</td>\n",
       "      <td>gap.com</td>\n",
       "      <td>REVERSAL</td>\n",
       "      <td>False</td>\n",
       "      <td>2</td>\n",
       "      <td>1.0</td>\n",
       "    </tr>\n",
       "    <tr>\n",
       "      <th>753870</th>\n",
       "      <td>952929763</td>\n",
       "      <td>70.220001</td>\n",
       "      <td>alibaba.com</td>\n",
       "      <td>None</td>\n",
       "      <td>True</td>\n",
       "      <td>2</td>\n",
       "      <td>1.0</td>\n",
       "    </tr>\n",
       "    <tr>\n",
       "      <th>753871</th>\n",
       "      <td>952929763</td>\n",
       "      <td>70.220001</td>\n",
       "      <td>alibaba.com</td>\n",
       "      <td>REVERSAL</td>\n",
       "      <td>False</td>\n",
       "      <td>2</td>\n",
       "      <td>1.0</td>\n",
       "    </tr>\n",
       "  </tbody>\n",
       "</table>\n",
       "<p>66 rows × 7 columns</p>\n",
       "</div>"
      ],
      "text/plain": [
       "       accountNumber  transactionAmount reg_merchantName transactionType  is_typeNull  trans_cnt  is_null_sum\n",
       "24896      132629755          55.599998    cheapfast.com            None         True          2          1.0\n",
       "25093      132629755          55.599998    cheapfast.com        REVERSAL        False          2          1.0\n",
       "66229      191623743         114.330002        sears.com            None         True          2          2.0\n",
       "66230      191623743         114.330002        sears.com            None         True          2          2.0\n",
       "66704      191896180         140.059998    cheapfast.com            None         True          2          2.0\n",
       "...              ...                ...              ...             ...          ...        ...          ...\n",
       "743532     941631553          87.849998   Merchants Tire        REVERSAL        False          2          1.0\n",
       "749074     948561932          81.379997          gap.com            None         True          2          1.0\n",
       "749103     948561932          81.379997          gap.com        REVERSAL        False          2          1.0\n",
       "753870     952929763          70.220001      alibaba.com            None         True          2          1.0\n",
       "753871     952929763          70.220001      alibaba.com        REVERSAL        False          2          1.0\n",
       "\n",
       "[66 rows x 7 columns]"
      ]
     },
     "execution_count": 58,
     "metadata": {},
     "output_type": "execute_result"
    }
   ],
   "source": [
    "trans_null_reversal.sort_values([\"accountNumber\",\"transactionAmount\"])"
   ]
  },
  {
   "cell_type": "code",
   "execution_count": null,
   "metadata": {},
   "outputs": [],
   "source": []
  },
  {
   "cell_type": "markdown",
   "metadata": {},
   "source": [
    "For those paired transactions with one PUCHASE one NULL or two NULLs, I need to check if they are \"PURCHASE\" and \"REVERSAL\" or \"PURCHASE\" and \"PURCHASE\" (multi-swie)"
   ]
  },
  {
   "cell_type": "code",
   "execution_count": 59,
   "metadata": {},
   "outputs": [],
   "source": [
    "# null_fill will record index and the filled value\n",
    "# null_rev_cnt is for count how many null value can be filled with REVERSAL\n",
    "null_fill = {}\n",
    "null_rev_cnt = 0\n",
    "not_rev = []\n",
    "for i,j in trans_null_reversal.groupby(rev_cols):\n",
    "    lst = j.transactionType.values.tolist()\n",
    "    #print(lst)\n",
    "    d = j.is_typeNull.to_dict()\n",
    "    \n",
    "    if not \"PURCHASE\" in lst:\n",
    "        for k,v in d.items():\n",
    "            if v:\n",
    "                null_fill[k]=\"PURCHASE\"\n",
    "                d.pop(k,None)\n",
    "                break\n",
    "    if not \"REVERSAL\" in lst:\n",
    "        for k,v in d.items():\n",
    "            if v:\n",
    "                avl_dif = card_wr.loc[k+1,\"availableMoney\"]-card_wr.loc[k,\"availableMoney\"]\n",
    "                if abs(card_wr.loc[k,'transactionAmount']-avl_dif)<0.1:\n",
    "                #if avl_dif>=0:\n",
    "                    null_fill[k]=\"REVERSAL\"\n",
    "                    null_rev_cnt+=1\n",
    "                break"
   ]
  },
  {
   "cell_type": "code",
   "execution_count": 60,
   "metadata": {},
   "outputs": [
    {
     "name": "stdout",
     "output_type": "stream",
     "text": [
      "how many null transanctionType might be filled REVERSAL?  0\n"
     ]
    }
   ],
   "source": [
    "print(\"how many null transanctionType might be filled REVERSAL? \",null_rev_cnt)"
   ]
  },
  {
   "cell_type": "code",
   "execution_count": null,
   "metadata": {},
   "outputs": [],
   "source": []
  },
  {
   "cell_type": "markdown",
   "metadata": {},
   "source": [
    "#### <font color=red>Answers</font> - identify multi-swipe transanctions"
   ]
  },
  {
   "cell_type": "markdown",
   "metadata": {},
   "source": [
    "<font color='red'>multi-swipe transaction observations</font>:\n",
    "<br>\n",
    "&emsp;The \"multi-swipe\" transactions should \n",
    "<br>\n",
    "   &emsp;&emsp;1. have transactionType be PURCHASE or NULL\n",
    "    <br>\n",
    "   &emsp;&emsp;2. have same \"transactionAmount, accountNumber, merchantName\"\n",
    "    <br>\n",
    "   &emsp;&emsp;3. have same \"cardLast4Digits\",\"cardCVV\", since the same accountNumber might link to more than 1 credit cards\n",
    "    <br>\n",
    "   &emsp;&emsp;4. happen within a short time span (i will define 60 seconds here), otherwise those Recurring Transactions & Subscriptions will be counted as well.\n",
    "<br>\n"
   ]
  },
  {
   "cell_type": "markdown",
   "metadata": {},
   "source": [
    "fill NULL of transactionType based on observations above"
   ]
  },
  {
   "cell_type": "code",
   "execution_count": 62,
   "metadata": {},
   "outputs": [
    {
     "data": {
      "text/html": [
       "<div>\n",
       "<style scoped>\n",
       "    .dataframe tbody tr th:only-of-type {\n",
       "        vertical-align: middle;\n",
       "    }\n",
       "\n",
       "    .dataframe tbody tr th {\n",
       "        vertical-align: top;\n",
       "    }\n",
       "\n",
       "    .dataframe thead th {\n",
       "        text-align: right;\n",
       "    }\n",
       "</style>\n",
       "<table border=\"1\" class=\"dataframe\">\n",
       "  <thead>\n",
       "    <tr style=\"text-align: right;\">\n",
       "      <th></th>\n",
       "      <th>accountNumber</th>\n",
       "      <th>creditLimit</th>\n",
       "      <th>availableMoney</th>\n",
       "      <th>transactionDateTime</th>\n",
       "      <th>transactionAmount</th>\n",
       "      <th>merchantName</th>\n",
       "      <th>acqCountry</th>\n",
       "      <th>merchantCountryCode</th>\n",
       "      <th>posEntryMode</th>\n",
       "      <th>posConditionCode</th>\n",
       "      <th>merchantCategoryCode</th>\n",
       "      <th>currentExpDate</th>\n",
       "      <th>accountOpenDate</th>\n",
       "      <th>dateOfLastAddressChange</th>\n",
       "      <th>cardCVV</th>\n",
       "      <th>enteredCVV</th>\n",
       "      <th>cardLast4Digits</th>\n",
       "      <th>transactionType</th>\n",
       "      <th>currentBalance</th>\n",
       "      <th>cardPresent</th>\n",
       "      <th>expirationDateKeyInMatch</th>\n",
       "      <th>isFraud</th>\n",
       "      <th>reg_merchantName</th>\n",
       "    </tr>\n",
       "  </thead>\n",
       "  <tbody>\n",
       "    <tr>\n",
       "      <th>0</th>\n",
       "      <td>100088067</td>\n",
       "      <td>50000.0</td>\n",
       "      <td>49748.441406</td>\n",
       "      <td>2016-01-17 15:41:46</td>\n",
       "      <td>378.670013</td>\n",
       "      <td>Mobile eCards</td>\n",
       "      <td>US</td>\n",
       "      <td>US</td>\n",
       "      <td>05</td>\n",
       "      <td>01</td>\n",
       "      <td>online_gifts</td>\n",
       "      <td>2031-11-30</td>\n",
       "      <td>2014-01-09</td>\n",
       "      <td>2014-01-09</td>\n",
       "      <td>402</td>\n",
       "      <td>402</td>\n",
       "      <td>2077</td>\n",
       "      <td>PURCHASE</td>\n",
       "      <td>251.559998</td>\n",
       "      <td>False</td>\n",
       "      <td>False</td>\n",
       "      <td>False</td>\n",
       "      <td>Mobile eCards</td>\n",
       "    </tr>\n",
       "    <tr>\n",
       "      <th>1</th>\n",
       "      <td>100088067</td>\n",
       "      <td>50000.0</td>\n",
       "      <td>49792.328125</td>\n",
       "      <td>2016-02-08 06:09:12</td>\n",
       "      <td>259.440002</td>\n",
       "      <td>Blue Mountain eCards</td>\n",
       "      <td>US</td>\n",
       "      <td>US</td>\n",
       "      <td>05</td>\n",
       "      <td>01</td>\n",
       "      <td>online_gifts</td>\n",
       "      <td>2028-01-31</td>\n",
       "      <td>2014-01-09</td>\n",
       "      <td>2014-01-09</td>\n",
       "      <td>402</td>\n",
       "      <td>402</td>\n",
       "      <td>2077</td>\n",
       "      <td>PURCHASE</td>\n",
       "      <td>207.669998</td>\n",
       "      <td>False</td>\n",
       "      <td>False</td>\n",
       "      <td>False</td>\n",
       "      <td>Blue Mountain eCards</td>\n",
       "    </tr>\n",
       "    <tr>\n",
       "      <th>2</th>\n",
       "      <td>100088067</td>\n",
       "      <td>50000.0</td>\n",
       "      <td>49532.890625</td>\n",
       "      <td>2016-02-09 18:36:53</td>\n",
       "      <td>32.500000</td>\n",
       "      <td>EZ Putt Putt #804489</td>\n",
       "      <td>US</td>\n",
       "      <td>US</td>\n",
       "      <td>09</td>\n",
       "      <td>01</td>\n",
       "      <td>entertainment</td>\n",
       "      <td>2026-07-31</td>\n",
       "      <td>2014-01-09</td>\n",
       "      <td>2014-01-09</td>\n",
       "      <td>402</td>\n",
       "      <td>402</td>\n",
       "      <td>2077</td>\n",
       "      <td>PURCHASE</td>\n",
       "      <td>467.109985</td>\n",
       "      <td>True</td>\n",
       "      <td>False</td>\n",
       "      <td>False</td>\n",
       "      <td>EZ Putt Putt</td>\n",
       "    </tr>\n",
       "    <tr>\n",
       "      <th>3</th>\n",
       "      <td>100088067</td>\n",
       "      <td>50000.0</td>\n",
       "      <td>49477.328125</td>\n",
       "      <td>2016-02-13 20:17:41</td>\n",
       "      <td>56.049999</td>\n",
       "      <td>Fresh Flowers</td>\n",
       "      <td>US</td>\n",
       "      <td>US</td>\n",
       "      <td>05</td>\n",
       "      <td>01</td>\n",
       "      <td>online_gifts</td>\n",
       "      <td>2033-01-31</td>\n",
       "      <td>2014-01-09</td>\n",
       "      <td>2014-01-09</td>\n",
       "      <td>402</td>\n",
       "      <td>402</td>\n",
       "      <td>2077</td>\n",
       "      <td>PURCHASE</td>\n",
       "      <td>522.669983</td>\n",
       "      <td>False</td>\n",
       "      <td>False</td>\n",
       "      <td>False</td>\n",
       "      <td>Fresh Flowers</td>\n",
       "    </tr>\n",
       "    <tr>\n",
       "      <th>4</th>\n",
       "      <td>100088067</td>\n",
       "      <td>50000.0</td>\n",
       "      <td>49923.921875</td>\n",
       "      <td>2016-03-12 12:55:28</td>\n",
       "      <td>97.790001</td>\n",
       "      <td>Dinosaur Sandwitch Bar #960325</td>\n",
       "      <td>US</td>\n",
       "      <td>US</td>\n",
       "      <td>05</td>\n",
       "      <td>01</td>\n",
       "      <td>food</td>\n",
       "      <td>2032-01-31</td>\n",
       "      <td>2014-01-09</td>\n",
       "      <td>2014-01-09</td>\n",
       "      <td>402</td>\n",
       "      <td>402</td>\n",
       "      <td>2077</td>\n",
       "      <td>PURCHASE</td>\n",
       "      <td>76.080002</td>\n",
       "      <td>True</td>\n",
       "      <td>False</td>\n",
       "      <td>False</td>\n",
       "      <td>Dinosaur Sandwitch Bar</td>\n",
       "    </tr>\n",
       "  </tbody>\n",
       "</table>\n",
       "</div>"
      ],
      "text/plain": [
       "  accountNumber  creditLimit  availableMoney transactionDateTime  transactionAmount                    merchantName acqCountry merchantCountryCode posEntryMode posConditionCode merchantCategoryCode currentExpDate accountOpenDate dateOfLastAddressChange cardCVV enteredCVV cardLast4Digits transactionType  currentBalance  cardPresent  expirationDateKeyInMatch  isFraud        reg_merchantName\n",
       "0     100088067      50000.0    49748.441406 2016-01-17 15:41:46         378.670013                   Mobile eCards         US                  US           05               01         online_gifts     2031-11-30      2014-01-09              2014-01-09     402        402            2077        PURCHASE      251.559998        False                     False    False           Mobile eCards\n",
       "1     100088067      50000.0    49792.328125 2016-02-08 06:09:12         259.440002            Blue Mountain eCards         US                  US           05               01         online_gifts     2028-01-31      2014-01-09              2014-01-09     402        402            2077        PURCHASE      207.669998        False                     False    False    Blue Mountain eCards\n",
       "2     100088067      50000.0    49532.890625 2016-02-09 18:36:53          32.500000            EZ Putt Putt #804489         US                  US           09               01        entertainment     2026-07-31      2014-01-09              2014-01-09     402        402            2077        PURCHASE      467.109985         True                     False    False            EZ Putt Putt\n",
       "3     100088067      50000.0    49477.328125 2016-02-13 20:17:41          56.049999                   Fresh Flowers         US                  US           05               01         online_gifts     2033-01-31      2014-01-09              2014-01-09     402        402            2077        PURCHASE      522.669983        False                     False    False           Fresh Flowers\n",
       "4     100088067      50000.0    49923.921875 2016-03-12 12:55:28          97.790001  Dinosaur Sandwitch Bar #960325         US                  US           05               01                 food     2032-01-31      2014-01-09              2014-01-09     402        402            2077        PURCHASE       76.080002         True                     False    False  Dinosaur Sandwitch Bar"
      ]
     },
     "execution_count": 62,
     "metadata": {},
     "output_type": "execute_result"
    }
   ],
   "source": [
    "card_wr.head()"
   ]
  },
  {
   "cell_type": "code",
   "execution_count": 131,
   "metadata": {},
   "outputs": [
    {
     "name": "stdout",
     "output_type": "stream",
     "text": [
      "How many NULL transaction type is ADDRESS_VERIFICATION?  0\n"
     ]
    }
   ],
   "source": [
    "# if transactionType is ADDRESS_VERIFICATION, the transactionAmount should be 0\n",
    "print(\"How many NULL transaction type is ADDRESS_VERIFICATION? \",len(card_wr[(card_wr.transactionType.isnull()) & (card_wr.transactionAmount==0)]))"
   ]
  },
  {
   "cell_type": "code",
   "execution_count": 132,
   "metadata": {},
   "outputs": [],
   "source": [
    "\"\"\"\n",
    "based on the inferences above (there are no REVERSAL or ADDRESS_VERIFICATION for NULL transactionType), \n",
    "all the null values of transactionType should be filled with PURCHASE\n",
    "\"\"\" \n",
    "card_wr.transactionType.fillna(\"PURCHASE\",inplace=True)"
   ]
  },
  {
   "cell_type": "code",
   "execution_count": 133,
   "metadata": {},
   "outputs": [
    {
     "name": "stdout",
     "output_type": "stream",
     "text": [
      "are there anymore null values in transactionType?  False\n"
     ]
    }
   ],
   "source": [
    "print(\"are there anymore null values in transactionType? \",card_wr.transactionType.isnull().sum()!=0)"
   ]
  },
  {
   "cell_type": "markdown",
   "metadata": {},
   "source": [
    "get multi-swipe"
   ]
  },
  {
   "cell_type": "code",
   "execution_count": 134,
   "metadata": {},
   "outputs": [
    {
     "data": {
      "text/plain": [
       "PURCHASE                745891\n",
       "REVERSAL                 20303\n",
       "ADDRESS_VERIFICATION     20169\n",
       "Name: transactionType, dtype: int64"
      ]
     },
     "execution_count": 134,
     "metadata": {},
     "output_type": "execute_result"
    }
   ],
   "source": [
    "card_wr.transactionType.value_counts()"
   ]
  },
  {
   "cell_type": "code",
   "execution_count": 135,
   "metadata": {},
   "outputs": [
    {
     "name": "stdout",
     "output_type": "stream",
     "text": [
      "<class 'pandas.core.frame.DataFrame'>\n",
      "RangeIndex: 786363 entries, 0 to 786362\n",
      "Data columns (total 23 columns):\n",
      " #   Column                    Non-Null Count   Dtype         \n",
      "---  ------                    --------------   -----         \n",
      " 0   accountNumber             786363 non-null  object        \n",
      " 1   creditLimit               786363 non-null  float32       \n",
      " 2   availableMoney            786363 non-null  float32       \n",
      " 3   transactionDateTime       786363 non-null  datetime64[ns]\n",
      " 4   transactionAmount         786363 non-null  float32       \n",
      " 5   merchantName              786363 non-null  category      \n",
      " 6   acqCountry                781801 non-null  category      \n",
      " 7   merchantCountryCode       785639 non-null  category      \n",
      " 8   posEntryMode              782309 non-null  category      \n",
      " 9   posConditionCode          785954 non-null  category      \n",
      " 10  merchantCategoryCode      786363 non-null  category      \n",
      " 11  currentExpDate            786363 non-null  datetime64[ns]\n",
      " 12  accountOpenDate           786363 non-null  datetime64[ns]\n",
      " 13  dateOfLastAddressChange   786363 non-null  datetime64[ns]\n",
      " 14  cardCVV                   786363 non-null  category      \n",
      " 15  enteredCVV                786363 non-null  category      \n",
      " 16  cardLast4Digits           786363 non-null  category      \n",
      " 17  transactionType           786363 non-null  category      \n",
      " 18  currentBalance            786363 non-null  float32       \n",
      " 19  cardPresent               786363 non-null  bool          \n",
      " 20  expirationDateKeyInMatch  786363 non-null  bool          \n",
      " 21  isFraud                   786363 non-null  bool          \n",
      " 22  reg_merchantName          786363 non-null  object        \n",
      "dtypes: bool(3), category(10), datetime64[ns](4), float32(4), object(2)\n",
      "memory usage: 61.1+ MB\n"
     ]
    }
   ],
   "source": [
    "card_wr.info()"
   ]
  },
  {
   "cell_type": "code",
   "execution_count": 136,
   "metadata": {},
   "outputs": [],
   "source": [
    "# define identified columns\n",
    "multi_sw_cols = [\"accountNumber\",\"cardLast4Digits\",\"merchantName\",\"transactionAmount\"]"
   ]
  },
  {
   "cell_type": "code",
   "execution_count": 137,
   "metadata": {},
   "outputs": [],
   "source": [
    "# get candidate transactions (transacType is PURCHASE)\n",
    "multi_swipe = card_wr.query(\"transactionType=='PURCHASE'\")"
   ]
  },
  {
   "cell_type": "code",
   "execution_count": 81,
   "metadata": {},
   "outputs": [
    {
     "data": {
      "text/plain": [
       "(745891, 23)"
      ]
     },
     "execution_count": 81,
     "metadata": {},
     "output_type": "execute_result"
    }
   ],
   "source": [
    "multi_swipe.shape"
   ]
  },
  {
   "cell_type": "code",
   "execution_count": 138,
   "metadata": {},
   "outputs": [
    {
     "name": "stdout",
     "output_type": "stream",
     "text": [
      "<class 'pandas.core.frame.DataFrame'>\n",
      "Int64Index: 745891 entries, 0 to 786362\n",
      "Data columns (total 23 columns):\n",
      " #   Column                    Non-Null Count   Dtype         \n",
      "---  ------                    --------------   -----         \n",
      " 0   accountNumber             745891 non-null  object        \n",
      " 1   creditLimit               745891 non-null  float32       \n",
      " 2   availableMoney            745891 non-null  float32       \n",
      " 3   transactionDateTime       745891 non-null  datetime64[ns]\n",
      " 4   transactionAmount         745891 non-null  float32       \n",
      " 5   merchantName              745891 non-null  category      \n",
      " 6   acqCountry                741561 non-null  category      \n",
      " 7   merchantCountryCode       745202 non-null  category      \n",
      " 8   posEntryMode              742027 non-null  category      \n",
      " 9   posConditionCode          745502 non-null  category      \n",
      " 10  merchantCategoryCode      745891 non-null  category      \n",
      " 11  currentExpDate            745891 non-null  datetime64[ns]\n",
      " 12  accountOpenDate           745891 non-null  datetime64[ns]\n",
      " 13  dateOfLastAddressChange   745891 non-null  datetime64[ns]\n",
      " 14  cardCVV                   745891 non-null  category      \n",
      " 15  enteredCVV                745891 non-null  category      \n",
      " 16  cardLast4Digits           745891 non-null  category      \n",
      " 17  transactionType           745891 non-null  category      \n",
      " 18  currentBalance            745891 non-null  float32       \n",
      " 19  cardPresent               745891 non-null  bool          \n",
      " 20  expirationDateKeyInMatch  745891 non-null  bool          \n",
      " 21  isFraud                   745891 non-null  bool          \n",
      " 22  reg_merchantName          745891 non-null  object        \n",
      "dtypes: bool(3), category(10), datetime64[ns](4), float32(4), object(2)\n",
      "memory usage: 63.7+ MB\n"
     ]
    }
   ],
   "source": [
    "multi_swipe.info()"
   ]
  },
  {
   "cell_type": "code",
   "execution_count": 150,
   "metadata": {},
   "outputs": [],
   "source": [
    "# get multi-swipe candidates (including recurring&subscriptions) : duplicate transactions count bigger than 1\n",
    "multi_swipe['dup_cnt'] = multi_swipe.groupby(multi_sw_cols,observed=True)['transactionType'].transform('size')\n",
    "multi_swipe = multi_swipe.loc[multi_swipe.dup_cnt>1,multi_sw_cols+['transactionType','transactionDateTime']]"
   ]
  },
  {
   "cell_type": "code",
   "execution_count": 151,
   "metadata": {},
   "outputs": [
    {
     "data": {
      "text/html": [
       "<div>\n",
       "<style scoped>\n",
       "    .dataframe tbody tr th:only-of-type {\n",
       "        vertical-align: middle;\n",
       "    }\n",
       "\n",
       "    .dataframe tbody tr th {\n",
       "        vertical-align: top;\n",
       "    }\n",
       "\n",
       "    .dataframe thead th {\n",
       "        text-align: right;\n",
       "    }\n",
       "</style>\n",
       "<table border=\"1\" class=\"dataframe\">\n",
       "  <thead>\n",
       "    <tr style=\"text-align: right;\">\n",
       "      <th></th>\n",
       "      <th>accountNumber</th>\n",
       "      <th>cardLast4Digits</th>\n",
       "      <th>merchantName</th>\n",
       "      <th>transactionAmount</th>\n",
       "      <th>transactionType</th>\n",
       "      <th>transactionDateTime</th>\n",
       "    </tr>\n",
       "  </thead>\n",
       "  <tbody>\n",
       "    <tr>\n",
       "      <th>22</th>\n",
       "      <td>100088067</td>\n",
       "      <td>2077</td>\n",
       "      <td>Fresh Flowers</td>\n",
       "      <td>411.350006</td>\n",
       "      <td>PURCHASE</td>\n",
       "      <td>2016-10-16 18:01:00</td>\n",
       "    </tr>\n",
       "    <tr>\n",
       "      <th>23</th>\n",
       "      <td>100088067</td>\n",
       "      <td>2077</td>\n",
       "      <td>Fresh Flowers</td>\n",
       "      <td>411.350006</td>\n",
       "      <td>PURCHASE</td>\n",
       "      <td>2016-10-16 18:01:02</td>\n",
       "    </tr>\n",
       "    <tr>\n",
       "      <th>40</th>\n",
       "      <td>100088067</td>\n",
       "      <td>4615</td>\n",
       "      <td>Apple iTunes</td>\n",
       "      <td>3.960000</td>\n",
       "      <td>PURCHASE</td>\n",
       "      <td>2016-05-05 22:47:50</td>\n",
       "    </tr>\n",
       "    <tr>\n",
       "      <th>45</th>\n",
       "      <td>100088067</td>\n",
       "      <td>4615</td>\n",
       "      <td>Apple iTunes</td>\n",
       "      <td>3.960000</td>\n",
       "      <td>PURCHASE</td>\n",
       "      <td>2016-06-05 22:10:41</td>\n",
       "    </tr>\n",
       "    <tr>\n",
       "      <th>46</th>\n",
       "      <td>100088067</td>\n",
       "      <td>4615</td>\n",
       "      <td>Apple iTunes</td>\n",
       "      <td>3.960000</td>\n",
       "      <td>PURCHASE</td>\n",
       "      <td>2016-07-05 22:22:49</td>\n",
       "    </tr>\n",
       "  </tbody>\n",
       "</table>\n",
       "</div>"
      ],
      "text/plain": [
       "   accountNumber cardLast4Digits   merchantName  transactionAmount transactionType transactionDateTime\n",
       "22     100088067            2077  Fresh Flowers         411.350006        PURCHASE 2016-10-16 18:01:00\n",
       "23     100088067            2077  Fresh Flowers         411.350006        PURCHASE 2016-10-16 18:01:02\n",
       "40     100088067            4615   Apple iTunes           3.960000        PURCHASE 2016-05-05 22:47:50\n",
       "45     100088067            4615   Apple iTunes           3.960000        PURCHASE 2016-06-05 22:10:41\n",
       "46     100088067            4615   Apple iTunes           3.960000        PURCHASE 2016-07-05 22:22:49"
      ]
     },
     "execution_count": 151,
     "metadata": {},
     "output_type": "execute_result"
    }
   ],
   "source": [
    "multi_swipe.head()"
   ]
  },
  {
   "cell_type": "code",
   "execution_count": 152,
   "metadata": {},
   "outputs": [
    {
     "data": {
      "text/plain": [
       "True"
      ]
     },
     "execution_count": 152,
     "metadata": {},
     "output_type": "execute_result"
    }
   ],
   "source": [
    "multi_swipe.index.is_monotonic"
   ]
  },
  {
   "cell_type": "code",
   "execution_count": 153,
   "metadata": {},
   "outputs": [],
   "source": [
    "# get multisort the transactions by transanctionTime\n",
    "multi_swipe.sort_values(by=multi_sw_cols+['transactionDateTime'],inplace=True)"
   ]
  },
  {
   "cell_type": "code",
   "execution_count": 154,
   "metadata": {},
   "outputs": [],
   "source": [
    "swipe_gr = multi_swipe.groupby(multi_sw_cols)['transactionDateTime']"
   ]
  },
  {
   "cell_type": "code",
   "execution_count": 156,
   "metadata": {},
   "outputs": [],
   "source": [
    "# check time difference in minutes between multi-swipes\n",
    "multi_swipe['time_diff']=swipe_gr.diff()/pd.Timedelta(minutes=1)"
   ]
  },
  {
   "cell_type": "markdown",
   "metadata": {},
   "source": [
    "filter out the first transaction (time_diff is null) of multi-swipe and other not multi-swipe (swipes longer than predefined time span (1 minutes))"
   ]
  },
  {
   "cell_type": "code",
   "execution_count": 169,
   "metadata": {},
   "outputs": [],
   "source": [
    "multi_swipe_final = multi_swipe.query(\"time_diff<=1\")"
   ]
  },
  {
   "cell_type": "code",
   "execution_count": 170,
   "metadata": {},
   "outputs": [
    {
     "data": {
      "text/plain": [
       "(2477, 7)"
      ]
     },
     "execution_count": 170,
     "metadata": {},
     "output_type": "execute_result"
    }
   ],
   "source": [
    "multi_swipe_final.shape"
   ]
  },
  {
   "cell_type": "code",
   "execution_count": 171,
   "metadata": {},
   "outputs": [],
   "source": [
    "multi_swipe_final['transactionType']=\"MULTI-SWIPE\""
   ]
  },
  {
   "cell_type": "code",
   "execution_count": null,
   "metadata": {},
   "outputs": [],
   "source": []
  },
  {
   "cell_type": "markdown",
   "metadata": {},
   "source": [
    "### 3.2 What total number of transactions and total dollar amount do you estimate for the reversed transactions? For the multi-swipe transactions?"
   ]
  },
  {
   "cell_type": "code",
   "execution_count": 173,
   "metadata": {},
   "outputs": [
    {
     "name": "stdout",
     "output_type": "stream",
     "text": [
      "There are total 20303 REVERSAL transactions with transaction amount total around 2821792.5 dollars\n"
     ]
    }
   ],
   "source": [
    "print(f\"There are total {len(card_reversal)} REVERSAL transactions \\\n",
    "with transaction amount total around {round(sum(card_reversal.transactionAmount),2)} dollars\")"
   ]
  },
  {
   "cell_type": "code",
   "execution_count": 174,
   "metadata": {},
   "outputs": [
    {
     "name": "stdout",
     "output_type": "stream",
     "text": [
      "There are total 2477 multi-swipe transactions with transaction amount total around 377855.13 dollars\n"
     ]
    }
   ],
   "source": [
    "print(f\"There are total {len(multi_swipe_final)} multi-swipe transactions \\\n",
    "with transaction amount total around {round(sum(multi_swipe_final.transactionAmount),2)} dollars\")"
   ]
  },
  {
   "cell_type": "code",
   "execution_count": null,
   "metadata": {},
   "outputs": [],
   "source": []
  },
  {
   "cell_type": "markdown",
   "metadata": {},
   "source": [
    "### 3.3 Did you find anything interesting about either kind of transaction?"
   ]
  },
  {
   "cell_type": "markdown",
   "metadata": {},
   "source": [
    "first I would merge multi_swipe_final and replace transaction type with \"MULTI-SWIPE\" for original dataset"
   ]
  },
  {
   "cell_type": "code",
   "execution_count": 175,
   "metadata": {},
   "outputs": [],
   "source": [
    "# merge card_wr table with multi_swipe_final\n",
    "card_wr= pd.merge(card_wr,multi_swipe_final,\\\n",
    "                   how=\"left\",\\\n",
    "                   suffixes = (\"\",\"_swipe\"),\\\n",
    "                   on=['accountNumber', 'cardLast4Digits', 'merchantName', 'transactionAmount','transactionDateTime'])"
   ]
  },
  {
   "cell_type": "code",
   "execution_count": 176,
   "metadata": {},
   "outputs": [
    {
     "data": {
      "text/plain": [
       "(2477, 7)"
      ]
     },
     "execution_count": 176,
     "metadata": {},
     "output_type": "execute_result"
    }
   ],
   "source": [
    "multi_swipe_final.shape"
   ]
  },
  {
   "cell_type": "code",
   "execution_count": 177,
   "metadata": {},
   "outputs": [],
   "source": [
    "# replace \"PURCHASE\" with \"MULTI-WIPE\" in transactionType in card_wr based on multi_swipe_final table\n",
    "card_wr['transactionType'] = np.where((card_wr['transactionType']==\"PURCHASE\") & \\\n",
    "                                      (card_wr['transactionType_swipe']==\"MULTI-SWIPE\"),'MULTI-SWIPE',card_wr.transactionType)"
   ]
  },
  {
   "cell_type": "code",
   "execution_count": 178,
   "metadata": {},
   "outputs": [
    {
     "data": {
      "text/plain": [
       "PURCHASE                743414\n",
       "REVERSAL                 20303\n",
       "ADDRESS_VERIFICATION     20169\n",
       "MULTI-SWIPE               2477\n",
       "Name: transactionType, dtype: int64"
      ]
     },
     "execution_count": 178,
     "metadata": {},
     "output_type": "execute_result"
    }
   ],
   "source": [
    "card_wr.transactionType.value_counts()"
   ]
  },
  {
   "cell_type": "code",
   "execution_count": 181,
   "metadata": {},
   "outputs": [],
   "source": [
    "\"\"\"\n",
    "remove those ADDRESS_VERIFICATION transaction type, \n",
    "because they are useless in here (since their transaction Amount is 0)\n",
    "\"\"\"\n",
    "card_wr = card_wr[card_wr.transactionType!=\"ADDRESS_VERIFICATION\"]"
   ]
  },
  {
   "cell_type": "code",
   "execution_count": 182,
   "metadata": {},
   "outputs": [
    {
     "data": {
      "text/plain": [
       "PURCHASE       743414\n",
       "REVERSAL        20303\n",
       "MULTI-SWIPE      2477\n",
       "Name: transactionType, dtype: int64"
      ]
     },
     "execution_count": 182,
     "metadata": {},
     "output_type": "execute_result"
    }
   ],
   "source": [
    "card_wr.transactionType.value_counts()"
   ]
  },
  {
   "cell_type": "code",
   "execution_count": 183,
   "metadata": {},
   "outputs": [
    {
     "data": {
      "text/plain": [
       "<seaborn.axisgrid.FacetGrid at 0x7fc58c1e3710>"
      ]
     },
     "execution_count": 183,
     "metadata": {},
     "output_type": "execute_result"
    },
    {
     "data": {
      "image/png": "[encoded data removed]",
      "text/plain": [
       "<Figure size 900x540 with 6 Axes>"
      ]
     },
     "metadata": {
      "needs_background": "light"
     },
     "output_type": "display_data"
    }
   ],
   "source": [
    "\"\"\"\n",
    "create FacetGrid object, in which a grid plot is produced.\n",
    "As columns, we have the various days of the week,\n",
    "as rows, the different types (registered and casual)\n",
    "\"\"\"\n",
    "grid = sns.FacetGrid(card_dup, row='transactionType', \\\n",
    "                     col='isFraud', height=2.5, aspect=2.5, \\\n",
    "                     )\n",
    "\n",
    "# populate the FacetGrid with the specific plots\n",
    "grid.map(sns.distplot, 'transactionAmount')\n",
    "#grid.savefig('figs/weekday_hour_distributions.png', format='png')"
   ]
  },
  {
   "cell_type": "code",
   "execution_count": null,
   "metadata": {},
   "outputs": [],
   "source": []
  },
  {
   "cell_type": "code",
   "execution_count": null,
   "metadata": {},
   "outputs": [],
   "source": [
    "plot_data = card_dup[['registered', 'casual', 'dteday']]\n",
    "\n",
    "ax = card_dup.groupby('transactionDateTime').sum().plot(figsize=(10,6))\n",
    "ax.set_xlabel(\"time\");\n",
    "ax.set_ylabel(\"number of rides per day\");"
   ]
  },
  {
   "cell_type": "code",
   "execution_count": null,
   "metadata": {},
   "outputs": [],
   "source": []
  },
  {
   "cell_type": "code",
   "execution_count": null,
   "metadata": {},
   "outputs": [],
   "source": []
  },
  {
   "cell_type": "code",
   "execution_count": null,
   "metadata": {},
   "outputs": [],
   "source": []
  },
  {
   "cell_type": "code",
   "execution_count": null,
   "metadata": {},
   "outputs": [],
   "source": []
  },
  {
   "cell_type": "code",
   "execution_count": null,
   "metadata": {},
   "outputs": [],
   "source": []
  },
  {
   "cell_type": "code",
   "execution_count": null,
   "metadata": {},
   "outputs": [],
   "source": [
    "duplicateRowsDF = card_wr[card_wr.duplicated(keep=False,subset=['accountNumber', 'cardLast4Digits', 'merchantName', 'transactionAmount','transactionDateTime'])]"
   ]
  },
  {
   "cell_type": "code",
   "execution_count": null,
   "metadata": {},
   "outputs": [],
   "source": [
    "display_all(duplicateRowsDF)"
   ]
  },
  {
   "cell_type": "code",
   "execution_count": null,
   "metadata": {},
   "outputs": [],
   "source": []
  },
  {
   "cell_type": "code",
   "execution_count": null,
   "metadata": {},
   "outputs": [],
   "source": []
  },
  {
   "cell_type": "code",
   "execution_count": null,
   "metadata": {},
   "outputs": [],
   "source": []
  },
  {
   "cell_type": "code",
   "execution_count": null,
   "metadata": {},
   "outputs": [],
   "source": []
  },
  {
   "cell_type": "code",
   "execution_count": null,
   "metadata": {},
   "outputs": [],
   "source": [
    "display_all(test.head())"
   ]
  },
  {
   "cell_type": "code",
   "execution_count": null,
   "metadata": {},
   "outputs": [],
   "source": [
    "card_reversal.shape"
   ]
  },
  {
   "cell_type": "code",
   "execution_count": null,
   "metadata": {},
   "outputs": [],
   "source": [
    "card_drp.shape"
   ]
  },
  {
   "cell_type": "code",
   "execution_count": null,
   "metadata": {},
   "outputs": [],
   "source": [
    "display_all(card_reversal.head().T)"
   ]
  },
  {
   "cell_type": "code",
   "execution_count": null,
   "metadata": {},
   "outputs": [],
   "source": [
    "# select relevant columns\n",
    "plot_data = preprocessed_data[['hr', 'weekday', 'registered', 'casual']]\n",
    "\"\"\"\n",
    "transform the data into a format, in number of entries are computed as count, \n",
    "for each distinct hr, weekday and type (registered or casual)\n",
    "\"\"\"\n",
    "plot_data = plot_data.melt(id_vars=['hr', 'weekday'], \\\n",
    "                           var_name='type', value_name='count')\n",
    "\"\"\"\n",
    "create FacetGrid object, in which a grid plot is produced.\n",
    "As columns, we have the various days of the week,\n",
    "as rows, the different types (registered and casual)\n",
    "\"\"\"\n",
    "grid = sns.FacetGrid(plot_data, row='weekday', \\\n",
    "                     col='type', height=2.5, aspect=2.5, \\\n",
    "                     row_order=['Monday', 'Tuesday', \\\n",
    "                                'Wednesday', 'Thursday', \\\n",
    "                                'Friday', 'Saturday', 'Sunday'])\n",
    "# populate the FacetGrid with the specific plots\n",
    "grid.map(sns.barplot, 'hr', 'count', alpha=0.5)\n",
    "grid.savefig('figs/weekday_hour_distributions.png', format='png')"
   ]
  },
  {
   "cell_type": "code",
   "execution_count": null,
   "metadata": {},
   "outputs": [],
   "source": [
    "card_wr.merchantCategoryCode.value_counts()"
   ]
  },
  {
   "cell_type": "code",
   "execution_count": null,
   "metadata": {},
   "outputs": [],
   "source": [
    "grid = sns.FacetGrid(plot_data, row='weekday', \\\n",
    "                     col='type', height=2.5, aspect=2.5, \\\n",
    "                     row_order=['Monday', 'Tuesday', \\\n",
    "                                'Wednesday', 'Thursday', \\\n",
    "                                'Friday', 'Saturday', 'Sunday'])"
   ]
  },
  {
   "cell_type": "code",
   "execution_count": null,
   "metadata": {},
   "outputs": [],
   "source": []
  },
  {
   "cell_type": "markdown",
   "metadata": {},
   "source": [
    "## Question 4: Model"
   ]
  },
  {
   "cell_type": "markdown",
   "metadata": {},
   "source": [
    "#### feature engineering: build a pipeline can be used later (based on EDA above)\n",
    "  1. create new field by concatenating accountNumber and cardLast4Digits to reprent unqiue credit card\n",
    "  2. impute \"\" with np.nan as discussed above\n",
    "  2. drop columns (instead of drop explicitly, I will only select other features to do feature engineering) with all null values: 'echoBuffer','merchantCity','merchantState','merchantZip','posOnPremises','recurringAuthInd' and duplicated columns: 'customerId' and 'currentBalance' (can be calcuated by creditlimit and availableMoney)\n",
    "  3. For numerical features, I will calculate the rate between currentBalance and availableMoney, if transaction amount is bigger than 80% of available money. Those two features were assumed to have an influence on if fraud or not.\n",
    "  4. For datetime features: transaction date time is so important, so I will extract month, day of month, hour and other time-related parts from the feature; for expiration date (YYYY/MM), since it represents the last day of that month, I will supplement the day part; Then I will calculate how many days between transactionDateTime to accountOpenDate, dateOfLastAddressChange and currentExpDate respectively.\n"
   ]
  },
  {
   "cell_type": "code",
   "execution_count": 3,
   "metadata": {},
   "outputs": [],
   "source": [
    "# get a new column to describe a unique credit card\n",
    "card['creditCard']=card['accountNumber'].astype(str)+\"_\"+card['cardLast4Digits'].astype(str)"
   ]
  },
  {
   "cell_type": "code",
   "execution_count": 4,
   "metadata": {},
   "outputs": [
    {
     "name": "stderr",
     "output_type": "stream",
     "text": [
      "100%|██████████| 30/30 [00:12<00:00,  2.35it/s]\n"
     ]
    }
   ],
   "source": [
    "for c in tqdm(card.columns):\n",
    "    card[c] = card[c].map(lambda x: np.nan if x =='' else x)"
   ]
  },
  {
   "cell_type": "code",
   "execution_count": 190,
   "metadata": {},
   "outputs": [
    {
     "data": {
      "text/plain": [
       "0"
      ]
     },
     "execution_count": 190,
     "metadata": {},
     "output_type": "execute_result"
    }
   ],
   "source": [
    "# the creditLimit is basically equal to current balance plus available money\n",
    "sum(card[\"creditLimit\"] - (card[\"currentBalance\"]+card[\"availableMoney\"]) >0.01)"
   ]
  },
  {
   "cell_type": "code",
   "execution_count": 250,
   "metadata": {},
   "outputs": [],
   "source": [
    "# hyperparameters\n",
    "\n",
    "to_cat_column = ['creditLimit']+object2cat_cols\n",
    "date_col = 'transactionDateTime'\n",
    "to_date_column = [\"transactionDateTime\",\"accountOpenDate\",\"dateOfLastAddressChange\",'currentExpDate']\n",
    "exp_date_col = \"currentExpDate\" # need to add the last day of the month to complete the date\n",
    "\n",
    "drp_cols = all_null_cols+['customerId','cardLast4Digits']+to_date_column"
   ]
  },
  {
   "cell_type": "code",
   "execution_count": 236,
   "metadata": {},
   "outputs": [
    {
     "data": {
      "text/plain": [
       "['echoBuffer',\n",
       " 'merchantCity',\n",
       " 'merchantState',\n",
       " 'merchantZip',\n",
       " 'posOnPremises',\n",
       " 'recurringAuthInd',\n",
       " 'customerId',\n",
       " 'transactionDateTime',\n",
       " 'accountOpenDate',\n",
       " 'dateOfLastAddressChange',\n",
       " 'currentExpDate']"
      ]
     },
     "execution_count": 236,
     "metadata": {},
     "output_type": "execute_result"
    }
   ],
   "source": [
    "drp_cols"
   ]
  },
  {
   "cell_type": "code",
   "execution_count": 204,
   "metadata": {},
   "outputs": [
    {
     "data": {
      "text/plain": [
       "['creditLimit',\n",
       " 'merchantName',\n",
       " 'acqCountry',\n",
       " 'merchantCountryCode',\n",
       " 'posEntryMode',\n",
       " 'posConditionCode',\n",
       " 'merchantCategoryCode',\n",
       " 'cardCVV',\n",
       " 'enteredCVV',\n",
       " 'transactionType',\n",
       " 'cardLast4Digits']"
      ]
     },
     "execution_count": 204,
     "metadata": {},
     "output_type": "execute_result"
    }
   ],
   "source": [
    "to_cat_cols"
   ]
  },
  {
   "cell_type": "code",
   "execution_count": 186,
   "metadata": {},
   "outputs": [],
   "source": [
    "# read the raw data\n",
    "card = pd.read_feather('data/transactions-raw')"
   ]
  },
  {
   "cell_type": "code",
   "execution_count": 187,
   "metadata": {},
   "outputs": [
    {
     "data": {
      "text/html": [
       "<div>\n",
       "<style scoped>\n",
       "    .dataframe tbody tr th:only-of-type {\n",
       "        vertical-align: middle;\n",
       "    }\n",
       "\n",
       "    .dataframe tbody tr th {\n",
       "        vertical-align: top;\n",
       "    }\n",
       "\n",
       "    .dataframe thead th {\n",
       "        text-align: right;\n",
       "    }\n",
       "</style>\n",
       "<table border=\"1\" class=\"dataframe\">\n",
       "  <thead>\n",
       "    <tr style=\"text-align: right;\">\n",
       "      <th></th>\n",
       "      <th>accountNumber</th>\n",
       "      <th>customerId</th>\n",
       "      <th>creditLimit</th>\n",
       "      <th>availableMoney</th>\n",
       "      <th>transactionDateTime</th>\n",
       "      <th>transactionAmount</th>\n",
       "      <th>merchantName</th>\n",
       "      <th>acqCountry</th>\n",
       "      <th>merchantCountryCode</th>\n",
       "      <th>posEntryMode</th>\n",
       "      <th>posConditionCode</th>\n",
       "      <th>merchantCategoryCode</th>\n",
       "      <th>currentExpDate</th>\n",
       "      <th>accountOpenDate</th>\n",
       "      <th>dateOfLastAddressChange</th>\n",
       "      <th>cardCVV</th>\n",
       "      <th>enteredCVV</th>\n",
       "      <th>cardLast4Digits</th>\n",
       "      <th>transactionType</th>\n",
       "      <th>echoBuffer</th>\n",
       "      <th>currentBalance</th>\n",
       "      <th>merchantCity</th>\n",
       "      <th>merchantState</th>\n",
       "      <th>merchantZip</th>\n",
       "      <th>cardPresent</th>\n",
       "      <th>posOnPremises</th>\n",
       "      <th>recurringAuthInd</th>\n",
       "      <th>expirationDateKeyInMatch</th>\n",
       "      <th>isFraud</th>\n",
       "    </tr>\n",
       "  </thead>\n",
       "  <tbody>\n",
       "    <tr>\n",
       "      <th>0</th>\n",
       "      <td>737265056</td>\n",
       "      <td>737265056</td>\n",
       "      <td>5000.0</td>\n",
       "      <td>5000.0</td>\n",
       "      <td>2016-08-13T14:27:32</td>\n",
       "      <td>98.550003</td>\n",
       "      <td>Uber</td>\n",
       "      <td>US</td>\n",
       "      <td>US</td>\n",
       "      <td>02</td>\n",
       "      <td>01</td>\n",
       "      <td>rideshare</td>\n",
       "      <td>06/2023</td>\n",
       "      <td>2015-03-14</td>\n",
       "      <td>2015-03-14</td>\n",
       "      <td>414</td>\n",
       "      <td>414</td>\n",
       "      <td>1803</td>\n",
       "      <td>PURCHASE</td>\n",
       "      <td></td>\n",
       "      <td>0.0</td>\n",
       "      <td></td>\n",
       "      <td></td>\n",
       "      <td></td>\n",
       "      <td>False</td>\n",
       "      <td></td>\n",
       "      <td></td>\n",
       "      <td>False</td>\n",
       "      <td>False</td>\n",
       "    </tr>\n",
       "    <tr>\n",
       "      <th>1</th>\n",
       "      <td>737265056</td>\n",
       "      <td>737265056</td>\n",
       "      <td>5000.0</td>\n",
       "      <td>5000.0</td>\n",
       "      <td>2016-10-11T05:05:54</td>\n",
       "      <td>74.510002</td>\n",
       "      <td>AMC #191138</td>\n",
       "      <td>US</td>\n",
       "      <td>US</td>\n",
       "      <td>09</td>\n",
       "      <td>01</td>\n",
       "      <td>entertainment</td>\n",
       "      <td>02/2024</td>\n",
       "      <td>2015-03-14</td>\n",
       "      <td>2015-03-14</td>\n",
       "      <td>486</td>\n",
       "      <td>486</td>\n",
       "      <td>767</td>\n",
       "      <td>PURCHASE</td>\n",
       "      <td></td>\n",
       "      <td>0.0</td>\n",
       "      <td></td>\n",
       "      <td></td>\n",
       "      <td></td>\n",
       "      <td>True</td>\n",
       "      <td></td>\n",
       "      <td></td>\n",
       "      <td>False</td>\n",
       "      <td>False</td>\n",
       "    </tr>\n",
       "    <tr>\n",
       "      <th>2</th>\n",
       "      <td>737265056</td>\n",
       "      <td>737265056</td>\n",
       "      <td>5000.0</td>\n",
       "      <td>5000.0</td>\n",
       "      <td>2016-11-08T09:18:39</td>\n",
       "      <td>7.470000</td>\n",
       "      <td>Play Store</td>\n",
       "      <td>US</td>\n",
       "      <td>US</td>\n",
       "      <td>09</td>\n",
       "      <td>01</td>\n",
       "      <td>mobileapps</td>\n",
       "      <td>08/2025</td>\n",
       "      <td>2015-03-14</td>\n",
       "      <td>2015-03-14</td>\n",
       "      <td>486</td>\n",
       "      <td>486</td>\n",
       "      <td>767</td>\n",
       "      <td>PURCHASE</td>\n",
       "      <td></td>\n",
       "      <td>0.0</td>\n",
       "      <td></td>\n",
       "      <td></td>\n",
       "      <td></td>\n",
       "      <td>False</td>\n",
       "      <td></td>\n",
       "      <td></td>\n",
       "      <td>False</td>\n",
       "      <td>False</td>\n",
       "    </tr>\n",
       "    <tr>\n",
       "      <th>3</th>\n",
       "      <td>737265056</td>\n",
       "      <td>737265056</td>\n",
       "      <td>5000.0</td>\n",
       "      <td>5000.0</td>\n",
       "      <td>2016-12-10T02:14:50</td>\n",
       "      <td>7.470000</td>\n",
       "      <td>Play Store</td>\n",
       "      <td>US</td>\n",
       "      <td>US</td>\n",
       "      <td>09</td>\n",
       "      <td>01</td>\n",
       "      <td>mobileapps</td>\n",
       "      <td>08/2025</td>\n",
       "      <td>2015-03-14</td>\n",
       "      <td>2015-03-14</td>\n",
       "      <td>486</td>\n",
       "      <td>486</td>\n",
       "      <td>767</td>\n",
       "      <td>PURCHASE</td>\n",
       "      <td></td>\n",
       "      <td>0.0</td>\n",
       "      <td></td>\n",
       "      <td></td>\n",
       "      <td></td>\n",
       "      <td>False</td>\n",
       "      <td></td>\n",
       "      <td></td>\n",
       "      <td>False</td>\n",
       "      <td>False</td>\n",
       "    </tr>\n",
       "    <tr>\n",
       "      <th>4</th>\n",
       "      <td>830329091</td>\n",
       "      <td>830329091</td>\n",
       "      <td>5000.0</td>\n",
       "      <td>5000.0</td>\n",
       "      <td>2016-03-24T21:04:46</td>\n",
       "      <td>71.180000</td>\n",
       "      <td>Tim Hortons #947751</td>\n",
       "      <td>US</td>\n",
       "      <td>US</td>\n",
       "      <td>02</td>\n",
       "      <td>01</td>\n",
       "      <td>fastfood</td>\n",
       "      <td>10/2029</td>\n",
       "      <td>2015-08-06</td>\n",
       "      <td>2015-08-06</td>\n",
       "      <td>885</td>\n",
       "      <td>885</td>\n",
       "      <td>3143</td>\n",
       "      <td>PURCHASE</td>\n",
       "      <td></td>\n",
       "      <td>0.0</td>\n",
       "      <td></td>\n",
       "      <td></td>\n",
       "      <td></td>\n",
       "      <td>True</td>\n",
       "      <td></td>\n",
       "      <td></td>\n",
       "      <td>False</td>\n",
       "      <td>False</td>\n",
       "    </tr>\n",
       "  </tbody>\n",
       "</table>\n",
       "</div>"
      ],
      "text/plain": [
       "  accountNumber customerId  creditLimit  availableMoney  transactionDateTime  transactionAmount         merchantName acqCountry merchantCountryCode posEntryMode posConditionCode merchantCategoryCode currentExpDate accountOpenDate dateOfLastAddressChange cardCVV enteredCVV cardLast4Digits transactionType echoBuffer  currentBalance merchantCity merchantState merchantZip  cardPresent posOnPremises recurringAuthInd  expirationDateKeyInMatch  isFraud\n",
       "0     737265056  737265056       5000.0          5000.0  2016-08-13T14:27:32          98.550003                 Uber         US                  US           02               01            rideshare        06/2023      2015-03-14              2015-03-14     414        414            1803        PURCHASE                        0.0                                               False                                                    False    False\n",
       "1     737265056  737265056       5000.0          5000.0  2016-10-11T05:05:54          74.510002          AMC #191138         US                  US           09               01        entertainment        02/2024      2015-03-14              2015-03-14     486        486             767        PURCHASE                        0.0                                                True                                                    False    False\n",
       "2     737265056  737265056       5000.0          5000.0  2016-11-08T09:18:39           7.470000           Play Store         US                  US           09               01           mobileapps        08/2025      2015-03-14              2015-03-14     486        486             767        PURCHASE                        0.0                                               False                                                    False    False\n",
       "3     737265056  737265056       5000.0          5000.0  2016-12-10T02:14:50           7.470000           Play Store         US                  US           09               01           mobileapps        08/2025      2015-03-14              2015-03-14     486        486             767        PURCHASE                        0.0                                               False                                                    False    False\n",
       "4     830329091  830329091       5000.0          5000.0  2016-03-24T21:04:46          71.180000  Tim Hortons #947751         US                  US           02               01             fastfood        10/2029      2015-08-06              2015-08-06     885        885            3143        PURCHASE                        0.0                                                True                                                    False    False"
      ]
     },
     "execution_count": 187,
     "metadata": {},
     "output_type": "execute_result"
    }
   ],
   "source": [
    "card.head()"
   ]
  },
  {
   "cell_type": "code",
   "execution_count": 278,
   "metadata": {},
   "outputs": [
    {
     "data": {
      "text/plain": [
       "True"
      ]
     },
     "execution_count": 278,
     "metadata": {},
     "output_type": "execute_result"
    }
   ],
   "source": [
    "is_numeric_dtype(card['expirationDateKeyInMatch'])"
   ]
  },
  {
   "cell_type": "code",
   "execution_count": 280,
   "metadata": {},
   "outputs": [
    {
     "data": {
      "text/plain": [
       "True"
      ]
     },
     "execution_count": 280,
     "metadata": {},
     "output_type": "execute_result"
    }
   ],
   "source": [
    "is_string_dtype(card['accountNumber'])"
   ]
  },
  {
   "cell_type": "code",
   "execution_count": 285,
   "metadata": {},
   "outputs": [
    {
     "data": {
      "text/plain": [
       "[5000.0, 2500.0, 50000.0, 15000.0, 10000.0, 250.0, 500.0, 1000.0, 7500.0, 20000.0]\n",
       "Categories (10, float64): [5000.0, 2500.0, 50000.0, 15000.0, ..., 500.0, 1000.0, 7500.0, 20000.0]"
      ]
     },
     "execution_count": 285,
     "metadata": {},
     "output_type": "execute_result"
    }
   ],
   "source": [
    "card.creditLimit.astype(\"category\").unique()"
   ]
  },
  {
   "cell_type": "code",
   "execution_count": 281,
   "metadata": {},
   "outputs": [
    {
     "name": "stdout",
     "output_type": "stream",
     "text": [
      "accountNumber\n",
      "0         737265056\n",
      "1         737265056\n",
      "2         737265056\n",
      "3         737265056\n",
      "4         830329091\n",
      "            ...    \n",
      "786358    732852505\n",
      "786359    732852505\n",
      "786360    732852505\n",
      "786361    732852505\n",
      "786362    732852505\n",
      "Name: accountNumber, Length: 786363, dtype: object\n"
     ]
    }
   ],
   "source": [
    "for n, c in card.items():\n",
    "    print(n)\n",
    "    print(c)\n",
    "    break"
   ]
  },
  {
   "cell_type": "code",
   "execution_count": null,
   "metadata": {},
   "outputs": [],
   "source": []
  },
  {
   "cell_type": "code",
   "execution_count": null,
   "metadata": {},
   "outputs": [],
   "source": []
  },
  {
   "cell_type": "code",
   "execution_count": 282,
   "metadata": {},
   "outputs": [
    {
     "data": {
      "text/plain": [
       "19"
      ]
     },
     "execution_count": 282,
     "metadata": {},
     "output_type": "execute_result"
    }
   ],
   "source": [
    "card.merchantCategoryCode.nunique()"
   ]
  },
  {
   "cell_type": "code",
   "execution_count": 279,
   "metadata": {},
   "outputs": [
    {
     "name": "stdout",
     "output_type": "stream",
     "text": [
      "<class 'pandas.core.frame.DataFrame'>\n",
      "RangeIndex: 786363 entries, 0 to 786362\n",
      "Data columns (total 30 columns):\n",
      " #   Column                    Non-Null Count   Dtype   \n",
      "---  ------                    --------------   -----   \n",
      " 0   accountNumber             786363 non-null  object  \n",
      " 1   customerId                786363 non-null  object  \n",
      " 2   creditLimit               786363 non-null  float32 \n",
      " 3   availableMoney            786363 non-null  float32 \n",
      " 4   transactionDateTime       786363 non-null  object  \n",
      " 5   transactionAmount         786363 non-null  float32 \n",
      " 6   merchantName              786363 non-null  category\n",
      " 7   acqCountry                786363 non-null  category\n",
      " 8   merchantCountryCode       786363 non-null  category\n",
      " 9   posEntryMode              786363 non-null  category\n",
      " 10  posConditionCode          786363 non-null  category\n",
      " 11  merchantCategoryCode      786363 non-null  category\n",
      " 12  currentExpDate            786363 non-null  object  \n",
      " 13  accountOpenDate           786363 non-null  object  \n",
      " 14  dateOfLastAddressChange   786363 non-null  object  \n",
      " 15  cardCVV                   786363 non-null  category\n",
      " 16  enteredCVV                786363 non-null  category\n",
      " 17  cardLast4Digits           786363 non-null  category\n",
      " 18  transactionType           786363 non-null  category\n",
      " 19  echoBuffer                786363 non-null  object  \n",
      " 20  currentBalance            786363 non-null  float32 \n",
      " 21  merchantCity              786363 non-null  object  \n",
      " 22  merchantState             786363 non-null  object  \n",
      " 23  merchantZip               786363 non-null  object  \n",
      " 24  cardPresent               786363 non-null  bool    \n",
      " 25  posOnPremises             786363 non-null  object  \n",
      " 26  recurringAuthInd          786363 non-null  object  \n",
      " 27  expirationDateKeyInMatch  786363 non-null  bool    \n",
      " 28  isFraud                   786363 non-null  bool    \n",
      " 29  creditCard                786363 non-null  object  \n",
      "dtypes: bool(3), category(10), float32(4), object(13)\n",
      "memory usage: 103.1+ MB\n"
     ]
    }
   ],
   "source": [
    "card.info()"
   ]
  },
  {
   "cell_type": "code",
   "execution_count": 244,
   "metadata": {},
   "outputs": [],
   "source": [
    "# step 1\n",
    "ImputeBlankValues = SimpleImputer(missing_values=\"\", strategy='constant',fill_value=np.nan)\n"
   ]
  },
  {
   "cell_type": "code",
   "execution_count": null,
   "metadata": {},
   "outputs": [],
   "source": []
  },
  {
   "cell_type": "code",
   "execution_count": 7,
   "metadata": {},
   "outputs": [],
   "source": [
    "#Categrical features to pass down the categorical pipeline \n",
    "cateforical_features = ['cardCVV', 'enteredCVV',\"merchantCategoryCode\",\"merchantName\",\"creditLimit\"]\n",
    "\n",
    "#dummy features to get one-hot encoded to pass down categorical pipeline\n",
    "dummy_features = [\"acqCountry\",\"merchantCountryCode\",\"posEntryMode\",\"posConditionCode\",\"transactionType\"]\n",
    "\n",
    "#Numerical features to pass down the numerical pipeline \n",
    "numerical_features = ['availableMoney', 'transactionAmount', 'currentBalance','posOnPremises','cardPresent']\n",
    "\n",
    "#datetime features to pass down the datetime pipeline \n",
    "datetime_features = [\"transactionDateTime\",\"accountOpenDate\",\"dateOfLastAddressChange\",'currentExpDate']\n",
    "\n",
    "\n",
    "\n",
    "#anomaly test features to be judged if deviate from non-fraud transactions\n",
    "anomaly_test_features = [\"reg_merchantName\",\"transactionDateTimeHour\",\"transactionDateTimeDayofweek\"]\n",
    "\n",
    "#Defining the steps in the categorical pipeline \n",
    "categorical_pipeline = Pipeline( steps = [ ( 'cat_selector', FeatureSelector(cateforical_features+dummy_features) ),\n",
    "                                  ( 'cat_transformer', CategoricalTransformer() )#,])\n",
    "                                 ( 'one_hot_encoder', OneHotEncoder( sparse = False ) ) ] )\n",
    "    \n",
    "#Defining the steps in the numerical pipeline     \n",
    "numerical_pipeline = Pipeline( steps = [ ( 'num_selector', FeatureSelector(numerical_features) ),\n",
    "                                  ( 'num_transformer', NumericalTransformer() ) ] )\n",
    "\n",
    "#Defining the steps in the date pipeline     \n",
    "date_pipeline = Pipeline( steps = [ ( 'date_selector', FeatureSelector(datetime_features) ),\n",
    "                                  ( 'date_transformer', DateTransformer(\"currentExpDate\") ),\n",
    "                                        ('date_extractor',ExtractDatePart(\"transactionDateTime\")),\n",
    "                                        ('calculate_days_diff',GetDayDiff())\n",
    "                                       ] )\n",
    "\n",
    "#Combining numerical and categorical piepline into one full big pipeline horizontally \n",
    "#using FeatureUnion\n",
    "full_pipeline = FeatureUnion( transformer_list = [ ( 'categorical_pipeline', categorical_pipeline ), \n",
    "                                                  ( 'numerical_pipeline', numerical_pipeline ),\n",
    "                                                 ('date_pipeline', date_pipeline)] )\n",
    "\n"
   ]
  },
  {
   "cell_type": "code",
   "execution_count": 8,
   "metadata": {},
   "outputs": [],
   "source": [
    "X_model = full_pipeline.fit_transform(X_train)"
   ]
  },
  {
   "cell_type": "code",
   "execution_count": 10,
   "metadata": {},
   "outputs": [
    {
     "data": {
      "text/plain": [
       "(629090, 31)"
      ]
     },
     "execution_count": 10,
     "metadata": {},
     "output_type": "execute_result"
    }
   ],
   "source": [
    "X_model.shape"
   ]
  },
  {
   "cell_type": "code",
   "execution_count": 11,
   "metadata": {},
   "outputs": [
    {
     "data": {
      "text/plain": [
       "(629090, 29)"
      ]
     },
     "execution_count": 11,
     "metadata": {},
     "output_type": "execute_result"
    }
   ],
   "source": [
    "X_train.shape"
   ]
  },
  {
   "cell_type": "code",
   "execution_count": 21,
   "metadata": {},
   "outputs": [],
   "source": [
    "test_an = card[[\"accountNumber\",\"transactionDateTime\",\"merchantName\",\"isFraud\"]]"
   ]
  },
  {
   "cell_type": "code",
   "execution_count": 22,
   "metadata": {},
   "outputs": [],
   "source": [
    "test_an.sort_values(by=[\"accountNumber\",\"transactionDateTime\"],inplace=True)"
   ]
  },
  {
   "cell_type": "code",
   "execution_count": 54,
   "metadata": {},
   "outputs": [],
   "source": [
    "def anmly(df):\n",
    "    cur_val=set()\n",
    "    out = []\n",
    "    #print(df)\n",
    "    for i,v in enumerate(df['merchantName']):\n",
    "        if not y[i]:\n",
    "            cur_val.add(v)\n",
    "        else:\n",
    "            if not v in cur_val:\n",
    "                out.append(1)\n",
    "                continue\n",
    "        out.append(0)\n",
    "    #print(len(out)==len(df))\n",
    "    return pd.Series(out,name=\"is_n\")#,index=range(len(df)))"
   ]
  },
  {
   "cell_type": "code",
   "execution_count": 36,
   "metadata": {},
   "outputs": [
    {
     "data": {
      "text/plain": [
       "accountNumber               0\n",
       "transactionDateTime         0\n",
       "merchantName                0\n",
       "isFraud                     0\n",
       "is_bad                 786363\n",
       "dtype: int64"
      ]
     },
     "execution_count": 36,
     "metadata": {},
     "output_type": "execute_result"
    }
   ],
   "source": [
    "test_an.isnull().sum()"
   ]
  },
  {
   "cell_type": "code",
   "execution_count": 43,
   "metadata": {},
   "outputs": [
    {
     "data": {
      "text/html": [
       "<div>\n",
       "<style scoped>\n",
       "    .dataframe tbody tr th:only-of-type {\n",
       "        vertical-align: middle;\n",
       "    }\n",
       "\n",
       "    .dataframe tbody tr th {\n",
       "        vertical-align: top;\n",
       "    }\n",
       "\n",
       "    .dataframe thead th {\n",
       "        text-align: right;\n",
       "    }\n",
       "</style>\n",
       "<table border=\"1\" class=\"dataframe\">\n",
       "  <thead>\n",
       "    <tr style=\"text-align: right;\">\n",
       "      <th></th>\n",
       "      <th>accountNumber</th>\n",
       "      <th>transactionDateTime</th>\n",
       "      <th>merchantName</th>\n",
       "      <th>isFraud</th>\n",
       "      <th>is_bad</th>\n",
       "    </tr>\n",
       "  </thead>\n",
       "  <tbody>\n",
       "    <tr>\n",
       "      <th>541900</th>\n",
       "      <td>100088067</td>\n",
       "      <td>2016-01-12T00:59:52</td>\n",
       "      <td>EZ Putt Putt #982199</td>\n",
       "      <td>False</td>\n",
       "      <td>NaN</td>\n",
       "    </tr>\n",
       "    <tr>\n",
       "      <th>541901</th>\n",
       "      <td>100088067</td>\n",
       "      <td>2016-01-12T19:49:41</td>\n",
       "      <td>Dinosaur Sandwitch Bar #303701</td>\n",
       "      <td>False</td>\n",
       "      <td>NaN</td>\n",
       "    </tr>\n",
       "    <tr>\n",
       "      <th>541902</th>\n",
       "      <td>100088067</td>\n",
       "      <td>2016-01-17T15:41:46</td>\n",
       "      <td>Mobile eCards</td>\n",
       "      <td>False</td>\n",
       "      <td>NaN</td>\n",
       "    </tr>\n",
       "    <tr>\n",
       "      <th>541903</th>\n",
       "      <td>100088067</td>\n",
       "      <td>2016-02-02T19:57:18</td>\n",
       "      <td>EZ Putt Putt #40513</td>\n",
       "      <td>False</td>\n",
       "      <td>NaN</td>\n",
       "    </tr>\n",
       "    <tr>\n",
       "      <th>541904</th>\n",
       "      <td>100088067</td>\n",
       "      <td>2016-02-03T04:48:54</td>\n",
       "      <td>34th BBQ #412895</td>\n",
       "      <td>False</td>\n",
       "      <td>NaN</td>\n",
       "    </tr>\n",
       "  </tbody>\n",
       "</table>\n",
       "</div>"
      ],
      "text/plain": [
       "       accountNumber  transactionDateTime                    merchantName  isFraud is_bad\n",
       "541900     100088067  2016-01-12T00:59:52            EZ Putt Putt #982199    False    NaN\n",
       "541901     100088067  2016-01-12T19:49:41  Dinosaur Sandwitch Bar #303701    False    NaN\n",
       "541902     100088067  2016-01-17T15:41:46                   Mobile eCards    False    NaN\n",
       "541903     100088067  2016-02-02T19:57:18             EZ Putt Putt #40513    False    NaN\n",
       "541904     100088067  2016-02-03T04:48:54                34th BBQ #412895    False    NaN"
      ]
     },
     "execution_count": 43,
     "metadata": {},
     "output_type": "execute_result"
    }
   ],
   "source": [
    "test_an.head()"
   ]
  },
  {
   "cell_type": "code",
   "execution_count": 45,
   "metadata": {
    "collapsed": true
   },
   "outputs": [
    {
     "ename": "TypeError",
     "evalue": "incompatible index of inserted column with frame index",
     "output_type": "error",
     "traceback": [
      "\u001b[0;31m---------------------------------------------------------------------------\u001b[0m",
      "\u001b[0;31mValueError\u001b[0m                                Traceback (most recent call last)",
      "\u001b[0;32m~/anaconda3/envs/tensorflow_p36/lib/python3.6/site-packages/pandas/core/frame.py\u001b[0m in \u001b[0;36mreindexer\u001b[0;34m(value)\u001b[0m\n\u001b[1;32m   3598\u001b[0m                 \u001b[0;32mtry\u001b[0m\u001b[0;34m:\u001b[0m\u001b[0;34m\u001b[0m\u001b[0;34m\u001b[0m\u001b[0m\n\u001b[0;32m-> 3599\u001b[0;31m                     \u001b[0mvalue\u001b[0m \u001b[0;34m=\u001b[0m \u001b[0mvalue\u001b[0m\u001b[0;34m.\u001b[0m\u001b[0mreindex\u001b[0m\u001b[0;34m(\u001b[0m\u001b[0mself\u001b[0m\u001b[0;34m.\u001b[0m\u001b[0mindex\u001b[0m\u001b[0;34m)\u001b[0m\u001b[0;34m.\u001b[0m\u001b[0m_values\u001b[0m\u001b[0;34m\u001b[0m\u001b[0;34m\u001b[0m\u001b[0m\n\u001b[0m\u001b[1;32m   3600\u001b[0m                 \u001b[0;32mexcept\u001b[0m \u001b[0mValueError\u001b[0m \u001b[0;32mas\u001b[0m \u001b[0merr\u001b[0m\u001b[0;34m:\u001b[0m\u001b[0;34m\u001b[0m\u001b[0;34m\u001b[0m\u001b[0m\n",
      "\u001b[0;32m~/anaconda3/envs/tensorflow_p36/lib/python3.6/site-packages/pandas/core/series.py\u001b[0m in \u001b[0;36mreindex\u001b[0;34m(self, index, **kwargs)\u001b[0m\n\u001b[1;32m   4029\u001b[0m     \u001b[0;32mdef\u001b[0m \u001b[0mreindex\u001b[0m\u001b[0;34m(\u001b[0m\u001b[0mself\u001b[0m\u001b[0;34m,\u001b[0m \u001b[0mindex\u001b[0m\u001b[0;34m=\u001b[0m\u001b[0;32mNone\u001b[0m\u001b[0;34m,\u001b[0m \u001b[0;34m**\u001b[0m\u001b[0mkwargs\u001b[0m\u001b[0;34m)\u001b[0m\u001b[0;34m:\u001b[0m\u001b[0;34m\u001b[0m\u001b[0;34m\u001b[0m\u001b[0m\n\u001b[0;32m-> 4030\u001b[0;31m         \u001b[0;32mreturn\u001b[0m \u001b[0msuper\u001b[0m\u001b[0;34m(\u001b[0m\u001b[0;34m)\u001b[0m\u001b[0;34m.\u001b[0m\u001b[0mreindex\u001b[0m\u001b[0;34m(\u001b[0m\u001b[0mindex\u001b[0m\u001b[0;34m=\u001b[0m\u001b[0mindex\u001b[0m\u001b[0;34m,\u001b[0m \u001b[0;34m**\u001b[0m\u001b[0mkwargs\u001b[0m\u001b[0;34m)\u001b[0m\u001b[0;34m\u001b[0m\u001b[0;34m\u001b[0m\u001b[0m\n\u001b[0m\u001b[1;32m   4031\u001b[0m \u001b[0;34m\u001b[0m\u001b[0m\n",
      "\u001b[0;32m~/anaconda3/envs/tensorflow_p36/lib/python3.6/site-packages/pandas/core/generic.py\u001b[0m in \u001b[0;36mreindex\u001b[0;34m(self, *args, **kwargs)\u001b[0m\n\u001b[1;32m   4543\u001b[0m         return self._reindex_axes(\n\u001b[0;32m-> 4544\u001b[0;31m             \u001b[0maxes\u001b[0m\u001b[0;34m,\u001b[0m \u001b[0mlevel\u001b[0m\u001b[0;34m,\u001b[0m \u001b[0mlimit\u001b[0m\u001b[0;34m,\u001b[0m \u001b[0mtolerance\u001b[0m\u001b[0;34m,\u001b[0m \u001b[0mmethod\u001b[0m\u001b[0;34m,\u001b[0m \u001b[0mfill_value\u001b[0m\u001b[0;34m,\u001b[0m \u001b[0mcopy\u001b[0m\u001b[0;34m\u001b[0m\u001b[0;34m\u001b[0m\u001b[0m\n\u001b[0m\u001b[1;32m   4545\u001b[0m         ).__finalize__(self)\n",
      "\u001b[0;32m~/anaconda3/envs/tensorflow_p36/lib/python3.6/site-packages/pandas/core/generic.py\u001b[0m in \u001b[0;36m_reindex_axes\u001b[0;34m(self, axes, level, limit, tolerance, method, fill_value, copy)\u001b[0m\n\u001b[1;32m   4558\u001b[0m             new_index, indexer = ax.reindex(\n\u001b[0;32m-> 4559\u001b[0;31m                 \u001b[0mlabels\u001b[0m\u001b[0;34m,\u001b[0m \u001b[0mlevel\u001b[0m\u001b[0;34m=\u001b[0m\u001b[0mlevel\u001b[0m\u001b[0;34m,\u001b[0m \u001b[0mlimit\u001b[0m\u001b[0;34m=\u001b[0m\u001b[0mlimit\u001b[0m\u001b[0;34m,\u001b[0m \u001b[0mtolerance\u001b[0m\u001b[0;34m=\u001b[0m\u001b[0mtolerance\u001b[0m\u001b[0;34m,\u001b[0m \u001b[0mmethod\u001b[0m\u001b[0;34m=\u001b[0m\u001b[0mmethod\u001b[0m\u001b[0;34m\u001b[0m\u001b[0;34m\u001b[0m\u001b[0m\n\u001b[0m\u001b[1;32m   4560\u001b[0m             )\n",
      "\u001b[0;32m~/anaconda3/envs/tensorflow_p36/lib/python3.6/site-packages/pandas/core/indexes/multi.py\u001b[0m in \u001b[0;36mreindex\u001b[0;34m(self, target, method, level, limit, tolerance)\u001b[0m\n\u001b[1;32m   2424\u001b[0m                 \u001b[0;31m# hopefully?\u001b[0m\u001b[0;34m\u001b[0m\u001b[0;34m\u001b[0m\u001b[0;34m\u001b[0m\u001b[0m\n\u001b[0;32m-> 2425\u001b[0;31m                 \u001b[0mtarget\u001b[0m \u001b[0;34m=\u001b[0m \u001b[0mMultiIndex\u001b[0m\u001b[0;34m.\u001b[0m\u001b[0mfrom_tuples\u001b[0m\u001b[0;34m(\u001b[0m\u001b[0mtarget\u001b[0m\u001b[0;34m)\u001b[0m\u001b[0;34m\u001b[0m\u001b[0;34m\u001b[0m\u001b[0m\n\u001b[0m\u001b[1;32m   2426\u001b[0m \u001b[0;34m\u001b[0m\u001b[0m\n",
      "\u001b[0;32m~/anaconda3/envs/tensorflow_p36/lib/python3.6/site-packages/pandas/core/indexes/multi.py\u001b[0m in \u001b[0;36mfrom_tuples\u001b[0;34m(cls, tuples, sortorder, names)\u001b[0m\n\u001b[1;32m    488\u001b[0m \u001b[0;34m\u001b[0m\u001b[0m\n\u001b[0;32m--> 489\u001b[0;31m             \u001b[0marrays\u001b[0m \u001b[0;34m=\u001b[0m \u001b[0mlist\u001b[0m\u001b[0;34m(\u001b[0m\u001b[0mlib\u001b[0m\u001b[0;34m.\u001b[0m\u001b[0mtuples_to_object_array\u001b[0m\u001b[0;34m(\u001b[0m\u001b[0mtuples\u001b[0m\u001b[0;34m)\u001b[0m\u001b[0;34m.\u001b[0m\u001b[0mT\u001b[0m\u001b[0;34m)\u001b[0m\u001b[0;34m\u001b[0m\u001b[0;34m\u001b[0m\u001b[0m\n\u001b[0m\u001b[1;32m    490\u001b[0m         \u001b[0;32melif\u001b[0m \u001b[0misinstance\u001b[0m\u001b[0;34m(\u001b[0m\u001b[0mtuples\u001b[0m\u001b[0;34m,\u001b[0m \u001b[0mlist\u001b[0m\u001b[0;34m)\u001b[0m\u001b[0;34m:\u001b[0m\u001b[0;34m\u001b[0m\u001b[0;34m\u001b[0m\u001b[0m\n",
      "\u001b[0;32mpandas/_libs/lib.pyx\u001b[0m in \u001b[0;36mpandas._libs.lib.tuples_to_object_array\u001b[0;34m()\u001b[0m\n",
      "\u001b[0;31mValueError\u001b[0m: Buffer dtype mismatch, expected 'Python object' but got 'long'",
      "\nDuring handling of the above exception, another exception occurred:\n",
      "\u001b[0;31mTypeError\u001b[0m                                 Traceback (most recent call last)",
      "\u001b[0;32m<ipython-input-45-866a4fe755e4>\u001b[0m in \u001b[0;36m<module>\u001b[0;34m\u001b[0m\n\u001b[0;32m----> 1\u001b[0;31m \u001b[0mtest_an\u001b[0m\u001b[0;34m[\u001b[0m\u001b[0;34m'is_bad'\u001b[0m\u001b[0;34m]\u001b[0m \u001b[0;34m=\u001b[0m \u001b[0mtest_an\u001b[0m\u001b[0;34m.\u001b[0m\u001b[0mgroupby\u001b[0m\u001b[0;34m(\u001b[0m\u001b[0;34m\"accountNumber\"\u001b[0m\u001b[0;34m)\u001b[0m\u001b[0;34m.\u001b[0m\u001b[0mapply\u001b[0m\u001b[0;34m(\u001b[0m\u001b[0manmly\u001b[0m\u001b[0;34m)\u001b[0m\u001b[0;34m\u001b[0m\u001b[0;34m\u001b[0m\u001b[0m\n\u001b[0m",
      "\u001b[0;32m~/anaconda3/envs/tensorflow_p36/lib/python3.6/site-packages/pandas/core/frame.py\u001b[0m in \u001b[0;36m__setitem__\u001b[0;34m(self, key, value)\u001b[0m\n\u001b[1;32m   2936\u001b[0m         \u001b[0;32melse\u001b[0m\u001b[0;34m:\u001b[0m\u001b[0;34m\u001b[0m\u001b[0;34m\u001b[0m\u001b[0m\n\u001b[1;32m   2937\u001b[0m             \u001b[0;31m# set column\u001b[0m\u001b[0;34m\u001b[0m\u001b[0;34m\u001b[0m\u001b[0;34m\u001b[0m\u001b[0m\n\u001b[0;32m-> 2938\u001b[0;31m             \u001b[0mself\u001b[0m\u001b[0;34m.\u001b[0m\u001b[0m_set_item\u001b[0m\u001b[0;34m(\u001b[0m\u001b[0mkey\u001b[0m\u001b[0;34m,\u001b[0m \u001b[0mvalue\u001b[0m\u001b[0;34m)\u001b[0m\u001b[0;34m\u001b[0m\u001b[0;34m\u001b[0m\u001b[0m\n\u001b[0m\u001b[1;32m   2939\u001b[0m \u001b[0;34m\u001b[0m\u001b[0m\n\u001b[1;32m   2940\u001b[0m     \u001b[0;32mdef\u001b[0m \u001b[0m_setitem_slice\u001b[0m\u001b[0;34m(\u001b[0m\u001b[0mself\u001b[0m\u001b[0;34m,\u001b[0m \u001b[0mkey\u001b[0m\u001b[0;34m,\u001b[0m \u001b[0mvalue\u001b[0m\u001b[0;34m)\u001b[0m\u001b[0;34m:\u001b[0m\u001b[0;34m\u001b[0m\u001b[0;34m\u001b[0m\u001b[0m\n",
      "\u001b[0;32m~/anaconda3/envs/tensorflow_p36/lib/python3.6/site-packages/pandas/core/frame.py\u001b[0m in \u001b[0;36m_set_item\u001b[0;34m(self, key, value)\u001b[0m\n\u001b[1;32m   2998\u001b[0m \u001b[0;34m\u001b[0m\u001b[0m\n\u001b[1;32m   2999\u001b[0m         \u001b[0mself\u001b[0m\u001b[0;34m.\u001b[0m\u001b[0m_ensure_valid_index\u001b[0m\u001b[0;34m(\u001b[0m\u001b[0mvalue\u001b[0m\u001b[0;34m)\u001b[0m\u001b[0;34m\u001b[0m\u001b[0;34m\u001b[0m\u001b[0m\n\u001b[0;32m-> 3000\u001b[0;31m         \u001b[0mvalue\u001b[0m \u001b[0;34m=\u001b[0m \u001b[0mself\u001b[0m\u001b[0;34m.\u001b[0m\u001b[0m_sanitize_column\u001b[0m\u001b[0;34m(\u001b[0m\u001b[0mkey\u001b[0m\u001b[0;34m,\u001b[0m \u001b[0mvalue\u001b[0m\u001b[0;34m)\u001b[0m\u001b[0;34m\u001b[0m\u001b[0;34m\u001b[0m\u001b[0m\n\u001b[0m\u001b[1;32m   3001\u001b[0m         \u001b[0mNDFrame\u001b[0m\u001b[0;34m.\u001b[0m\u001b[0m_set_item\u001b[0m\u001b[0;34m(\u001b[0m\u001b[0mself\u001b[0m\u001b[0;34m,\u001b[0m \u001b[0mkey\u001b[0m\u001b[0;34m,\u001b[0m \u001b[0mvalue\u001b[0m\u001b[0;34m)\u001b[0m\u001b[0;34m\u001b[0m\u001b[0;34m\u001b[0m\u001b[0m\n\u001b[1;32m   3002\u001b[0m \u001b[0;34m\u001b[0m\u001b[0m\n",
      "\u001b[0;32m~/anaconda3/envs/tensorflow_p36/lib/python3.6/site-packages/pandas/core/frame.py\u001b[0m in \u001b[0;36m_sanitize_column\u001b[0;34m(self, key, value, broadcast)\u001b[0m\n\u001b[1;32m   3611\u001b[0m \u001b[0;34m\u001b[0m\u001b[0m\n\u001b[1;32m   3612\u001b[0m         \u001b[0;32mif\u001b[0m \u001b[0misinstance\u001b[0m\u001b[0;34m(\u001b[0m\u001b[0mvalue\u001b[0m\u001b[0;34m,\u001b[0m \u001b[0mSeries\u001b[0m\u001b[0;34m)\u001b[0m\u001b[0;34m:\u001b[0m\u001b[0;34m\u001b[0m\u001b[0;34m\u001b[0m\u001b[0m\n\u001b[0;32m-> 3613\u001b[0;31m             \u001b[0mvalue\u001b[0m \u001b[0;34m=\u001b[0m \u001b[0mreindexer\u001b[0m\u001b[0;34m(\u001b[0m\u001b[0mvalue\u001b[0m\u001b[0;34m)\u001b[0m\u001b[0;34m\u001b[0m\u001b[0;34m\u001b[0m\u001b[0m\n\u001b[0m\u001b[1;32m   3614\u001b[0m \u001b[0;34m\u001b[0m\u001b[0m\n\u001b[1;32m   3615\u001b[0m         \u001b[0;32melif\u001b[0m \u001b[0misinstance\u001b[0m\u001b[0;34m(\u001b[0m\u001b[0mvalue\u001b[0m\u001b[0;34m,\u001b[0m \u001b[0mDataFrame\u001b[0m\u001b[0;34m)\u001b[0m\u001b[0;34m:\u001b[0m\u001b[0;34m\u001b[0m\u001b[0;34m\u001b[0m\u001b[0m\n",
      "\u001b[0;32m~/anaconda3/envs/tensorflow_p36/lib/python3.6/site-packages/pandas/core/frame.py\u001b[0m in \u001b[0;36mreindexer\u001b[0;34m(value)\u001b[0m\n\u001b[1;32m   3606\u001b[0m                     \u001b[0;31m# other\u001b[0m\u001b[0;34m\u001b[0m\u001b[0;34m\u001b[0m\u001b[0;34m\u001b[0m\u001b[0m\n\u001b[1;32m   3607\u001b[0m                     raise TypeError(\n\u001b[0;32m-> 3608\u001b[0;31m                         \u001b[0;34m\"incompatible index of inserted column with frame index\"\u001b[0m\u001b[0;34m\u001b[0m\u001b[0;34m\u001b[0m\u001b[0m\n\u001b[0m\u001b[1;32m   3609\u001b[0m                     )\n\u001b[1;32m   3610\u001b[0m             \u001b[0;32mreturn\u001b[0m \u001b[0mvalue\u001b[0m\u001b[0;34m\u001b[0m\u001b[0;34m\u001b[0m\u001b[0m\n",
      "\u001b[0;31mTypeError\u001b[0m: incompatible index of inserted column with frame index"
     ]
    }
   ],
   "source": [
    "test_an['is_bad'] = test_an.groupby(\"accountNumber\").apply(anmly)"
   ]
  },
  {
   "cell_type": "code",
   "execution_count": 55,
   "metadata": {},
   "outputs": [],
   "source": [
    "is_bad = test_an.groupby(\"accountNumber\").apply(anmly)"
   ]
  },
  {
   "cell_type": "code",
   "execution_count": 60,
   "metadata": {},
   "outputs": [
    {
     "data": {
      "text/plain": [
       "0    786060\n",
       "1       303\n",
       "Name: is_n, dtype: int64"
      ]
     },
     "execution_count": 60,
     "metadata": {},
     "output_type": "execute_result"
    }
   ],
   "source": [
    "is_bad.reset_index().is_n.value_counts()"
   ]
  },
  {
   "cell_type": "code",
   "execution_count": null,
   "metadata": {},
   "outputs": [],
   "source": []
  },
  {
   "cell_type": "code",
   "execution_count": 26,
   "metadata": {},
   "outputs": [
    {
     "data": {
      "text/html": [
       "<div>\n",
       "<style scoped>\n",
       "    .dataframe tbody tr th:only-of-type {\n",
       "        vertical-align: middle;\n",
       "    }\n",
       "\n",
       "    .dataframe tbody tr th {\n",
       "        vertical-align: top;\n",
       "    }\n",
       "\n",
       "    .dataframe thead th {\n",
       "        text-align: right;\n",
       "    }\n",
       "</style>\n",
       "<table border=\"1\" class=\"dataframe\">\n",
       "  <thead>\n",
       "    <tr style=\"text-align: right;\">\n",
       "      <th></th>\n",
       "      <th>accountNumber</th>\n",
       "      <th>transactionDateTime</th>\n",
       "      <th>merchantName</th>\n",
       "      <th>isFraud</th>\n",
       "      <th>is_bad</th>\n",
       "    </tr>\n",
       "  </thead>\n",
       "  <tbody>\n",
       "    <tr>\n",
       "      <th>541900</th>\n",
       "      <td>100088067</td>\n",
       "      <td>2016-01-12T00:59:52</td>\n",
       "      <td>EZ Putt Putt #982199</td>\n",
       "      <td>False</td>\n",
       "      <td>NaN</td>\n",
       "    </tr>\n",
       "    <tr>\n",
       "      <th>541901</th>\n",
       "      <td>100088067</td>\n",
       "      <td>2016-01-12T19:49:41</td>\n",
       "      <td>Dinosaur Sandwitch Bar #303701</td>\n",
       "      <td>False</td>\n",
       "      <td>NaN</td>\n",
       "    </tr>\n",
       "    <tr>\n",
       "      <th>541902</th>\n",
       "      <td>100088067</td>\n",
       "      <td>2016-01-17T15:41:46</td>\n",
       "      <td>Mobile eCards</td>\n",
       "      <td>False</td>\n",
       "      <td>NaN</td>\n",
       "    </tr>\n",
       "    <tr>\n",
       "      <th>541903</th>\n",
       "      <td>100088067</td>\n",
       "      <td>2016-02-02T19:57:18</td>\n",
       "      <td>EZ Putt Putt #40513</td>\n",
       "      <td>False</td>\n",
       "      <td>NaN</td>\n",
       "    </tr>\n",
       "    <tr>\n",
       "      <th>541904</th>\n",
       "      <td>100088067</td>\n",
       "      <td>2016-02-03T04:48:54</td>\n",
       "      <td>34th BBQ #412895</td>\n",
       "      <td>False</td>\n",
       "      <td>NaN</td>\n",
       "    </tr>\n",
       "  </tbody>\n",
       "</table>\n",
       "</div>"
      ],
      "text/plain": [
       "       accountNumber  transactionDateTime                    merchantName  isFraud is_bad\n",
       "541900     100088067  2016-01-12T00:59:52            EZ Putt Putt #982199    False    NaN\n",
       "541901     100088067  2016-01-12T19:49:41  Dinosaur Sandwitch Bar #303701    False    NaN\n",
       "541902     100088067  2016-01-17T15:41:46                   Mobile eCards    False    NaN\n",
       "541903     100088067  2016-02-02T19:57:18             EZ Putt Putt #40513    False    NaN\n",
       "541904     100088067  2016-02-03T04:48:54                34th BBQ #412895    False    NaN"
      ]
     },
     "execution_count": 26,
     "metadata": {},
     "output_type": "execute_result"
    }
   ],
   "source": [
    "test_an.head()"
   ]
  },
  {
   "cell_type": "code",
   "execution_count": 12,
   "metadata": {},
   "outputs": [],
   "source": [
    "X_date = date_pipeline.fit_transform(X_train)"
   ]
  },
  {
   "cell_type": "code",
   "execution_count": 14,
   "metadata": {},
   "outputs": [
    {
     "name": "stdout",
     "output_type": "stream",
     "text": [
      "<class 'pandas.core.frame.DataFrame'>\n",
      "Int64Index: 629090 entries, 574774 to 435684\n",
      "Data columns (total 14 columns):\n",
      " #   Column                               Non-Null Count   Dtype         \n",
      "---  ------                               --------------   -----         \n",
      " 0   transactionDateTime                  629090 non-null  datetime64[ns]\n",
      " 1   transactionDateTimeMonth             629090 non-null  int64         \n",
      " 2   transactionDateTimeWeek              629090 non-null  int64         \n",
      " 3   transactionDateTimeDay               629090 non-null  int64         \n",
      " 4   transactionDateTimeDayofweek         629090 non-null  int64         \n",
      " 5   transactionDateTimeDayofyear         629090 non-null  int64         \n",
      " 6   transactionDateTimehour              629090 non-null  int64         \n",
      " 7   transactionDateTimeIs_month_end      629090 non-null  bool          \n",
      " 8   transactionDateTimeIs_month_start    629090 non-null  bool          \n",
      " 9   transactionDateTimeIs_quarter_end    629090 non-null  bool          \n",
      " 10  transactionDateTimeIs_quarter_start  629090 non-null  bool          \n",
      " 11  days_Open_trans                      629090 non-null  int64         \n",
      " 12  days_AddressChange_trans             629090 non-null  int64         \n",
      " 13  days_Exp_trans                       629090 non-null  int64         \n",
      "dtypes: bool(4), datetime64[ns](1), int64(9)\n",
      "memory usage: 55.2 MB\n"
     ]
    }
   ],
   "source": [
    "X_date.info()"
   ]
  },
  {
   "cell_type": "code",
   "execution_count": 188,
   "metadata": {
    "scrolled": true
   },
   "outputs": [
    {
     "name": "stdout",
     "output_type": "stream",
     "text": [
      "<class 'pandas.core.frame.DataFrame'>\n",
      "RangeIndex: 786363 entries, 0 to 786362\n",
      "Data columns (total 29 columns):\n",
      " #   Column                    Non-Null Count   Dtype   \n",
      "---  ------                    --------------   -----   \n",
      " 0   accountNumber             786363 non-null  object  \n",
      " 1   customerId                786363 non-null  object  \n",
      " 2   creditLimit               786363 non-null  float32 \n",
      " 3   availableMoney            786363 non-null  float32 \n",
      " 4   transactionDateTime       786363 non-null  object  \n",
      " 5   transactionAmount         786363 non-null  float32 \n",
      " 6   merchantName              786363 non-null  category\n",
      " 7   acqCountry                786363 non-null  category\n",
      " 8   merchantCountryCode       786363 non-null  category\n",
      " 9   posEntryMode              786363 non-null  category\n",
      " 10  posConditionCode          786363 non-null  category\n",
      " 11  merchantCategoryCode      786363 non-null  category\n",
      " 12  currentExpDate            786363 non-null  object  \n",
      " 13  accountOpenDate           786363 non-null  object  \n",
      " 14  dateOfLastAddressChange   786363 non-null  object  \n",
      " 15  cardCVV                   786363 non-null  category\n",
      " 16  enteredCVV                786363 non-null  category\n",
      " 17  cardLast4Digits           786363 non-null  category\n",
      " 18  transactionType           786363 non-null  category\n",
      " 19  echoBuffer                786363 non-null  object  \n",
      " 20  currentBalance            786363 non-null  float32 \n",
      " 21  merchantCity              786363 non-null  object  \n",
      " 22  merchantState             786363 non-null  object  \n",
      " 23  merchantZip               786363 non-null  object  \n",
      " 24  cardPresent               786363 non-null  bool    \n",
      " 25  posOnPremises             786363 non-null  object  \n",
      " 26  recurringAuthInd          786363 non-null  object  \n",
      " 27  expirationDateKeyInMatch  786363 non-null  bool    \n",
      " 28  isFraud                   786363 non-null  bool    \n",
      "dtypes: bool(3), category(10), float32(4), object(12)\n",
      "memory usage: 97.1+ MB\n"
     ]
    }
   ],
   "source": [
    "card.info()"
   ]
  },
  {
   "cell_type": "code",
   "execution_count": 266,
   "metadata": {},
   "outputs": [],
   "source": [
    "drp = DropSomeColumns(drp_cols)"
   ]
  },
  {
   "cell_type": "code",
   "execution_count": 267,
   "metadata": {},
   "outputs": [
    {
     "data": {
      "text/html": [
       "<div>\n",
       "<style scoped>\n",
       "    .dataframe tbody tr th:only-of-type {\n",
       "        vertical-align: middle;\n",
       "    }\n",
       "\n",
       "    .dataframe tbody tr th {\n",
       "        vertical-align: top;\n",
       "    }\n",
       "\n",
       "    .dataframe thead th {\n",
       "        text-align: right;\n",
       "    }\n",
       "</style>\n",
       "<table border=\"1\" class=\"dataframe\">\n",
       "  <thead>\n",
       "    <tr style=\"text-align: right;\">\n",
       "      <th></th>\n",
       "      <th>accountNumber</th>\n",
       "      <th>creditLimit</th>\n",
       "      <th>availableMoney</th>\n",
       "      <th>transactionAmount</th>\n",
       "      <th>merchantName</th>\n",
       "      <th>acqCountry</th>\n",
       "      <th>merchantCountryCode</th>\n",
       "      <th>posEntryMode</th>\n",
       "      <th>posConditionCode</th>\n",
       "      <th>merchantCategoryCode</th>\n",
       "      <th>cardCVV</th>\n",
       "      <th>enteredCVV</th>\n",
       "      <th>cardLast4Digits</th>\n",
       "      <th>transactionType</th>\n",
       "      <th>currentBalance</th>\n",
       "      <th>cardPresent</th>\n",
       "      <th>expirationDateKeyInMatch</th>\n",
       "    </tr>\n",
       "  </thead>\n",
       "  <tbody>\n",
       "    <tr>\n",
       "      <th>449692</th>\n",
       "      <td>529506600</td>\n",
       "      <td>5000.0</td>\n",
       "      <td>3507.330078</td>\n",
       "      <td>30.990000</td>\n",
       "      <td>EZ Putt Putt #240241</td>\n",
       "      <td>US</td>\n",
       "      <td>US</td>\n",
       "      <td>05</td>\n",
       "      <td>01</td>\n",
       "      <td>entertainment</td>\n",
       "      <td>457</td>\n",
       "      <td>457</td>\n",
       "      <td>303</td>\n",
       "      <td>PURCHASE</td>\n",
       "      <td>1492.670044</td>\n",
       "      <td>True</td>\n",
       "      <td>False</td>\n",
       "    </tr>\n",
       "    <tr>\n",
       "      <th>91958</th>\n",
       "      <td>271843348</td>\n",
       "      <td>10000.0</td>\n",
       "      <td>9092.089844</td>\n",
       "      <td>54.700001</td>\n",
       "      <td>Powerlifting #446663</td>\n",
       "      <td>US</td>\n",
       "      <td>US</td>\n",
       "      <td>05</td>\n",
       "      <td>01</td>\n",
       "      <td>health</td>\n",
       "      <td>990</td>\n",
       "      <td>990</td>\n",
       "      <td>8461</td>\n",
       "      <td>PURCHASE</td>\n",
       "      <td>907.909973</td>\n",
       "      <td>True</td>\n",
       "      <td>False</td>\n",
       "    </tr>\n",
       "    <tr>\n",
       "      <th>280832</th>\n",
       "      <td>903700037</td>\n",
       "      <td>5000.0</td>\n",
       "      <td>4360.029785</td>\n",
       "      <td>34.279999</td>\n",
       "      <td>Texas Gas #370372</td>\n",
       "      <td>US</td>\n",
       "      <td>US</td>\n",
       "      <td>02</td>\n",
       "      <td>08</td>\n",
       "      <td>fuel</td>\n",
       "      <td>515</td>\n",
       "      <td>515</td>\n",
       "      <td>4021</td>\n",
       "      <td>PURCHASE</td>\n",
       "      <td>639.969971</td>\n",
       "      <td>True</td>\n",
       "      <td>False</td>\n",
       "    </tr>\n",
       "    <tr>\n",
       "      <th>726609</th>\n",
       "      <td>552114305</td>\n",
       "      <td>250.0</td>\n",
       "      <td>250.000000</td>\n",
       "      <td>471.640015</td>\n",
       "      <td>Hardee's #557866</td>\n",
       "      <td></td>\n",
       "      <td>US</td>\n",
       "      <td>02</td>\n",
       "      <td>08</td>\n",
       "      <td>fastfood</td>\n",
       "      <td>113</td>\n",
       "      <td>113</td>\n",
       "      <td>4561</td>\n",
       "      <td>PURCHASE</td>\n",
       "      <td>0.000000</td>\n",
       "      <td>True</td>\n",
       "      <td>False</td>\n",
       "    </tr>\n",
       "    <tr>\n",
       "      <th>340047</th>\n",
       "      <td>369308035</td>\n",
       "      <td>15000.0</td>\n",
       "      <td>2883.449951</td>\n",
       "      <td>3.410000</td>\n",
       "      <td>Chicago News</td>\n",
       "      <td>US</td>\n",
       "      <td>US</td>\n",
       "      <td>05</td>\n",
       "      <td>01</td>\n",
       "      <td>subscriptions</td>\n",
       "      <td>696</td>\n",
       "      <td>686</td>\n",
       "      <td>9311</td>\n",
       "      <td>PURCHASE</td>\n",
       "      <td>12116.549805</td>\n",
       "      <td>True</td>\n",
       "      <td>False</td>\n",
       "    </tr>\n",
       "    <tr>\n",
       "      <th>...</th>\n",
       "      <td>...</td>\n",
       "      <td>...</td>\n",
       "      <td>...</td>\n",
       "      <td>...</td>\n",
       "      <td>...</td>\n",
       "      <td>...</td>\n",
       "      <td>...</td>\n",
       "      <td>...</td>\n",
       "      <td>...</td>\n",
       "      <td>...</td>\n",
       "      <td>...</td>\n",
       "      <td>...</td>\n",
       "      <td>...</td>\n",
       "      <td>...</td>\n",
       "      <td>...</td>\n",
       "      <td>...</td>\n",
       "      <td>...</td>\n",
       "    </tr>\n",
       "    <tr>\n",
       "      <th>204512</th>\n",
       "      <td>581666160</td>\n",
       "      <td>15000.0</td>\n",
       "      <td>14148.580078</td>\n",
       "      <td>7.560000</td>\n",
       "      <td>Uber</td>\n",
       "      <td>US</td>\n",
       "      <td>US</td>\n",
       "      <td>05</td>\n",
       "      <td>08</td>\n",
       "      <td>rideshare</td>\n",
       "      <td>265</td>\n",
       "      <td>265</td>\n",
       "      <td>4490</td>\n",
       "      <td>PURCHASE</td>\n",
       "      <td>851.419983</td>\n",
       "      <td>False</td>\n",
       "      <td>False</td>\n",
       "    </tr>\n",
       "    <tr>\n",
       "      <th>626840</th>\n",
       "      <td>247130864</td>\n",
       "      <td>5000.0</td>\n",
       "      <td>1723.989990</td>\n",
       "      <td>33.799999</td>\n",
       "      <td>Lyft</td>\n",
       "      <td>US</td>\n",
       "      <td>US</td>\n",
       "      <td>02</td>\n",
       "      <td>01</td>\n",
       "      <td>rideshare</td>\n",
       "      <td>137</td>\n",
       "      <td>137</td>\n",
       "      <td>2376</td>\n",
       "      <td>PURCHASE</td>\n",
       "      <td>3276.010010</td>\n",
       "      <td>False</td>\n",
       "      <td>False</td>\n",
       "    </tr>\n",
       "    <tr>\n",
       "      <th>532556</th>\n",
       "      <td>612860279</td>\n",
       "      <td>15000.0</td>\n",
       "      <td>8460.549805</td>\n",
       "      <td>56.279999</td>\n",
       "      <td>walmart.com</td>\n",
       "      <td>US</td>\n",
       "      <td>US</td>\n",
       "      <td>09</td>\n",
       "      <td>01</td>\n",
       "      <td>online_retail</td>\n",
       "      <td>486</td>\n",
       "      <td>486</td>\n",
       "      <td>9671</td>\n",
       "      <td>PURCHASE</td>\n",
       "      <td>6539.450195</td>\n",
       "      <td>False</td>\n",
       "      <td>False</td>\n",
       "    </tr>\n",
       "    <tr>\n",
       "      <th>410018</th>\n",
       "      <td>325587097</td>\n",
       "      <td>20000.0</td>\n",
       "      <td>3102.729980</td>\n",
       "      <td>94.349998</td>\n",
       "      <td>Pizza Hut #713576</td>\n",
       "      <td>US</td>\n",
       "      <td>US</td>\n",
       "      <td>02</td>\n",
       "      <td>01</td>\n",
       "      <td>fastfood</td>\n",
       "      <td>980</td>\n",
       "      <td>980</td>\n",
       "      <td>6709</td>\n",
       "      <td>PURCHASE</td>\n",
       "      <td>16897.269531</td>\n",
       "      <td>True</td>\n",
       "      <td>False</td>\n",
       "    </tr>\n",
       "    <tr>\n",
       "      <th>529801</th>\n",
       "      <td>948561932</td>\n",
       "      <td>10000.0</td>\n",
       "      <td>4887.899902</td>\n",
       "      <td>41.110001</td>\n",
       "      <td>Regal Cinemas #276341</td>\n",
       "      <td>US</td>\n",
       "      <td>US</td>\n",
       "      <td>05</td>\n",
       "      <td>08</td>\n",
       "      <td>entertainment</td>\n",
       "      <td>906</td>\n",
       "      <td>906</td>\n",
       "      <td>1048</td>\n",
       "      <td>PURCHASE</td>\n",
       "      <td>5112.100098</td>\n",
       "      <td>True</td>\n",
       "      <td>False</td>\n",
       "    </tr>\n",
       "  </tbody>\n",
       "</table>\n",
       "<p>629090 rows × 17 columns</p>\n",
       "</div>"
      ],
      "text/plain": [
       "       accountNumber  creditLimit  availableMoney  transactionAmount           merchantName acqCountry merchantCountryCode posEntryMode posConditionCode merchantCategoryCode cardCVV enteredCVV cardLast4Digits transactionType  currentBalance  cardPresent  expirationDateKeyInMatch\n",
       "449692     529506600       5000.0     3507.330078          30.990000   EZ Putt Putt #240241         US                  US           05               01        entertainment     457        457             303        PURCHASE     1492.670044         True                     False\n",
       "91958      271843348      10000.0     9092.089844          54.700001   Powerlifting #446663         US                  US           05               01               health     990        990            8461        PURCHASE      907.909973         True                     False\n",
       "280832     903700037       5000.0     4360.029785          34.279999      Texas Gas #370372         US                  US           02               08                 fuel     515        515            4021        PURCHASE      639.969971         True                     False\n",
       "726609     552114305        250.0      250.000000         471.640015       Hardee's #557866                             US           02               08             fastfood     113        113            4561        PURCHASE        0.000000         True                     False\n",
       "340047     369308035      15000.0     2883.449951           3.410000           Chicago News         US                  US           05               01        subscriptions     696        686            9311        PURCHASE    12116.549805         True                     False\n",
       "...              ...          ...             ...                ...                    ...        ...                 ...          ...              ...                  ...     ...        ...             ...             ...             ...          ...                       ...\n",
       "204512     581666160      15000.0    14148.580078           7.560000                   Uber         US                  US           05               08            rideshare     265        265            4490        PURCHASE      851.419983        False                     False\n",
       "626840     247130864       5000.0     1723.989990          33.799999                   Lyft         US                  US           02               01            rideshare     137        137            2376        PURCHASE     3276.010010        False                     False\n",
       "532556     612860279      15000.0     8460.549805          56.279999            walmart.com         US                  US           09               01        online_retail     486        486            9671        PURCHASE     6539.450195        False                     False\n",
       "410018     325587097      20000.0     3102.729980          94.349998      Pizza Hut #713576         US                  US           02               01             fastfood     980        980            6709        PURCHASE    16897.269531         True                     False\n",
       "529801     948561932      10000.0     4887.899902          41.110001  Regal Cinemas #276341         US                  US           05               08        entertainment     906        906            1048        PURCHASE     5112.100098         True                     False\n",
       "\n",
       "[629090 rows x 17 columns]"
      ]
     },
     "execution_count": 267,
     "metadata": {},
     "output_type": "execute_result"
    }
   ],
   "source": [
    "drp.fit_transform(X_train)"
   ]
  },
  {
   "cell_type": "code",
   "execution_count": 268,
   "metadata": {},
   "outputs": [
    {
     "data": {
      "text/plain": [
       "(629090, 28)"
      ]
     },
     "execution_count": 268,
     "metadata": {},
     "output_type": "execute_result"
    }
   ],
   "source": [
    "X_train.shape"
   ]
  },
  {
   "cell_type": "code",
   "execution_count": 222,
   "metadata": {},
   "outputs": [],
   "source": [
    "ConvertToCat = FunctionTransformer(convert_to_cat, validate=False)"
   ]
  },
  {
   "cell_type": "code",
   "execution_count": 225,
   "metadata": {},
   "outputs": [],
   "source": [
    "ConvertToDate = FunctionTransformer(convert_to_date, validate=False)"
   ]
  },
  {
   "cell_type": "code",
   "execution_count": 226,
   "metadata": {},
   "outputs": [],
   "source": [
    "ExtractDateElements = FunctionTransformer(add_datepart, validate=False)"
   ]
  },
  {
   "cell_type": "code",
   "execution_count": 227,
   "metadata": {},
   "outputs": [],
   "source": [
    "GetDayDiff = FunctionTransformer(day_diff, validate=False)"
   ]
  },
  {
   "cell_type": "code",
   "execution_count": 237,
   "metadata": {},
   "outputs": [],
   "source": [
    "drop_columns= DropSomeColumns(cols=drp_cols)"
   ]
  },
  {
   "cell_type": "code",
   "execution_count": 245,
   "metadata": {},
   "outputs": [],
   "source": [
    "numeric_transformer = Pipeline(steps=[\n",
    "    ('imputer', ImputeBlankValues),\n",
    "    ('drop_columns', DropSomeColumns(cols=drp_cols))])\n",
    "date_transformer = Pipeline(steps=[\n",
    "    (\"convert_to_date\", ConvertToDate),\n",
    "    ('extract', ExtractDateElements),\n",
    "    (\"calculate_days\",GetDayDiff)\n",
    "])\n",
    "cat_transformer = Pipeline(steps=[\n",
    "    ('convert_to_cat',ConvertToCat),\n",
    "    #('onehot', OneHotEncoder(handle_unknown='ignore'))\n",
    "])\n"
   ]
  },
  {
   "cell_type": "code",
   "execution_count": 246,
   "metadata": {},
   "outputs": [],
   "source": [
    "model = ensemble.GradientBoostingClassifier(\n",
    "    n_estimators = 100, #how many decision trees to build\n",
    "    learning_rate = 0.5, #controls rate at which additional decision trees influes overall prediction\n",
    "    max_depth = 6, \n",
    "    min_samples_split = 21,\n",
    "    min_samples_leaf = 19, \n",
    "    max_features = 0.9\n",
    ")"
   ]
  },
  {
   "cell_type": "code",
   "execution_count": 307,
   "metadata": {},
   "outputs": [],
   "source": [
    "full_pipeline_m = Pipeline( steps = [ ( 'full_pipeline', full_pipeline),     \n",
    "                                  ( 'model', model ) ] )"
   ]
  },
  {
   "cell_type": "code",
   "execution_count": 6,
   "metadata": {},
   "outputs": [],
   "source": [
    "features = card.drop(['isFraud'], axis=1)\n",
    "X = features\n",
    "y = card['isFraud']\n",
    "X_train, X_test, y_train, y_test = train_test_split(X, y\n",
    "                                                   , test_size = .2\n",
    "                                                   #, stratify=y\n",
    "                                                   )"
   ]
  },
  {
   "cell_type": "code",
   "execution_count": 323,
   "metadata": {},
   "outputs": [],
   "source": [
    "X_cat = categorical_pipeline.fit_transform(X_train)"
   ]
  },
  {
   "cell_type": "code",
   "execution_count": 312,
   "metadata": {},
   "outputs": [
    {
     "data": {
      "text/plain": [
       "accountNumber                    0\n",
       "customerId                       0\n",
       "creditLimit                      0\n",
       "availableMoney                   0\n",
       "transactionDateTime              0\n",
       "transactionAmount                0\n",
       "merchantName                     0\n",
       "acqCountry                    3597\n",
       "merchantCountryCode            582\n",
       "posEntryMode                  3208\n",
       "posConditionCode               328\n",
       "merchantCategoryCode             0\n",
       "currentExpDate                   0\n",
       "accountOpenDate                  0\n",
       "dateOfLastAddressChange          0\n",
       "cardCVV                          0\n",
       "enteredCVV                       0\n",
       "cardLast4Digits                  0\n",
       "transactionType                548\n",
       "echoBuffer                  629090\n",
       "currentBalance                   0\n",
       "merchantCity                629090\n",
       "merchantState               629090\n",
       "merchantZip                 629090\n",
       "cardPresent                      0\n",
       "posOnPremises               629090\n",
       "recurringAuthInd            629090\n",
       "expirationDateKeyInMatch         0\n",
       "creditCard                       0\n",
       "dtype: int64"
      ]
     },
     "execution_count": 312,
     "metadata": {},
     "output_type": "execute_result"
    }
   ],
   "source": [
    "X_train.isnull().sum()"
   ]
  },
  {
   "cell_type": "code",
   "execution_count": 311,
   "metadata": {},
   "outputs": [
    {
     "ename": "ValueError",
     "evalue": "Input contains NaN",
     "output_type": "error",
     "traceback": [
      "\u001b[0;31m---------------------------------------------------------------------------\u001b[0m",
      "\u001b[0;31mValueError\u001b[0m                                Traceback (most recent call last)",
      "\u001b[0;32m<ipython-input-311-315320c28f78>\u001b[0m in \u001b[0;36m<module>\u001b[0;34m\u001b[0m\n\u001b[0;32m----> 1\u001b[0;31m \u001b[0mfull_pipeline_m\u001b[0m\u001b[0;34m.\u001b[0m\u001b[0mfit\u001b[0m\u001b[0;34m(\u001b[0m\u001b[0mX_train\u001b[0m\u001b[0;34m,\u001b[0m \u001b[0my_train\u001b[0m\u001b[0;34m)\u001b[0m\u001b[0;34m\u001b[0m\u001b[0;34m\u001b[0m\u001b[0m\n\u001b[0m",
      "\u001b[0;32m~/anaconda3/envs/python3/lib/python3.6/site-packages/sklearn/pipeline.py\u001b[0m in \u001b[0;36mfit\u001b[0;34m(self, X, y, **fit_params)\u001b[0m\n\u001b[1;32m    328\u001b[0m         \"\"\"\n\u001b[1;32m    329\u001b[0m         \u001b[0mfit_params_steps\u001b[0m \u001b[0;34m=\u001b[0m \u001b[0mself\u001b[0m\u001b[0;34m.\u001b[0m\u001b[0m_check_fit_params\u001b[0m\u001b[0;34m(\u001b[0m\u001b[0;34m**\u001b[0m\u001b[0mfit_params\u001b[0m\u001b[0;34m)\u001b[0m\u001b[0;34m\u001b[0m\u001b[0;34m\u001b[0m\u001b[0m\n\u001b[0;32m--> 330\u001b[0;31m         \u001b[0mXt\u001b[0m \u001b[0;34m=\u001b[0m \u001b[0mself\u001b[0m\u001b[0;34m.\u001b[0m\u001b[0m_fit\u001b[0m\u001b[0;34m(\u001b[0m\u001b[0mX\u001b[0m\u001b[0;34m,\u001b[0m \u001b[0my\u001b[0m\u001b[0;34m,\u001b[0m \u001b[0;34m**\u001b[0m\u001b[0mfit_params_steps\u001b[0m\u001b[0;34m)\u001b[0m\u001b[0;34m\u001b[0m\u001b[0;34m\u001b[0m\u001b[0m\n\u001b[0m\u001b[1;32m    331\u001b[0m         with _print_elapsed_time('Pipeline',\n\u001b[1;32m    332\u001b[0m                                  self._log_message(len(self.steps) - 1)):\n",
      "\u001b[0;32m~/anaconda3/envs/python3/lib/python3.6/site-packages/sklearn/pipeline.py\u001b[0m in \u001b[0;36m_fit\u001b[0;34m(self, X, y, **fit_params_steps)\u001b[0m\n\u001b[1;32m    294\u001b[0m                 \u001b[0mmessage_clsname\u001b[0m\u001b[0;34m=\u001b[0m\u001b[0;34m'Pipeline'\u001b[0m\u001b[0;34m,\u001b[0m\u001b[0;34m\u001b[0m\u001b[0;34m\u001b[0m\u001b[0m\n\u001b[1;32m    295\u001b[0m                 \u001b[0mmessage\u001b[0m\u001b[0;34m=\u001b[0m\u001b[0mself\u001b[0m\u001b[0;34m.\u001b[0m\u001b[0m_log_message\u001b[0m\u001b[0;34m(\u001b[0m\u001b[0mstep_idx\u001b[0m\u001b[0;34m)\u001b[0m\u001b[0;34m,\u001b[0m\u001b[0;34m\u001b[0m\u001b[0;34m\u001b[0m\u001b[0m\n\u001b[0;32m--> 296\u001b[0;31m                 **fit_params_steps[name])\n\u001b[0m\u001b[1;32m    297\u001b[0m             \u001b[0;31m# Replace the transformer of the step with the fitted\u001b[0m\u001b[0;34m\u001b[0m\u001b[0;34m\u001b[0m\u001b[0;34m\u001b[0m\u001b[0m\n\u001b[1;32m    298\u001b[0m             \u001b[0;31m# transformer. This is necessary when loading the transformer\u001b[0m\u001b[0;34m\u001b[0m\u001b[0;34m\u001b[0m\u001b[0;34m\u001b[0m\u001b[0m\n",
      "\u001b[0;32m~/anaconda3/envs/python3/lib/python3.6/site-packages/joblib/memory.py\u001b[0m in \u001b[0;36m__call__\u001b[0;34m(self, *args, **kwargs)\u001b[0m\n\u001b[1;32m    353\u001b[0m \u001b[0;34m\u001b[0m\u001b[0m\n\u001b[1;32m    354\u001b[0m     \u001b[0;32mdef\u001b[0m \u001b[0m__call__\u001b[0m\u001b[0;34m(\u001b[0m\u001b[0mself\u001b[0m\u001b[0;34m,\u001b[0m \u001b[0;34m*\u001b[0m\u001b[0margs\u001b[0m\u001b[0;34m,\u001b[0m \u001b[0;34m**\u001b[0m\u001b[0mkwargs\u001b[0m\u001b[0;34m)\u001b[0m\u001b[0;34m:\u001b[0m\u001b[0;34m\u001b[0m\u001b[0;34m\u001b[0m\u001b[0m\n\u001b[0;32m--> 355\u001b[0;31m         \u001b[0;32mreturn\u001b[0m \u001b[0mself\u001b[0m\u001b[0;34m.\u001b[0m\u001b[0mfunc\u001b[0m\u001b[0;34m(\u001b[0m\u001b[0;34m*\u001b[0m\u001b[0margs\u001b[0m\u001b[0;34m,\u001b[0m \u001b[0;34m**\u001b[0m\u001b[0mkwargs\u001b[0m\u001b[0;34m)\u001b[0m\u001b[0;34m\u001b[0m\u001b[0;34m\u001b[0m\u001b[0m\n\u001b[0m\u001b[1;32m    356\u001b[0m \u001b[0;34m\u001b[0m\u001b[0m\n\u001b[1;32m    357\u001b[0m     \u001b[0;32mdef\u001b[0m \u001b[0mcall_and_shelve\u001b[0m\u001b[0;34m(\u001b[0m\u001b[0mself\u001b[0m\u001b[0;34m,\u001b[0m \u001b[0;34m*\u001b[0m\u001b[0margs\u001b[0m\u001b[0;34m,\u001b[0m \u001b[0;34m**\u001b[0m\u001b[0mkwargs\u001b[0m\u001b[0;34m)\u001b[0m\u001b[0;34m:\u001b[0m\u001b[0;34m\u001b[0m\u001b[0;34m\u001b[0m\u001b[0m\n",
      "\u001b[0;32m~/anaconda3/envs/python3/lib/python3.6/site-packages/sklearn/pipeline.py\u001b[0m in \u001b[0;36m_fit_transform_one\u001b[0;34m(transformer, X, y, weight, message_clsname, message, **fit_params)\u001b[0m\n\u001b[1;32m    738\u001b[0m     \u001b[0;32mwith\u001b[0m \u001b[0m_print_elapsed_time\u001b[0m\u001b[0;34m(\u001b[0m\u001b[0mmessage_clsname\u001b[0m\u001b[0;34m,\u001b[0m \u001b[0mmessage\u001b[0m\u001b[0;34m)\u001b[0m\u001b[0;34m:\u001b[0m\u001b[0;34m\u001b[0m\u001b[0;34m\u001b[0m\u001b[0m\n\u001b[1;32m    739\u001b[0m         \u001b[0;32mif\u001b[0m \u001b[0mhasattr\u001b[0m\u001b[0;34m(\u001b[0m\u001b[0mtransformer\u001b[0m\u001b[0;34m,\u001b[0m \u001b[0;34m'fit_transform'\u001b[0m\u001b[0;34m)\u001b[0m\u001b[0;34m:\u001b[0m\u001b[0;34m\u001b[0m\u001b[0;34m\u001b[0m\u001b[0m\n\u001b[0;32m--> 740\u001b[0;31m             \u001b[0mres\u001b[0m \u001b[0;34m=\u001b[0m \u001b[0mtransformer\u001b[0m\u001b[0;34m.\u001b[0m\u001b[0mfit_transform\u001b[0m\u001b[0;34m(\u001b[0m\u001b[0mX\u001b[0m\u001b[0;34m,\u001b[0m \u001b[0my\u001b[0m\u001b[0;34m,\u001b[0m \u001b[0;34m**\u001b[0m\u001b[0mfit_params\u001b[0m\u001b[0;34m)\u001b[0m\u001b[0;34m\u001b[0m\u001b[0;34m\u001b[0m\u001b[0m\n\u001b[0m\u001b[1;32m    741\u001b[0m         \u001b[0;32melse\u001b[0m\u001b[0;34m:\u001b[0m\u001b[0;34m\u001b[0m\u001b[0;34m\u001b[0m\u001b[0m\n\u001b[1;32m    742\u001b[0m             \u001b[0mres\u001b[0m \u001b[0;34m=\u001b[0m \u001b[0mtransformer\u001b[0m\u001b[0;34m.\u001b[0m\u001b[0mfit\u001b[0m\u001b[0;34m(\u001b[0m\u001b[0mX\u001b[0m\u001b[0;34m,\u001b[0m \u001b[0my\u001b[0m\u001b[0;34m,\u001b[0m \u001b[0;34m**\u001b[0m\u001b[0mfit_params\u001b[0m\u001b[0;34m)\u001b[0m\u001b[0;34m.\u001b[0m\u001b[0mtransform\u001b[0m\u001b[0;34m(\u001b[0m\u001b[0mX\u001b[0m\u001b[0;34m)\u001b[0m\u001b[0;34m\u001b[0m\u001b[0;34m\u001b[0m\u001b[0m\n",
      "\u001b[0;32m~/anaconda3/envs/python3/lib/python3.6/site-packages/sklearn/pipeline.py\u001b[0m in \u001b[0;36mfit_transform\u001b[0;34m(self, X, y, **fit_params)\u001b[0m\n\u001b[1;32m    951\u001b[0m             \u001b[0msum\u001b[0m \u001b[0mof\u001b[0m \u001b[0mn_components\u001b[0m \u001b[0;34m(\u001b[0m\u001b[0moutput\u001b[0m \u001b[0mdimension\u001b[0m\u001b[0;34m)\u001b[0m \u001b[0mover\u001b[0m \u001b[0mtransformers\u001b[0m\u001b[0;34m.\u001b[0m\u001b[0;34m\u001b[0m\u001b[0;34m\u001b[0m\u001b[0m\n\u001b[1;32m    952\u001b[0m         \"\"\"\n\u001b[0;32m--> 953\u001b[0;31m         \u001b[0mresults\u001b[0m \u001b[0;34m=\u001b[0m \u001b[0mself\u001b[0m\u001b[0;34m.\u001b[0m\u001b[0m_parallel_func\u001b[0m\u001b[0;34m(\u001b[0m\u001b[0mX\u001b[0m\u001b[0;34m,\u001b[0m \u001b[0my\u001b[0m\u001b[0;34m,\u001b[0m \u001b[0mfit_params\u001b[0m\u001b[0;34m,\u001b[0m \u001b[0m_fit_transform_one\u001b[0m\u001b[0;34m)\u001b[0m\u001b[0;34m\u001b[0m\u001b[0;34m\u001b[0m\u001b[0m\n\u001b[0m\u001b[1;32m    954\u001b[0m         \u001b[0;32mif\u001b[0m \u001b[0;32mnot\u001b[0m \u001b[0mresults\u001b[0m\u001b[0;34m:\u001b[0m\u001b[0;34m\u001b[0m\u001b[0;34m\u001b[0m\u001b[0m\n\u001b[1;32m    955\u001b[0m             \u001b[0;31m# All transformers are None\u001b[0m\u001b[0;34m\u001b[0m\u001b[0;34m\u001b[0m\u001b[0;34m\u001b[0m\u001b[0m\n",
      "\u001b[0;32m~/anaconda3/envs/python3/lib/python3.6/site-packages/sklearn/pipeline.py\u001b[0m in \u001b[0;36m_parallel_func\u001b[0;34m(self, X, y, fit_params, func)\u001b[0m\n\u001b[1;32m    981\u001b[0m             \u001b[0mmessage\u001b[0m\u001b[0;34m=\u001b[0m\u001b[0mself\u001b[0m\u001b[0;34m.\u001b[0m\u001b[0m_log_message\u001b[0m\u001b[0;34m(\u001b[0m\u001b[0mname\u001b[0m\u001b[0;34m,\u001b[0m \u001b[0midx\u001b[0m\u001b[0;34m,\u001b[0m \u001b[0mlen\u001b[0m\u001b[0;34m(\u001b[0m\u001b[0mtransformers\u001b[0m\u001b[0;34m)\u001b[0m\u001b[0;34m)\u001b[0m\u001b[0;34m,\u001b[0m\u001b[0;34m\u001b[0m\u001b[0;34m\u001b[0m\u001b[0m\n\u001b[1;32m    982\u001b[0m             \u001b[0;34m**\u001b[0m\u001b[0mfit_params\u001b[0m\u001b[0;34m)\u001b[0m \u001b[0;32mfor\u001b[0m \u001b[0midx\u001b[0m\u001b[0;34m,\u001b[0m \u001b[0;34m(\u001b[0m\u001b[0mname\u001b[0m\u001b[0;34m,\u001b[0m \u001b[0mtransformer\u001b[0m\u001b[0;34m,\u001b[0m\u001b[0;34m\u001b[0m\u001b[0;34m\u001b[0m\u001b[0m\n\u001b[0;32m--> 983\u001b[0;31m                                     weight) in enumerate(transformers, 1))\n\u001b[0m\u001b[1;32m    984\u001b[0m \u001b[0;34m\u001b[0m\u001b[0m\n\u001b[1;32m    985\u001b[0m     \u001b[0;32mdef\u001b[0m \u001b[0mtransform\u001b[0m\u001b[0;34m(\u001b[0m\u001b[0mself\u001b[0m\u001b[0;34m,\u001b[0m \u001b[0mX\u001b[0m\u001b[0;34m)\u001b[0m\u001b[0;34m:\u001b[0m\u001b[0;34m\u001b[0m\u001b[0;34m\u001b[0m\u001b[0m\n",
      "\u001b[0;32m~/anaconda3/envs/python3/lib/python3.6/site-packages/joblib/parallel.py\u001b[0m in \u001b[0;36m__call__\u001b[0;34m(self, iterable)\u001b[0m\n\u001b[1;32m   1002\u001b[0m             \u001b[0;31m# remaining jobs.\u001b[0m\u001b[0;34m\u001b[0m\u001b[0;34m\u001b[0m\u001b[0;34m\u001b[0m\u001b[0m\n\u001b[1;32m   1003\u001b[0m             \u001b[0mself\u001b[0m\u001b[0;34m.\u001b[0m\u001b[0m_iterating\u001b[0m \u001b[0;34m=\u001b[0m \u001b[0;32mFalse\u001b[0m\u001b[0;34m\u001b[0m\u001b[0;34m\u001b[0m\u001b[0m\n\u001b[0;32m-> 1004\u001b[0;31m             \u001b[0;32mif\u001b[0m \u001b[0mself\u001b[0m\u001b[0;34m.\u001b[0m\u001b[0mdispatch_one_batch\u001b[0m\u001b[0;34m(\u001b[0m\u001b[0miterator\u001b[0m\u001b[0;34m)\u001b[0m\u001b[0;34m:\u001b[0m\u001b[0;34m\u001b[0m\u001b[0;34m\u001b[0m\u001b[0m\n\u001b[0m\u001b[1;32m   1005\u001b[0m                 \u001b[0mself\u001b[0m\u001b[0;34m.\u001b[0m\u001b[0m_iterating\u001b[0m \u001b[0;34m=\u001b[0m \u001b[0mself\u001b[0m\u001b[0;34m.\u001b[0m\u001b[0m_original_iterator\u001b[0m \u001b[0;32mis\u001b[0m \u001b[0;32mnot\u001b[0m \u001b[0;32mNone\u001b[0m\u001b[0;34m\u001b[0m\u001b[0;34m\u001b[0m\u001b[0m\n\u001b[1;32m   1006\u001b[0m \u001b[0;34m\u001b[0m\u001b[0m\n",
      "\u001b[0;32m~/anaconda3/envs/python3/lib/python3.6/site-packages/joblib/parallel.py\u001b[0m in \u001b[0;36mdispatch_one_batch\u001b[0;34m(self, iterator)\u001b[0m\n\u001b[1;32m    833\u001b[0m                 \u001b[0;32mreturn\u001b[0m \u001b[0;32mFalse\u001b[0m\u001b[0;34m\u001b[0m\u001b[0;34m\u001b[0m\u001b[0m\n\u001b[1;32m    834\u001b[0m             \u001b[0;32melse\u001b[0m\u001b[0;34m:\u001b[0m\u001b[0;34m\u001b[0m\u001b[0;34m\u001b[0m\u001b[0m\n\u001b[0;32m--> 835\u001b[0;31m                 \u001b[0mself\u001b[0m\u001b[0;34m.\u001b[0m\u001b[0m_dispatch\u001b[0m\u001b[0;34m(\u001b[0m\u001b[0mtasks\u001b[0m\u001b[0;34m)\u001b[0m\u001b[0;34m\u001b[0m\u001b[0;34m\u001b[0m\u001b[0m\n\u001b[0m\u001b[1;32m    836\u001b[0m                 \u001b[0;32mreturn\u001b[0m \u001b[0;32mTrue\u001b[0m\u001b[0;34m\u001b[0m\u001b[0;34m\u001b[0m\u001b[0m\n\u001b[1;32m    837\u001b[0m \u001b[0;34m\u001b[0m\u001b[0m\n",
      "\u001b[0;32m~/anaconda3/envs/python3/lib/python3.6/site-packages/joblib/parallel.py\u001b[0m in \u001b[0;36m_dispatch\u001b[0;34m(self, batch)\u001b[0m\n\u001b[1;32m    752\u001b[0m         \u001b[0;32mwith\u001b[0m \u001b[0mself\u001b[0m\u001b[0;34m.\u001b[0m\u001b[0m_lock\u001b[0m\u001b[0;34m:\u001b[0m\u001b[0;34m\u001b[0m\u001b[0;34m\u001b[0m\u001b[0m\n\u001b[1;32m    753\u001b[0m             \u001b[0mjob_idx\u001b[0m \u001b[0;34m=\u001b[0m \u001b[0mlen\u001b[0m\u001b[0;34m(\u001b[0m\u001b[0mself\u001b[0m\u001b[0;34m.\u001b[0m\u001b[0m_jobs\u001b[0m\u001b[0;34m)\u001b[0m\u001b[0;34m\u001b[0m\u001b[0;34m\u001b[0m\u001b[0m\n\u001b[0;32m--> 754\u001b[0;31m             \u001b[0mjob\u001b[0m \u001b[0;34m=\u001b[0m \u001b[0mself\u001b[0m\u001b[0;34m.\u001b[0m\u001b[0m_backend\u001b[0m\u001b[0;34m.\u001b[0m\u001b[0mapply_async\u001b[0m\u001b[0;34m(\u001b[0m\u001b[0mbatch\u001b[0m\u001b[0;34m,\u001b[0m \u001b[0mcallback\u001b[0m\u001b[0;34m=\u001b[0m\u001b[0mcb\u001b[0m\u001b[0;34m)\u001b[0m\u001b[0;34m\u001b[0m\u001b[0;34m\u001b[0m\u001b[0m\n\u001b[0m\u001b[1;32m    755\u001b[0m             \u001b[0;31m# A job can complete so quickly than its callback is\u001b[0m\u001b[0;34m\u001b[0m\u001b[0;34m\u001b[0m\u001b[0;34m\u001b[0m\u001b[0m\n\u001b[1;32m    756\u001b[0m             \u001b[0;31m# called before we get here, causing self._jobs to\u001b[0m\u001b[0;34m\u001b[0m\u001b[0;34m\u001b[0m\u001b[0;34m\u001b[0m\u001b[0m\n",
      "\u001b[0;32m~/anaconda3/envs/python3/lib/python3.6/site-packages/joblib/_parallel_backends.py\u001b[0m in \u001b[0;36mapply_async\u001b[0;34m(self, func, callback)\u001b[0m\n\u001b[1;32m    207\u001b[0m     \u001b[0;32mdef\u001b[0m \u001b[0mapply_async\u001b[0m\u001b[0;34m(\u001b[0m\u001b[0mself\u001b[0m\u001b[0;34m,\u001b[0m \u001b[0mfunc\u001b[0m\u001b[0;34m,\u001b[0m \u001b[0mcallback\u001b[0m\u001b[0;34m=\u001b[0m\u001b[0;32mNone\u001b[0m\u001b[0;34m)\u001b[0m\u001b[0;34m:\u001b[0m\u001b[0;34m\u001b[0m\u001b[0;34m\u001b[0m\u001b[0m\n\u001b[1;32m    208\u001b[0m         \u001b[0;34m\"\"\"Schedule a func to be run\"\"\"\u001b[0m\u001b[0;34m\u001b[0m\u001b[0;34m\u001b[0m\u001b[0m\n\u001b[0;32m--> 209\u001b[0;31m         \u001b[0mresult\u001b[0m \u001b[0;34m=\u001b[0m \u001b[0mImmediateResult\u001b[0m\u001b[0;34m(\u001b[0m\u001b[0mfunc\u001b[0m\u001b[0;34m)\u001b[0m\u001b[0;34m\u001b[0m\u001b[0;34m\u001b[0m\u001b[0m\n\u001b[0m\u001b[1;32m    210\u001b[0m         \u001b[0;32mif\u001b[0m \u001b[0mcallback\u001b[0m\u001b[0;34m:\u001b[0m\u001b[0;34m\u001b[0m\u001b[0;34m\u001b[0m\u001b[0m\n\u001b[1;32m    211\u001b[0m             \u001b[0mcallback\u001b[0m\u001b[0;34m(\u001b[0m\u001b[0mresult\u001b[0m\u001b[0;34m)\u001b[0m\u001b[0;34m\u001b[0m\u001b[0;34m\u001b[0m\u001b[0m\n",
      "\u001b[0;32m~/anaconda3/envs/python3/lib/python3.6/site-packages/joblib/_parallel_backends.py\u001b[0m in \u001b[0;36m__init__\u001b[0;34m(self, batch)\u001b[0m\n\u001b[1;32m    588\u001b[0m         \u001b[0;31m# Don't delay the application, to avoid keeping the input\u001b[0m\u001b[0;34m\u001b[0m\u001b[0;34m\u001b[0m\u001b[0;34m\u001b[0m\u001b[0m\n\u001b[1;32m    589\u001b[0m         \u001b[0;31m# arguments in memory\u001b[0m\u001b[0;34m\u001b[0m\u001b[0;34m\u001b[0m\u001b[0;34m\u001b[0m\u001b[0m\n\u001b[0;32m--> 590\u001b[0;31m         \u001b[0mself\u001b[0m\u001b[0;34m.\u001b[0m\u001b[0mresults\u001b[0m \u001b[0;34m=\u001b[0m \u001b[0mbatch\u001b[0m\u001b[0;34m(\u001b[0m\u001b[0;34m)\u001b[0m\u001b[0;34m\u001b[0m\u001b[0;34m\u001b[0m\u001b[0m\n\u001b[0m\u001b[1;32m    591\u001b[0m \u001b[0;34m\u001b[0m\u001b[0m\n\u001b[1;32m    592\u001b[0m     \u001b[0;32mdef\u001b[0m \u001b[0mget\u001b[0m\u001b[0;34m(\u001b[0m\u001b[0mself\u001b[0m\u001b[0;34m)\u001b[0m\u001b[0;34m:\u001b[0m\u001b[0;34m\u001b[0m\u001b[0;34m\u001b[0m\u001b[0m\n",
      "\u001b[0;32m~/anaconda3/envs/python3/lib/python3.6/site-packages/joblib/parallel.py\u001b[0m in \u001b[0;36m__call__\u001b[0;34m(self)\u001b[0m\n\u001b[1;32m    254\u001b[0m         \u001b[0;32mwith\u001b[0m \u001b[0mparallel_backend\u001b[0m\u001b[0;34m(\u001b[0m\u001b[0mself\u001b[0m\u001b[0;34m.\u001b[0m\u001b[0m_backend\u001b[0m\u001b[0;34m,\u001b[0m \u001b[0mn_jobs\u001b[0m\u001b[0;34m=\u001b[0m\u001b[0mself\u001b[0m\u001b[0;34m.\u001b[0m\u001b[0m_n_jobs\u001b[0m\u001b[0;34m)\u001b[0m\u001b[0;34m:\u001b[0m\u001b[0;34m\u001b[0m\u001b[0;34m\u001b[0m\u001b[0m\n\u001b[1;32m    255\u001b[0m             return [func(*args, **kwargs)\n\u001b[0;32m--> 256\u001b[0;31m                     for func, args, kwargs in self.items]\n\u001b[0m\u001b[1;32m    257\u001b[0m \u001b[0;34m\u001b[0m\u001b[0m\n\u001b[1;32m    258\u001b[0m     \u001b[0;32mdef\u001b[0m \u001b[0m__len__\u001b[0m\u001b[0;34m(\u001b[0m\u001b[0mself\u001b[0m\u001b[0;34m)\u001b[0m\u001b[0;34m:\u001b[0m\u001b[0;34m\u001b[0m\u001b[0;34m\u001b[0m\u001b[0m\n",
      "\u001b[0;32m~/anaconda3/envs/python3/lib/python3.6/site-packages/joblib/parallel.py\u001b[0m in \u001b[0;36m<listcomp>\u001b[0;34m(.0)\u001b[0m\n\u001b[1;32m    254\u001b[0m         \u001b[0;32mwith\u001b[0m \u001b[0mparallel_backend\u001b[0m\u001b[0;34m(\u001b[0m\u001b[0mself\u001b[0m\u001b[0;34m.\u001b[0m\u001b[0m_backend\u001b[0m\u001b[0;34m,\u001b[0m \u001b[0mn_jobs\u001b[0m\u001b[0;34m=\u001b[0m\u001b[0mself\u001b[0m\u001b[0;34m.\u001b[0m\u001b[0m_n_jobs\u001b[0m\u001b[0;34m)\u001b[0m\u001b[0;34m:\u001b[0m\u001b[0;34m\u001b[0m\u001b[0;34m\u001b[0m\u001b[0m\n\u001b[1;32m    255\u001b[0m             return [func(*args, **kwargs)\n\u001b[0;32m--> 256\u001b[0;31m                     for func, args, kwargs in self.items]\n\u001b[0m\u001b[1;32m    257\u001b[0m \u001b[0;34m\u001b[0m\u001b[0m\n\u001b[1;32m    258\u001b[0m     \u001b[0;32mdef\u001b[0m \u001b[0m__len__\u001b[0m\u001b[0;34m(\u001b[0m\u001b[0mself\u001b[0m\u001b[0;34m)\u001b[0m\u001b[0;34m:\u001b[0m\u001b[0;34m\u001b[0m\u001b[0;34m\u001b[0m\u001b[0m\n",
      "\u001b[0;32m~/anaconda3/envs/python3/lib/python3.6/site-packages/sklearn/pipeline.py\u001b[0m in \u001b[0;36m_fit_transform_one\u001b[0;34m(transformer, X, y, weight, message_clsname, message, **fit_params)\u001b[0m\n\u001b[1;32m    738\u001b[0m     \u001b[0;32mwith\u001b[0m \u001b[0m_print_elapsed_time\u001b[0m\u001b[0;34m(\u001b[0m\u001b[0mmessage_clsname\u001b[0m\u001b[0;34m,\u001b[0m \u001b[0mmessage\u001b[0m\u001b[0;34m)\u001b[0m\u001b[0;34m:\u001b[0m\u001b[0;34m\u001b[0m\u001b[0;34m\u001b[0m\u001b[0m\n\u001b[1;32m    739\u001b[0m         \u001b[0;32mif\u001b[0m \u001b[0mhasattr\u001b[0m\u001b[0;34m(\u001b[0m\u001b[0mtransformer\u001b[0m\u001b[0;34m,\u001b[0m \u001b[0;34m'fit_transform'\u001b[0m\u001b[0;34m)\u001b[0m\u001b[0;34m:\u001b[0m\u001b[0;34m\u001b[0m\u001b[0;34m\u001b[0m\u001b[0m\n\u001b[0;32m--> 740\u001b[0;31m             \u001b[0mres\u001b[0m \u001b[0;34m=\u001b[0m \u001b[0mtransformer\u001b[0m\u001b[0;34m.\u001b[0m\u001b[0mfit_transform\u001b[0m\u001b[0;34m(\u001b[0m\u001b[0mX\u001b[0m\u001b[0;34m,\u001b[0m \u001b[0my\u001b[0m\u001b[0;34m,\u001b[0m \u001b[0;34m**\u001b[0m\u001b[0mfit_params\u001b[0m\u001b[0;34m)\u001b[0m\u001b[0;34m\u001b[0m\u001b[0;34m\u001b[0m\u001b[0m\n\u001b[0m\u001b[1;32m    741\u001b[0m         \u001b[0;32melse\u001b[0m\u001b[0;34m:\u001b[0m\u001b[0;34m\u001b[0m\u001b[0;34m\u001b[0m\u001b[0m\n\u001b[1;32m    742\u001b[0m             \u001b[0mres\u001b[0m \u001b[0;34m=\u001b[0m \u001b[0mtransformer\u001b[0m\u001b[0;34m.\u001b[0m\u001b[0mfit\u001b[0m\u001b[0;34m(\u001b[0m\u001b[0mX\u001b[0m\u001b[0;34m,\u001b[0m \u001b[0my\u001b[0m\u001b[0;34m,\u001b[0m \u001b[0;34m**\u001b[0m\u001b[0mfit_params\u001b[0m\u001b[0;34m)\u001b[0m\u001b[0;34m.\u001b[0m\u001b[0mtransform\u001b[0m\u001b[0;34m(\u001b[0m\u001b[0mX\u001b[0m\u001b[0;34m)\u001b[0m\u001b[0;34m\u001b[0m\u001b[0;34m\u001b[0m\u001b[0m\n",
      "\u001b[0;32m~/anaconda3/envs/python3/lib/python3.6/site-packages/sklearn/pipeline.py\u001b[0m in \u001b[0;36mfit_transform\u001b[0;34m(self, X, y, **fit_params)\u001b[0m\n\u001b[1;32m    374\u001b[0m             \u001b[0mfit_params_last_step\u001b[0m \u001b[0;34m=\u001b[0m \u001b[0mfit_params_steps\u001b[0m\u001b[0;34m[\u001b[0m\u001b[0mself\u001b[0m\u001b[0;34m.\u001b[0m\u001b[0msteps\u001b[0m\u001b[0;34m[\u001b[0m\u001b[0;34m-\u001b[0m\u001b[0;36m1\u001b[0m\u001b[0;34m]\u001b[0m\u001b[0;34m[\u001b[0m\u001b[0;36m0\u001b[0m\u001b[0;34m]\u001b[0m\u001b[0;34m]\u001b[0m\u001b[0;34m\u001b[0m\u001b[0;34m\u001b[0m\u001b[0m\n\u001b[1;32m    375\u001b[0m             \u001b[0;32mif\u001b[0m \u001b[0mhasattr\u001b[0m\u001b[0;34m(\u001b[0m\u001b[0mlast_step\u001b[0m\u001b[0;34m,\u001b[0m \u001b[0;34m'fit_transform'\u001b[0m\u001b[0;34m)\u001b[0m\u001b[0;34m:\u001b[0m\u001b[0;34m\u001b[0m\u001b[0;34m\u001b[0m\u001b[0m\n\u001b[0;32m--> 376\u001b[0;31m                 \u001b[0;32mreturn\u001b[0m \u001b[0mlast_step\u001b[0m\u001b[0;34m.\u001b[0m\u001b[0mfit_transform\u001b[0m\u001b[0;34m(\u001b[0m\u001b[0mXt\u001b[0m\u001b[0;34m,\u001b[0m \u001b[0my\u001b[0m\u001b[0;34m,\u001b[0m \u001b[0;34m**\u001b[0m\u001b[0mfit_params_last_step\u001b[0m\u001b[0;34m)\u001b[0m\u001b[0;34m\u001b[0m\u001b[0;34m\u001b[0m\u001b[0m\n\u001b[0m\u001b[1;32m    377\u001b[0m             \u001b[0;32melse\u001b[0m\u001b[0;34m:\u001b[0m\u001b[0;34m\u001b[0m\u001b[0;34m\u001b[0m\u001b[0m\n\u001b[1;32m    378\u001b[0m                 return last_step.fit(Xt, y,\n",
      "\u001b[0;32m~/anaconda3/envs/python3/lib/python3.6/site-packages/sklearn/preprocessing/_encoders.py\u001b[0m in \u001b[0;36mfit_transform\u001b[0;34m(self, X, y)\u001b[0m\n\u001b[1;32m    408\u001b[0m         \"\"\"\n\u001b[1;32m    409\u001b[0m         \u001b[0mself\u001b[0m\u001b[0;34m.\u001b[0m\u001b[0m_validate_keywords\u001b[0m\u001b[0;34m(\u001b[0m\u001b[0;34m)\u001b[0m\u001b[0;34m\u001b[0m\u001b[0;34m\u001b[0m\u001b[0m\n\u001b[0;32m--> 410\u001b[0;31m         \u001b[0;32mreturn\u001b[0m \u001b[0msuper\u001b[0m\u001b[0;34m(\u001b[0m\u001b[0;34m)\u001b[0m\u001b[0;34m.\u001b[0m\u001b[0mfit_transform\u001b[0m\u001b[0;34m(\u001b[0m\u001b[0mX\u001b[0m\u001b[0;34m,\u001b[0m \u001b[0my\u001b[0m\u001b[0;34m)\u001b[0m\u001b[0;34m\u001b[0m\u001b[0;34m\u001b[0m\u001b[0m\n\u001b[0m\u001b[1;32m    411\u001b[0m \u001b[0;34m\u001b[0m\u001b[0m\n\u001b[1;32m    412\u001b[0m     \u001b[0;32mdef\u001b[0m \u001b[0mtransform\u001b[0m\u001b[0;34m(\u001b[0m\u001b[0mself\u001b[0m\u001b[0;34m,\u001b[0m \u001b[0mX\u001b[0m\u001b[0;34m)\u001b[0m\u001b[0;34m:\u001b[0m\u001b[0;34m\u001b[0m\u001b[0;34m\u001b[0m\u001b[0m\n",
      "\u001b[0;32m~/anaconda3/envs/python3/lib/python3.6/site-packages/sklearn/base.py\u001b[0m in \u001b[0;36mfit_transform\u001b[0;34m(self, X, y, **fit_params)\u001b[0m\n\u001b[1;32m    691\u001b[0m         \u001b[0;32melse\u001b[0m\u001b[0;34m:\u001b[0m\u001b[0;34m\u001b[0m\u001b[0;34m\u001b[0m\u001b[0m\n\u001b[1;32m    692\u001b[0m             \u001b[0;31m# fit method of arity 2 (supervised transformation)\u001b[0m\u001b[0;34m\u001b[0m\u001b[0;34m\u001b[0m\u001b[0;34m\u001b[0m\u001b[0m\n\u001b[0;32m--> 693\u001b[0;31m             \u001b[0;32mreturn\u001b[0m \u001b[0mself\u001b[0m\u001b[0;34m.\u001b[0m\u001b[0mfit\u001b[0m\u001b[0;34m(\u001b[0m\u001b[0mX\u001b[0m\u001b[0;34m,\u001b[0m \u001b[0my\u001b[0m\u001b[0;34m,\u001b[0m \u001b[0;34m**\u001b[0m\u001b[0mfit_params\u001b[0m\u001b[0;34m)\u001b[0m\u001b[0;34m.\u001b[0m\u001b[0mtransform\u001b[0m\u001b[0;34m(\u001b[0m\u001b[0mX\u001b[0m\u001b[0;34m)\u001b[0m\u001b[0;34m\u001b[0m\u001b[0;34m\u001b[0m\u001b[0m\n\u001b[0m\u001b[1;32m    694\u001b[0m \u001b[0;34m\u001b[0m\u001b[0m\n\u001b[1;32m    695\u001b[0m \u001b[0;34m\u001b[0m\u001b[0m\n",
      "\u001b[0;32m~/anaconda3/envs/python3/lib/python3.6/site-packages/sklearn/preprocessing/_encoders.py\u001b[0m in \u001b[0;36mfit\u001b[0;34m(self, X, y)\u001b[0m\n\u001b[1;32m    383\u001b[0m         \"\"\"\n\u001b[1;32m    384\u001b[0m         \u001b[0mself\u001b[0m\u001b[0;34m.\u001b[0m\u001b[0m_validate_keywords\u001b[0m\u001b[0;34m(\u001b[0m\u001b[0;34m)\u001b[0m\u001b[0;34m\u001b[0m\u001b[0;34m\u001b[0m\u001b[0m\n\u001b[0;32m--> 385\u001b[0;31m         \u001b[0mself\u001b[0m\u001b[0;34m.\u001b[0m\u001b[0m_fit\u001b[0m\u001b[0;34m(\u001b[0m\u001b[0mX\u001b[0m\u001b[0;34m,\u001b[0m \u001b[0mhandle_unknown\u001b[0m\u001b[0;34m=\u001b[0m\u001b[0mself\u001b[0m\u001b[0;34m.\u001b[0m\u001b[0mhandle_unknown\u001b[0m\u001b[0;34m)\u001b[0m\u001b[0;34m\u001b[0m\u001b[0;34m\u001b[0m\u001b[0m\n\u001b[0m\u001b[1;32m    386\u001b[0m         \u001b[0mself\u001b[0m\u001b[0;34m.\u001b[0m\u001b[0mdrop_idx_\u001b[0m \u001b[0;34m=\u001b[0m \u001b[0mself\u001b[0m\u001b[0;34m.\u001b[0m\u001b[0m_compute_drop_idx\u001b[0m\u001b[0;34m(\u001b[0m\u001b[0;34m)\u001b[0m\u001b[0;34m\u001b[0m\u001b[0;34m\u001b[0m\u001b[0m\n\u001b[1;32m    387\u001b[0m         \u001b[0;32mreturn\u001b[0m \u001b[0mself\u001b[0m\u001b[0;34m\u001b[0m\u001b[0;34m\u001b[0m\u001b[0m\n",
      "\u001b[0;32m~/anaconda3/envs/python3/lib/python3.6/site-packages/sklearn/preprocessing/_encoders.py\u001b[0m in \u001b[0;36m_fit\u001b[0;34m(self, X, handle_unknown)\u001b[0m\n\u001b[1;32m     72\u001b[0m \u001b[0;34m\u001b[0m\u001b[0m\n\u001b[1;32m     73\u001b[0m     \u001b[0;32mdef\u001b[0m \u001b[0m_fit\u001b[0m\u001b[0;34m(\u001b[0m\u001b[0mself\u001b[0m\u001b[0;34m,\u001b[0m \u001b[0mX\u001b[0m\u001b[0;34m,\u001b[0m \u001b[0mhandle_unknown\u001b[0m\u001b[0;34m=\u001b[0m\u001b[0;34m'error'\u001b[0m\u001b[0;34m)\u001b[0m\u001b[0;34m:\u001b[0m\u001b[0;34m\u001b[0m\u001b[0;34m\u001b[0m\u001b[0m\n\u001b[0;32m---> 74\u001b[0;31m         \u001b[0mX_list\u001b[0m\u001b[0;34m,\u001b[0m \u001b[0mn_samples\u001b[0m\u001b[0;34m,\u001b[0m \u001b[0mn_features\u001b[0m \u001b[0;34m=\u001b[0m \u001b[0mself\u001b[0m\u001b[0;34m.\u001b[0m\u001b[0m_check_X\u001b[0m\u001b[0;34m(\u001b[0m\u001b[0mX\u001b[0m\u001b[0;34m)\u001b[0m\u001b[0;34m\u001b[0m\u001b[0;34m\u001b[0m\u001b[0m\n\u001b[0m\u001b[1;32m     75\u001b[0m \u001b[0;34m\u001b[0m\u001b[0m\n\u001b[1;32m     76\u001b[0m         \u001b[0;32mif\u001b[0m \u001b[0mself\u001b[0m\u001b[0;34m.\u001b[0m\u001b[0mcategories\u001b[0m \u001b[0;34m!=\u001b[0m \u001b[0;34m'auto'\u001b[0m\u001b[0;34m:\u001b[0m\u001b[0;34m\u001b[0m\u001b[0;34m\u001b[0m\u001b[0m\n",
      "\u001b[0;32m~/anaconda3/envs/python3/lib/python3.6/site-packages/sklearn/preprocessing/_encoders.py\u001b[0m in \u001b[0;36m_check_X\u001b[0;34m(self, X)\u001b[0m\n\u001b[1;32m     59\u001b[0m             \u001b[0mXi\u001b[0m \u001b[0;34m=\u001b[0m \u001b[0mself\u001b[0m\u001b[0;34m.\u001b[0m\u001b[0m_get_feature\u001b[0m\u001b[0;34m(\u001b[0m\u001b[0mX\u001b[0m\u001b[0;34m,\u001b[0m \u001b[0mfeature_idx\u001b[0m\u001b[0;34m=\u001b[0m\u001b[0mi\u001b[0m\u001b[0;34m)\u001b[0m\u001b[0;34m\u001b[0m\u001b[0;34m\u001b[0m\u001b[0m\n\u001b[1;32m     60\u001b[0m             Xi = check_array(Xi, ensure_2d=False, dtype=None,\n\u001b[0;32m---> 61\u001b[0;31m                              force_all_finite=needs_validation)\n\u001b[0m\u001b[1;32m     62\u001b[0m             \u001b[0mX_columns\u001b[0m\u001b[0;34m.\u001b[0m\u001b[0mappend\u001b[0m\u001b[0;34m(\u001b[0m\u001b[0mXi\u001b[0m\u001b[0;34m)\u001b[0m\u001b[0;34m\u001b[0m\u001b[0;34m\u001b[0m\u001b[0m\n\u001b[1;32m     63\u001b[0m \u001b[0;34m\u001b[0m\u001b[0m\n",
      "\u001b[0;32m~/anaconda3/envs/python3/lib/python3.6/site-packages/sklearn/utils/validation.py\u001b[0m in \u001b[0;36minner_f\u001b[0;34m(*args, **kwargs)\u001b[0m\n\u001b[1;32m     71\u001b[0m                           FutureWarning)\n\u001b[1;32m     72\u001b[0m         \u001b[0mkwargs\u001b[0m\u001b[0;34m.\u001b[0m\u001b[0mupdate\u001b[0m\u001b[0;34m(\u001b[0m\u001b[0;34m{\u001b[0m\u001b[0mk\u001b[0m\u001b[0;34m:\u001b[0m \u001b[0marg\u001b[0m \u001b[0;32mfor\u001b[0m \u001b[0mk\u001b[0m\u001b[0;34m,\u001b[0m \u001b[0marg\u001b[0m \u001b[0;32min\u001b[0m \u001b[0mzip\u001b[0m\u001b[0;34m(\u001b[0m\u001b[0msig\u001b[0m\u001b[0;34m.\u001b[0m\u001b[0mparameters\u001b[0m\u001b[0;34m,\u001b[0m \u001b[0margs\u001b[0m\u001b[0;34m)\u001b[0m\u001b[0;34m}\u001b[0m\u001b[0;34m)\u001b[0m\u001b[0;34m\u001b[0m\u001b[0;34m\u001b[0m\u001b[0m\n\u001b[0;32m---> 73\u001b[0;31m         \u001b[0;32mreturn\u001b[0m \u001b[0mf\u001b[0m\u001b[0;34m(\u001b[0m\u001b[0;34m**\u001b[0m\u001b[0mkwargs\u001b[0m\u001b[0;34m)\u001b[0m\u001b[0;34m\u001b[0m\u001b[0;34m\u001b[0m\u001b[0m\n\u001b[0m\u001b[1;32m     74\u001b[0m     \u001b[0;32mreturn\u001b[0m \u001b[0minner_f\u001b[0m\u001b[0;34m\u001b[0m\u001b[0;34m\u001b[0m\u001b[0m\n\u001b[1;32m     75\u001b[0m \u001b[0;34m\u001b[0m\u001b[0m\n",
      "\u001b[0;32m~/anaconda3/envs/python3/lib/python3.6/site-packages/sklearn/utils/validation.py\u001b[0m in \u001b[0;36mcheck_array\u001b[0;34m(array, accept_sparse, accept_large_sparse, dtype, order, copy, force_all_finite, ensure_2d, allow_nd, ensure_min_samples, ensure_min_features, estimator)\u001b[0m\n\u001b[1;32m    644\u001b[0m         \u001b[0;32mif\u001b[0m \u001b[0mforce_all_finite\u001b[0m\u001b[0;34m:\u001b[0m\u001b[0;34m\u001b[0m\u001b[0;34m\u001b[0m\u001b[0m\n\u001b[1;32m    645\u001b[0m             _assert_all_finite(array,\n\u001b[0;32m--> 646\u001b[0;31m                                allow_nan=force_all_finite == 'allow-nan')\n\u001b[0m\u001b[1;32m    647\u001b[0m \u001b[0;34m\u001b[0m\u001b[0m\n\u001b[1;32m    648\u001b[0m     \u001b[0;32mif\u001b[0m \u001b[0mensure_min_samples\u001b[0m \u001b[0;34m>\u001b[0m \u001b[0;36m0\u001b[0m\u001b[0;34m:\u001b[0m\u001b[0;34m\u001b[0m\u001b[0;34m\u001b[0m\u001b[0m\n",
      "\u001b[0;32m~/anaconda3/envs/python3/lib/python3.6/site-packages/sklearn/utils/validation.py\u001b[0m in \u001b[0;36m_assert_all_finite\u001b[0;34m(X, allow_nan, msg_dtype)\u001b[0m\n\u001b[1;32m    103\u001b[0m     \u001b[0;32melif\u001b[0m \u001b[0mX\u001b[0m\u001b[0;34m.\u001b[0m\u001b[0mdtype\u001b[0m \u001b[0;34m==\u001b[0m \u001b[0mnp\u001b[0m\u001b[0;34m.\u001b[0m\u001b[0mdtype\u001b[0m\u001b[0;34m(\u001b[0m\u001b[0;34m'object'\u001b[0m\u001b[0;34m)\u001b[0m \u001b[0;32mand\u001b[0m \u001b[0;32mnot\u001b[0m \u001b[0mallow_nan\u001b[0m\u001b[0;34m:\u001b[0m\u001b[0;34m\u001b[0m\u001b[0;34m\u001b[0m\u001b[0m\n\u001b[1;32m    104\u001b[0m         \u001b[0;32mif\u001b[0m \u001b[0m_object_dtype_isnan\u001b[0m\u001b[0;34m(\u001b[0m\u001b[0mX\u001b[0m\u001b[0;34m)\u001b[0m\u001b[0;34m.\u001b[0m\u001b[0many\u001b[0m\u001b[0;34m(\u001b[0m\u001b[0;34m)\u001b[0m\u001b[0;34m:\u001b[0m\u001b[0;34m\u001b[0m\u001b[0;34m\u001b[0m\u001b[0m\n\u001b[0;32m--> 105\u001b[0;31m             \u001b[0;32mraise\u001b[0m \u001b[0mValueError\u001b[0m\u001b[0;34m(\u001b[0m\u001b[0;34m\"Input contains NaN\"\u001b[0m\u001b[0;34m)\u001b[0m\u001b[0;34m\u001b[0m\u001b[0;34m\u001b[0m\u001b[0m\n\u001b[0m\u001b[1;32m    106\u001b[0m \u001b[0;34m\u001b[0m\u001b[0m\n\u001b[1;32m    107\u001b[0m \u001b[0;34m\u001b[0m\u001b[0m\n",
      "\u001b[0;31mValueError\u001b[0m: Input contains NaN"
     ]
    }
   ],
   "source": [
    "full_pipeline_m.fit(X_train, y_train)"
   ]
  },
  {
   "cell_type": "code",
   "execution_count": null,
   "metadata": {},
   "outputs": [],
   "source": [
    "pl.score(X_test, y_test)"
   ]
  },
  {
   "cell_type": "code",
   "execution_count": null,
   "metadata": {},
   "outputs": [],
   "source": [
    "pl = Pipeline(memory=None,\n",
    "    steps=[\n",
    "        ('reset_index', get_reset_index),\n",
    "        ('year', get_year),\n",
    "        ('word_count', get_word_count),\n",
    "        ('encode', get_encoded_text),\n",
    "        ('selector', get_numeric_data),\n",
    "        ('model', model)\n",
    "    ], verbose=True)"
   ]
  },
  {
   "cell_type": "code",
   "execution_count": null,
   "metadata": {},
   "outputs": [],
   "source": [
    "class DateTransformer(TransformerMixin, BaseEstimator):\n",
    "    \"\"\"Extracts features from datetime column\n",
    "    \n",
    "    Returns:\n",
    "      hour: hour\n",
    "      day: Between 1 and the number of days in the month\n",
    "      month: Between 1 and 12 inclusive.\n",
    "      year: four-digit year\n",
    "      weekday: day of the week as an integer. Mon=0 and Sun=6\n",
    "   \"\"\"\n",
    "def fit(self, x, y=None):\n",
    "        return self\n",
    "def transform(self, x, y=None):\n",
    "        \n",
    "    \n",
    "    \n",
    "        result = pd.DataFrame(x, columns=['date_hour'])\n",
    "        result['hour'] = [dt.hour for dt in result['date_hour']]\n",
    "        result['day'] = [dt.day for dt in result['date_hour']]\n",
    "        result['month'] = [dt.month for dt in result['date_hour']]\n",
    "        result['year'] = [dt.year for dt in result['date_hour']]\n",
    "        result['weekday'] = [dt.weekday() for dt in \n",
    "                             result['date_hour']]\n",
    "        return result[['hour', 'day', 'month', 'year', 'weekday']]\n",
    "    \n",
    "def get_feature_names(self):\n",
    "        return ['hour','day', 'month', 'year', 'weekday']"
   ]
  },
  {
   "cell_type": "code",
   "execution_count": null,
   "metadata": {},
   "outputs": [],
   "source": [
    "# release memeory\n",
    "card_drp = None"
   ]
  },
  {
   "cell_type": "code",
   "execution_count": null,
   "metadata": {},
   "outputs": [],
   "source": [
    "card_wr[\"less_than_30%\"] = (card_wr[\"availableMoney\"]/card_wr[\"creditLimit\"])<=0.3\n",
    "card_wr[\"tran_lessthan_avl\"]=(card_wr[\"transactionAmount\"]-card_wr[\"availableMoney\"])<=0\n",
    "card_wr['acq_m_country'] = card_wr[\"merchantCountryCode\"]==card_wr['acqCountry']\n",
    "card_wr['cvv_dif']= card_wr[\"cardCVV\"]!=card_wr[\"enteredCVV\"]\n",
    "card_wr[\"reg_merchantName\"] = card_wr[\"merchantName\"].apply(lambda x:re.sub(r\"\\ \\#.+\",\"\",x))"
   ]
  },
  {
   "cell_type": "code",
   "execution_count": null,
   "metadata": {},
   "outputs": [],
   "source": [
    "card_wr.drop(columns=[\"cardCVV\",\"enteredCVV\"],inplace=True)"
   ]
  },
  {
   "cell_type": "code",
   "execution_count": null,
   "metadata": {},
   "outputs": [],
   "source": [
    "card_wr.drop(columns=[\"transactionType_swipe\",\"time_diff\"],inplace=True)"
   ]
  },
  {
   "cell_type": "code",
   "execution_count": null,
   "metadata": {},
   "outputs": [],
   "source": [
    "# save to feather format for future use\n",
    "# Feather format is almost the same format that it lives in RAM, so it is ridiculously fast to read and write\n",
    "card_wr.to_feather('data/transactions-pre_ft')"
   ]
  },
  {
   "cell_type": "code",
   "execution_count": null,
   "metadata": {},
   "outputs": [],
   "source": [
    "# read the feather data back\n",
    "card_wr = pd.read_feather('data/transactions-pre_ft')"
   ]
  },
  {
   "cell_type": "code",
   "execution_count": null,
   "metadata": {},
   "outputs": [],
   "source": [
    "display_all(card_wr.head())"
   ]
  },
  {
   "cell_type": "code",
   "execution_count": null,
   "metadata": {},
   "outputs": [],
   "source": [
    "def add_datepart(df, col):\n",
    "    \"\"\"\n",
    "    Docstring: extracts particular date fields from a complete datetime for the purpose of constructing categoricals\n",
    "    \n",
    "    Parameters\n",
    "    ----------\n",
    "    df: pandas dataframe\n",
    "    col: datetime columns needs to be processed\n",
    "    drop: if drop col\n",
    "    \"\"\"\n",
    "    df = df.copy()\n",
    "    fld = df[col]\n",
    "    if not np.issubdtype(fld.dtype, np.datetime64):\n",
    "        df[col] = fld = pd.to_datetime(fld, \n",
    "                                     infer_datetime_format=True)\n",
    "    targ_pre = re.sub('[Dd]ate$', '', col)\n",
    "    for n in ('Month', 'Week', 'Day', 'Dayofweek', \n",
    "            'Dayofyear', 'hour','Is_month_end', 'Is_month_start', \n",
    "            'Is_quarter_end', 'Is_quarter_start'):\n",
    "        #look inside of \"dt\" and finds an attribute with that name\n",
    "        df[targ_pre+n] = getattr(fld.dt,n.lower())\n",
    "    #df[targ_pre+'Elapsed'] = fld.astype(np.int64) // 10**9\n",
    "    return df"
   ]
  },
  {
   "cell_type": "code",
   "execution_count": null,
   "metadata": {},
   "outputs": [],
   "source": [
    "add_datepart(card_wr,\"transactionDateTime\",drop=False)"
   ]
  },
  {
   "cell_type": "code",
   "execution_count": null,
   "metadata": {},
   "outputs": [],
   "source": [
    "display_all(card_wr.head())"
   ]
  },
  {
   "cell_type": "code",
   "execution_count": null,
   "metadata": {},
   "outputs": [],
   "source": [
    "# 'accountOpenDate' converts to How many days away from the transaction time?\n",
    "card_wr['days_Open_trans'] = (card_wr['transactionDateTime'] - card_wr['accountOpenDate']).dt.days\n",
    "# 'dateOfLastAddressChange' converts to How many days away from the transaction time?\n",
    "card_wr['days_AddressChange_trans'] = (card_wr['transactionDateTime'] - card_wr['dateOfLastAddressChange']).dt.days\n",
    "# 'currentExpDate' converts to: How many days away from the transaction time?\n",
    "card_wr['days_Exp_trans'] = (card_wr['currentExpDate'] - card_wr['transactionDateTime']).dt.days\n",
    "\n",
    "card_wr.drop(columns=['accountOpenDate','dateOfLastAddressChange','currentExpDate'],inplace=True)"
   ]
  },
  {
   "cell_type": "code",
   "execution_count": null,
   "metadata": {},
   "outputs": [],
   "source": []
  },
  {
   "cell_type": "code",
   "execution_count": null,
   "metadata": {},
   "outputs": [],
   "source": []
  },
  {
   "cell_type": "code",
   "execution_count": null,
   "metadata": {},
   "outputs": [],
   "source": [
    "card_wr.transactionType.value_counts()"
   ]
  },
  {
   "cell_type": "code",
   "execution_count": null,
   "metadata": {},
   "outputs": [],
   "source": [
    "Fraud is a problem for any bank. Fraud can take many forms, whether it is someone stealing a single credit card, to large batches of stolen credit card numbers being used on the web, or even a mass compromise of credit card numbers stolen from a merchant via tools like credit card skimming devices.\n",
    "\n",
    "Each of the transactions in the dataset has a field called isFraud. Please build a predictive model to determine whether a given transaction will be fraudulent or not. Use as much of the data as you like (or all of it).\n",
    "\n",
    "Provide an estimate of performance using an appropriate sample, and show your work.\n",
    "\n",
    "Please explain your methodology (modeling algorithm/method used and why, what features/data you found useful, what questions you have, and what you would do next with more time)"
   ]
  },
  {
   "cell_type": "markdown",
   "metadata": {},
   "source": [
    "## reference"
   ]
  },
  {
   "cell_type": "code",
   "execution_count": null,
   "metadata": {},
   "outputs": [],
   "source": [
    "[1] Does a credit card expire at the beginning or end of the month?: https://wallethub.com/answers/cc/does-a-credit-card-expire-at-the-beginning-or-end-of-the-month-2140663969/#:~:text=A%20credit%20card%20will%20expire,an%20anti%2Dfraud%20security%20measure.\n",
    "[2] Optimizing the size of a pandas dataframe for low memory environment, https://vincentteyssier.medium.com/optimizing-the-size-of-a-pandas-dataframe-for-low-memory-environment-5f07db3d72e"
   ]
  },
  {
   "cell_type": "code",
   "execution_count": null,
   "metadata": {
    "scrolled": true
   },
   "outputs": [],
   "source": [
    "# plot histogram of Transaction Amounts\n",
    "sns.displot(card_drp['transactionAmount'], kde=True, \n",
    "             bins=36, color = 'blue')\n",
    "# # Add labels\n",
    "# plt.title('Histogram of Transaction Amounts')\n",
    "# plt.xlabel('Transaction Amounts ($)')\n",
    "# plt.ylabel('Percentage of Number of Transactions')"
   ]
  },
  {
   "cell_type": "code",
   "execution_count": null,
   "metadata": {},
   "outputs": [],
   "source": []
  },
  {
   "cell_type": "code",
   "execution_count": null,
   "metadata": {},
   "outputs": [],
   "source": [
    "# check if reversal is fraud, the corresponding purchase is also fraud"
   ]
  },
  {
   "cell_type": "markdown",
   "metadata": {},
   "source": [
    "## recommendation"
   ]
  },
  {
   "cell_type": "code",
   "execution_count": null,
   "metadata": {},
   "outputs": [],
   "source": [
    "The multi swipe time span was defined as 60 seconds and need to do more reaserch to make sure"
   ]
  },
  {
   "cell_type": "markdown",
   "metadata": {},
   "source": [
    "#### 1. when entered CVV is different from CVV, the transactionAmount shoudl be 0, but"
   ]
  },
  {
   "cell_type": "code",
   "execution_count": null,
   "metadata": {},
   "outputs": [],
   "source": [
    "card_drp.loc[card_drp.cvv_dif==True,\"transactionAmount\"].head()"
   ]
  },
  {
   "cell_type": "code",
   "execution_count": null,
   "metadata": {},
   "outputs": [],
   "source": []
  },
  {
   "cell_type": "code",
   "execution_count": null,
   "metadata": {},
   "outputs": [],
   "source": []
  },
  {
   "cell_type": "markdown",
   "metadata": {},
   "source": [
    "## back-up"
   ]
  },
  {
   "cell_type": "code",
   "execution_count": null,
   "metadata": {},
   "outputs": [],
   "source": []
  },
  {
   "cell_type": "code",
   "execution_count": null,
   "metadata": {},
   "outputs": [],
   "source": [
    "#the fraud rate of each merchant category\n",
    "merchant_cat_rate=card.groupby(\"merchantCategoryCode\").apply(lambda x:pd.Series({\"rate\":x['isFraud'].mean()}))\n",
    "\n",
    "merchant_cat_rate.sort_values(by=\"rate\",ascending=False).plot(kind=\"bar\")"
   ]
  },
  {
   "cell_type": "code",
   "execution_count": null,
   "metadata": {},
   "outputs": [],
   "source": []
  },
  {
   "cell_type": "code",
   "execution_count": null,
   "metadata": {},
   "outputs": [],
   "source": []
  },
  {
   "cell_type": "code",
   "execution_count": null,
   "metadata": {},
   "outputs": [],
   "source": []
  },
  {
   "cell_type": "code",
   "execution_count": null,
   "metadata": {},
   "outputs": [],
   "source": [
    "card['merchantCategoryCode'].value_counts()"
   ]
  },
  {
   "cell_type": "code",
   "execution_count": null,
   "metadata": {},
   "outputs": [],
   "source": [
    "card.loc[card_drp.isFraud==True,'merchantCategoryCode'].value_counts()"
   ]
  },
  {
   "cell_type": "code",
   "execution_count": null,
   "metadata": {},
   "outputs": [],
   "source": [
    "plt.figure(figsize=(12,6))\n",
    "sns.countplot(x=\"merchantCategoryCode\",data=card_drp[card_drp.isFraud==True])"
   ]
  },
  {
   "cell_type": "code",
   "execution_count": null,
   "metadata": {},
   "outputs": [],
   "source": []
  },
  {
   "cell_type": "code",
   "execution_count": null,
   "metadata": {},
   "outputs": [],
   "source": []
  },
  {
   "cell_type": "code",
   "execution_count": null,
   "metadata": {},
   "outputs": [],
   "source": []
  },
  {
   "cell_type": "code",
   "execution_count": null,
   "metadata": {},
   "outputs": [],
   "source": []
  },
  {
   "cell_type": "code",
   "execution_count": null,
   "metadata": {},
   "outputs": [],
   "source": []
  },
  {
   "cell_type": "code",
   "execution_count": null,
   "metadata": {},
   "outputs": [],
   "source": [
    "purchase = card_drp.loc[card_drp['transactionType']==\"PURCHASE\",\"isFraud\"]\n",
    "reversal = card_drp.loc[card_drp['transactionType']==\"REVERSAL\",\"isFraud\"]\n"
   ]
  },
  {
   "cell_type": "code",
   "execution_count": null,
   "metadata": {},
   "outputs": [],
   "source": [
    "purchase.mean()"
   ]
  },
  {
   "cell_type": "code",
   "execution_count": null,
   "metadata": {},
   "outputs": [],
   "source": [
    "reversal.mean()"
   ]
  },
  {
   "cell_type": "code",
   "execution_count": null,
   "metadata": {},
   "outputs": [],
   "source": [
    "ttest_res_2 = ttest_ind(purchase,reversal,equal_var=False)"
   ]
  },
  {
   "cell_type": "code",
   "execution_count": null,
   "metadata": {},
   "outputs": [],
   "source": [
    "ttest_res_2"
   ]
  }
 ],
 "metadata": {
  "kernelspec": {
   "display_name": "Python 3",
   "language": "python",
   "name": "python3"
  },
  "language_info": {
   "codemirror_mode": {
    "name": "ipython",
    "version": 3
   },
   "file_extension": ".py",
   "mimetype": "text/x-python",
   "name": "python",
   "nbconvert_exporter": "python",
   "pygments_lexer": "ipython3",
   "version": "3.6.10"
  },
  "toc": {
   "base_numbering": 1,
   "nav_menu": {},
   "number_sections": false,
   "sideBar": true,
   "skip_h1_title": false,
   "title_cell": "Table of Contents",
   "title_sidebar": "Contents",
   "toc_cell": true,
   "toc_position": {
    "height": "calc(100% - 180px)",
    "left": "10px",
    "top": "150px",
    "width": "373.186px"
   },
   "toc_section_display": true,
   "toc_window_display": false
  },
  "varInspector": {
   "cols": {
    "lenName": 16,
    "lenType": 16,
    "lenVar": 40
   },
   "kernels_config": {
    "python": {
     "delete_cmd_postfix": "",
     "delete_cmd_prefix": "del ",
     "library": "var_list.py",
     "varRefreshCmd": "print(var_dic_list())"
    },
    "r": {
     "delete_cmd_postfix": ") ",
     "delete_cmd_prefix": "rm(",
     "library": "var_list.r",
     "varRefreshCmd": "cat(var_dic_list()) "
    }
   },
   "types_to_exclude": [
    "module",
    "function",
    "builtin_function_or_method",
    "instance",
    "_Feature"
   ],
   "window_display": false
  }
 },
 "nbformat": 4,
 "nbformat_minor": 4
}
