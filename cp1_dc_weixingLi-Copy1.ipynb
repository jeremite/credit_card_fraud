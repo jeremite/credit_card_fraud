{
 "cells": [
  {
   "cell_type": "markdown",
   "metadata": {
    "toc": true
   },
   "source": [
    "<h1>Table of Contents<span class=\"tocSkip\"></span></h1>\n",
    "<div class=\"toc\"><ul class=\"toc-item\"><li><span><a href=\"#Prerequisite\" data-toc-modified-id=\"Prerequisite-1\">Prerequisite</a></span><ul class=\"toc-item\"><li><ul class=\"toc-item\"><li><ul class=\"toc-item\"><li><span><a href=\"#please-run-the-below-code-to-install-the-required-packages\" data-toc-modified-id=\"please-run-the-below-code-to-install-the-required-packages-1.0.0.1\">please run the below code to install the required packages</a></span></li><li><span><a href=\"#import-all-pakcages-to-be-used\" data-toc-modified-id=\"import-all-pakcages-to-be-used-1.0.0.2\">import all pakcages to be used</a></span></li><li><span><a href=\"#utility-functions\" data-toc-modified-id=\"utility-functions-1.0.0.3\">utility functions</a></span></li></ul></li></ul></li></ul></li><li><span><a href=\"#Question-1:-Load\" data-toc-modified-id=\"Question-1:-Load-2\">Question 1: Load</a></span><ul class=\"toc-item\"><li><ul class=\"toc-item\"><li><span><a href=\"#1.1-Programmatically-download-and-load-into-your-favorite-analytical-tool-the-transactions-data.\" data-toc-modified-id=\"1.1-Programmatically-download-and-load-into-your-favorite-analytical-tool-the-transactions-data.-2.0.1\">1.1 Programmatically download and load into your favorite analytical tool the transactions data.</a></span><ul class=\"toc-item\"><li><span><a href=\"#clone-the-git-repo-and-unzip-the-data-to-folder-&quot;data/&quot;\" data-toc-modified-id=\"clone-the-git-repo-and-unzip-the-data-to-folder-&quot;data/&quot;-2.0.1.1\">clone the git repo and unzip the data to folder \"data/\"</a></span></li><li><span><a href=\"#load-the-data-into-pandas-dataframe-and-optimize-the-data-size\" data-toc-modified-id=\"load-the-data-into-pandas-dataframe-and-optimize-the-data-size-2.0.1.2\">load the data into pandas dataframe and optimize the data size</a></span></li><li><span><a href=\"#save-into-feather-format-as-it-lives-in-RAM\" data-toc-modified-id=\"save-into-feather-format-as-it-lives-in-RAM-2.0.1.3\">save into feather format as it lives in RAM</a></span></li></ul></li><li><span><a href=\"#1.2-Please-describe-the-structure-of-the-data.-Number-of-records-and-fields-in-each-record?\" data-toc-modified-id=\"1.2-Please-describe-the-structure-of-the-data.-Number-of-records-and-fields-in-each-record?-2.0.2\">1.2 Please describe the structure of the data. Number of records and fields in each record?</a></span></li><li><span><a href=\"#1.3-Please-provide-some-additional-basic-summary-statistics-for-each-field.\" data-toc-modified-id=\"1.3-Please-provide-some-additional-basic-summary-statistics-for-each-field.-2.0.3\">1.3 Please provide some additional basic summary statistics for each field.</a></span><ul class=\"toc-item\"><li><span><a href=\"#clean-the-data---datetime-columns\" data-toc-modified-id=\"clean-the-data---datetime-columns-2.0.3.1\">clean the data - datetime columns</a></span></li><li><span><a href=\"#clean-the-data---missing-values\" data-toc-modified-id=\"clean-the-data---missing-values-2.0.3.2\">clean the data - missing values</a></span></li><li><span><a href=\"#clean-the-data---remove-duplicated-columns\" data-toc-modified-id=\"clean-the-data---remove-duplicated-columns-2.0.3.3\">clean the data - remove duplicated columns</a></span></li><li><span><a href=\"#clean-the-data---save-current-data\" data-toc-modified-id=\"clean-the-data---save-current-data-2.0.3.4\">clean the data - save current data</a></span></li><li><span><a href=\"#Answers---check-the-stats\" data-toc-modified-id=\"Answers---check-the-stats-2.0.3.5\"><font color=\"red\">Answers</font> - check the stats</a></span></li><li><span><a href=\"#Answers---check-the-stats-for-categorical-variables\" data-toc-modified-id=\"Answers---check-the-stats-for-categorical-variables-2.0.3.6\"><font color=\"red\">Answers</font> - check the stats for categorical variables</a></span></li></ul></li></ul></li></ul></li><li><span><a href=\"#Question-2:-Plot\" data-toc-modified-id=\"Question-2:-Plot-3\">Question 2: Plot</a></span><ul class=\"toc-item\"><li><ul class=\"toc-item\"><li><span><a href=\"#2.1-Plot-a-histogram-of-the-processed-amounts-of-each-transaction,-the-transactionAmount-column.\" data-toc-modified-id=\"2.1-Plot-a-histogram-of-the-processed-amounts-of-each-transaction,-the-transactionAmount-column.-3.0.1\">2.1 Plot a histogram of the processed amounts of each transaction, the transactionAmount column.</a></span></li><li><span><a href=\"#2.2-Report-any-structure-you-find-and-any-hypotheses-you-have-about-that-structure.\" data-toc-modified-id=\"2.2-Report-any-structure-you-find-and-any-hypotheses-you-have-about-that-structure.-3.0.2\">2.2 Report any structure you find and any hypotheses you have about that structure.</a></span></li></ul></li><li><span><a href=\"#Question-3:-Data-Wrangling---Duplicate-Transactions\" data-toc-modified-id=\"Question-3:-Data-Wrangling---Duplicate-Transactions-3.1\">Question 3: Data Wrangling - Duplicate Transactions</a></span><ul class=\"toc-item\"><li><span><a href=\"#3.1-Can-you-programmatically-identify-reversed-and-multi-swipe-transactions?\" data-toc-modified-id=\"3.1-Can-you-programmatically-identify-reversed-and-multi-swipe-transactions?-3.1.1\">3.1 Can you programmatically identify reversed and multi-swipe transactions?</a></span><ul class=\"toc-item\"><li><span><a href=\"#identify-reversed-transanctions\" data-toc-modified-id=\"identify-reversed-transanctions-3.1.1.1\">identify reversed transanctions</a></span></li><li><span><a href=\"#identify-multi-swipe-transanctions\" data-toc-modified-id=\"identify-multi-swipe-transanctions-3.1.1.2\">identify multi-swipe transanctions</a></span></li></ul></li><li><span><a href=\"#3.2-What-total-number-of-transactions-and-total-dollar-amount-do-you-estimate-for-the-reversed-transactions?-For-the-multi-swipe-transactions?\" data-toc-modified-id=\"3.2-What-total-number-of-transactions-and-total-dollar-amount-do-you-estimate-for-the-reversed-transactions?-For-the-multi-swipe-transactions?-3.1.2\">3.2 What total number of transactions and total dollar amount do you estimate for the reversed transactions? For the multi-swipe transactions?</a></span></li><li><span><a href=\"#3.3-Did-you-find-anything-interesting-about-either-kind-of-transaction?\" data-toc-modified-id=\"3.3-Did-you-find-anything-interesting-about-either-kind-of-transaction?-3.1.3\">3.3 Did you find anything interesting about either kind of transaction?</a></span></li></ul></li><li><span><a href=\"#Question-4:-Model\" data-toc-modified-id=\"Question-4:-Model-3.2\">Question 4: Model</a></span><ul class=\"toc-item\"><li><ul class=\"toc-item\"><li><span><a href=\"#feature-engineering\" data-toc-modified-id=\"feature-engineering-3.2.0.1\">feature engineering</a></span></li></ul></li></ul></li><li><span><a href=\"#reference\" data-toc-modified-id=\"reference-3.3\">reference</a></span></li><li><span><a href=\"#recommendation\" data-toc-modified-id=\"recommendation-3.4\">recommendation</a></span><ul class=\"toc-item\"><li><ul class=\"toc-item\"><li><span><a href=\"#1.-when-entered-CVV-is-different-from-CVV,-the-transactionAmount-shoudl-be-0,-but\" data-toc-modified-id=\"1.-when-entered-CVV-is-different-from-CVV,-the-transactionAmount-shoudl-be-0,-but-3.4.0.1\">1. when entered CVV is different from CVV, the transactionAmount shoudl be 0, but</a></span></li></ul></li></ul></li></ul></li></ul></div>"
   ]
  },
  {
   "cell_type": "markdown",
   "metadata": {},
   "source": [
    "# Prerequisite"
   ]
  },
  {
   "cell_type": "markdown",
   "metadata": {},
   "source": [
    "#### please run the below code to install the required packages"
   ]
  },
  {
   "cell_type": "code",
   "execution_count": null,
   "metadata": {},
   "outputs": [],
   "source": [
    "!pip install requirements.txt"
   ]
  },
  {
   "cell_type": "markdown",
   "metadata": {},
   "source": [
    "#### import all pakcages to be used"
   ]
  },
  {
   "cell_type": "code",
   "execution_count": 2,
   "metadata": {},
   "outputs": [
    {
     "name": "stderr",
     "output_type": "stream",
     "text": [
      "\n",
      "Bad key \"text.kerning_factor\" on line 4 in\n",
      "D:\\Roaming\\Python\\Python37\\site-packages\\matplotlib\\mpl-data\\stylelib\\_classic_test_patch.mplstyle.\n",
      "You probably need to get an updated matplotlibrc file from\n",
      "http://github.com/matplotlib/matplotlib/blob/master/matplotlibrc.template\n",
      "or from the matplotlib source distribution\n"
     ]
    }
   ],
   "source": [
    "import pandas as pd\n",
    "from pandas.tseries.offsets import MonthEnd\n",
    "from pandas.api.types import is_string_dtype\n",
    "from pandas.api.types import is_numeric_dtype,is_float_dtype\n",
    "from sklearn.pipeline import make_pipeline, make_union\n",
    "from sklearn.base import BaseEstimator, TransformerMixin\n",
    "\n",
    "\n",
    "import numpy as np\n",
    "from scipy.stats import ttest_ind\n",
    "from zipfile import ZipFile\n",
    "import os\n",
    "import re\n",
    "import json\n",
    "from tqdm import tqdm\n",
    "import warnings\n",
    "warnings.filterwarnings('ignore')\n",
    "import matplotlib.pyplot as plt\n",
    "import seaborn as sns\n",
    "from matplotlib import rcParams\n",
    "rcParams.update({'figure.autolayout': True})  \n",
    "pd.set_option('display.max_columns', 10)\n",
    "pd.set_option('display.width', 350)"
   ]
  },
  {
   "cell_type": "markdown",
   "metadata": {},
   "source": [
    "#### utility functions"
   ]
  },
  {
   "cell_type": "code",
   "execution_count": 3,
   "metadata": {},
   "outputs": [],
   "source": [
    "def display_all(df):\n",
    "    \"\"\"\n",
    "    Docstring: make dataframe display all rows/columns (within 1000).\n",
    "    \n",
    "    Parameters\n",
    "    ----------\n",
    "    df: pandas dataframe to be display.\n",
    "    \"\"\"\n",
    "\n",
    "    with pd.option_context('display.max_rows',1000,'display.max_columns',1000):\n",
    "        display(df)"
   ]
  },
  {
   "cell_type": "markdown",
   "metadata": {},
   "source": [
    "# Question 1: Load\n",
    "### 1.1 Programmatically download and load into your favorite analytical tool the transactions data. \n",
    "#### clone the git repo and unzip the data to folder \"data/\""
   ]
  },
  {
   "cell_type": "code",
   "execution_count": null,
   "metadata": {},
   "outputs": [],
   "source": [
    "#git clone the remote repository into local\n",
    "!git clone https://github.com/CapitalOneRecruiting/DS.git"
   ]
  },
  {
   "cell_type": "code",
   "execution_count": null,
   "metadata": {},
   "outputs": [],
   "source": [
    "#list content in the cloned folder\n",
    "os.listdir(\"DS/\")"
   ]
  },
  {
   "cell_type": "code",
   "execution_count": null,
   "metadata": {},
   "outputs": [],
   "source": [
    "#unzip the \"transactions.zip\" file to the data folder.\n",
    "\n",
    "# make data folder if not exist\n",
    "data_dir = \"data/\"\n",
    "if not os.path.exists(data_dir):\n",
    "    os.makedirs(data_dir)\n",
    "# specifying file path and unzip it\n",
    "file_name = \"DS/transactions.zip\"\n",
    "   \n",
    "with ZipFile(file_name, 'r') as z: \n",
    "    # extracting the files \n",
    "    print('Extracting now...') \n",
    "    z.extractall(path=data_dir) \n",
    "    print('Extracted to folder {}'.format(data_dir)) "
   ]
  },
  {
   "cell_type": "code",
   "execution_count": null,
   "metadata": {},
   "outputs": [],
   "source": [
    "#list content in the data folder\n",
    "os.listdir(data_dir)"
   ]
  },
  {
   "cell_type": "markdown",
   "metadata": {},
   "source": [
    "#### load the data into pandas dataframe and optimize the data size"
   ]
  },
  {
   "cell_type": "code",
   "execution_count": 3,
   "metadata": {},
   "outputs": [],
   "source": [
    "#data_dir = \"data/\"\n",
    "# #card = pd.read_json(os.path.join(data_dir,\"transactions.txt\"),lines=True)\n",
    "data = [json.loads(line) for line in open(os.path.join(data_dir,\"transactions.txt\"),'r')]\n",
    "card = pd.DataFrame(data)"
   ]
  },
  {
   "cell_type": "markdown",
   "metadata": {},
   "source": [
    "we could see from info() of the dataset that all the numeric columns are occupying 8 bytes of the memory but actually their values are not that big; Besides, some object dataype can be converted into category [2]"
   ]
  },
  {
   "cell_type": "code",
   "execution_count": 17,
   "metadata": {
    "scrolled": true
   },
   "outputs": [
    {
     "name": "stdout",
     "output_type": "stream",
     "text": [
      "<class 'pandas.core.frame.DataFrame'>\n",
      "RangeIndex: 786363 entries, 0 to 786362\n",
      "Data columns (total 29 columns):\n",
      " #   Column                    Non-Null Count   Dtype   \n",
      "---  ------                    --------------   -----   \n",
      " 0   accountNumber             786363 non-null  object  \n",
      " 1   customerId                786363 non-null  object  \n",
      " 2   creditLimit               786363 non-null  float32 \n",
      " 3   availableMoney            786363 non-null  float32 \n",
      " 4   transactionDateTime       786363 non-null  object  \n",
      " 5   transactionAmount         786363 non-null  float32 \n",
      " 6   merchantName              786363 non-null  category\n",
      " 7   acqCountry                786363 non-null  category\n",
      " 8   merchantCountryCode       786363 non-null  category\n",
      " 9   posEntryMode              786363 non-null  category\n",
      " 10  posConditionCode          786363 non-null  category\n",
      " 11  merchantCategoryCode      786363 non-null  category\n",
      " 12  currentExpDate            786363 non-null  object  \n",
      " 13  accountOpenDate           786363 non-null  object  \n",
      " 14  dateOfLastAddressChange   786363 non-null  object  \n",
      " 15  cardCVV                   786363 non-null  category\n",
      " 16  enteredCVV                786363 non-null  category\n",
      " 17  cardLast4Digits           786363 non-null  category\n",
      " 18  transactionType           786363 non-null  category\n",
      " 19  echoBuffer                786363 non-null  object  \n",
      " 20  currentBalance            786363 non-null  float32 \n",
      " 21  merchantCity              786363 non-null  object  \n",
      " 22  merchantState             786363 non-null  object  \n",
      " 23  merchantZip               786363 non-null  object  \n",
      " 24  cardPresent               786363 non-null  bool    \n",
      " 25  posOnPremises             786363 non-null  object  \n",
      " 26  recurringAuthInd          786363 non-null  object  \n",
      " 27  expirationDateKeyInMatch  786363 non-null  bool    \n",
      " 28  isFraud                   786363 non-null  bool    \n",
      "dtypes: bool(3), category(10), float32(4), object(12)\n",
      "memory usage: 97.1+ MB\n"
     ]
    }
   ],
   "source": [
    "card.info()"
   ]
  },
  {
   "cell_type": "code",
   "execution_count": 18,
   "metadata": {},
   "outputs": [
    {
     "name": "stdout",
     "output_type": "stream",
     "text": [
      "Memory usage of properties dataframe is : 97.06874370574951  MB\n"
     ]
    }
   ],
   "source": [
    "start_mem_usg = card.memory_usage().sum() / 1024**2 \n",
    "print(\"Memory usage of properties dataframe is :\",start_mem_usg,\" MB\")"
   ]
  },
  {
   "cell_type": "code",
   "execution_count": 5,
   "metadata": {
    "code_folding": []
   },
   "outputs": [],
   "source": [
    "for c in card.columns.tolist():\n",
    "    if is_numeric_dtype(card[c]):\n",
    "        if is_float_dtype(card[c]):\n",
    "            card[c]=pd.to_numeric(card[c], downcast=\"float\")\n",
    "        else:\n",
    "            card[c]=pd.to_numeric(card[c], downcast=\"integer\")"
   ]
  },
  {
   "cell_type": "code",
   "execution_count": 14,
   "metadata": {},
   "outputs": [],
   "source": [
    "object2cat_cols = [\"merchantName\",\"acqCountry\",\"merchantCountryCode\",\"posEntryMode\",\\\n",
    "                   \"posConditionCode\",\"merchantCategoryCode\",\"cardCVV\",\"enteredCVV\",\\\n",
    "                   \"transactionType\",\"cardLast4Digits\"]"
   ]
  },
  {
   "cell_type": "code",
   "execution_count": 15,
   "metadata": {},
   "outputs": [],
   "source": [
    "card[object2cat_cols] = card[object2cat_cols].astype('category')"
   ]
  },
  {
   "cell_type": "code",
   "execution_count": 16,
   "metadata": {
    "scrolled": true
   },
   "outputs": [
    {
     "name": "stdout",
     "output_type": "stream",
     "text": [
      "___MEMORY USAGE AFTER COMPLETION:___\n",
      "Memory usage is:  97.06874370574951  MB\n",
      "This is  61.344193481494315 % of the initial size\n"
     ]
    }
   ],
   "source": [
    "print(\"___MEMORY USAGE AFTER COMPLETION:___\")\n",
    "mem_usg = card.memory_usage().sum() / 1024**2 \n",
    "print(\"Memory usage is: \",mem_usg,\" MB\")\n",
    "print(\"This is \",100*mem_usg/start_mem_usg,\"% of the initial size\")"
   ]
  },
  {
   "cell_type": "code",
   "execution_count": null,
   "metadata": {},
   "outputs": [],
   "source": []
  },
  {
   "cell_type": "markdown",
   "metadata": {},
   "source": [
    "#### save into feather format as it lives in RAM"
   ]
  },
  {
   "cell_type": "code",
   "execution_count": null,
   "metadata": {},
   "outputs": [],
   "source": [
    "# save to feather format for future use\n",
    "# Feather format is almost the same format that it lives in RAM, so it is ridiculously fast to read and write\n",
    "card.to_feather('data/transactions-raw')"
   ]
  },
  {
   "cell_type": "code",
   "execution_count": 29,
   "metadata": {},
   "outputs": [],
   "source": [
    "# read the feather data back\n",
    "card = pd.read_feather('data/transactions-raw')"
   ]
  },
  {
   "cell_type": "markdown",
   "metadata": {},
   "source": [
    "### 1.2 Please describe the structure of the data. Number of records and fields in each record?"
   ]
  },
  {
   "cell_type": "markdown",
   "metadata": {},
   "source": [
    "answers:\n",
    "1) The data has 786363 records and 29 fields for each record.\n",
    "<br>\n",
    "2) In the 29 fields, \"isFraud\" is the target variable and other 28 of them are potential predictors (independent variables)\n",
    "<br>\n",
    "3) Right now, we have total 4 numeric fields, 3 booleans and 22 categoric fields.\n",
    "4) it looks like there are null values in fields like merchantCity when print out the data, but in the .info() table, it says there are no null values for every field, which is so suspicous and will dig into right away."
   ]
  },
  {
   "cell_type": "code",
   "execution_count": 20,
   "metadata": {
    "scrolled": true
   },
   "outputs": [
    {
     "data": {
      "text/html": [
       "<div>\n",
       "<style scoped>\n",
       "    .dataframe tbody tr th:only-of-type {\n",
       "        vertical-align: middle;\n",
       "    }\n",
       "\n",
       "    .dataframe tbody tr th {\n",
       "        vertical-align: top;\n",
       "    }\n",
       "\n",
       "    .dataframe thead th {\n",
       "        text-align: right;\n",
       "    }\n",
       "</style>\n",
       "<table border=\"1\" class=\"dataframe\">\n",
       "  <thead>\n",
       "    <tr style=\"text-align: right;\">\n",
       "      <th></th>\n",
       "      <th>786358</th>\n",
       "      <th>786359</th>\n",
       "      <th>786360</th>\n",
       "      <th>786361</th>\n",
       "      <th>786362</th>\n",
       "    </tr>\n",
       "  </thead>\n",
       "  <tbody>\n",
       "    <tr>\n",
       "      <th>accountNumber</th>\n",
       "      <td>732852505</td>\n",
       "      <td>732852505</td>\n",
       "      <td>732852505</td>\n",
       "      <td>732852505</td>\n",
       "      <td>732852505</td>\n",
       "    </tr>\n",
       "    <tr>\n",
       "      <th>customerId</th>\n",
       "      <td>732852505</td>\n",
       "      <td>732852505</td>\n",
       "      <td>732852505</td>\n",
       "      <td>732852505</td>\n",
       "      <td>732852505</td>\n",
       "    </tr>\n",
       "    <tr>\n",
       "      <th>creditLimit</th>\n",
       "      <td>50000.0</td>\n",
       "      <td>50000.0</td>\n",
       "      <td>50000.0</td>\n",
       "      <td>50000.0</td>\n",
       "      <td>50000.0</td>\n",
       "    </tr>\n",
       "    <tr>\n",
       "      <th>availableMoney</th>\n",
       "      <td>48904.960938</td>\n",
       "      <td>48785.039062</td>\n",
       "      <td>48766.148438</td>\n",
       "      <td>48716.71875</td>\n",
       "      <td>48666.828125</td>\n",
       "    </tr>\n",
       "    <tr>\n",
       "      <th>transactionDateTime</th>\n",
       "      <td>2016-12-22T18:44:12</td>\n",
       "      <td>2016-12-25T16:20:34</td>\n",
       "      <td>2016-12-27T15:46:24</td>\n",
       "      <td>2016-12-29T00:30:55</td>\n",
       "      <td>2016-12-30T20:10:29</td>\n",
       "    </tr>\n",
       "    <tr>\n",
       "      <th>transactionAmount</th>\n",
       "      <td>119.919998</td>\n",
       "      <td>18.889999</td>\n",
       "      <td>49.43</td>\n",
       "      <td>49.889999</td>\n",
       "      <td>72.18</td>\n",
       "    </tr>\n",
       "    <tr>\n",
       "      <th>merchantName</th>\n",
       "      <td>Lyft</td>\n",
       "      <td>hulu.com</td>\n",
       "      <td>Lyft</td>\n",
       "      <td>walmart.com</td>\n",
       "      <td>Uber</td>\n",
       "    </tr>\n",
       "    <tr>\n",
       "      <th>acqCountry</th>\n",
       "      <td>US</td>\n",
       "      <td>US</td>\n",
       "      <td>US</td>\n",
       "      <td>US</td>\n",
       "      <td>US</td>\n",
       "    </tr>\n",
       "    <tr>\n",
       "      <th>merchantCountryCode</th>\n",
       "      <td>US</td>\n",
       "      <td>US</td>\n",
       "      <td>US</td>\n",
       "      <td>US</td>\n",
       "      <td>US</td>\n",
       "    </tr>\n",
       "    <tr>\n",
       "      <th>posEntryMode</th>\n",
       "      <td>90</td>\n",
       "      <td>09</td>\n",
       "      <td>02</td>\n",
       "      <td>09</td>\n",
       "      <td>05</td>\n",
       "    </tr>\n",
       "    <tr>\n",
       "      <th>posConditionCode</th>\n",
       "      <td>01</td>\n",
       "      <td>01</td>\n",
       "      <td>01</td>\n",
       "      <td>99</td>\n",
       "      <td>01</td>\n",
       "    </tr>\n",
       "    <tr>\n",
       "      <th>merchantCategoryCode</th>\n",
       "      <td>rideshare</td>\n",
       "      <td>online_subscriptions</td>\n",
       "      <td>rideshare</td>\n",
       "      <td>online_retail</td>\n",
       "      <td>rideshare</td>\n",
       "    </tr>\n",
       "    <tr>\n",
       "      <th>currentExpDate</th>\n",
       "      <td>12/2022</td>\n",
       "      <td>08/2023</td>\n",
       "      <td>08/2025</td>\n",
       "      <td>07/2022</td>\n",
       "      <td>05/2024</td>\n",
       "    </tr>\n",
       "    <tr>\n",
       "      <th>accountOpenDate</th>\n",
       "      <td>2012-08-23</td>\n",
       "      <td>2012-08-23</td>\n",
       "      <td>2012-08-23</td>\n",
       "      <td>2012-08-23</td>\n",
       "      <td>2012-08-23</td>\n",
       "    </tr>\n",
       "    <tr>\n",
       "      <th>dateOfLastAddressChange</th>\n",
       "      <td>2012-08-23</td>\n",
       "      <td>2012-08-23</td>\n",
       "      <td>2012-08-23</td>\n",
       "      <td>2012-08-23</td>\n",
       "      <td>2012-08-23</td>\n",
       "    </tr>\n",
       "    <tr>\n",
       "      <th>cardCVV</th>\n",
       "      <td>936</td>\n",
       "      <td>939</td>\n",
       "      <td>936</td>\n",
       "      <td>939</td>\n",
       "      <td>939</td>\n",
       "    </tr>\n",
       "    <tr>\n",
       "      <th>enteredCVV</th>\n",
       "      <td>936</td>\n",
       "      <td>939</td>\n",
       "      <td>936</td>\n",
       "      <td>939</td>\n",
       "      <td>939</td>\n",
       "    </tr>\n",
       "    <tr>\n",
       "      <th>cardLast4Digits</th>\n",
       "      <td>3783</td>\n",
       "      <td>3388</td>\n",
       "      <td>3783</td>\n",
       "      <td>3388</td>\n",
       "      <td>3388</td>\n",
       "    </tr>\n",
       "    <tr>\n",
       "      <th>transactionType</th>\n",
       "      <td>PURCHASE</td>\n",
       "      <td>PURCHASE</td>\n",
       "      <td>PURCHASE</td>\n",
       "      <td>PURCHASE</td>\n",
       "      <td>PURCHASE</td>\n",
       "    </tr>\n",
       "    <tr>\n",
       "      <th>echoBuffer</th>\n",
       "      <td></td>\n",
       "      <td></td>\n",
       "      <td></td>\n",
       "      <td></td>\n",
       "      <td></td>\n",
       "    </tr>\n",
       "    <tr>\n",
       "      <th>currentBalance</th>\n",
       "      <td>1095.040039</td>\n",
       "      <td>1214.959961</td>\n",
       "      <td>1233.849976</td>\n",
       "      <td>1283.280029</td>\n",
       "      <td>1333.170044</td>\n",
       "    </tr>\n",
       "    <tr>\n",
       "      <th>merchantCity</th>\n",
       "      <td></td>\n",
       "      <td></td>\n",
       "      <td></td>\n",
       "      <td></td>\n",
       "      <td></td>\n",
       "    </tr>\n",
       "    <tr>\n",
       "      <th>merchantState</th>\n",
       "      <td></td>\n",
       "      <td></td>\n",
       "      <td></td>\n",
       "      <td></td>\n",
       "      <td></td>\n",
       "    </tr>\n",
       "    <tr>\n",
       "      <th>merchantZip</th>\n",
       "      <td></td>\n",
       "      <td></td>\n",
       "      <td></td>\n",
       "      <td></td>\n",
       "      <td></td>\n",
       "    </tr>\n",
       "    <tr>\n",
       "      <th>cardPresent</th>\n",
       "      <td>False</td>\n",
       "      <td>False</td>\n",
       "      <td>False</td>\n",
       "      <td>False</td>\n",
       "      <td>False</td>\n",
       "    </tr>\n",
       "    <tr>\n",
       "      <th>posOnPremises</th>\n",
       "      <td></td>\n",
       "      <td></td>\n",
       "      <td></td>\n",
       "      <td></td>\n",
       "      <td></td>\n",
       "    </tr>\n",
       "    <tr>\n",
       "      <th>recurringAuthInd</th>\n",
       "      <td></td>\n",
       "      <td></td>\n",
       "      <td></td>\n",
       "      <td></td>\n",
       "      <td></td>\n",
       "    </tr>\n",
       "    <tr>\n",
       "      <th>expirationDateKeyInMatch</th>\n",
       "      <td>False</td>\n",
       "      <td>False</td>\n",
       "      <td>False</td>\n",
       "      <td>False</td>\n",
       "      <td>False</td>\n",
       "    </tr>\n",
       "    <tr>\n",
       "      <th>isFraud</th>\n",
       "      <td>False</td>\n",
       "      <td>False</td>\n",
       "      <td>False</td>\n",
       "      <td>False</td>\n",
       "      <td>False</td>\n",
       "    </tr>\n",
       "  </tbody>\n",
       "</table>\n",
       "</div>"
      ],
      "text/plain": [
       "                                       786358                786359               786360               786361               786362\n",
       "accountNumber                       732852505             732852505            732852505            732852505            732852505\n",
       "customerId                          732852505             732852505            732852505            732852505            732852505\n",
       "creditLimit                           50000.0               50000.0              50000.0              50000.0              50000.0\n",
       "availableMoney                   48904.960938          48785.039062         48766.148438          48716.71875         48666.828125\n",
       "transactionDateTime       2016-12-22T18:44:12   2016-12-25T16:20:34  2016-12-27T15:46:24  2016-12-29T00:30:55  2016-12-30T20:10:29\n",
       "transactionAmount                  119.919998             18.889999                49.43            49.889999                72.18\n",
       "merchantName                             Lyft              hulu.com                 Lyft          walmart.com                 Uber\n",
       "acqCountry                                 US                    US                   US                   US                   US\n",
       "merchantCountryCode                        US                    US                   US                   US                   US\n",
       "posEntryMode                               90                    09                   02                   09                   05\n",
       "posConditionCode                           01                    01                   01                   99                   01\n",
       "merchantCategoryCode                rideshare  online_subscriptions            rideshare        online_retail            rideshare\n",
       "currentExpDate                        12/2022               08/2023              08/2025              07/2022              05/2024\n",
       "accountOpenDate                    2012-08-23            2012-08-23           2012-08-23           2012-08-23           2012-08-23\n",
       "dateOfLastAddressChange            2012-08-23            2012-08-23           2012-08-23           2012-08-23           2012-08-23\n",
       "cardCVV                                   936                   939                  936                  939                  939\n",
       "enteredCVV                                936                   939                  936                  939                  939\n",
       "cardLast4Digits                          3783                  3388                 3783                 3388                 3388\n",
       "transactionType                      PURCHASE              PURCHASE             PURCHASE             PURCHASE             PURCHASE\n",
       "echoBuffer                                                                                                                        \n",
       "currentBalance                    1095.040039           1214.959961          1233.849976          1283.280029          1333.170044\n",
       "merchantCity                                                                                                                      \n",
       "merchantState                                                                                                                     \n",
       "merchantZip                                                                                                                       \n",
       "cardPresent                             False                 False                False                False                False\n",
       "posOnPremises                                                                                                                     \n",
       "recurringAuthInd                                                                                                                  \n",
       "expirationDateKeyInMatch                False                 False                False                False                False\n",
       "isFraud                                 False                 False                False                False                False"
      ]
     },
     "metadata": {},
     "output_type": "display_data"
    }
   ],
   "source": [
    "# display 5 transactions from the bottom of the dataset and Transpose them for better view\n",
    "display_all(card.tail(5).T)"
   ]
  },
  {
   "cell_type": "code",
   "execution_count": 30,
   "metadata": {},
   "outputs": [
    {
     "name": "stdout",
     "output_type": "stream",
     "text": [
      "786363 rows and 29 columns\n"
     ]
    }
   ],
   "source": [
    "# check the shape of original data\n",
    "print(\"{} rows and {} columns\".format(card.shape[0],card.shape[1]))"
   ]
  },
  {
   "cell_type": "code",
   "execution_count": 23,
   "metadata": {
    "scrolled": true
   },
   "outputs": [
    {
     "name": "stdout",
     "output_type": "stream",
     "text": [
      "<class 'pandas.core.frame.DataFrame'>\n",
      "RangeIndex: 786363 entries, 0 to 786362\n",
      "Data columns (total 29 columns):\n",
      " #   Column                    Non-Null Count   Dtype   \n",
      "---  ------                    --------------   -----   \n",
      " 0   accountNumber             786363 non-null  object  \n",
      " 1   customerId                786363 non-null  object  \n",
      " 2   creditLimit               786363 non-null  float32 \n",
      " 3   availableMoney            786363 non-null  float32 \n",
      " 4   transactionDateTime       786363 non-null  object  \n",
      " 5   transactionAmount         786363 non-null  float32 \n",
      " 6   merchantName              786363 non-null  category\n",
      " 7   acqCountry                786363 non-null  category\n",
      " 8   merchantCountryCode       786363 non-null  category\n",
      " 9   posEntryMode              786363 non-null  category\n",
      " 10  posConditionCode          786363 non-null  category\n",
      " 11  merchantCategoryCode      786363 non-null  category\n",
      " 12  currentExpDate            786363 non-null  object  \n",
      " 13  accountOpenDate           786363 non-null  object  \n",
      " 14  dateOfLastAddressChange   786363 non-null  object  \n",
      " 15  cardCVV                   786363 non-null  category\n",
      " 16  enteredCVV                786363 non-null  category\n",
      " 17  cardLast4Digits           786363 non-null  category\n",
      " 18  transactionType           786363 non-null  category\n",
      " 19  echoBuffer                786363 non-null  object  \n",
      " 20  currentBalance            786363 non-null  float32 \n",
      " 21  merchantCity              786363 non-null  object  \n",
      " 22  merchantState             786363 non-null  object  \n",
      " 23  merchantZip               786363 non-null  object  \n",
      " 24  cardPresent               786363 non-null  bool    \n",
      " 25  posOnPremises             786363 non-null  object  \n",
      " 26  recurringAuthInd          786363 non-null  object  \n",
      " 27  expirationDateKeyInMatch  786363 non-null  bool    \n",
      " 28  isFraud                   786363 non-null  bool    \n",
      "dtypes: bool(3), category(10), float32(4), object(12)\n",
      "memory usage: 97.1+ MB\n"
     ]
    }
   ],
   "source": [
    "card.info()"
   ]
  },
  {
   "cell_type": "markdown",
   "metadata": {},
   "source": [
    "### 1.3 Please provide some additional basic summary statistics for each field. "
   ]
  },
  {
   "cell_type": "markdown",
   "metadata": {},
   "source": [
    "I would do an initial clean on the data first and then print the stats.\n",
    "   - convert date columns to datetime datatype\n",
    "   - deal with missing value and remove columns with all missing values\n",
    "   - remove duplicated columns"
   ]
  },
  {
   "cell_type": "markdown",
   "metadata": {},
   "source": [
    "#### clean the data - datetime columns\n",
    "##### for the expiration date, complete the 'day' part with the last day of that month"
   ]
  },
  {
   "cell_type": "code",
   "execution_count": 24,
   "metadata": {
    "scrolled": true
   },
   "outputs": [
    {
     "data": {
      "text/plain": [
       "Index(['accountNumber', 'customerId', 'creditLimit', 'availableMoney', 'transactionDateTime', 'transactionAmount', 'merchantName', 'acqCountry', 'merchantCountryCode', 'posEntryMode', 'posConditionCode', 'merchantCategoryCode', 'currentExpDate', 'accountOpenDate', 'dateOfLastAddressChange', 'cardCVV', 'enteredCVV', 'cardLast4Digits',\n",
       "       'transactionType', 'echoBuffer', 'currentBalance', 'merchantCity', 'merchantState', 'merchantZip', 'cardPresent', 'posOnPremises', 'recurringAuthInd', 'expirationDateKeyInMatch', 'isFraud'],\n",
       "      dtype='object')"
      ]
     },
     "execution_count": 24,
     "metadata": {},
     "output_type": "execute_result"
    }
   ],
   "source": [
    "# print all columns\n",
    "card.columns"
   ]
  },
  {
   "cell_type": "code",
   "execution_count": 31,
   "metadata": {},
   "outputs": [],
   "source": [
    "# convert time-related columns to datetime format\n",
    "for c in [\"transactionDateTime\",\"accountOpenDate\",\"dateOfLastAddressChange\"]:\n",
    "    card[c]=pd.to_datetime(card[c])"
   ]
  },
  {
   "cell_type": "code",
   "execution_count": 32,
   "metadata": {},
   "outputs": [],
   "source": [
    "# convert and complete (add the last day of month) the currentExpDate column [1]\n",
    "card['currentExpDate'] = pd.to_datetime(card['currentExpDate']) + MonthEnd(1)"
   ]
  },
  {
   "cell_type": "code",
   "execution_count": 27,
   "metadata": {},
   "outputs": [
    {
     "data": {
      "text/html": [
       "<div>\n",
       "<style scoped>\n",
       "    .dataframe tbody tr th:only-of-type {\n",
       "        vertical-align: middle;\n",
       "    }\n",
       "\n",
       "    .dataframe tbody tr th {\n",
       "        vertical-align: top;\n",
       "    }\n",
       "\n",
       "    .dataframe thead th {\n",
       "        text-align: right;\n",
       "    }\n",
       "</style>\n",
       "<table border=\"1\" class=\"dataframe\">\n",
       "  <thead>\n",
       "    <tr style=\"text-align: right;\">\n",
       "      <th></th>\n",
       "      <th>transactionDateTime</th>\n",
       "      <th>accountOpenDate</th>\n",
       "      <th>dateOfLastAddressChange</th>\n",
       "      <th>currentExpDate</th>\n",
       "    </tr>\n",
       "  </thead>\n",
       "  <tbody>\n",
       "    <tr>\n",
       "      <th>0</th>\n",
       "      <td>2016-08-13 14:27:32</td>\n",
       "      <td>2015-03-14</td>\n",
       "      <td>2015-03-14</td>\n",
       "      <td>2023-06-30</td>\n",
       "    </tr>\n",
       "    <tr>\n",
       "      <th>1</th>\n",
       "      <td>2016-10-11 05:05:54</td>\n",
       "      <td>2015-03-14</td>\n",
       "      <td>2015-03-14</td>\n",
       "      <td>2024-02-29</td>\n",
       "    </tr>\n",
       "    <tr>\n",
       "      <th>2</th>\n",
       "      <td>2016-11-08 09:18:39</td>\n",
       "      <td>2015-03-14</td>\n",
       "      <td>2015-03-14</td>\n",
       "      <td>2025-08-31</td>\n",
       "    </tr>\n",
       "    <tr>\n",
       "      <th>3</th>\n",
       "      <td>2016-12-10 02:14:50</td>\n",
       "      <td>2015-03-14</td>\n",
       "      <td>2015-03-14</td>\n",
       "      <td>2025-08-31</td>\n",
       "    </tr>\n",
       "    <tr>\n",
       "      <th>4</th>\n",
       "      <td>2016-03-24 21:04:46</td>\n",
       "      <td>2015-08-06</td>\n",
       "      <td>2015-08-06</td>\n",
       "      <td>2029-10-31</td>\n",
       "    </tr>\n",
       "  </tbody>\n",
       "</table>\n",
       "</div>"
      ],
      "text/plain": [
       "  transactionDateTime accountOpenDate dateOfLastAddressChange currentExpDate\n",
       "0 2016-08-13 14:27:32      2015-03-14              2015-03-14     2023-06-30\n",
       "1 2016-10-11 05:05:54      2015-03-14              2015-03-14     2024-02-29\n",
       "2 2016-11-08 09:18:39      2015-03-14              2015-03-14     2025-08-31\n",
       "3 2016-12-10 02:14:50      2015-03-14              2015-03-14     2025-08-31\n",
       "4 2016-03-24 21:04:46      2015-08-06              2015-08-06     2029-10-31"
      ]
     },
     "execution_count": 27,
     "metadata": {},
     "output_type": "execute_result"
    }
   ],
   "source": [
    "# check\n",
    "card[[\"transactionDateTime\",\"accountOpenDate\",\"dateOfLastAddressChange\",'currentExpDate']].head()"
   ]
  },
  {
   "cell_type": "markdown",
   "metadata": {},
   "source": [
    "#### clean the data - missing values\n",
    "##### after examing the data, the null values in the json text data are represented by \"\", So i will replace them with np.nan\n"
   ]
  },
  {
   "cell_type": "code",
   "execution_count": 33,
   "metadata": {},
   "outputs": [
    {
     "name": "stderr",
     "output_type": "stream",
     "text": [
      "100%|██████████████████████████████████████████████████████████████████████████████████| 29/29 [00:13<00:00,  2.22it/s]\n"
     ]
    }
   ],
   "source": [
    "for c in tqdm(card.columns):\n",
    "    card[c] = card[c].map(lambda x: np.nan if x =='' else x)"
   ]
  },
  {
   "cell_type": "code",
   "execution_count": 34,
   "metadata": {},
   "outputs": [
    {
     "data": {
      "text/plain": [
       "accountNumber                    0\n",
       "customerId                       0\n",
       "creditLimit                      0\n",
       "availableMoney                   0\n",
       "transactionDateTime              0\n",
       "transactionAmount                0\n",
       "merchantName                     0\n",
       "acqCountry                    4562\n",
       "merchantCountryCode            724\n",
       "posEntryMode                  4054\n",
       "posConditionCode               409\n",
       "merchantCategoryCode             0\n",
       "currentExpDate                   0\n",
       "accountOpenDate                  0\n",
       "dateOfLastAddressChange          0\n",
       "cardCVV                          0\n",
       "enteredCVV                       0\n",
       "cardLast4Digits                  0\n",
       "transactionType                698\n",
       "echoBuffer                  786363\n",
       "currentBalance                   0\n",
       "merchantCity                786363\n",
       "merchantState               786363\n",
       "merchantZip                 786363\n",
       "cardPresent                      0\n",
       "posOnPremises               786363\n",
       "recurringAuthInd            786363\n",
       "expirationDateKeyInMatch         0\n",
       "isFraud                          0\n",
       "dtype: int64"
      ]
     },
     "execution_count": 34,
     "metadata": {},
     "output_type": "execute_result"
    }
   ],
   "source": [
    "# check null values of each fields\n",
    "card.isnull().sum()"
   ]
  },
  {
   "cell_type": "code",
   "execution_count": 35,
   "metadata": {},
   "outputs": [],
   "source": [
    "## remove those column with all null values\n",
    "null_summary = card.isnull().sum()\n",
    "all_null_cols = [c for c in card.columns if null_summary[c]==len(card)]"
   ]
  },
  {
   "cell_type": "code",
   "execution_count": 36,
   "metadata": {},
   "outputs": [
    {
     "data": {
      "text/plain": [
       "['echoBuffer',\n",
       " 'merchantCity',\n",
       " 'merchantState',\n",
       " 'merchantZip',\n",
       " 'posOnPremises',\n",
       " 'recurringAuthInd']"
      ]
     },
     "execution_count": 36,
     "metadata": {},
     "output_type": "execute_result"
    }
   ],
   "source": [
    "all_null_cols"
   ]
  },
  {
   "cell_type": "code",
   "execution_count": 37,
   "metadata": {},
   "outputs": [],
   "source": [
    "card = card.drop(columns=all_null_cols)"
   ]
  },
  {
   "cell_type": "markdown",
   "metadata": {},
   "source": [
    "#### clean the data - remove duplicated columns"
   ]
  },
  {
   "cell_type": "code",
   "execution_count": 40,
   "metadata": {},
   "outputs": [
    {
     "name": "stdout",
     "output_type": "stream",
     "text": [
      "Are there any different value between accountNumber and customerId?  No\n"
     ]
    }
   ],
   "source": [
    "# check if there are different values between accountNumber and customerId\n",
    "is_same = \"Yes\" if (card['accountNumber']!=card['customerId']).any() else \"No\"\n",
    "print(\"Are there any different value between accountNumber and customerId? \",is_same)"
   ]
  },
  {
   "cell_type": "code",
   "execution_count": 42,
   "metadata": {},
   "outputs": [],
   "source": [
    "# remove field customerId\n",
    "card.drop(columns=\"customerId\",inplace=True)"
   ]
  },
  {
   "cell_type": "markdown",
   "metadata": {},
   "source": [
    "#### clean the data - save current data"
   ]
  },
  {
   "cell_type": "code",
   "execution_count": 78,
   "metadata": {},
   "outputs": [],
   "source": [
    "# save to feather format for future use\n",
    "# Feather format is almost the same format that it lives in RAM, so it is ridiculously fast to read and write\n",
    "card.to_feather('data/transactions-cln')"
   ]
  },
  {
   "cell_type": "code",
   "execution_count": 1,
   "metadata": {},
   "outputs": [
    {
     "ename": "NameError",
     "evalue": "name 'pd' is not defined",
     "output_type": "error",
     "traceback": [
      "\u001b[1;31m---------------------------------------------------------------------------\u001b[0m",
      "\u001b[1;31mNameError\u001b[0m                                 Traceback (most recent call last)",
      "\u001b[1;32m<ipython-input-1-78dced232c78>\u001b[0m in \u001b[0;36m<module>\u001b[1;34m\u001b[0m\n\u001b[0;32m      1\u001b[0m \u001b[1;31m# read the feather data back\u001b[0m\u001b[1;33m\u001b[0m\u001b[1;33m\u001b[0m\u001b[1;33m\u001b[0m\u001b[0m\n\u001b[1;32m----> 2\u001b[1;33m \u001b[0mcard\u001b[0m \u001b[1;33m=\u001b[0m \u001b[0mpd\u001b[0m\u001b[1;33m.\u001b[0m\u001b[0mread_feather\u001b[0m\u001b[1;33m(\u001b[0m\u001b[1;34m'data/transactions-cln'\u001b[0m\u001b[1;33m)\u001b[0m\u001b[1;33m\u001b[0m\u001b[1;33m\u001b[0m\u001b[0m\n\u001b[0m",
      "\u001b[1;31mNameError\u001b[0m: name 'pd' is not defined"
     ]
    }
   ],
   "source": [
    "# read the feather data back\n",
    "card = pd.read_feather('data/transactions-cln')"
   ]
  },
  {
   "cell_type": "markdown",
   "metadata": {},
   "source": [
    "#### <font color=red>Answers</font> - check the stats\n",
    "(Be sure to include a count of null, minimum, maximum, and unique values where appropriate)\n",
    "  1. Numeric features\n",
    "      - creditLimit (will be converted to category later since it is not continous variable): the minimum is 250 and maximum is 50000 dollars; There is no null values for creditLimit\n",
    "      - availableMoney: the minimum is -1005.6 dollars and maximum 50000 dollars (the same with max credit Limit); No null values for availableMoney.\n",
    "      - transactionAmount: the minumum amount is 0 dollars (even if remove those ADDRESS_VERIFICATION transactions) and the maximum is 2011.5 dollars. No null values for transactionAmount.\n",
    "      - currentBalance: the minimum balance is 0 and maximum is 47498.8 dollars. No null values.\n",
    "  2. Datetime features\n",
    "      - transactionDateTime: it looks like the dataset represents the transactions in the whole year of 2016 (exclude the last day 12-31). No null values for this field.\n",
    "      - currentExpDate: the cards expiration dates span from 12/31/2019 to 08/31/2033. No null values.\n",
    "      - accountOpenDate: the open dates can range from 08/22/1989 to 12/31/2015. No null values.\n",
    "      - dateOfLastAddressChange: the dates range of users changed their credit card address was from 08/22/1989 to 12/30/2016. No null values found.\n",
    "  3. Boolean features\n",
    "      - cardPresent, expirationDateKeyinMatch and isFraud: they all have values either True or False and no null values. No null values found in those fields."
   ]
  },
  {
   "cell_type": "code",
   "execution_count": 45,
   "metadata": {},
   "outputs": [
    {
     "data": {
      "text/html": [
       "<div>\n",
       "<style scoped>\n",
       "    .dataframe tbody tr th:only-of-type {\n",
       "        vertical-align: middle;\n",
       "    }\n",
       "\n",
       "    .dataframe tbody tr th {\n",
       "        vertical-align: top;\n",
       "    }\n",
       "\n",
       "    .dataframe thead th {\n",
       "        text-align: right;\n",
       "    }\n",
       "</style>\n",
       "<table border=\"1\" class=\"dataframe\">\n",
       "  <thead>\n",
       "    <tr style=\"text-align: right;\">\n",
       "      <th></th>\n",
       "      <th>accountNumber</th>\n",
       "      <th>creditLimit</th>\n",
       "      <th>availableMoney</th>\n",
       "      <th>transactionDateTime</th>\n",
       "      <th>transactionAmount</th>\n",
       "      <th>merchantName</th>\n",
       "      <th>acqCountry</th>\n",
       "      <th>merchantCountryCode</th>\n",
       "      <th>posEntryMode</th>\n",
       "      <th>posConditionCode</th>\n",
       "      <th>merchantCategoryCode</th>\n",
       "      <th>currentExpDate</th>\n",
       "      <th>accountOpenDate</th>\n",
       "      <th>dateOfLastAddressChange</th>\n",
       "      <th>cardCVV</th>\n",
       "      <th>enteredCVV</th>\n",
       "      <th>cardLast4Digits</th>\n",
       "      <th>transactionType</th>\n",
       "      <th>currentBalance</th>\n",
       "      <th>cardPresent</th>\n",
       "      <th>expirationDateKeyInMatch</th>\n",
       "      <th>isFraud</th>\n",
       "    </tr>\n",
       "  </thead>\n",
       "  <tbody>\n",
       "    <tr>\n",
       "      <th>count</th>\n",
       "      <td>786363</td>\n",
       "      <td>786363.000000</td>\n",
       "      <td>786363.000000</td>\n",
       "      <td>786363</td>\n",
       "      <td>786363.000000</td>\n",
       "      <td>786363</td>\n",
       "      <td>781801</td>\n",
       "      <td>785639</td>\n",
       "      <td>782309</td>\n",
       "      <td>785954</td>\n",
       "      <td>786363</td>\n",
       "      <td>786363</td>\n",
       "      <td>786363</td>\n",
       "      <td>786363</td>\n",
       "      <td>786363</td>\n",
       "      <td>786363</td>\n",
       "      <td>786363</td>\n",
       "      <td>785665</td>\n",
       "      <td>786363.000000</td>\n",
       "      <td>786363</td>\n",
       "      <td>786363</td>\n",
       "      <td>786363</td>\n",
       "    </tr>\n",
       "    <tr>\n",
       "      <th>unique</th>\n",
       "      <td>5000</td>\n",
       "      <td>NaN</td>\n",
       "      <td>NaN</td>\n",
       "      <td>776637</td>\n",
       "      <td>NaN</td>\n",
       "      <td>2490</td>\n",
       "      <td>4</td>\n",
       "      <td>4</td>\n",
       "      <td>5</td>\n",
       "      <td>3</td>\n",
       "      <td>19</td>\n",
       "      <td>165</td>\n",
       "      <td>1820</td>\n",
       "      <td>2184</td>\n",
       "      <td>899</td>\n",
       "      <td>976</td>\n",
       "      <td>5246</td>\n",
       "      <td>3</td>\n",
       "      <td>NaN</td>\n",
       "      <td>2</td>\n",
       "      <td>2</td>\n",
       "      <td>2</td>\n",
       "    </tr>\n",
       "    <tr>\n",
       "      <th>top</th>\n",
       "      <td>380680241</td>\n",
       "      <td>NaN</td>\n",
       "      <td>NaN</td>\n",
       "      <td>2016-05-28 14:24:41</td>\n",
       "      <td>NaN</td>\n",
       "      <td>Uber</td>\n",
       "      <td>US</td>\n",
       "      <td>US</td>\n",
       "      <td>05</td>\n",
       "      <td>01</td>\n",
       "      <td>online_retail</td>\n",
       "      <td>2029-03-31 00:00:00</td>\n",
       "      <td>2014-06-21 00:00:00</td>\n",
       "      <td>2016-03-15 00:00:00</td>\n",
       "      <td>869</td>\n",
       "      <td>869</td>\n",
       "      <td>593</td>\n",
       "      <td>PURCHASE</td>\n",
       "      <td>NaN</td>\n",
       "      <td>False</td>\n",
       "      <td>False</td>\n",
       "      <td>False</td>\n",
       "    </tr>\n",
       "    <tr>\n",
       "      <th>freq</th>\n",
       "      <td>32850</td>\n",
       "      <td>NaN</td>\n",
       "      <td>NaN</td>\n",
       "      <td>4</td>\n",
       "      <td>NaN</td>\n",
       "      <td>25613</td>\n",
       "      <td>774709</td>\n",
       "      <td>778511</td>\n",
       "      <td>315035</td>\n",
       "      <td>628787</td>\n",
       "      <td>202156</td>\n",
       "      <td>5103</td>\n",
       "      <td>33623</td>\n",
       "      <td>3819</td>\n",
       "      <td>33749</td>\n",
       "      <td>33424</td>\n",
       "      <td>32946</td>\n",
       "      <td>745193</td>\n",
       "      <td>NaN</td>\n",
       "      <td>433495</td>\n",
       "      <td>785320</td>\n",
       "      <td>773946</td>\n",
       "    </tr>\n",
       "    <tr>\n",
       "      <th>first</th>\n",
       "      <td>NaN</td>\n",
       "      <td>NaN</td>\n",
       "      <td>NaN</td>\n",
       "      <td>2016-01-01 00:01:02</td>\n",
       "      <td>NaN</td>\n",
       "      <td>NaN</td>\n",
       "      <td>NaN</td>\n",
       "      <td>NaN</td>\n",
       "      <td>NaN</td>\n",
       "      <td>NaN</td>\n",
       "      <td>NaN</td>\n",
       "      <td>2019-12-31 00:00:00</td>\n",
       "      <td>1989-08-22 00:00:00</td>\n",
       "      <td>1989-08-22 00:00:00</td>\n",
       "      <td>NaN</td>\n",
       "      <td>NaN</td>\n",
       "      <td>NaN</td>\n",
       "      <td>NaN</td>\n",
       "      <td>NaN</td>\n",
       "      <td>NaN</td>\n",
       "      <td>NaN</td>\n",
       "      <td>NaN</td>\n",
       "    </tr>\n",
       "    <tr>\n",
       "      <th>last</th>\n",
       "      <td>NaN</td>\n",
       "      <td>NaN</td>\n",
       "      <td>NaN</td>\n",
       "      <td>2016-12-30 23:59:45</td>\n",
       "      <td>NaN</td>\n",
       "      <td>NaN</td>\n",
       "      <td>NaN</td>\n",
       "      <td>NaN</td>\n",
       "      <td>NaN</td>\n",
       "      <td>NaN</td>\n",
       "      <td>NaN</td>\n",
       "      <td>2033-08-31 00:00:00</td>\n",
       "      <td>2015-12-31 00:00:00</td>\n",
       "      <td>2016-12-30 00:00:00</td>\n",
       "      <td>NaN</td>\n",
       "      <td>NaN</td>\n",
       "      <td>NaN</td>\n",
       "      <td>NaN</td>\n",
       "      <td>NaN</td>\n",
       "      <td>NaN</td>\n",
       "      <td>NaN</td>\n",
       "      <td>NaN</td>\n",
       "    </tr>\n",
       "    <tr>\n",
       "      <th>mean</th>\n",
       "      <td>NaN</td>\n",
       "      <td>10759.464459</td>\n",
       "      <td>6250.725369</td>\n",
       "      <td>NaN</td>\n",
       "      <td>136.985791</td>\n",
       "      <td>NaN</td>\n",
       "      <td>NaN</td>\n",
       "      <td>NaN</td>\n",
       "      <td>NaN</td>\n",
       "      <td>NaN</td>\n",
       "      <td>NaN</td>\n",
       "      <td>NaN</td>\n",
       "      <td>NaN</td>\n",
       "      <td>NaN</td>\n",
       "      <td>NaN</td>\n",
       "      <td>NaN</td>\n",
       "      <td>NaN</td>\n",
       "      <td>NaN</td>\n",
       "      <td>4508.739089</td>\n",
       "      <td>NaN</td>\n",
       "      <td>NaN</td>\n",
       "      <td>NaN</td>\n",
       "    </tr>\n",
       "    <tr>\n",
       "      <th>std</th>\n",
       "      <td>NaN</td>\n",
       "      <td>11636.174890</td>\n",
       "      <td>8880.783989</td>\n",
       "      <td>NaN</td>\n",
       "      <td>147.725569</td>\n",
       "      <td>NaN</td>\n",
       "      <td>NaN</td>\n",
       "      <td>NaN</td>\n",
       "      <td>NaN</td>\n",
       "      <td>NaN</td>\n",
       "      <td>NaN</td>\n",
       "      <td>NaN</td>\n",
       "      <td>NaN</td>\n",
       "      <td>NaN</td>\n",
       "      <td>NaN</td>\n",
       "      <td>NaN</td>\n",
       "      <td>NaN</td>\n",
       "      <td>NaN</td>\n",
       "      <td>6457.442067</td>\n",
       "      <td>NaN</td>\n",
       "      <td>NaN</td>\n",
       "      <td>NaN</td>\n",
       "    </tr>\n",
       "    <tr>\n",
       "      <th>min</th>\n",
       "      <td>NaN</td>\n",
       "      <td>250.000000</td>\n",
       "      <td>-1005.630005</td>\n",
       "      <td>NaN</td>\n",
       "      <td>0.000000</td>\n",
       "      <td>NaN</td>\n",
       "      <td>NaN</td>\n",
       "      <td>NaN</td>\n",
       "      <td>NaN</td>\n",
       "      <td>NaN</td>\n",
       "      <td>NaN</td>\n",
       "      <td>NaN</td>\n",
       "      <td>NaN</td>\n",
       "      <td>NaN</td>\n",
       "      <td>NaN</td>\n",
       "      <td>NaN</td>\n",
       "      <td>NaN</td>\n",
       "      <td>NaN</td>\n",
       "      <td>0.000000</td>\n",
       "      <td>NaN</td>\n",
       "      <td>NaN</td>\n",
       "      <td>NaN</td>\n",
       "    </tr>\n",
       "    <tr>\n",
       "      <th>25%</th>\n",
       "      <td>NaN</td>\n",
       "      <td>5000.000000</td>\n",
       "      <td>1077.420044</td>\n",
       "      <td>NaN</td>\n",
       "      <td>33.650002</td>\n",
       "      <td>NaN</td>\n",
       "      <td>NaN</td>\n",
       "      <td>NaN</td>\n",
       "      <td>NaN</td>\n",
       "      <td>NaN</td>\n",
       "      <td>NaN</td>\n",
       "      <td>NaN</td>\n",
       "      <td>NaN</td>\n",
       "      <td>NaN</td>\n",
       "      <td>NaN</td>\n",
       "      <td>NaN</td>\n",
       "      <td>NaN</td>\n",
       "      <td>NaN</td>\n",
       "      <td>689.909973</td>\n",
       "      <td>NaN</td>\n",
       "      <td>NaN</td>\n",
       "      <td>NaN</td>\n",
       "    </tr>\n",
       "    <tr>\n",
       "      <th>50%</th>\n",
       "      <td>NaN</td>\n",
       "      <td>7500.000000</td>\n",
       "      <td>3184.860107</td>\n",
       "      <td>NaN</td>\n",
       "      <td>87.900002</td>\n",
       "      <td>NaN</td>\n",
       "      <td>NaN</td>\n",
       "      <td>NaN</td>\n",
       "      <td>NaN</td>\n",
       "      <td>NaN</td>\n",
       "      <td>NaN</td>\n",
       "      <td>NaN</td>\n",
       "      <td>NaN</td>\n",
       "      <td>NaN</td>\n",
       "      <td>NaN</td>\n",
       "      <td>NaN</td>\n",
       "      <td>NaN</td>\n",
       "      <td>NaN</td>\n",
       "      <td>2451.760010</td>\n",
       "      <td>NaN</td>\n",
       "      <td>NaN</td>\n",
       "      <td>NaN</td>\n",
       "    </tr>\n",
       "    <tr>\n",
       "      <th>75%</th>\n",
       "      <td>NaN</td>\n",
       "      <td>15000.000000</td>\n",
       "      <td>7500.000000</td>\n",
       "      <td>NaN</td>\n",
       "      <td>191.479996</td>\n",
       "      <td>NaN</td>\n",
       "      <td>NaN</td>\n",
       "      <td>NaN</td>\n",
       "      <td>NaN</td>\n",
       "      <td>NaN</td>\n",
       "      <td>NaN</td>\n",
       "      <td>NaN</td>\n",
       "      <td>NaN</td>\n",
       "      <td>NaN</td>\n",
       "      <td>NaN</td>\n",
       "      <td>NaN</td>\n",
       "      <td>NaN</td>\n",
       "      <td>NaN</td>\n",
       "      <td>5291.094971</td>\n",
       "      <td>NaN</td>\n",
       "      <td>NaN</td>\n",
       "      <td>NaN</td>\n",
       "    </tr>\n",
       "    <tr>\n",
       "      <th>max</th>\n",
       "      <td>NaN</td>\n",
       "      <td>50000.000000</td>\n",
       "      <td>50000.000000</td>\n",
       "      <td>NaN</td>\n",
       "      <td>2011.540039</td>\n",
       "      <td>NaN</td>\n",
       "      <td>NaN</td>\n",
       "      <td>NaN</td>\n",
       "      <td>NaN</td>\n",
       "      <td>NaN</td>\n",
       "      <td>NaN</td>\n",
       "      <td>NaN</td>\n",
       "      <td>NaN</td>\n",
       "      <td>NaN</td>\n",
       "      <td>NaN</td>\n",
       "      <td>NaN</td>\n",
       "      <td>NaN</td>\n",
       "      <td>NaN</td>\n",
       "      <td>47498.808594</td>\n",
       "      <td>NaN</td>\n",
       "      <td>NaN</td>\n",
       "      <td>NaN</td>\n",
       "    </tr>\n",
       "  </tbody>\n",
       "</table>\n",
       "</div>"
      ],
      "text/plain": [
       "       accountNumber    creditLimit  availableMoney  transactionDateTime  transactionAmount merchantName acqCountry merchantCountryCode posEntryMode posConditionCode merchantCategoryCode       currentExpDate      accountOpenDate dateOfLastAddressChange cardCVV enteredCVV cardLast4Digits transactionType  currentBalance cardPresent  \\\n",
       "count         786363  786363.000000   786363.000000               786363      786363.000000       786363     781801              785639       782309           785954               786363               786363               786363                  786363  786363     786363          786363          785665   786363.000000      786363   \n",
       "unique          5000            NaN             NaN               776637                NaN         2490          4                   4            5                3                   19                  165                 1820                    2184     899        976            5246               3             NaN           2   \n",
       "top        380680241            NaN             NaN  2016-05-28 14:24:41                NaN         Uber         US                  US           05               01        online_retail  2029-03-31 00:00:00  2014-06-21 00:00:00     2016-03-15 00:00:00     869        869             593        PURCHASE             NaN       False   \n",
       "freq           32850            NaN             NaN                    4                NaN        25613     774709              778511       315035           628787               202156                 5103                33623                    3819   33749      33424           32946          745193             NaN      433495   \n",
       "first            NaN            NaN             NaN  2016-01-01 00:01:02                NaN          NaN        NaN                 NaN          NaN              NaN                  NaN  2019-12-31 00:00:00  1989-08-22 00:00:00     1989-08-22 00:00:00     NaN        NaN             NaN             NaN             NaN         NaN   \n",
       "last             NaN            NaN             NaN  2016-12-30 23:59:45                NaN          NaN        NaN                 NaN          NaN              NaN                  NaN  2033-08-31 00:00:00  2015-12-31 00:00:00     2016-12-30 00:00:00     NaN        NaN             NaN             NaN             NaN         NaN   \n",
       "mean             NaN   10759.464459     6250.725369                  NaN         136.985791          NaN        NaN                 NaN          NaN              NaN                  NaN                  NaN                  NaN                     NaN     NaN        NaN             NaN             NaN     4508.739089         NaN   \n",
       "std              NaN   11636.174890     8880.783989                  NaN         147.725569          NaN        NaN                 NaN          NaN              NaN                  NaN                  NaN                  NaN                     NaN     NaN        NaN             NaN             NaN     6457.442067         NaN   \n",
       "min              NaN     250.000000    -1005.630005                  NaN           0.000000          NaN        NaN                 NaN          NaN              NaN                  NaN                  NaN                  NaN                     NaN     NaN        NaN             NaN             NaN        0.000000         NaN   \n",
       "25%              NaN    5000.000000     1077.420044                  NaN          33.650002          NaN        NaN                 NaN          NaN              NaN                  NaN                  NaN                  NaN                     NaN     NaN        NaN             NaN             NaN      689.909973         NaN   \n",
       "50%              NaN    7500.000000     3184.860107                  NaN          87.900002          NaN        NaN                 NaN          NaN              NaN                  NaN                  NaN                  NaN                     NaN     NaN        NaN             NaN             NaN     2451.760010         NaN   \n",
       "75%              NaN   15000.000000     7500.000000                  NaN         191.479996          NaN        NaN                 NaN          NaN              NaN                  NaN                  NaN                  NaN                     NaN     NaN        NaN             NaN             NaN     5291.094971         NaN   \n",
       "max              NaN   50000.000000    50000.000000                  NaN        2011.540039          NaN        NaN                 NaN          NaN              NaN                  NaN                  NaN                  NaN                     NaN     NaN        NaN             NaN             NaN    47498.808594         NaN   \n",
       "\n",
       "       expirationDateKeyInMatch isFraud  \n",
       "count                    786363  786363  \n",
       "unique                        2       2  \n",
       "top                       False   False  \n",
       "freq                     785320  773946  \n",
       "first                       NaN     NaN  \n",
       "last                        NaN     NaN  \n",
       "mean                        NaN     NaN  \n",
       "std                         NaN     NaN  \n",
       "min                         NaN     NaN  \n",
       "25%                         NaN     NaN  \n",
       "50%                         NaN     NaN  \n",
       "75%                         NaN     NaN  \n",
       "max                         NaN     NaN  "
      ]
     },
     "metadata": {},
     "output_type": "display_data"
    }
   ],
   "source": [
    "# get the basic stats for each field\n",
    "display_all(card.describe(include=\"all\"))"
   ]
  },
  {
   "cell_type": "code",
   "execution_count": null,
   "metadata": {},
   "outputs": [],
   "source": [
    "sns."
   ]
  },
  {
   "cell_type": "code",
   "execution_count": null,
   "metadata": {},
   "outputs": [],
   "source": [
    "creditLimit_type = card.groupby([\"accountNumber\",\"cardLast4Digits\"]).first()"
   ]
  },
  {
   "cell_type": "code",
   "execution_count": null,
   "metadata": {},
   "outputs": [],
   "source": [
    "creditLimit_type.head()"
   ]
  },
  {
   "cell_type": "code",
   "execution_count": 80,
   "metadata": {},
   "outputs": [
    {
     "data": {
      "text/plain": [
       "5000.0     201863\n",
       "15000.0    139307\n",
       "7500.0      97913\n",
       "2500.0      75429\n",
       "20000.0     68629\n",
       "10000.0     56889\n",
       "50000.0     48781\n",
       "1000.0      36430\n",
       "250.0       34025\n",
       "500.0       27097\n",
       "Name: creditLimit, dtype: int64"
      ]
     },
     "execution_count": 80,
     "metadata": {},
     "output_type": "execute_result"
    }
   ],
   "source": [
    "card.creditLimit.value_counts()"
   ]
  },
  {
   "cell_type": "code",
   "execution_count": 57,
   "metadata": {},
   "outputs": [
    {
     "data": {
      "text/plain": [
       "accountNumber                  0\n",
       "creditLimit                    0\n",
       "availableMoney                 0\n",
       "transactionDateTime            0\n",
       "transactionAmount              0\n",
       "merchantName                   0\n",
       "acqCountry                  4562\n",
       "merchantCountryCode          724\n",
       "posEntryMode                4054\n",
       "posConditionCode             409\n",
       "merchantCategoryCode           0\n",
       "currentExpDate                 0\n",
       "accountOpenDate                0\n",
       "dateOfLastAddressChange        0\n",
       "cardCVV                        0\n",
       "enteredCVV                     0\n",
       "cardLast4Digits                0\n",
       "transactionType              698\n",
       "currentBalance                 0\n",
       "cardPresent                    0\n",
       "expirationDateKeyInMatch       0\n",
       "isFraud                        0\n",
       "dtype: int64"
      ]
     },
     "execution_count": 57,
     "metadata": {},
     "output_type": "execute_result"
    }
   ],
   "source": [
    "# check number of null values of each field\n",
    "card.isnull().sum()"
   ]
  },
  {
   "cell_type": "code",
   "execution_count": 58,
   "metadata": {},
   "outputs": [
    {
     "data": {
      "text/plain": [
       "0"
      ]
     },
     "execution_count": 58,
     "metadata": {},
     "output_type": "execute_result"
    }
   ],
   "source": [
    "# the creditLimit is basically equal to current balance plus available money\n",
    "sum(card[\"creditLimit\"] - (card[\"currentBalance\"]+card[\"availableMoney\"]) >0.01)"
   ]
  },
  {
   "cell_type": "markdown",
   "metadata": {},
   "source": [
    "#### <font color=red>Answers</font> - check the stats for categorical variables\n",
    "  4. Categorical features (add 1 new feature, norm_merchantName, which is normalized merchantName make chain stores the same name)\n",
    "      - the merchanName has 2490 unique values and 0 null values. But I found out the merchant chain stores will have different values with the same brand name but different number (for example AMC #). I will normalize them (remove \"#XXXX') and create new feature norm_merchantName.\n",
    "      - echoBuffer,merchantCity,merchantState,merchantZip,posOnPremises,recurringAuthInd: they are the features that all values are null.\n",
    "      - the stats of other categorical features are printed below."
   ]
  },
  {
   "cell_type": "code",
   "execution_count": null,
   "metadata": {},
   "outputs": [],
   "source": []
  },
  {
   "cell_type": "code",
   "execution_count": 74,
   "metadata": {},
   "outputs": [],
   "source": [
    "# normalize merchantName by removing the trailing number identifier \"#XXXXX\"\n",
    "card[\"reg_merchantName\"] = card[\"merchantName\"].apply(lambda x:re.sub(r\"\\ \\#.+\",\"\",x))"
   ]
  },
  {
   "cell_type": "code",
   "execution_count": 72,
   "metadata": {},
   "outputs": [
    {
     "name": "stdout",
     "output_type": "stream",
     "text": [
      "the field acqCountry has 4 unique values, which are ['US', 'MEX', 'CAN', 'PR']\n",
      "the field acqCountry has 4562 null values\n",
      "--------------------------------------------\n",
      "the field merchantCountryCode has 4 unique values, which are ['US', 'MEX', 'CAN', 'PR']\n",
      "the field merchantCountryCode has 724 null values\n",
      "--------------------------------------------\n",
      "the field posEntryMode has 5 unique values, which are ['05', '09', '02', '90', '80']\n",
      "the field posEntryMode has 4054 null values\n",
      "--------------------------------------------\n",
      "the field posConditionCode has 3 unique values, which are ['01', '08', '99']\n",
      "the field posConditionCode has 409 null values\n",
      "--------------------------------------------\n",
      "the field merchantCategoryCode has 19 unique values, which are ['online_retail', 'fastfood', 'entertainment', 'food', 'online_gifts', 'rideshare', 'hotels', 'fuel', 'subscriptions', 'auto', 'health', 'personal care', 'airline', 'mobileapps', 'online_subscriptions', 'furniture', 'food_delivery', 'gym', 'cable/phone']\n",
      "the field merchantCategoryCode has 0 null values\n",
      "--------------------------------------------\n",
      "the field transactionType has 3 unique values, which are ['PURCHASE', 'REVERSAL', 'ADDRESS_VERIFICATION']\n",
      "the field transactionType has 698 null values\n",
      "--------------------------------------------\n"
     ]
    }
   ],
   "source": [
    "for c in [\"acqCountry\",\"merchantCountryCode\",\"posEntryMode\",\"posConditionCode\",\"merchantCategoryCode\",\"transactionType\"]:\n",
    "    print(f\"the field {c} has {card[c].nunique()} unique values, which are {card[c].value_counts().index.tolist()}\")\n",
    "    print(f\"the field {c} has {card[c].isnull().sum()} null values\")\n",
    "    print(\"--------------------------------------------\")"
   ]
  },
  {
   "cell_type": "code",
   "execution_count": 76,
   "metadata": {},
   "outputs": [
    {
     "name": "stdout",
     "output_type": "stream",
     "text": [
      "the field merchantName has 2490 unqiue values\n",
      "the field merchantName has 0 null values\n",
      "--------------------------------------------\n",
      "the field cardCVV has 899 unqiue values\n",
      "the field cardCVV has 0 null values\n",
      "--------------------------------------------\n",
      "the field enteredCVV has 976 unqiue values\n",
      "the field enteredCVV has 0 null values\n",
      "--------------------------------------------\n",
      "the field cardLast4Digits has 5246 unqiue values\n",
      "the field cardLast4Digits has 0 null values\n",
      "--------------------------------------------\n",
      "the field reg_merchantName has 205 unqiue values\n",
      "the field reg_merchantName has 0 null values\n",
      "--------------------------------------------\n"
     ]
    }
   ],
   "source": [
    "for c in ['merchantName','cardCVV','enteredCVV','cardLast4Digits','reg_merchantName']:\n",
    "    print(f\"the field {c} has {card[c].nunique()} unqiue values\")\n",
    "    print(f\"the field {c} has {card[c].isnull().sum()} null values\")\n",
    "    print(\"--------------------------------------------\")"
   ]
  },
  {
   "cell_type": "markdown",
   "metadata": {},
   "source": [
    "# Question 2: Plot"
   ]
  },
  {
   "cell_type": "markdown",
   "metadata": {},
   "source": [
    "### 2.1 Plot a histogram of the processed amounts of each transaction, the transactionAmount column."
   ]
  },
  {
   "cell_type": "code",
   "execution_count": 77,
   "metadata": {},
   "outputs": [
    {
     "data": {
      "text/plain": [
       "Text(0.5, 1.0, 'Histogram of Transaction Amounts')"
      ]
     },
     "execution_count": 77,
     "metadata": {},
     "output_type": "execute_result"
    },
    {
     "data": {
      "image/png": "[encoded data removed]",
      "text/plain": [
       "<Figure size 720x432 with 1 Axes>"
      ]
     },
     "metadata": {
      "needs_background": "light"
     },
     "output_type": "display_data"
    }
   ],
   "source": [
    "plt.figure(figsize=(10,6))\n",
    "sns.histplot(data = card, x=\"transactionAmount\", kde=True, bins=50)\n",
    "\n",
    "# add title\n",
    "plt.title('Histogram of Transaction Amounts')"
   ]
  },
  {
   "cell_type": "markdown",
   "metadata": {},
   "source": [
    "### 2.2 Report any structure you find and any hypotheses you have about that structure."
   ]
  },
  {
   "cell_type": "code",
   "execution_count": null,
   "metadata": {},
   "outputs": [],
   "source": [
    "#### <font color=red>Answers</font> - Transaction amount against fraud and non fraud transactions\n",
    "  - The Transaction amount of both fraud transactions and non fraud transactions"
   ]
  },
  {
   "cell_type": "code",
   "execution_count": 79,
   "metadata": {
    "scrolled": false
   },
   "outputs": [
    {
     "data": {
      "image/png": "[encoded data removed]",
      "text/plain": [
       "<Figure size 720x432 with 1 Axes>"
      ]
     },
     "metadata": {
      "needs_background": "light"
     },
     "output_type": "display_data"
    }
   ],
   "source": [
    "# seaborn histogram of Transaction Amounts categorized by isFraud\n",
    "\n",
    "fraud = card.loc[card.isFraud==True, 'transactionAmount']\n",
    "non_fraud = card.loc[card.isFraud==False, 'transactionAmount']\n",
    "\n",
    "plt.figure(figsize=(10,6))\n",
    "sns.distplot(fraud , color=\"red\", label=\"fraud\")\n",
    "sns.distplot(non_fraud , color=\"blue\", label=\"non_fraud\")\n",
    "plt.title('Frequency Histogram of Transaction Amounts categorized by isFraud')\n",
    "plt.xlabel('Transaction Amounts ($)')\n",
    "plt.ylabel('Percentage of Number of Transactions')\n",
    "plt.legend();"
   ]
  },
  {
   "cell_type": "code",
   "execution_count": null,
   "metadata": {},
   "outputs": [],
   "source": [
    "print(\"the average of transaction amount for fraud is: {}\".format(fraud.mean()))\n",
    "print(\"the average of transaction amount for non fraud is: {}\".format(non_fraud.mean()))"
   ]
  },
  {
   "cell_type": "code",
   "execution_count": null,
   "metadata": {},
   "outputs": [],
   "source": [
    "ttest_res = ttest_ind(non_fraud,fraud,equal_var=False)"
   ]
  },
  {
   "cell_type": "code",
   "execution_count": null,
   "metadata": {},
   "outputs": [],
   "source": [
    "ttest_res"
   ]
  },
  {
   "cell_type": "code",
   "execution_count": null,
   "metadata": {},
   "outputs": [],
   "source": [
    "print(ttest_res.pvalue)"
   ]
  },
  {
   "cell_type": "code",
   "execution_count": null,
   "metadata": {},
   "outputs": [],
   "source": [
    "purchase = card_drp.loc[card_drp['transactionType']==\"PURCHASE\",\"isFraud\"]\n",
    "reversal = card_drp.loc[card_drp['transactionType']==\"REVERSAL\",\"isFraud\"]\n"
   ]
  },
  {
   "cell_type": "code",
   "execution_count": null,
   "metadata": {},
   "outputs": [],
   "source": [
    "purchase.mean()"
   ]
  },
  {
   "cell_type": "code",
   "execution_count": null,
   "metadata": {},
   "outputs": [],
   "source": [
    "reversal.mean()"
   ]
  },
  {
   "cell_type": "code",
   "execution_count": null,
   "metadata": {},
   "outputs": [],
   "source": [
    "ttest_res_2 = ttest_ind(purchase,reversal,equal_var=False)"
   ]
  },
  {
   "cell_type": "code",
   "execution_count": null,
   "metadata": {},
   "outputs": [],
   "source": [
    "ttest_res_2"
   ]
  },
  {
   "cell_type": "code",
   "execution_count": null,
   "metadata": {},
   "outputs": [],
   "source": [
    "merchant_cat_rate=card_drp.groupby(\"merchantCategoryCode\").apply(lambda x:pd.Series({\"rate\":x['isFraud'].mean()}))"
   ]
  },
  {
   "cell_type": "code",
   "execution_count": null,
   "metadata": {},
   "outputs": [],
   "source": [
    "merchant_cat_rate"
   ]
  },
  {
   "cell_type": "code",
   "execution_count": null,
   "metadata": {},
   "outputs": [],
   "source": [
    "merchant_cat_rate"
   ]
  },
  {
   "cell_type": "code",
   "execution_count": null,
   "metadata": {},
   "outputs": [],
   "source": [
    "merchant_cat_rate.sort_values(by=\"rate\",ascending=False).plot(kind=\"bar\")"
   ]
  },
  {
   "cell_type": "code",
   "execution_count": null,
   "metadata": {},
   "outputs": [],
   "source": [
    "4938/202156"
   ]
  },
  {
   "cell_type": "code",
   "execution_count": null,
   "metadata": {},
   "outputs": [],
   "source": [
    "card_drp['merchantCategoryCode'].value_counts()"
   ]
  },
  {
   "cell_type": "code",
   "execution_count": null,
   "metadata": {},
   "outputs": [],
   "source": [
    "card_drp.loc[card_drp.isFraud==True,'merchantCategoryCode'].value_counts()"
   ]
  },
  {
   "cell_type": "code",
   "execution_count": null,
   "metadata": {},
   "outputs": [],
   "source": [
    "plt.figure(figsize=(12,6))\n",
    "sns.countplot(x=\"merchantCategoryCode\",data=card_drp[card_drp.isFraud==True])"
   ]
  },
  {
   "cell_type": "code",
   "execution_count": null,
   "metadata": {},
   "outputs": [],
   "source": [
    "card_drp['acq_m_country'] = card_drp[\"merchantCountryCode\"]==card_drp['acqCountry']"
   ]
  },
  {
   "cell_type": "code",
   "execution_count": null,
   "metadata": {},
   "outputs": [],
   "source": [
    "def fraud_rate(df,col,col_name):\n",
    "    \"\"\"\n",
    "    Docstring: count fraud rate by different categories\n",
    "    \n",
    "    Parameters\n",
    "    ----------\n",
    "    df: pandas dataframe\n",
    "    col: categories from which column\n",
    "    col_name: fraud rate column name\n",
    "    \n",
    "    Return\n",
    "    ----------\n",
    "    the fraud rate of each categories from the \"col\" field\n",
    "    \"\"\"\n",
    "    return df.groupby(col).apply(lambda x:pd.Series({col_name:x.isFraud.mean()}))\n",
    "\n",
    "\n",
    "def ttest(df,ind_col,target,equal_var=True):\n",
    "    \"\"\"\n",
    "    Docstring: Calculate the T-test for the means of two independent samples of scores\n",
    "    \n",
    "    Parameters\n",
    "    ----------\n",
    "    df: pandas dataframe\n",
    "    ind_col: the column that used to separate two independent samples with value True and False\n",
    "    target: the column that used to count mean\n",
    "    equal_var: if the two group have equal variance, default is True\n",
    "    \n",
    "    Return\n",
    "    ----------\n",
    "    Will print t statistic, pvalue and significant test\n",
    "    \"\"\"\n",
    "    test = ttest_ind(df.loc[df[ind_col]==True,target],df.loc[df[ind_col]==False,target],equal_var=equal_var)\n",
    "    print(\"t statistic is {} with p value {}\".format(test.statistic,test.pvalue))\n",
    "    print(\"---------------------------------\")\n",
    "    if_sig = \"significant\" if test.pvalue<0.05 else \"not significant\"\n",
    "    print(\"The difference is\",if_sig)"
   ]
  },
  {
   "cell_type": "code",
   "execution_count": null,
   "metadata": {},
   "outputs": [],
   "source": [
    "ttest(card_drp,\"acq_m_country\",\"isFraud\")"
   ]
  },
  {
   "cell_type": "code",
   "execution_count": null,
   "metadata": {},
   "outputs": [],
   "source": [
    "cntry_test = card_drp.groupby(\"acq_m_country\").apply(lambda x:pd.Series({\"c_r\":x.isFraud.mean()}))"
   ]
  },
  {
   "cell_type": "code",
   "execution_count": null,
   "metadata": {},
   "outputs": [],
   "source": [
    "cntry_test"
   ]
  },
  {
   "cell_type": "code",
   "execution_count": null,
   "metadata": {},
   "outputs": [],
   "source": [
    "ttest_ind(card_drp.loc[card_drp[\"acq_m_country\"]==True,'isFraud'],card_drp.loc[card_drp[\"acq_m_country\"]==False,\"isFraud\"])"
   ]
  },
  {
   "cell_type": "code",
   "execution_count": null,
   "metadata": {},
   "outputs": [],
   "source": [
    "merchant_ctry = fraud_rate(df,\"merchantCountryCode\",\"merchantCountryCode_fraud_rt\")"
   ]
  },
  {
   "cell_type": "code",
   "execution_count": null,
   "metadata": {},
   "outputs": [],
   "source": [
    "merchant_ctry"
   ]
  },
  {
   "cell_type": "code",
   "execution_count": null,
   "metadata": {},
   "outputs": [],
   "source": []
  },
  {
   "cell_type": "code",
   "execution_count": null,
   "metadata": {},
   "outputs": [],
   "source": [
    "PCC = card_drp.groupby(\"posConditionCode\").apply(lambda x:pd.Series({\"PCC_frd_rt\":x.isFraud.mean()}))"
   ]
  },
  {
   "cell_type": "code",
   "execution_count": null,
   "metadata": {},
   "outputs": [],
   "source": [
    "PCC"
   ]
  },
  {
   "cell_type": "code",
   "execution_count": null,
   "metadata": {},
   "outputs": [],
   "source": [
    "PEM = card_drp.groupby(\"posEntryMode\").apply(lambda x:pd.Series({\"PEM_frd_rt\":x.isFraud.mean()}))"
   ]
  },
  {
   "cell_type": "code",
   "execution_count": null,
   "metadata": {},
   "outputs": [],
   "source": [
    "PEM"
   ]
  },
  {
   "cell_type": "code",
   "execution_count": null,
   "metadata": {},
   "outputs": [],
   "source": []
  },
  {
   "cell_type": "code",
   "execution_count": null,
   "metadata": {},
   "outputs": [],
   "source": [
    "card_drp['cvv_dif']= card_drp[\"cardCVV\"]!=card_drp[\"enteredCVV\"]"
   ]
  },
  {
   "cell_type": "code",
   "execution_count": null,
   "metadata": {},
   "outputs": [],
   "source": [
    "card_drp.loc[19,:]"
   ]
  },
  {
   "cell_type": "code",
   "execution_count": null,
   "metadata": {},
   "outputs": [],
   "source": [
    "cvv_dif = card_drp.groupby(\"cvv_dif\").apply(lambda x:pd.Series({\"cvv_frd_rt\":x.isFraud.mean()}))"
   ]
  },
  {
   "cell_type": "code",
   "execution_count": null,
   "metadata": {},
   "outputs": [],
   "source": [
    "cvv_dif"
   ]
  },
  {
   "cell_type": "code",
   "execution_count": null,
   "metadata": {},
   "outputs": [],
   "source": [
    "ttest_ind(card_drp.loc[card_drp[\"cvv_dif\"]==True,'isFraud'],card_drp.loc[card_drp[\"cvv_dif\"]==False,\"isFraud\"])"
   ]
  },
  {
   "cell_type": "code",
   "execution_count": null,
   "metadata": {},
   "outputs": [],
   "source": []
  },
  {
   "cell_type": "code",
   "execution_count": null,
   "metadata": {},
   "outputs": [],
   "source": [
    "card_drp[\"tran_lessthan_avl\"]=(card_drp[\"transactionAmount\"]-card_drp[\"availableMoney\"])<=0"
   ]
  },
  {
   "cell_type": "code",
   "execution_count": null,
   "metadata": {},
   "outputs": [],
   "source": [
    "tran_avl_dif = card_drp.groupby(\"tran_lessthan_avl\").apply(lambda x:pd.Series({\"tran_avl_frd_rt\":x.isFraud.mean()}))"
   ]
  },
  {
   "cell_type": "code",
   "execution_count": null,
   "metadata": {},
   "outputs": [],
   "source": [
    "tran_avl_dif"
   ]
  },
  {
   "cell_type": "code",
   "execution_count": null,
   "metadata": {},
   "outputs": [],
   "source": [
    "ttest_ind(card_drp.loc[card_drp[\"tran_lessthan_avl\"]==True,'isFraud'],card_drp.loc[card_drp[\"tran_lessthan_avl\"]==False,\"isFraud\"])"
   ]
  },
  {
   "cell_type": "code",
   "execution_count": null,
   "metadata": {},
   "outputs": [],
   "source": []
  },
  {
   "cell_type": "code",
   "execution_count": null,
   "metadata": {},
   "outputs": [],
   "source": [
    "card_limit = card_drp.groupby(\"creditLimit\").apply(lambda x:pd.Series({\"cl_frd_rt\":x.isFraud.mean()}))"
   ]
  },
  {
   "cell_type": "code",
   "execution_count": null,
   "metadata": {},
   "outputs": [],
   "source": [
    "card_limit"
   ]
  },
  {
   "cell_type": "code",
   "execution_count": null,
   "metadata": {},
   "outputs": [],
   "source": []
  },
  {
   "cell_type": "code",
   "execution_count": null,
   "metadata": {},
   "outputs": [],
   "source": [
    "card_drp[\"less_than_30%\"] = (card_drp[\"availableMoney\"]/card_drp[\"creditLimit\"])<=0.3"
   ]
  },
  {
   "cell_type": "code",
   "execution_count": null,
   "metadata": {},
   "outputs": [],
   "source": [
    "less_than_10 = card_drp.groupby(\"less_than_30%\").apply(lambda x:pd.Series({\"less_than_30_frd_rt\":x.isFraud.mean()}))"
   ]
  },
  {
   "cell_type": "code",
   "execution_count": null,
   "metadata": {},
   "outputs": [],
   "source": [
    "less_than_10"
   ]
  },
  {
   "cell_type": "code",
   "execution_count": null,
   "metadata": {},
   "outputs": [],
   "source": [
    "ttest_ind(card_drp.loc[card_drp[\"less_than_30%\"]==True,'isFraud'],card_drp.loc[card_drp[\"less_than_30%\"]==False,\"isFraud\"])"
   ]
  },
  {
   "cell_type": "code",
   "execution_count": null,
   "metadata": {},
   "outputs": [],
   "source": []
  },
  {
   "cell_type": "code",
   "execution_count": null,
   "metadata": {},
   "outputs": [],
   "source": [
    "AMC #3432\n",
    "AMC #32543"
   ]
  },
  {
   "cell_type": "code",
   "execution_count": null,
   "metadata": {},
   "outputs": [],
   "source": [
    "card_drp[\"reg_merchantName\"] = card_drp[\"merchantName\"].apply(lambda x:re.sub(r\"\\ \\#.+\",\"\",x))"
   ]
  },
  {
   "cell_type": "code",
   "execution_count": null,
   "metadata": {},
   "outputs": [],
   "source": [
    "card_drp.reg_merchantName.nunique()"
   ]
  },
  {
   "cell_type": "code",
   "execution_count": null,
   "metadata": {},
   "outputs": [],
   "source": [
    "card_drp.merchantName.nunique()"
   ]
  },
  {
   "cell_type": "code",
   "execution_count": null,
   "metadata": {},
   "outputs": [],
   "source": [
    "n_reduce = 0\n",
    "r_max = 0\n",
    "max_m = \"\"\n",
    "for m in card_drp.reg_merchantName.unique():\n",
    "    r = card_drp.loc[card_drp.reg_merchantName==m,\"merchantName\"].nunique()-1\n",
    "    if r>r_max:\n",
    "        r_max = r\n",
    "        max_m = m\n",
    "    n_reduce+=r"
   ]
  },
  {
   "cell_type": "code",
   "execution_count": null,
   "metadata": {},
   "outputs": [],
   "source": [
    "r_max"
   ]
  },
  {
   "cell_type": "code",
   "execution_count": null,
   "metadata": {},
   "outputs": [],
   "source": [
    "max_m"
   ]
  },
  {
   "cell_type": "code",
   "execution_count": null,
   "metadata": {},
   "outputs": [],
   "source": [
    "n_reduce"
   ]
  },
  {
   "cell_type": "code",
   "execution_count": null,
   "metadata": {},
   "outputs": [],
   "source": [
    "card_drp[card_drp.merchantName==\"AMC\"]"
   ]
  },
  {
   "cell_type": "code",
   "execution_count": null,
   "metadata": {},
   "outputs": [],
   "source": [
    "display_all(card_drp.reg_merchantName.value_counts())"
   ]
  },
  {
   "cell_type": "code",
   "execution_count": null,
   "metadata": {},
   "outputs": [],
   "source": [
    "card_drp.merchantName.nunique()"
   ]
  },
  {
   "cell_type": "code",
   "execution_count": null,
   "metadata": {},
   "outputs": [],
   "source": [
    "card_drp.columns"
   ]
  },
  {
   "cell_type": "code",
   "execution_count": null,
   "metadata": {},
   "outputs": [],
   "source": [
    "sum(card_drp[\"accountNumber\"]==card_drp[\"customerId\"])"
   ]
  },
  {
   "cell_type": "code",
   "execution_count": null,
   "metadata": {},
   "outputs": [],
   "source": [
    "card_drp.shape"
   ]
  },
  {
   "cell_type": "code",
   "execution_count": null,
   "metadata": {},
   "outputs": [],
   "source": [
    "card_merchant = card_drp.sort_values(by=[\"accountNumber\",\"transactionDateTime\"])"
   ]
  },
  {
   "cell_type": "code",
   "execution_count": null,
   "metadata": {},
   "outputs": [],
   "source": [
    "card_drp.transactionType.value_counts(normalize=True)"
   ]
  },
  {
   "cell_type": "code",
   "execution_count": null,
   "metadata": {},
   "outputs": [],
   "source": [
    "transanction_fraud_rt=fraud_rate(card_drp,\"transactionType\",\"transanction_fraud_rt\")"
   ]
  },
  {
   "cell_type": "code",
   "execution_count": null,
   "metadata": {},
   "outputs": [],
   "source": [
    "transanction_fraud_rt"
   ]
  },
  {
   "cell_type": "code",
   "execution_count": null,
   "metadata": {},
   "outputs": [],
   "source": [
    "card_drp.loc[card_drp.transactionType==\"ADDRESS_VERIFICATION\",\"posConditionCode\"].value_counts()"
   ]
  },
  {
   "cell_type": "code",
   "execution_count": null,
   "metadata": {},
   "outputs": [],
   "source": [
    "def get_(df):\n",
    "    \n",
    "    for i,m in enumerate(df[\"reg_merchantName\"]):\n",
    "        "
   ]
  },
  {
   "cell_type": "code",
   "execution_count": null,
   "metadata": {},
   "outputs": [],
   "source": []
  },
  {
   "cell_type": "markdown",
   "metadata": {},
   "source": [
    "## Question 3: Data Wrangling - Duplicate Transactions"
   ]
  },
  {
   "cell_type": "code",
   "execution_count": null,
   "metadata": {},
   "outputs": [],
   "source": [
    "card_wr = card_drp.sort_values(by=['accountNumber','cardLast4Digits','transactionDateTime']).reset_index(drop=True)"
   ]
  },
  {
   "cell_type": "code",
   "execution_count": null,
   "metadata": {},
   "outputs": [],
   "source": [
    "card_wr.head()"
   ]
  },
  {
   "cell_type": "markdown",
   "metadata": {},
   "source": [
    "You will notice a number of what look like duplicated transactions in the data set. One type of duplicated transaction is a reversed transaction, where a purchase is followed by a reversal. Another example is a multi-swipe, where a vendor accidentally charges a customer's card multiple times within a short time spa"
   ]
  },
  {
   "cell_type": "markdown",
   "metadata": {},
   "source": [
    "### 3.1 Can you programmatically identify reversed and multi-swipe transactions?"
   ]
  },
  {
   "cell_type": "markdown",
   "metadata": {},
   "source": [
    "#### identify reversed transanctions"
   ]
  },
  {
   "cell_type": "markdown",
   "metadata": {},
   "source": [
    "<font color='red'>\"REVERSAL\" transaction observations</font>:\n",
    "  1. Each \"REVERSAL\" transaction has a paired normal \"PURCHASE\" with the same accountNumber, transactionAmount and merchantName\n",
    "  2. In this dataset, it looks like the \"REVERSAL\" can happen right after its paired PURCHASE or a few days later\n",
    "  3. The availableMoney of next transaction should be equal to \"REVERSAL\" availableMoney+ \"REVERSAL\" transactionAmount"
   ]
  },
  {
   "cell_type": "markdown",
   "metadata": {},
   "source": [
    "<font color='red'>To identify reversal transactions</font>:\n",
    "<br>\n",
    "    1. Take advantage of the purchaseType field: Select data with transactionType == \"REVERSAL\"\n",
    "<br>\n",
    "    2. When the purchaseType is null: Try to infer if it is REVERSAL by the rules from the previous transaction obervations"
   ]
  },
  {
   "cell_type": "code",
   "execution_count": null,
   "metadata": {},
   "outputs": [],
   "source": [
    "# obeservation: same day: accountNumber 100088067 transactionAmount 22.32 dif_day: 101380713 / 303.72"
   ]
  },
  {
   "cell_type": "code",
   "execution_count": null,
   "metadata": {},
   "outputs": [],
   "source": []
  },
  {
   "cell_type": "code",
   "execution_count": null,
   "metadata": {},
   "outputs": [],
   "source": [
    "# define related columns\n",
    "rev_cols = [\"accountNumber\",\"transactionAmount\",\"reg_merchantName\"]\n",
    "t_type = [\"transactionType\"]"
   ]
  },
  {
   "cell_type": "code",
   "execution_count": null,
   "metadata": {},
   "outputs": [],
   "source": [
    "# get transanctions with transactionType is equal to REVERSAL\n",
    "card_reversal = card_wr.query(\"transactionType=='REVERSAL'\")"
   ]
  },
  {
   "cell_type": "markdown",
   "metadata": {},
   "source": [
    "try to see if there are any transactions with type is __Null__ but can be __inferred with \"REVERSAL\" or \"PURCHASE\" type__  based on observations"
   ]
  },
  {
   "cell_type": "code",
   "execution_count": null,
   "metadata": {},
   "outputs": [],
   "source": [
    "# get all the accountNumber with at least one null transactionType\n",
    "type_with_null = card_wr.groupby(\"accountNumber\").apply(lambda x:pd.Series({\"null_count\":x.transactionType.isnull().sum()}))\n",
    "type_with_null = type_with_null[type_with_null[\"null_count\"]>0]"
   ]
  },
  {
   "cell_type": "code",
   "execution_count": null,
   "metadata": {
    "scrolled": true
   },
   "outputs": [],
   "source": [
    "type_with_null.head()"
   ]
  },
  {
   "cell_type": "code",
   "execution_count": null,
   "metadata": {},
   "outputs": [],
   "source": [
    "# get all the transactions of those accountNumber\n",
    "card_trans_null = card_wr.loc[card_wr.accountNumber.isin(type_with_null.index.tolist()),rev_cols+t_type]"
   ]
  },
  {
   "cell_type": "code",
   "execution_count": null,
   "metadata": {},
   "outputs": [],
   "source": [
    "card_trans_null.head()"
   ]
  },
  {
   "cell_type": "code",
   "execution_count": null,
   "metadata": {},
   "outputs": [],
   "source": [
    "# create a new column that flag the null transactionType\n",
    "card_trans_null['is_typeNull']=card_trans_null.transactionType.isnull()\n",
    "\n",
    "# based on rules from observations, create columns \n",
    "card_trans_null['trans_cnt']=card_trans_null.groupby(rev_cols)\\\n",
    "                        ['transactionType'].transform('size')\n",
    "card_trans_null['is_null_sum']=card_trans_null.groupby(rev_cols)\\\n",
    "                    ['is_typeNull'].transform(sum)\n",
    "\n",
    "# query those null transaction type that is inferred to be REVERSAL\n",
    "trans_null_reversal = card_trans_null.query('trans_cnt>1 & is_null_sum>0')"
   ]
  },
  {
   "cell_type": "code",
   "execution_count": null,
   "metadata": {},
   "outputs": [],
   "source": [
    "card_trans_null.query(\"accountNumber==132629755 & transactionAmount==55.599998\")"
   ]
  },
  {
   "cell_type": "code",
   "execution_count": null,
   "metadata": {},
   "outputs": [],
   "source": [
    "display_all(trans_null_reversal.sort_values([\"accountNumber\",\"transactionAmount\"]))"
   ]
  },
  {
   "cell_type": "code",
   "execution_count": null,
   "metadata": {},
   "outputs": [],
   "source": []
  },
  {
   "cell_type": "markdown",
   "metadata": {},
   "source": [
    "For those paired transactions with one PUCHASE one NULL or two NULLs, I need to check if they are \"PURCHASE\" and \"REVERSAL\" or \"PURCHASE\" and \"PURCHASE\" (multi-swie)"
   ]
  },
  {
   "cell_type": "code",
   "execution_count": null,
   "metadata": {},
   "outputs": [],
   "source": [
    "# null_fill will record index and the filled value\n",
    "# null_rev_cnt is for count how many null value can be filled with REVERSAL\n",
    "null_fill = {}\n",
    "null_rev_cnt = 0\n",
    "not_rev = []\n",
    "for i,j in trans_null_reversal.groupby(rev_cols):\n",
    "    lst = j.transactionType.values.tolist()\n",
    "    #print(lst)\n",
    "    d = j.is_typeNull.to_dict()\n",
    "    \n",
    "    if not \"PURCHASE\" in lst:\n",
    "        for k,v in d.items():\n",
    "            if v:\n",
    "                null_fill[k]=\"PURCHASE\"\n",
    "                d.pop(k,None)\n",
    "                break\n",
    "    if not \"REVERSAL\" in lst:\n",
    "        for k,v in d.items():\n",
    "            if v:\n",
    "                avl_dif = card_wr.loc[k+1,\"availableMoney\"]-card_wr.loc[k,\"availableMoney\"]\n",
    "                if abs(card_wr.loc[k,'transactionAmount']-avl_dif)<0.1:\n",
    "                #if avl_dif>=0:\n",
    "                    null_fill[k]=\"REVERSAL\"\n",
    "                    null_rev_cnt+=1\n",
    "                break"
   ]
  },
  {
   "cell_type": "code",
   "execution_count": null,
   "metadata": {},
   "outputs": [],
   "source": [
    "print(\"how many null transanctionType might be filled REVERSAL? \",null_rev_cnt)"
   ]
  },
  {
   "cell_type": "code",
   "execution_count": null,
   "metadata": {
    "scrolled": true
   },
   "outputs": [],
   "source": [
    "card_wr.columns"
   ]
  },
  {
   "cell_type": "code",
   "execution_count": null,
   "metadata": {},
   "outputs": [],
   "source": [
    "card_wr.loc[278501,:]"
   ]
  },
  {
   "cell_type": "code",
   "execution_count": null,
   "metadata": {},
   "outputs": [],
   "source": [
    "card_wr.loc[278502,:]"
   ]
  },
  {
   "cell_type": "code",
   "execution_count": null,
   "metadata": {},
   "outputs": [],
   "source": [
    "card_wr.loc[278503,:]"
   ]
  },
  {
   "cell_type": "code",
   "execution_count": null,
   "metadata": {},
   "outputs": [],
   "source": [
    "display_all(card_wr[card_wr.accountNumber==380680241])"
   ]
  },
  {
   "cell_type": "code",
   "execution_count": null,
   "metadata": {},
   "outputs": [],
   "source": []
  },
  {
   "cell_type": "code",
   "execution_count": null,
   "metadata": {},
   "outputs": [],
   "source": []
  },
  {
   "cell_type": "markdown",
   "metadata": {},
   "source": [
    "#### identify multi-swipe transanctions"
   ]
  },
  {
   "cell_type": "markdown",
   "metadata": {},
   "source": [
    "<font color='red'>multi-swipe transaction observations</font>:\n",
    "<br>\n",
    "&emsp;The \"multi-swipe\" transactions should \n",
    "<br>\n",
    "   &emsp;&emsp;1. have transactionType be PURCHASE or NULL\n",
    "    <br>\n",
    "   &emsp;&emsp;2. have same \"transactionAmount, accountNumber, merchantName\"\n",
    "    <br>\n",
    "   &emsp;&emsp;3. have same \"cardLast4Digits\",\"cardCVV\", since the same accountNumber might link to more than 1 credit cards\n",
    "    <br>\n",
    "   &emsp;&emsp;4. happen within a short time span (i will define 300 seconds here), otherwise those Recurring Transactions & Subscriptions will be counted as well.\n",
    "<br>\n"
   ]
  },
  {
   "cell_type": "markdown",
   "metadata": {},
   "source": [
    "fill NULL of transactionType based on observations above"
   ]
  },
  {
   "cell_type": "code",
   "execution_count": null,
   "metadata": {},
   "outputs": [],
   "source": [
    "# if transactionType is ADDRESS_VERIFICATION, the transactionAmount should be 0\n",
    "print(\"How many null transaction type is ADDRESS_VERIFICATION? \",len(card_wr.query(\"transactionType.isnull() & transactionAmount==0\")))"
   ]
  },
  {
   "cell_type": "code",
   "execution_count": null,
   "metadata": {},
   "outputs": [],
   "source": [
    "# based on the inferences above, all the null values of transactionType should be filled with PURCHASE"
   ]
  },
  {
   "cell_type": "code",
   "execution_count": null,
   "metadata": {},
   "outputs": [],
   "source": [
    "card_wr.transactionType.fillna(\"PURCHASE\",inplace=True)"
   ]
  },
  {
   "cell_type": "code",
   "execution_count": null,
   "metadata": {},
   "outputs": [],
   "source": [
    "print(\"are there anymore null values in transactionType? \",card_wr.transactionType.isnull().sum()!=0)"
   ]
  },
  {
   "cell_type": "markdown",
   "metadata": {},
   "source": [
    "get multi-swipe"
   ]
  },
  {
   "cell_type": "code",
   "execution_count": null,
   "metadata": {},
   "outputs": [],
   "source": [
    "card_drp.transactionType.value_counts()"
   ]
  },
  {
   "cell_type": "code",
   "execution_count": null,
   "metadata": {},
   "outputs": [],
   "source": [
    "card_wr.transactionType.value_counts()"
   ]
  },
  {
   "cell_type": "code",
   "execution_count": null,
   "metadata": {},
   "outputs": [],
   "source": [
    "# define identified columns\n",
    "multi_sw_cols = [\"accountNumber\",\"cardLast4Digits\",\"merchantName\",\"transactionAmount\"]"
   ]
  },
  {
   "cell_type": "code",
   "execution_count": null,
   "metadata": {},
   "outputs": [],
   "source": [
    "# get candidate transactions (transacType is PURCHASE or NULL)\n",
    "multi_swipe = card_wr.query(\"transactionType=='PURCHASE'\")"
   ]
  },
  {
   "cell_type": "code",
   "execution_count": null,
   "metadata": {},
   "outputs": [],
   "source": [
    "multi_swipe.shape"
   ]
  },
  {
   "cell_type": "code",
   "execution_count": null,
   "metadata": {},
   "outputs": [],
   "source": [
    "# get multi-swipe candidates (including recurring&subscriptions) : duplicate transactions count bigger than 1\n",
    "multi_swipe['dup_cnt'] = multi_swipe.groupby(multi_sw_cols)['transactionType'].transform('size')\n",
    "multi_swipe = multi_swipe.loc[multi_swipe.dup_cnt>1,multi_sw_cols+['transactionType','transactionDateTime']]"
   ]
  },
  {
   "cell_type": "code",
   "execution_count": null,
   "metadata": {},
   "outputs": [],
   "source": [
    "multi_swipe.head()"
   ]
  },
  {
   "cell_type": "code",
   "execution_count": null,
   "metadata": {},
   "outputs": [],
   "source": [
    "multi_swipe.index.is_monotonic"
   ]
  },
  {
   "cell_type": "code",
   "execution_count": null,
   "metadata": {},
   "outputs": [],
   "source": [
    "multi_swipe.shape"
   ]
  },
  {
   "cell_type": "code",
   "execution_count": null,
   "metadata": {},
   "outputs": [],
   "source": [
    "# get multisort the transactions by transanctionTime\n",
    "multi_swipe.sort_values(by=multi_sw_cols+['transactionDateTime'],inplace=True)"
   ]
  },
  {
   "cell_type": "code",
   "execution_count": null,
   "metadata": {},
   "outputs": [],
   "source": [
    "swipe_gr = multi_swipe.groupby(multi_sw_cols)['transactionDateTime']"
   ]
  },
  {
   "cell_type": "code",
   "execution_count": null,
   "metadata": {},
   "outputs": [],
   "source": [
    "swipe_gr.diff()/pd.Timedelta(minutes=1)"
   ]
  },
  {
   "cell_type": "code",
   "execution_count": null,
   "metadata": {},
   "outputs": [],
   "source": [
    "# check time difference in minutes between multi-swipes\n",
    "multi_swipe['time_diff']=swipe_gr.diff()/pd.Timedelta(minutes=1)"
   ]
  },
  {
   "cell_type": "markdown",
   "metadata": {},
   "source": [
    "filter out the first transaction (time_diff is null) of multi-swipe and other not multi-swipe (swipes longer than predefined time span (5 minutes))"
   ]
  },
  {
   "cell_type": "code",
   "execution_count": null,
   "metadata": {},
   "outputs": [],
   "source": [
    "multi_swipe_final = multi_swipe.query(\"not time_diff.isnull() & time_diff<=5\")"
   ]
  },
  {
   "cell_type": "code",
   "execution_count": null,
   "metadata": {},
   "outputs": [],
   "source": [
    "multi_swipe_final.shape"
   ]
  },
  {
   "cell_type": "code",
   "execution_count": null,
   "metadata": {},
   "outputs": [],
   "source": [
    "multi_swipe_final['transactionType']=\"MULTI-SWIPE\""
   ]
  },
  {
   "cell_type": "code",
   "execution_count": null,
   "metadata": {},
   "outputs": [],
   "source": [
    "multi_swipe.query(\"(time_diff>1 & time_diff<=5)\").head(20)"
   ]
  },
  {
   "cell_type": "code",
   "execution_count": null,
   "metadata": {},
   "outputs": [],
   "source": []
  },
  {
   "cell_type": "markdown",
   "metadata": {},
   "source": [
    "### 3.2 What total number of transactions and total dollar amount do you estimate for the reversed transactions? For the multi-swipe transactions?"
   ]
  },
  {
   "cell_type": "code",
   "execution_count": null,
   "metadata": {},
   "outputs": [],
   "source": [
    "print(f\"There are total {len(card_reversal)} REVERSAL transactions \\\n",
    "with transaction amount total around {round(sum(card_reversal.transactionAmount),2)} dollars\")"
   ]
  },
  {
   "cell_type": "code",
   "execution_count": null,
   "metadata": {},
   "outputs": [],
   "source": [
    "print(f\"There are total {len(multi_swipe_final)} multi-swipe transactions \\\n",
    "with transaction amount total around {round(sum(multi_swipe_final.transactionAmount),2)} dollars\")"
   ]
  },
  {
   "cell_type": "code",
   "execution_count": null,
   "metadata": {},
   "outputs": [],
   "source": []
  },
  {
   "cell_type": "code",
   "execution_count": null,
   "metadata": {},
   "outputs": [],
   "source": [
    "len(card_reversal),null_rev_cnt"
   ]
  },
  {
   "cell_type": "code",
   "execution_count": null,
   "metadata": {},
   "outputs": [],
   "source": [
    "card_drp.transactionType.value_counts()"
   ]
  },
  {
   "cell_type": "code",
   "execution_count": null,
   "metadata": {},
   "outputs": [],
   "source": []
  },
  {
   "cell_type": "code",
   "execution_count": null,
   "metadata": {},
   "outputs": [],
   "source": []
  },
  {
   "cell_type": "code",
   "execution_count": null,
   "metadata": {},
   "outputs": [],
   "source": [
    "card_drp.isnull().sum().transactionType"
   ]
  },
  {
   "cell_type": "markdown",
   "metadata": {},
   "source": [
    "### 3.3 Did you find anything interesting about either kind of transaction?"
   ]
  },
  {
   "cell_type": "markdown",
   "metadata": {},
   "source": [
    "first I would merge multi_swipe_final and replace transaction type with \"MULTI-SWIPE\" for original dataset"
   ]
  },
  {
   "cell_type": "code",
   "execution_count": null,
   "metadata": {},
   "outputs": [],
   "source": [
    "# merge card_wr table with multi_swipe_final\n",
    "card_wr= pd.merge(card_wr,multi_swipe_final,\\\n",
    "                   how=\"left\",\\\n",
    "                   suffixes = (\"\",\"_swipe\"),\\\n",
    "                   on=['accountNumber', 'cardLast4Digits', 'merchantName', 'transactionAmount','transactionDateTime'])"
   ]
  },
  {
   "cell_type": "code",
   "execution_count": null,
   "metadata": {},
   "outputs": [],
   "source": [
    "multi_swipe_final.shape"
   ]
  },
  {
   "cell_type": "code",
   "execution_count": null,
   "metadata": {},
   "outputs": [],
   "source": [
    "# replace \"PURCHASE\" with \"MULTI-WIPE\" in transactionType in card_wr based on multi_swipe_final table\n",
    "card_wr['transactionType'] = np.where((card_wr['transactionType']==\"PURCHASE\") & \\\n",
    "                                      (card_wr['transactionType_swipe']==\"MULTI-SWIPE\"),'MULTI-SWIPE',card_wr.transactionType)"
   ]
  },
  {
   "cell_type": "code",
   "execution_count": null,
   "metadata": {},
   "outputs": [],
   "source": [
    "card_wr.transactionType.value_counts()"
   ]
  },
  {
   "cell_type": "code",
   "execution_count": null,
   "metadata": {},
   "outputs": [],
   "source": [
    "\"\"\"\n",
    "remove those ADDRESS_VERIFICATION transaction type, \n",
    "because they are useless in here (since their transaction Amount is 0)\n",
    "\"\"\"\n",
    "card_dup = card_wr[card_wr.transactionType!=\"ADDRESS_VERIFICATION\"]"
   ]
  },
  {
   "cell_type": "code",
   "execution_count": null,
   "metadata": {},
   "outputs": [],
   "source": [
    "card_dup.transactionType.value_counts()"
   ]
  },
  {
   "cell_type": "code",
   "execution_count": null,
   "metadata": {},
   "outputs": [],
   "source": [
    "\"\"\"\n",
    "create FacetGrid object, in which a grid plot is produced.\n",
    "As columns, we have the various days of the week,\n",
    "as rows, the different types (registered and casual)\n",
    "\"\"\"\n",
    "grid = sns.FacetGrid(card_dup, row='transactionType', \\\n",
    "                     col='isFraud', height=2.5, aspect=2.5, \\\n",
    "                     )\n",
    "\n",
    "# populate the FacetGrid with the specific plots\n",
    "grid.map(sns.distplot, 'transactionAmount')\n",
    "#grid.savefig('figs/weekday_hour_distributions.png', format='png')"
   ]
  },
  {
   "cell_type": "code",
   "execution_count": null,
   "metadata": {},
   "outputs": [],
   "source": []
  },
  {
   "cell_type": "code",
   "execution_count": null,
   "metadata": {},
   "outputs": [],
   "source": [
    "plot_data = card_dup[['registered', 'casual', 'dteday']]\n",
    "\n",
    "ax = card_dup.groupby('transactionDateTime').sum().plot(figsize=(10,6))\n",
    "ax.set_xlabel(\"time\");\n",
    "ax.set_ylabel(\"number of rides per day\");"
   ]
  },
  {
   "cell_type": "code",
   "execution_count": null,
   "metadata": {},
   "outputs": [],
   "source": []
  },
  {
   "cell_type": "code",
   "execution_count": null,
   "metadata": {},
   "outputs": [],
   "source": []
  },
  {
   "cell_type": "code",
   "execution_count": null,
   "metadata": {},
   "outputs": [],
   "source": []
  },
  {
   "cell_type": "code",
   "execution_count": null,
   "metadata": {},
   "outputs": [],
   "source": []
  },
  {
   "cell_type": "code",
   "execution_count": null,
   "metadata": {},
   "outputs": [],
   "source": []
  },
  {
   "cell_type": "code",
   "execution_count": null,
   "metadata": {},
   "outputs": [],
   "source": [
    "duplicateRowsDF = card_wr[card_wr.duplicated(keep=False,subset=['accountNumber', 'cardLast4Digits', 'merchantName', 'transactionAmount','transactionDateTime'])]"
   ]
  },
  {
   "cell_type": "code",
   "execution_count": null,
   "metadata": {},
   "outputs": [],
   "source": [
    "display_all(duplicateRowsDF)"
   ]
  },
  {
   "cell_type": "code",
   "execution_count": null,
   "metadata": {},
   "outputs": [],
   "source": []
  },
  {
   "cell_type": "code",
   "execution_count": null,
   "metadata": {},
   "outputs": [],
   "source": []
  },
  {
   "cell_type": "code",
   "execution_count": null,
   "metadata": {},
   "outputs": [],
   "source": []
  },
  {
   "cell_type": "code",
   "execution_count": null,
   "metadata": {},
   "outputs": [],
   "source": []
  },
  {
   "cell_type": "code",
   "execution_count": null,
   "metadata": {},
   "outputs": [],
   "source": [
    "display_all(test.head())"
   ]
  },
  {
   "cell_type": "code",
   "execution_count": null,
   "metadata": {},
   "outputs": [],
   "source": [
    "card_reversal.shape"
   ]
  },
  {
   "cell_type": "code",
   "execution_count": null,
   "metadata": {},
   "outputs": [],
   "source": [
    "card_drp.shape"
   ]
  },
  {
   "cell_type": "code",
   "execution_count": null,
   "metadata": {},
   "outputs": [],
   "source": [
    "display_all(card_reversal.head().T)"
   ]
  },
  {
   "cell_type": "code",
   "execution_count": null,
   "metadata": {},
   "outputs": [],
   "source": [
    "# select relevant columns\n",
    "plot_data = preprocessed_data[['hr', 'weekday', 'registered', 'casual']]\n",
    "\"\"\"\n",
    "transform the data into a format, in number of entries are computed as count, \n",
    "for each distinct hr, weekday and type (registered or casual)\n",
    "\"\"\"\n",
    "plot_data = plot_data.melt(id_vars=['hr', 'weekday'], \\\n",
    "                           var_name='type', value_name='count')\n",
    "\"\"\"\n",
    "create FacetGrid object, in which a grid plot is produced.\n",
    "As columns, we have the various days of the week,\n",
    "as rows, the different types (registered and casual)\n",
    "\"\"\"\n",
    "grid = sns.FacetGrid(plot_data, row='weekday', \\\n",
    "                     col='type', height=2.5, aspect=2.5, \\\n",
    "                     row_order=['Monday', 'Tuesday', \\\n",
    "                                'Wednesday', 'Thursday', \\\n",
    "                                'Friday', 'Saturday', 'Sunday'])\n",
    "# populate the FacetGrid with the specific plots\n",
    "grid.map(sns.barplot, 'hr', 'count', alpha=0.5)\n",
    "grid.savefig('figs/weekday_hour_distributions.png', format='png')"
   ]
  },
  {
   "cell_type": "code",
   "execution_count": null,
   "metadata": {},
   "outputs": [],
   "source": [
    "card_wr.merchantCategoryCode.value_counts()"
   ]
  },
  {
   "cell_type": "code",
   "execution_count": null,
   "metadata": {},
   "outputs": [],
   "source": [
    "grid = sns.FacetGrid(plot_data, row='weekday', \\\n",
    "                     col='type', height=2.5, aspect=2.5, \\\n",
    "                     row_order=['Monday', 'Tuesday', \\\n",
    "                                'Wednesday', 'Thursday', \\\n",
    "                                'Friday', 'Saturday', 'Sunday'])"
   ]
  },
  {
   "cell_type": "code",
   "execution_count": null,
   "metadata": {},
   "outputs": [],
   "source": []
  },
  {
   "cell_type": "markdown",
   "metadata": {},
   "source": [
    "## Question 4: Model"
   ]
  },
  {
   "cell_type": "markdown",
   "metadata": {},
   "source": [
    "#### feature engineering"
   ]
  },
  {
   "cell_type": "code",
   "execution_count": null,
   "metadata": {},
   "outputs": [],
   "source": [
    "class DateTransformer(TransformerMixin, BaseEstimator):\n",
    "    \"\"\"Extracts features from datetime column\n",
    "    \n",
    "    Returns:\n",
    "      hour: hour\n",
    "      day: Between 1 and the number of days in the month\n",
    "      month: Between 1 and 12 inclusive.\n",
    "      year: four-digit year\n",
    "      weekday: day of the week as an integer. Mon=0 and Sun=6\n",
    "   \"\"\"\n",
    "def fit(self, x, y=None):\n",
    "        return self\n",
    "def transform(self, x, y=None):\n",
    "        result = pd.DataFrame(x, columns=['date_hour'])\n",
    "        result['hour'] = [dt.hour for dt in result['date_hour']]\n",
    "        result['day'] = [dt.day for dt in result['date_hour']]\n",
    "        result['month'] = [dt.month for dt in result['date_hour']]\n",
    "        result['year'] = [dt.year for dt in result['date_hour']]\n",
    "        result['weekday'] = [dt.weekday() for dt in \n",
    "                             result['date_hour']]\n",
    "        return result[['hour', 'day', 'month', 'year', 'weekday']]\n",
    "    \n",
    "def get_feature_names(self):\n",
    "        return ['hour','day', 'month', 'year', 'weekday']"
   ]
  },
  {
   "cell_type": "code",
   "execution_count": null,
   "metadata": {},
   "outputs": [],
   "source": [
    "# release memeory\n",
    "card_drp = None"
   ]
  },
  {
   "cell_type": "code",
   "execution_count": null,
   "metadata": {},
   "outputs": [],
   "source": [
    "card_wr[\"less_than_30%\"] = (card_wr[\"availableMoney\"]/card_wr[\"creditLimit\"])<=0.3\n",
    "card_wr[\"tran_lessthan_avl\"]=(card_wr[\"transactionAmount\"]-card_wr[\"availableMoney\"])<=0\n",
    "card_wr['acq_m_country'] = card_wr[\"merchantCountryCode\"]==card_wr['acqCountry']\n",
    "card_wr['cvv_dif']= card_wr[\"cardCVV\"]!=card_wr[\"enteredCVV\"]\n",
    "card_wr[\"reg_merchantName\"] = card_wr[\"merchantName\"].apply(lambda x:re.sub(r\"\\ \\#.+\",\"\",x))"
   ]
  },
  {
   "cell_type": "code",
   "execution_count": null,
   "metadata": {},
   "outputs": [],
   "source": [
    "card_wr.drop(columns=[\"cardCVV\",\"enteredCVV\"],inplace=True)"
   ]
  },
  {
   "cell_type": "code",
   "execution_count": null,
   "metadata": {},
   "outputs": [],
   "source": [
    "card_wr.drop(columns=[\"transactionType_swipe\",\"time_diff\"],inplace=True)"
   ]
  },
  {
   "cell_type": "code",
   "execution_count": null,
   "metadata": {},
   "outputs": [],
   "source": [
    "# save to feather format for future use\n",
    "# Feather format is almost the same format that it lives in RAM, so it is ridiculously fast to read and write\n",
    "card_wr.to_feather('data/transactions-pre_ft')"
   ]
  },
  {
   "cell_type": "code",
   "execution_count": null,
   "metadata": {},
   "outputs": [],
   "source": [
    "# read the feather data back\n",
    "card_wr = pd.read_feather('data/transactions-pre_ft')"
   ]
  },
  {
   "cell_type": "code",
   "execution_count": null,
   "metadata": {},
   "outputs": [],
   "source": [
    "display_all(card_wr.head())"
   ]
  },
  {
   "cell_type": "code",
   "execution_count": null,
   "metadata": {},
   "outputs": [],
   "source": [
    "def add_datepart(df, col, drop=True):\n",
    "    \"\"\"\n",
    "    Docstring: extracts particular date fields from a complete datetime for the purpose of constructing categoricals\n",
    "    \n",
    "    Parameters\n",
    "    ----------\n",
    "    df: pandas dataframe\n",
    "    col: datetime columns needs to be processed\n",
    "    drop: if drop col\n",
    "    \"\"\"\n",
    "    fld = df[col]\n",
    "    if not np.issubdtype(fld.dtype, np.datetime64):\n",
    "        df[col] = fld = pd.to_datetime(fld, \n",
    "                                     infer_datetime_format=True)\n",
    "    targ_pre = re.sub('[Dd]ate$', '', col)\n",
    "    for n in ('Month', 'Week', 'Day', 'Dayofweek', \n",
    "            'Dayofyear', 'hour','Is_month_end', 'Is_month_start', \n",
    "            'Is_quarter_end', 'Is_quarter_start'):\n",
    "        #look inside of \"dt\" and finds an attribute with that name\n",
    "        df[targ_pre+n] = getattr(fld.dt,n.lower())\n",
    "    #df[targ_pre+'Elapsed'] = fld.astype(np.int64) // 10**9\n",
    "    if drop: \n",
    "        df.drop(col, axis=1, inplace=True)"
   ]
  },
  {
   "cell_type": "code",
   "execution_count": null,
   "metadata": {},
   "outputs": [],
   "source": [
    "add_datepart(card_wr,\"transactionDateTime\",drop=False)"
   ]
  },
  {
   "cell_type": "code",
   "execution_count": null,
   "metadata": {},
   "outputs": [],
   "source": [
    "display_all(card_wr.head())"
   ]
  },
  {
   "cell_type": "code",
   "execution_count": null,
   "metadata": {},
   "outputs": [],
   "source": [
    "# 'accountOpenDate' converts to How many days away from the transaction time?\n",
    "card_wr['days_Open_trans'] = (card_wr['transactionDateTime'] - card_wr['accountOpenDate']).dt.days\n",
    "# 'dateOfLastAddressChange' converts to How many days away from the transaction time?\n",
    "card_wr['days_AddressChange_trans'] = (card_wr['transactionDateTime'] - card_wr['dateOfLastAddressChange']).dt.days\n",
    "# 'currentExpDate' converts to: How many days away from the transaction time?\n",
    "card_wr['days_Exp_trans'] = (card_wr['currentExpDate'] - card_wr['transactionDateTime']).dt.days\n",
    "\n",
    "card_wr.drop(columns=['accountOpenDate','dateOfLastAddressChange','currentExpDate'],inplace=True)"
   ]
  },
  {
   "cell_type": "code",
   "execution_count": null,
   "metadata": {},
   "outputs": [],
   "source": []
  },
  {
   "cell_type": "code",
   "execution_count": null,
   "metadata": {},
   "outputs": [],
   "source": []
  },
  {
   "cell_type": "code",
   "execution_count": null,
   "metadata": {},
   "outputs": [],
   "source": [
    "card_wr.transactionType.value_counts()"
   ]
  },
  {
   "cell_type": "code",
   "execution_count": null,
   "metadata": {},
   "outputs": [],
   "source": [
    "Fraud is a problem for any bank. Fraud can take many forms, whether it is someone stealing a single credit card, to large batches of stolen credit card numbers being used on the web, or even a mass compromise of credit card numbers stolen from a merchant via tools like credit card skimming devices.\n",
    "\n",
    "Each of the transactions in the dataset has a field called isFraud. Please build a predictive model to determine whether a given transaction will be fraudulent or not. Use as much of the data as you like (or all of it).\n",
    "\n",
    "Provide an estimate of performance using an appropriate sample, and show your work.\n",
    "\n",
    "Please explain your methodology (modeling algorithm/method used and why, what features/data you found useful, what questions you have, and what you would do next with more time)"
   ]
  },
  {
   "cell_type": "markdown",
   "metadata": {},
   "source": [
    "## reference"
   ]
  },
  {
   "cell_type": "code",
   "execution_count": null,
   "metadata": {},
   "outputs": [],
   "source": [
    "[1] Does a credit card expire at the beginning or end of the month?: https://wallethub.com/answers/cc/does-a-credit-card-expire-at-the-beginning-or-end-of-the-month-2140663969/#:~:text=A%20credit%20card%20will%20expire,an%20anti%2Dfraud%20security%20measure.\n",
    "[2] Optimizing the size of a pandas dataframe for low memory environment, https://vincentteyssier.medium.com/optimizing-the-size-of-a-pandas-dataframe-for-low-memory-environment-5f07db3d72e"
   ]
  },
  {
   "cell_type": "code",
   "execution_count": null,
   "metadata": {
    "scrolled": true
   },
   "outputs": [],
   "source": [
    "# plot histogram of Transaction Amounts\n",
    "sns.displot(card_drp['transactionAmount'], kde=True, \n",
    "             bins=36, color = 'blue')\n",
    "# # Add labels\n",
    "# plt.title('Histogram of Transaction Amounts')\n",
    "# plt.xlabel('Transaction Amounts ($)')\n",
    "# plt.ylabel('Percentage of Number of Transactions')"
   ]
  },
  {
   "cell_type": "code",
   "execution_count": null,
   "metadata": {},
   "outputs": [],
   "source": []
  },
  {
   "cell_type": "code",
   "execution_count": null,
   "metadata": {},
   "outputs": [],
   "source": [
    "# check if reversal is fraud, the corresponding purchase is also fraud"
   ]
  },
  {
   "cell_type": "markdown",
   "metadata": {},
   "source": [
    "## recommendation"
   ]
  },
  {
   "cell_type": "markdown",
   "metadata": {},
   "source": [
    "#### 1. when entered CVV is different from CVV, the transactionAmount shoudl be 0, but"
   ]
  },
  {
   "cell_type": "code",
   "execution_count": null,
   "metadata": {},
   "outputs": [],
   "source": [
    "card_drp.loc[card_drp.cvv_dif==True,\"transactionAmount\"].head()"
   ]
  },
  {
   "cell_type": "code",
   "execution_count": null,
   "metadata": {},
   "outputs": [],
   "source": []
  }
 ],
 "metadata": {
  "kernelspec": {
   "display_name": "Python 3",
   "language": "python",
   "name": "python3"
  },
  "language_info": {
   "codemirror_mode": {
    "name": "ipython",
    "version": 3
   },
   "file_extension": ".py",
   "mimetype": "text/x-python",
   "name": "python",
   "nbconvert_exporter": "python",
   "pygments_lexer": "ipython3",
   "version": "3.7.7"
  },
  "toc": {
   "base_numbering": 1,
   "nav_menu": {},
   "number_sections": false,
   "sideBar": true,
   "skip_h1_title": false,
   "title_cell": "Table of Contents",
   "title_sidebar": "Contents",
   "toc_cell": true,
   "toc_position": {
    "height": "calc(100% - 180px)",
    "left": "10px",
    "top": "150px",
    "width": "307.2px"
   },
   "toc_section_display": true,
   "toc_window_display": true
  },
  "varInspector": {
   "cols": {
    "lenName": 16,
    "lenType": 16,
    "lenVar": 40
   },
   "kernels_config": {
    "python": {
     "delete_cmd_postfix": "",
     "delete_cmd_prefix": "del ",
     "library": "var_list.py",
     "varRefreshCmd": "print(var_dic_list())"
    },
    "r": {
     "delete_cmd_postfix": ") ",
     "delete_cmd_prefix": "rm(",
     "library": "var_list.r",
     "varRefreshCmd": "cat(var_dic_list()) "
    }
   },
   "types_to_exclude": [
    "module",
    "function",
    "builtin_function_or_method",
    "instance",
    "_Feature"
   ],
   "window_display": false
  }
 },
 "nbformat": 4,
 "nbformat_minor": 4
}
